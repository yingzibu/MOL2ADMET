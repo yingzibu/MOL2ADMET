{
  "nbformat": 4,
  "nbformat_minor": 0,
  "metadata": {
    "colab": {
      "provenance": [],
      "authorship_tag": "ABX9TyMxx53/suH0m2n7MohBRXud",
      "include_colab_link": true
    },
    "kernelspec": {
      "name": "python3",
      "display_name": "Python 3"
    },
    "language_info": {
      "name": "python"
    }
  },
  "cells": [
    {
      "cell_type": "markdown",
      "metadata": {
        "id": "view-in-github",
        "colab_type": "text"
      },
      "source": [
        "<a href=\"https://colab.research.google.com/github/yingzibu/MOL2ADMET/blob/main/notebooks/yaml_utils_demo.ipynb\" target=\"_parent\"><img src=\"https://colab.research.google.com/assets/colab-badge.svg\" alt=\"Open In Colab\"/></a>"
      ]
    },
    {
      "cell_type": "code",
      "execution_count": 1,
      "metadata": {
        "colab": {
          "base_uri": "https://localhost:8080/"
        },
        "id": "2NPc6PNRI--I",
        "outputId": "d01e8fd1-bed2-4ae7-f4c2-4b71543d61b3"
      },
      "outputs": [
        {
          "output_type": "stream",
          "name": "stdout",
          "text": [
            "Mounted at /content/drive\n"
          ]
        }
      ],
      "source": [
        "from google.colab import drive\n",
        "drive.mount('/content/drive')"
      ]
    },
    {
      "cell_type": "code",
      "source": [
        "! pip install PyTDC --quiet\n",
        "! pip install dgllife --quiet\n",
        "! pip install dgl -f https://data.dgl.ai/wheels/cu118/repo.html --quiet\n",
        "! pip install dglgo -f https://data.dgl.ai/wheels-test/repo.html --quiet\n",
        "! pip install mycolorpy --quiet\n",
        "! pip install rdkit --quiet\n",
        "! pip install DeepPurpose --quiet\n",
        "! pip install git+https://github.com/bp-kelley/descriptastorus --quiet\n",
        "! pip install pandas-flavor --quiet"
      ],
      "metadata": {
        "id": "bdy7Ef1HJXMR"
      },
      "execution_count": null,
      "outputs": []
    },
    {
      "cell_type": "code",
      "source": [
        "cd /content/drive/MyDrive/ADMET"
      ],
      "metadata": {
        "colab": {
          "base_uri": "https://localhost:8080/"
        },
        "id": "jxhbDR3KJHoL",
        "outputId": "f1bf782d-7945-419b-9fb6-c83da9acfbfc"
      },
      "execution_count": 1,
      "outputs": [
        {
          "output_type": "stream",
          "name": "stdout",
          "text": [
            "/content/drive/MyDrive/ADMET\n"
          ]
        }
      ]
    },
    {
      "cell_type": "code",
      "source": [
        "from scripts.yaml_utils import *\n",
        "#                0      1        2       3        4     5      6      7      8\n",
        "cls_metrics = ['acc', 'w_acc', 'prec', 'recall', 'sp', 'f1', 'auc', 'mcc', 'ap']\n",
        "reg_metrics = ['mae', 'mse',   'rmse', 'r2']\n",
        "d = {'reg': [0,   2,    3], 'cls': [0,   5,  6]}\n",
        "#            mae, rmse, r2          acc, f1, auc"
      ],
      "metadata": {
        "id": "zFOf_RNOJMyQ"
      },
      "execution_count": 2,
      "outputs": []
    },
    {
      "cell_type": "code",
      "source": [
        "yml_name = 'Lipophilicity_AstraZeneca_scale/AttentiveFP_ST_1.yml'\n",
        "p = yml_report(yml_name, ver=False)\n",
        "print('Evaluate all metrics, just set metrics_dict as {}')\n",
        "\n",
        "print(yml_name)\n",
        "eval_perf_list(p, 'Lipophilicity_AstraZeneca', metrics_dict={})\n",
        "\n",
        "print(f'\\nEvaluate selected metrics {d}')\n",
        "eval_perf_list(p, 'Lipophilicity_AstraZeneca', metrics_dict=d)\n",
        "\n",
        "print('\\nevaluate multiple results')\n",
        "eval_perf_list([p, p], 'Lipophilicity_AstraZeneca')"
      ],
      "metadata": {
        "colab": {
          "base_uri": "https://localhost:8080/"
        },
        "id": "LJQRMda8LoNO",
        "outputId": "1b1cf823-bd85-48ee-e6c2-cd9284896b91"
      },
      "execution_count": 11,
      "outputs": [
        {
          "output_type": "stream",
          "name": "stdout",
          "text": [
            "Evaluate all metrics, just set metrics_dict as {}\n",
            "Lipophilicity_AstraZeneca_scale/AttentiveFP_ST_1.yml\n",
            "******************** Lipophilicity_AstraZeneca ******************** \n",
            "\t|       mae      |       mse      |       rmse      |       r2      \n",
            "single: &0.353            &0.239            &0.489            &0.834            \n",
            "\n",
            "Evaluate selected metrics {'reg': [0, 2, 3], 'cls': [0, 5, 6]}\n",
            "******************** Lipophilicity_AstraZeneca ******************** \n",
            "\t|       mae      |       rmse      |       r2      \n",
            "single: &0.353            &0.489            &0.834            \n",
            "\n",
            "evaluate multiple results\n",
            "repeated num # 2 idx 0 has the lowest loss from [0.006638023186297644, 0.006638023186297644]\n",
            "******************** Lipophilicity_AstraZeneca ******************** \n",
            "\t|       mae      |       rmse      |       r2      \n",
            "\t&0.353$\\pm$0.000  &0.489$\\pm$0.000  &0.834$\\pm$0.000  \n",
            " idx 0: &0.353            &0.489            &0.834            \n",
            "\n"
          ]
        }
      ]
    },
    {
      "cell_type": "code",
      "source": [
        "\n",
        "yml_name = '/content/drive/MyDrive/ADMET/cls/BBB_Martins/RNN_ST_0.yml'\n",
        "print(yml_name)\n",
        "p1 = yml_report(yml_name, ver=False)\n",
        "eval_perf_list(p1, 'BBB_Martins', d)\n",
        "\n",
        "yml_name = '/content/drive/MyDrive/ADMET/cls/BBB_Martins/RNN_ST_1.yml'\n",
        "print(yml_name)\n",
        "p2 = yml_report(yml_name, ver=False)\n",
        "eval_perf_list(p2, 'BBB_Martins', d)\n",
        "\n",
        "eval_perf_list([p1, p2], 'BBB_Martins', {})\n",
        "eval_perf_list([p1, p2], 'BBB_Martins', d)\n",
        "\n"
      ],
      "metadata": {
        "colab": {
          "base_uri": "https://localhost:8080/"
        },
        "id": "FkY_JckBN-iW",
        "outputId": "f6a8c723-db76-4507-f516-fd8c131a319c"
      },
      "execution_count": 8,
      "outputs": [
        {
          "output_type": "stream",
          "name": "stdout",
          "text": [
            "/content/drive/MyDrive/ADMET/cls/BBB_Martins/RNN_ST_0.yml\n",
            "******************** BBB_Martins ******************** \n",
            "\t|       acc      |       f1      |       auc      \n",
            "single: &0.830            &0.892            &0.834            \n",
            "/content/drive/MyDrive/ADMET/cls/BBB_Martins/RNN_ST_1.yml\n",
            "******************** BBB_Martins ******************** \n",
            "\t|       acc      |       f1      |       auc      \n",
            "single: &0.835            &0.896            &0.854            \n",
            "repeated num # 2 idx 1 has the lowest loss from [1.5305130779743195, 1.5076239258050919]\n",
            "******************** BBB_Martins ******************** \n",
            "\t|       acc      |       w_acc      |       prec      |       recall      |       sp      |       f1      |       auc      |       mcc      |       ap      \n",
            "\t&0.833$\\pm$0.002  &0.720$\\pm$0.000  &0.846$\\pm$0.001  &0.949$\\pm$0.005  &0.490$\\pm$0.005  &0.894$\\pm$0.002  &0.844$\\pm$0.010  &0.518$\\pm$0.006  &0.930$\\pm$0.008  \n",
            " idx 1: &0.835            &0.720            &0.845            &0.954            &0.485            &0.896            &0.854            &0.524            &0.938            \n",
            "\n",
            "repeated num # 2 idx 1 has the lowest loss from [1.5305130779743195, 1.5076239258050919]\n",
            "******************** BBB_Martins ******************** \n",
            "\t|       acc      |       f1      |       auc      \n",
            "\t&0.833$\\pm$0.002  &0.894$\\pm$0.002  &0.844$\\pm$0.010  \n",
            " idx 1: &0.835            &0.896            &0.854            \n",
            "\n"
          ]
        }
      ]
    }
  ]
}