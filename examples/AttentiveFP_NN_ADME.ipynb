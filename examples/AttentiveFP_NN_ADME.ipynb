{
  "nbformat": 4,
  "nbformat_minor": 0,
  "metadata": {
    "colab": {
      "provenance": [],
      "machine_shape": "hm",
      "gpuType": "T4",
      "authorship_tag": "ABX9TyPC32eBExPxY9RyDugBnvaX",
      "include_colab_link": true
    },
    "kernelspec": {
      "name": "python3",
      "display_name": "Python 3"
    },
    "language_info": {
      "name": "python"
    },
    "accelerator": "GPU"
  },
  "cells": [
    {
      "cell_type": "markdown",
      "metadata": {
        "id": "view-in-github",
        "colab_type": "text"
      },
      "source": [
        "<a href=\"https://colab.research.google.com/github/yingzibu/MOL2AE/blob/main/examples/AttentiveFP_NN_ADME.ipynb\" target=\"_parent\"><img src=\"https://colab.research.google.com/assets/colab-badge.svg\" alt=\"Open In Colab\"/></a>"
      ]
    },
    {
      "cell_type": "code",
      "execution_count": 6,
      "metadata": {
        "colab": {
          "base_uri": "https://localhost:8080/"
        },
        "id": "vhFKq_-U5Kwy",
        "outputId": "2e2c9301-f9ad-4e19-b28d-7e86f9faaa2b"
      },
      "outputs": [
        {
          "output_type": "stream",
          "name": "stdout",
          "text": [
            "\u001b[?25l     \u001b[90m━━━━━━━━━━━━━━━━━━━━━━━━━━━━━━━━━━━━━━━━\u001b[0m \u001b[32m0.0/226.1 kB\u001b[0m \u001b[31m?\u001b[0m eta \u001b[36m-:--:--\u001b[0m\r\u001b[2K     \u001b[91m━━━━━━━━━━━━━━━━━━━\u001b[0m\u001b[90m╺\u001b[0m\u001b[90m━━━━━━━━━━━━━━━━━━━\u001b[0m \u001b[32m112.6/226.1 kB\u001b[0m \u001b[31m3.2 MB/s\u001b[0m eta \u001b[36m0:00:01\u001b[0m\r\u001b[2K     \u001b[90m━━━━━━━━━━━━━━━━━━━━━━━━━━━━━━━━━━━━━━━\u001b[0m \u001b[32m226.1/226.1 kB\u001b[0m \u001b[31m4.2 MB/s\u001b[0m eta \u001b[36m0:00:00\u001b[0m\n",
            "\u001b[?25h\u001b[33mWARNING: Skipping dgl as it is not installed.\u001b[0m\u001b[33m\n",
            "\u001b[2K     \u001b[90m━━━━━━━━━━━━━━━━━━━━━━━━━━━━━━━━━━━━━━━━\u001b[0m \u001b[32m91.3/91.3 MB\u001b[0m \u001b[31m16.8 MB/s\u001b[0m eta \u001b[36m0:00:00\u001b[0m\n",
            "\u001b[2K     \u001b[90m━━━━━━━━━━━━━━━━━━━━━━━━━━━━━━━━━━━━━━━━\u001b[0m \u001b[32m63.5/63.5 kB\u001b[0m \u001b[31m1.5 MB/s\u001b[0m eta \u001b[36m0:00:00\u001b[0m\n",
            "\u001b[2K     \u001b[90m━━━━━━━━━━━━━━━━━━━━━━━━━━━━━━━━━━━━━━━━\u001b[0m \u001b[32m91.2/91.2 kB\u001b[0m \u001b[31m4.4 MB/s\u001b[0m eta \u001b[36m0:00:00\u001b[0m\n",
            "\u001b[2K     \u001b[90m━━━━━━━━━━━━━━━━━━━━━━━━━━━━━━━━━━━━━━━━\u001b[0m \u001b[32m45.3/45.3 kB\u001b[0m \u001b[31m5.3 MB/s\u001b[0m eta \u001b[36m0:00:00\u001b[0m\n",
            "\u001b[2K     \u001b[90m━━━━━━━━━━━━━━━━━━━━━━━━━━━━━━━━━━━━━━━━\u001b[0m \u001b[32m52.4/52.4 kB\u001b[0m \u001b[31m98.7 kB/s\u001b[0m eta \u001b[36m0:00:00\u001b[0m\n",
            "\u001b[2K     \u001b[90m━━━━━━━━━━━━━━━━━━━━━━━━━━━━━━━━━━━━━━\u001b[0m \u001b[32m112.2/112.2 kB\u001b[0m \u001b[31m12.9 MB/s\u001b[0m eta \u001b[36m0:00:00\u001b[0m\n",
            "\u001b[2K     \u001b[90m━━━━━━━━━━━━━━━━━━━━━━━━━━━━━━━━━━━━━━━━\u001b[0m \u001b[32m78.8/78.8 kB\u001b[0m \u001b[31m9.1 MB/s\u001b[0m eta \u001b[36m0:00:00\u001b[0m\n",
            "\u001b[2K     \u001b[90m━━━━━━━━━━━━━━━━━━━━━━━━━━━━━━━━━━━━━━\u001b[0m \u001b[32m485.6/485.6 kB\u001b[0m \u001b[31m20.3 MB/s\u001b[0m eta \u001b[36m0:00:00\u001b[0m\n",
            "\u001b[?25h  Preparing metadata (setup.py) ... \u001b[?25l\u001b[?25hdone\n",
            "  Building wheel for littleutils (setup.py) ... \u001b[?25l\u001b[?25hdone\n"
          ]
        }
      ],
      "source": [
        "! pip install rdkit --quiet\n",
        "! pip install PyTDC --quiet\n",
        "! pip install mycolorpy --quiet\n",
        "\n",
        "!pip install dgllife --quiet\n",
        "!pip install molvs --quiet\n",
        "\n",
        "# !pip install dgl==1.1 --quiet # cpu version, usable for calculation\n",
        "\n",
        "!pip uninstall dgl -y # dgl cuda version for training using gpu\n",
        "!pip install  dgl -f https://data.dgl.ai/wheels/cu118/repo.html --quiet\n",
        "!pip install  dglgo -f https://data.dgl.ai/wheels-test/repo.html --quiet\n"
      ]
    },
    {
      "cell_type": "code",
      "source": [
        "from sklearn.metrics import f1_score, accuracy_score, average_precision_score\n",
        "from sklearn.metrics import confusion_matrix, roc_auc_score\n",
        "import math\n",
        "\n",
        "def get_preds(threshold, probabilities):\n",
        "    try:\n",
        "        if probabilities.shape[1] == 2: probabilities = probabilities[:, 1]\n",
        "    except: pass\n",
        "    return [1 if prob > threshold else 0 for prob in probabilities]\n",
        "\n",
        "def evaluate_model(TP, FP, TN, FN):\n",
        "\n",
        "    ACCURACY = (TP + TN) / (TP+FP+TN+FN)\n",
        "    SE = TP/(TP+FN)\n",
        "    recall = SE\n",
        "    SP = TN/(TN+FP)\n",
        "    weighted_accuracy = (SE + SP) / 2\n",
        "\n",
        "    precision = TP / (TP + FP)\n",
        "    SP = TN/(TN+FP)\n",
        "    F1 = 2 * precision * recall /(precision + recall)\n",
        "\n",
        "    temp = (TP+FP)*(TP+FN)*(TN+FP)*(TN+FN)\n",
        "    if temp != 0:\n",
        "        MCC = (TP*TN-FP*FN)*1.0/(math.sqrt(temp))\n",
        "    else:\n",
        "        print('equation for MCC is (TP*TN-FP*FN)*1.0/(math.sqrt(temp))')\n",
        "        print('TP, FP, TN, FN', TP, FP, TN, FN)\n",
        "        print('temp=0')\n",
        "        MCC = 'N/A'\n",
        "\n",
        "    return ACCURACY,SE, SP, weighted_accuracy, precision, F1, MCC\n",
        "\n",
        "def evaluate(y_real, y_hat, y_prob):\n",
        "    TN, FP, FN, TP = confusion_matrix(y_real, y_hat).ravel()\n",
        "    ACCURACY,SE, SP, weighted_accuracy, precision, F1, \\\n",
        "        MCC  = evaluate_model(TP, FP, TN, FN)\n",
        "    try:\n",
        "        if y_prob.shape[1] == 2: proba = y_prob[:, 1]\n",
        "        else: proba = y_prob\n",
        "    except: proba = y_prob\n",
        "    AP = average_precision_score(y_real, proba)\n",
        "    AUC = roc_auc_score(y_real, proba)\n",
        "    print('Accuracy, weighted accuracy, precision, recall/SE, SP,     F1,     AUC,     MCC,     AP')\n",
        "    if MCC != 'N/A':\n",
        "        print(\"& %5.3f\" % (ACCURACY), \" &%7.3f\" % (weighted_accuracy), \" &%15.3f\" % (precision),\n",
        "      \" &%10.3f\" % (SE), \" &%5.3f\" % (SP), \" &%5.3f\" % (F1), \"&%5.3f\" % (AUC),\n",
        "      \"&%8.3f\" % (MCC), \"&%8.3f\" % (AP))\n",
        "    else:\n",
        "        print(\"& %5.3f\" % (ACCURACY), \" &%7.3f\" % (weighted_accuracy), \" &%15.3f\" % (precision),\n",
        "      \" &%10.3f\" % (SE), \" &%5.3f\" % (SP), \" &%5.3f\" % (F1), \"&%5.3f\" % (AUC), \"& \",\n",
        "        MCC, \"&%8.3f\" % (AP))\n",
        "\n",
        "    return ACCURACY, weighted_accuracy, precision, SE, SP, F1, AUC, MCC, AP\n"
      ],
      "metadata": {
        "id": "fmfSrFBSqgWM"
      },
      "execution_count": 1,
      "outputs": []
    },
    {
      "cell_type": "code",
      "source": [
        "from rdkit import Chem\n",
        "from rdkit.Chem.SaltRemover import SaltRemover\n",
        "import pandas as pd\n",
        "import numpy as np\n",
        "from tqdm import tqdm"
      ],
      "metadata": {
        "id": "VrRnb8Mh5UnN"
      },
      "execution_count": 2,
      "outputs": []
    },
    {
      "cell_type": "code",
      "source": [
        "# smiles = \"Cl.C[C@@]1(O)CCCN1\"\n",
        "# mol = Chem.MolFromSmiles( smiles )\n",
        "# print( Chem.MolToSmiles( mol  ) ) # mol\n",
        "# #>>> C[C@@]1(O)CCCN1.Cl\n",
        "\n",
        "# # remove salt\n",
        "# # remover = SaltRemover( defnData=\"[Cl,Br]\" ) # define custom list, No spaces allowed\n",
        "# remover = SaltRemover() # use default saltremover\n",
        "# stripped = remover.StripMol( mol ) # strip salts\n",
        "# print( Chem.MolToSmiles( stripped ) ) #  mol w/o salt\n",
        "# #>>> C[C@@]1(O)CCCN1\n",
        "\n",
        "# # remove stereo\n",
        "# Chem.RemoveStereochemistry( stripped )\n",
        "# print( Chem.MolToSmiles( stripped ) ) # mol w/o salt & stereo"
      ],
      "metadata": {
        "id": "1mp5Szpi5cEk"
      },
      "execution_count": 3,
      "outputs": []
    },
    {
      "cell_type": "code",
      "source": [
        "\"Reference: https://github.com/Yimeng-Wang/JAK-MTATFP/blob/main/preprocess.py\"\n",
        "\n",
        "from rdkit import Chem\n",
        "from molvs.normalize import Normalizer, Normalization\n",
        "from rdkit.Chem.SaltRemover import SaltRemover\n",
        "from molvs.charge import Reionizer, Uncharger\n",
        "import torch.nn as nn\n",
        "\n",
        "from tdc.single_pred import ADME\n",
        "from rdkit import RDLogger\n",
        "import warnings\n",
        "RDLogger.DisableLog('rdApp.*')\n",
        "warnings.filterwarnings(\"ignore\")\n",
        "MASK = -100\n",
        "\n",
        "\n",
        "def preprocess(smi):\n",
        "    mol = Chem.MolFromSmiles(smi)\n",
        "    normalizer = Normalizer()\n",
        "    new1 = normalizer.normalize(mol)\n",
        "    remover = SaltRemover()\n",
        "    new2 = remover(new1)\n",
        "    neutralize1 = Reionizer()\n",
        "    new3 = neutralize1(new2)\n",
        "    neutralize2 = Uncharger()\n",
        "    new4 = neutralize2(new3)\n",
        "    new_smiles = Chem.MolToSmiles(new4, kekuleSmiles=False)\n",
        "    return new_smiles"
      ],
      "metadata": {
        "id": "93GgNeSR5j26"
      },
      "execution_count": 4,
      "outputs": []
    },
    {
      "cell_type": "code",
      "source": [
        "name_reg = ['Half_Life_Obach', 'Clearance_Hepatocyte_AZ', 'VDss_Lombardo',\n",
        "         'PPBR_AZ', 'Caco2_Wang', 'Lipophilicity_AstraZeneca',\n",
        "         'HydrationFreeEnergy_FreeSolv', 'Solubility_AqSolDB']\n",
        "\n",
        "name_cls = ['BBB_Martins', 'Bioavailability_Ma', 'Pgp_Broccatelli',\n",
        "             'HIA_Hou', 'PAMPA_NCATS']\n",
        "\n",
        "name_met_cls = ['CYP2C19_Veith', 'CYP2D6_Veith', 'CYP3A4_Veith',\n",
        "                       'CYP1A2_Veith', 'CYP2C9_Veith',\n",
        "                       'CYP2C9_Substrate_CarbonMangels',\n",
        "                       'CYP2D6_Substrate_CarbonMangels',\n",
        "                       'CYP3A4_Substrate_CarbonMangels']\n",
        "\n",
        "names = name_met_cls[:5]\n",
        "\n",
        "IS_R = False # is regression task\n",
        "SCALE = False\n",
        "\n",
        "if IS_R: loss_fn = nn.MSELoss(reduction='sum') # if regression\n",
        "else: loss_fn = nn.BCEWithLogitsLoss(reduction='sum') # if classification\n",
        "\n",
        "# If regression, metrics: R2, MAE, MSE, RMSE\n",
        "# If classification, metrics: Loss, evaluate(y_real, y_hat, y_prob)\n",
        "\n",
        "names, len(names)\n"
      ],
      "metadata": {
        "colab": {
          "base_uri": "https://localhost:8080/"
        },
        "id": "f8mPEVlBTwjv",
        "outputId": "a43c1a6f-4a98-4275-ee28-1834861c1f02"
      },
      "execution_count": 11,
      "outputs": [
        {
          "output_type": "execute_result",
          "data": {
            "text/plain": [
              "(['CYP2C19_Veith',\n",
              "  'CYP2D6_Veith',\n",
              "  'CYP3A4_Veith',\n",
              "  'CYP1A2_Veith',\n",
              "  'CYP2C9_Veith'],\n",
              " 5)"
            ]
          },
          "metadata": {},
          "execution_count": 11
        }
      ]
    },
    {
      "cell_type": "code",
      "source": [
        "# from tdc.single_pred import ADME\n",
        "# from rdkit import RDLogger\n",
        "# import warnings\n",
        "# RDLogger.DisableLog('rdApp.*')\n",
        "# warnings.filterwarnings(\"ignore\")\n",
        "# MASK = -100\n",
        "\n",
        "def rename_cols(df, name): return df.rename(columns={'Y':name})\n",
        "\n",
        "def clean_mol(df:pd.DataFrame):\n",
        "    prev_len = len(df)\n",
        "    for i in tqdm(range(len(df)), total=len(df), desc='Cleaning mols'):\n",
        "        try: df.iloc[i]['Drug'] = preprocess(df.iloc[i]['Drug'])\n",
        "        except: df.drop(i)\n",
        "    if len(df) != prev_len: print(f'prev len: {prev_len}; after clean: {len(df)}')\n",
        "    return df.reset_index(drop=True)\n",
        "\n",
        "def scal(df): # min max scaling\n",
        "    # df_norm = df.loc[:, df.columns!='Drug'].copy()\n",
        "    df_norm = df.copy()\n",
        "    for col in df_norm.columns:\n",
        "        if col == 'Drug': pass\n",
        "        else:\n",
        "            df_norm[col] = (df_norm[col]-df_norm[col].min()\n",
        "            )/(df_norm[col].max()-df_norm[col].min()) * 10 + 1e-3\n",
        "    # df_norm['Drug'] = df['Drug']\n",
        "    return df_norm\n",
        "\n",
        "\n",
        "for i, name in enumerate(names):\n",
        "    print('*'*15, name, '*'*15)\n",
        "    data = ADME(name=name)\n",
        "    data.label_distribution()\n",
        "    # data.convert_to_log(form='binding')\n",
        "\n",
        "    # shoud not convert to log scale for the belowing since it is minus\n",
        "    # Caco2_Wang                              -7.76\n",
        "    # Lipophilicity_AstraZeneca               -1.45\n",
        "    # HydrationFreeEnergy_FreeSolv           -23.62\n",
        "    # Solubility_AqSolDB                   -13.1719\n",
        "\n",
        "    split = data.get_split()\n",
        "    train, valid = clean_mol(split['train']), clean_mol(split['valid'])\n",
        "    test =  clean_mol(split['test'])\n",
        "\n",
        "    train = rename_cols(train[['Drug', 'Y']], name)\n",
        "    valid = rename_cols(valid[['Drug', 'Y']], name)\n",
        "    test  = rename_cols(test[['Drug', 'Y']],  name)\n",
        "\n",
        "    if IS_R and SCALE: train, valid, test = scal(train), scal(valid), scal(test)\n",
        "\n",
        "    if i == 0: trains, valids, tests = train, valid, test\n",
        "    else:\n",
        "        trains = trains.merge(train, how='outer')\n",
        "        valids = valids.merge(valid, how='outer')\n",
        "        tests = tests.merge(test, how='outer')\n",
        "\n",
        "# MASK = -100\n",
        "# trains = trains.fillna(MASK)\n",
        "# valids = valids.fillna(MASK)\n",
        "# tests = tests.fillna(MASK)\n",
        "\n",
        "\n",
        "# trains[trains.eq(0).any(1)]\n",
        "# valids[valids.eq(0).any(1)]\n",
        "# tests[tests.eq(0).any(1)]\n",
        "len(trains), len(valids), len(tests)"
      ],
      "metadata": {
        "colab": {
          "base_uri": "https://localhost:8080/",
          "height": 1000
        },
        "id": "f3geIxg0_AQJ",
        "outputId": "ad3f6e8a-3a5f-43f9-81c0-258053562721"
      },
      "execution_count": 6,
      "outputs": [
        {
          "output_type": "stream",
          "name": "stderr",
          "text": [
            "Found local copy...\n",
            "Loading...\n",
            "Done!\n"
          ]
        },
        {
          "output_type": "stream",
          "name": "stdout",
          "text": [
            "*************** CYP2C19_Veith ***************\n"
          ]
        },
        {
          "output_type": "display_data",
          "data": {
            "text/plain": [
              "<Figure size 640x480 with 2 Axes>"
            ],
            "image/png": "[encoded data removed]"
          },
          "metadata": {}
        },
        {
          "output_type": "stream",
          "name": "stderr",
          "text": [
            "Cleaning mols: 100%|██████████| 8866/8866 [00:24<00:00, 360.01it/s]\n",
            "Cleaning mols: 100%|██████████| 1266/1266 [00:03<00:00, 381.92it/s]\n",
            "Cleaning mols: 100%|██████████| 2533/2533 [00:06<00:00, 389.52it/s]\n",
            "Found local copy...\n",
            "Loading...\n",
            "Done!\n"
          ]
        },
        {
          "output_type": "stream",
          "name": "stdout",
          "text": [
            "*************** CYP2D6_Veith ***************\n"
          ]
        },
        {
          "output_type": "display_data",
          "data": {
            "text/plain": [
              "<Figure size 640x480 with 2 Axes>"
            ],
            "image/png": "[encoded data removed]"
          },
          "metadata": {}
        },
        {
          "output_type": "stream",
          "name": "stderr",
          "text": [
            "Cleaning mols: 100%|██████████| 9191/9191 [00:24<00:00, 380.66it/s]\n",
            "Cleaning mols: 100%|██████████| 1313/1313 [00:03<00:00, 382.49it/s]\n",
            "Cleaning mols: 100%|██████████| 2626/2626 [00:06<00:00, 376.53it/s]\n",
            "Found local copy...\n",
            "Loading...\n",
            "Done!\n"
          ]
        },
        {
          "output_type": "stream",
          "name": "stdout",
          "text": [
            "*************** CYP3A4_Veith ***************\n"
          ]
        },
        {
          "output_type": "display_data",
          "data": {
            "text/plain": [
              "<Figure size 640x480 with 2 Axes>"
            ],
            "image/png": "[encoded data removed]"
          },
          "metadata": {}
        },
        {
          "output_type": "stream",
          "name": "stderr",
          "text": [
            "Cleaning mols: 100%|██████████| 8629/8629 [00:22<00:00, 380.73it/s]\n",
            "Cleaning mols: 100%|██████████| 1233/1233 [00:03<00:00, 383.93it/s]\n",
            "Cleaning mols: 100%|██████████| 2466/2466 [00:06<00:00, 365.50it/s]\n",
            "Found local copy...\n",
            "Loading...\n",
            "Done!\n"
          ]
        },
        {
          "output_type": "stream",
          "name": "stdout",
          "text": [
            "*************** CYP1A2_Veith ***************\n"
          ]
        },
        {
          "output_type": "display_data",
          "data": {
            "text/plain": [
              "<Figure size 640x480 with 2 Axes>"
            ],
            "image/png": "[encoded data removed]"
          },
          "metadata": {}
        },
        {
          "output_type": "stream",
          "name": "stderr",
          "text": [
            "Cleaning mols: 100%|██████████| 8805/8805 [00:22<00:00, 390.97it/s]\n",
            "Cleaning mols: 100%|██████████| 1258/1258 [00:03<00:00, 393.90it/s]\n",
            "Cleaning mols: 100%|██████████| 2516/2516 [00:06<00:00, 392.69it/s]\n",
            "Found local copy...\n",
            "Loading...\n",
            "Done!\n"
          ]
        },
        {
          "output_type": "stream",
          "name": "stdout",
          "text": [
            "*************** CYP2C9_Veith ***************\n"
          ]
        },
        {
          "output_type": "display_data",
          "data": {
            "text/plain": [
              "<Figure size 640x480 with 2 Axes>"
            ],
            "image/png": "[encoded data removed]"
          },
          "metadata": {}
        },
        {
          "output_type": "stream",
          "name": "stderr",
          "text": [
            "Cleaning mols: 100%|██████████| 8465/8465 [00:22<00:00, 371.67it/s]\n",
            "Cleaning mols: 100%|██████████| 1209/1209 [00:03<00:00, 378.15it/s]\n",
            "Cleaning mols: 100%|██████████| 2418/2418 [00:06<00:00, 373.81it/s]\n"
          ]
        },
        {
          "output_type": "execute_result",
          "data": {
            "text/plain": [
              "(15984, 5384, 9240)"
            ]
          },
          "metadata": {},
          "execution_count": 6
        }
      ]
    },
    {
      "cell_type": "code",
      "source": [
        "trains.head()"
      ],
      "metadata": {
        "colab": {
          "base_uri": "https://localhost:8080/",
          "height": 226
        },
        "id": "xG9Z39hzzmPU",
        "outputId": "da427f91-5c7b-49ac-bc8f-dbf92301fde2"
      },
      "execution_count": 12,
      "outputs": [
        {
          "output_type": "execute_result",
          "data": {
            "text/plain": [
              "                                                Drug  CYP2C19_Veith  \\\n",
              "0         CC(=O)N(c1ccc2oc(=O)sc2c1)S(=O)(=O)c1cccs1            1.0   \n",
              "1                   Clc1ccccc1-c1nc(-c2ccccc2)n[nH]1            1.0   \n",
              "2               COc1ccccc1CNC(=O)Cn1nnc(-c2ccncc2)n1            1.0   \n",
              "3      CC(=O)Nc1cccc(NC(=O)C2CCCN2C(=O)Nc2ccccc2C)c1            0.0   \n",
              "4  CCC(c1nnnn1CC1CCCO1)N(CCN1CCOCC1)Cc1cc2cc(C)cc...            0.0   \n",
              "\n",
              "   CYP2D6_Veith  CYP3A4_Veith  CYP1A2_Veith  CYP2C9_Veith  \n",
              "0           0.0           1.0           NaN           NaN  \n",
              "1           NaN           NaN           1.0           1.0  \n",
              "2           NaN           NaN           1.0           NaN  \n",
              "3           NaN           0.0           NaN           NaN  \n",
              "4           0.0           1.0           NaN           0.0  "
            ],
            "text/html": [
              "\n",
              "  <div id=\"df-e0b61400-0192-4dc8-9c55-e9c025ffe452\" class=\"colab-df-container\">\n",
              "    <div>\n",
              "<style scoped>\n",
              "    .dataframe tbody tr th:only-of-type {\n",
              "        vertical-align: middle;\n",
              "    }\n",
              "\n",
              "    .dataframe tbody tr th {\n",
              "        vertical-align: top;\n",
              "    }\n",
              "\n",
              "    .dataframe thead th {\n",
              "        text-align: right;\n",
              "    }\n",
              "</style>\n",
              "<table border=\"1\" class=\"dataframe\">\n",
              "  <thead>\n",
              "    <tr style=\"text-align: right;\">\n",
              "      <th></th>\n",
              "      <th>Drug</th>\n",
              "      <th>CYP2C19_Veith</th>\n",
              "      <th>CYP2D6_Veith</th>\n",
              "      <th>CYP3A4_Veith</th>\n",
              "      <th>CYP1A2_Veith</th>\n",
              "      <th>CYP2C9_Veith</th>\n",
              "    </tr>\n",
              "  </thead>\n",
              "  <tbody>\n",
              "    <tr>\n",
              "      <th>0</th>\n",
              "      <td>CC(=O)N(c1ccc2oc(=O)sc2c1)S(=O)(=O)c1cccs1</td>\n",
              "      <td>1.0</td>\n",
              "      <td>0.0</td>\n",
              "      <td>1.0</td>\n",
              "      <td>NaN</td>\n",
              "      <td>NaN</td>\n",
              "    </tr>\n",
              "    <tr>\n",
              "      <th>1</th>\n",
              "      <td>Clc1ccccc1-c1nc(-c2ccccc2)n[nH]1</td>\n",
              "      <td>1.0</td>\n",
              "      <td>NaN</td>\n",
              "      <td>NaN</td>\n",
              "      <td>1.0</td>\n",
              "      <td>1.0</td>\n",
              "    </tr>\n",
              "    <tr>\n",
              "      <th>2</th>\n",
              "      <td>COc1ccccc1CNC(=O)Cn1nnc(-c2ccncc2)n1</td>\n",
              "      <td>1.0</td>\n",
              "      <td>NaN</td>\n",
              "      <td>NaN</td>\n",
              "      <td>1.0</td>\n",
              "      <td>NaN</td>\n",
              "    </tr>\n",
              "    <tr>\n",
              "      <th>3</th>\n",
              "      <td>CC(=O)Nc1cccc(NC(=O)C2CCCN2C(=O)Nc2ccccc2C)c1</td>\n",
              "      <td>0.0</td>\n",
              "      <td>NaN</td>\n",
              "      <td>0.0</td>\n",
              "      <td>NaN</td>\n",
              "      <td>NaN</td>\n",
              "    </tr>\n",
              "    <tr>\n",
              "      <th>4</th>\n",
              "      <td>CCC(c1nnnn1CC1CCCO1)N(CCN1CCOCC1)Cc1cc2cc(C)cc...</td>\n",
              "      <td>0.0</td>\n",
              "      <td>0.0</td>\n",
              "      <td>1.0</td>\n",
              "      <td>NaN</td>\n",
              "      <td>0.0</td>\n",
              "    </tr>\n",
              "  </tbody>\n",
              "</table>\n",
              "</div>\n",
              "    <div class=\"colab-df-buttons\">\n",
              "\n",
              "  <div class=\"colab-df-container\">\n",
              "    <button class=\"colab-df-convert\" onclick=\"convertToInteractive('df-e0b61400-0192-4dc8-9c55-e9c025ffe452')\"\n",
              "            title=\"Convert this dataframe to an interactive table.\"\n",
              "            style=\"display:none;\">\n",
              "\n",
              "  <svg xmlns=\"http://www.w3.org/2000/svg\" height=\"24px\" viewBox=\"0 -960 960 960\">\n",
              "    <path d=\"M120-120v-720h720v720H120Zm60-500h600v-160H180v160Zm220 220h160v-160H400v160Zm0 220h160v-160H400v160ZM180-400h160v-160H180v160Zm440 0h160v-160H620v160ZM180-180h160v-160H180v160Zm440 0h160v-160H620v160Z\"/>\n",
              "  </svg>\n",
              "    </button>\n",
              "\n",
              "  <style>\n",
              "    .colab-df-container {\n",
              "      display:flex;\n",
              "      gap: 12px;\n",
              "    }\n",
              "\n",
              "    .colab-df-convert {\n",
              "      background-color: #E8F0FE;\n",
              "      border: none;\n",
              "      border-radius: 50%;\n",
              "      cursor: pointer;\n",
              "      display: none;\n",
              "      fill: #1967D2;\n",
              "      height: 32px;\n",
              "      padding: 0 0 0 0;\n",
              "      width: 32px;\n",
              "    }\n",
              "\n",
              "    .colab-df-convert:hover {\n",
              "      background-color: #E2EBFA;\n",
              "      box-shadow: 0px 1px 2px rgba(60, 64, 67, 0.3), 0px 1px 3px 1px rgba(60, 64, 67, 0.15);\n",
              "      fill: #174EA6;\n",
              "    }\n",
              "\n",
              "    .colab-df-buttons div {\n",
              "      margin-bottom: 4px;\n",
              "    }\n",
              "\n",
              "    [theme=dark] .colab-df-convert {\n",
              "      background-color: #3B4455;\n",
              "      fill: #D2E3FC;\n",
              "    }\n",
              "\n",
              "    [theme=dark] .colab-df-convert:hover {\n",
              "      background-color: #434B5C;\n",
              "      box-shadow: 0px 1px 3px 1px rgba(0, 0, 0, 0.15);\n",
              "      filter: drop-shadow(0px 1px 2px rgba(0, 0, 0, 0.3));\n",
              "      fill: #FFFFFF;\n",
              "    }\n",
              "  </style>\n",
              "\n",
              "    <script>\n",
              "      const buttonEl =\n",
              "        document.querySelector('#df-e0b61400-0192-4dc8-9c55-e9c025ffe452 button.colab-df-convert');\n",
              "      buttonEl.style.display =\n",
              "        google.colab.kernel.accessAllowed ? 'block' : 'none';\n",
              "\n",
              "      async function convertToInteractive(key) {\n",
              "        const element = document.querySelector('#df-e0b61400-0192-4dc8-9c55-e9c025ffe452');\n",
              "        const dataTable =\n",
              "          await google.colab.kernel.invokeFunction('convertToInteractive',\n",
              "                                                    [key], {});\n",
              "        if (!dataTable) return;\n",
              "\n",
              "        const docLinkHtml = 'Like what you see? Visit the ' +\n",
              "          '<a target=\"_blank\" href=https://colab.research.google.com/notebooks/data_table.ipynb>data table notebook</a>'\n",
              "          + ' to learn more about interactive tables.';\n",
              "        element.innerHTML = '';\n",
              "        dataTable['output_type'] = 'display_data';\n",
              "        await google.colab.output.renderOutput(dataTable, element);\n",
              "        const docLink = document.createElement('div');\n",
              "        docLink.innerHTML = docLinkHtml;\n",
              "        element.appendChild(docLink);\n",
              "      }\n",
              "    </script>\n",
              "  </div>\n",
              "\n",
              "\n",
              "<div id=\"df-1657fe4b-6b06-4861-aed3-be8321f1e914\">\n",
              "  <button class=\"colab-df-quickchart\" onclick=\"quickchart('df-1657fe4b-6b06-4861-aed3-be8321f1e914')\"\n",
              "            title=\"Suggest charts.\"\n",
              "            style=\"display:none;\">\n",
              "\n",
              "<svg xmlns=\"http://www.w3.org/2000/svg\" height=\"24px\"viewBox=\"0 0 24 24\"\n",
              "     width=\"24px\">\n",
              "    <g>\n",
              "        <path d=\"M19 3H5c-1.1 0-2 .9-2 2v14c0 1.1.9 2 2 2h14c1.1 0 2-.9 2-2V5c0-1.1-.9-2-2-2zM9 17H7v-7h2v7zm4 0h-2V7h2v10zm4 0h-2v-4h2v4z\"/>\n",
              "    </g>\n",
              "</svg>\n",
              "  </button>\n",
              "\n",
              "<style>\n",
              "  .colab-df-quickchart {\n",
              "      --bg-color: #E8F0FE;\n",
              "      --fill-color: #1967D2;\n",
              "      --hover-bg-color: #E2EBFA;\n",
              "      --hover-fill-color: #174EA6;\n",
              "      --disabled-fill-color: #AAA;\n",
              "      --disabled-bg-color: #DDD;\n",
              "  }\n",
              "\n",
              "  [theme=dark] .colab-df-quickchart {\n",
              "      --bg-color: #3B4455;\n",
              "      --fill-color: #D2E3FC;\n",
              "      --hover-bg-color: #434B5C;\n",
              "      --hover-fill-color: #FFFFFF;\n",
              "      --disabled-bg-color: #3B4455;\n",
              "      --disabled-fill-color: #666;\n",
              "  }\n",
              "\n",
              "  .colab-df-quickchart {\n",
              "    background-color: var(--bg-color);\n",
              "    border: none;\n",
              "    border-radius: 50%;\n",
              "    cursor: pointer;\n",
              "    display: none;\n",
              "    fill: var(--fill-color);\n",
              "    height: 32px;\n",
              "    padding: 0;\n",
              "    width: 32px;\n",
              "  }\n",
              "\n",
              "  .colab-df-quickchart:hover {\n",
              "    background-color: var(--hover-bg-color);\n",
              "    box-shadow: 0 1px 2px rgba(60, 64, 67, 0.3), 0 1px 3px 1px rgba(60, 64, 67, 0.15);\n",
              "    fill: var(--button-hover-fill-color);\n",
              "  }\n",
              "\n",
              "  .colab-df-quickchart-complete:disabled,\n",
              "  .colab-df-quickchart-complete:disabled:hover {\n",
              "    background-color: var(--disabled-bg-color);\n",
              "    fill: var(--disabled-fill-color);\n",
              "    box-shadow: none;\n",
              "  }\n",
              "\n",
              "  .colab-df-spinner {\n",
              "    border: 2px solid var(--fill-color);\n",
              "    border-color: transparent;\n",
              "    border-bottom-color: var(--fill-color);\n",
              "    animation:\n",
              "      spin 1s steps(1) infinite;\n",
              "  }\n",
              "\n",
              "  @keyframes spin {\n",
              "    0% {\n",
              "      border-color: transparent;\n",
              "      border-bottom-color: var(--fill-color);\n",
              "      border-left-color: var(--fill-color);\n",
              "    }\n",
              "    20% {\n",
              "      border-color: transparent;\n",
              "      border-left-color: var(--fill-color);\n",
              "      border-top-color: var(--fill-color);\n",
              "    }\n",
              "    30% {\n",
              "      border-color: transparent;\n",
              "      border-left-color: var(--fill-color);\n",
              "      border-top-color: var(--fill-color);\n",
              "      border-right-color: var(--fill-color);\n",
              "    }\n",
              "    40% {\n",
              "      border-color: transparent;\n",
              "      border-right-color: var(--fill-color);\n",
              "      border-top-color: var(--fill-color);\n",
              "    }\n",
              "    60% {\n",
              "      border-color: transparent;\n",
              "      border-right-color: var(--fill-color);\n",
              "    }\n",
              "    80% {\n",
              "      border-color: transparent;\n",
              "      border-right-color: var(--fill-color);\n",
              "      border-bottom-color: var(--fill-color);\n",
              "    }\n",
              "    90% {\n",
              "      border-color: transparent;\n",
              "      border-bottom-color: var(--fill-color);\n",
              "    }\n",
              "  }\n",
              "</style>\n",
              "\n",
              "  <script>\n",
              "    async function quickchart(key) {\n",
              "      const quickchartButtonEl =\n",
              "        document.querySelector('#' + key + ' button');\n",
              "      quickchartButtonEl.disabled = true;  // To prevent multiple clicks.\n",
              "      quickchartButtonEl.classList.add('colab-df-spinner');\n",
              "      try {\n",
              "        const charts = await google.colab.kernel.invokeFunction(\n",
              "            'suggestCharts', [key], {});\n",
              "      } catch (error) {\n",
              "        console.error('Error during call to suggestCharts:', error);\n",
              "      }\n",
              "      quickchartButtonEl.classList.remove('colab-df-spinner');\n",
              "      quickchartButtonEl.classList.add('colab-df-quickchart-complete');\n",
              "    }\n",
              "    (() => {\n",
              "      let quickchartButtonEl =\n",
              "        document.querySelector('#df-1657fe4b-6b06-4861-aed3-be8321f1e914 button');\n",
              "      quickchartButtonEl.style.display =\n",
              "        google.colab.kernel.accessAllowed ? 'block' : 'none';\n",
              "    })();\n",
              "  </script>\n",
              "</div>\n",
              "\n",
              "    </div>\n",
              "  </div>\n"
            ]
          },
          "metadata": {},
          "execution_count": 12
        }
      ]
    },
    {
      "cell_type": "code",
      "source": [
        "# trains[~trains['VDss_Lombardo'].isnull()]"
      ],
      "metadata": {
        "id": "lhFSpFy66yWE"
      },
      "execution_count": 281,
      "outputs": []
    },
    {
      "cell_type": "code",
      "source": [
        "train.min(), train.max()"
      ],
      "metadata": {
        "colab": {
          "base_uri": "https://localhost:8080/"
        },
        "id": "6rxTMV8W74HZ",
        "outputId": "42a3a7c5-4337-437c-994c-48d81828d9a6"
      },
      "execution_count": 282,
      "outputs": [
        {
          "output_type": "execute_result",
          "data": {
            "text/plain": [
              "(Drug                              C#CCN(C)Cc1ccccc1\n",
              " CYP3A4_Substrate_CarbonMangels                    0\n",
              " dtype: object,\n",
              " Drug                              c1ccccc1\n",
              " CYP3A4_Substrate_CarbonMangels           1\n",
              " dtype: object)"
            ]
          },
          "metadata": {},
          "execution_count": 282
        }
      ]
    },
    {
      "cell_type": "code",
      "source": [
        "import pandas as pd\n",
        "\n",
        "import dgl\n",
        "import torch\n",
        "import torch.nn as nn\n",
        "from torch.utils.data import DataLoader\n",
        "from dgllife.model import model_zoo\n",
        "from dgllife.utils import smiles_to_bigraph\n",
        "from dgllife.utils import EarlyStopping, Meter\n",
        "from dgllife.utils import AttentiveFPAtomFeaturizer\n",
        "from dgllife.utils import AttentiveFPBondFeaturizer\n",
        "from dgllife.data import MoleculeCSVDataset\n",
        "\n",
        "def collate_molgraphs(data):\n",
        "    assert len(data[0]) in [3, 4], \\\n",
        "        'Expect the tuple to be of length 3 or 4, got {:d}'.format(len(data[0]))\n",
        "    if len(data[0]) == 3:\n",
        "        smiles, graphs, labels = map(list, zip(*data))\n",
        "        masks = None\n",
        "    else:\n",
        "        smiles, graphs, labels, masks = map(list, zip(*data))\n",
        "\n",
        "    bg = dgl.batch(graphs)\n",
        "    bg.set_n_initializer(dgl.init.zero_initializer)\n",
        "    bg.set_e_initializer(dgl.init.zero_initializer)\n",
        "    labels = torch.stack(labels, dim=0)\n",
        "\n",
        "    if masks is None:\n",
        "        masks = torch.ones(labels.shape)\n",
        "    else:\n",
        "        masks = torch.stack(masks, dim=0)\n",
        "        # masks = (labels == MASK).long()\n",
        "    return smiles, bg, labels, masks\n",
        "\n",
        "\n",
        "atom_featurizer = AttentiveFPAtomFeaturizer(atom_data_field='hv')\n",
        "bond_featurizer = AttentiveFPBondFeaturizer(bond_data_field='he')\n",
        "n_feats_num = atom_featurizer.feat_size('hv')\n",
        "e_feats_num = bond_featurizer.feat_size('he')"
      ],
      "metadata": {
        "id": "b_b277rYE_Ef"
      },
      "execution_count": 23,
      "outputs": []
    },
    {
      "cell_type": "code",
      "source": [
        "import time\n",
        "named_tuple = time.localtime() # get struct_time\n",
        "time_string = time.strftime(\"%m_%d_%Y_%H:%M:%S\", named_tuple)\n",
        "\n",
        "params = {'node_featurizer': atom_featurizer,\n",
        "          'edge_featurizer': bond_featurizer,\n",
        "          'smiles_column': 'Drug',\n",
        "        #   'cache_file_path': time_string+'.bin',\n",
        "          'task_names': names, 'load': True, 'n_jobs': len(names)}\n",
        "\n",
        "\n",
        "train_datasets = MoleculeCSVDataset(trains, cache_file_path=f'train_{time_string}.bin', **params)\n",
        "valid_datasets = MoleculeCSVDataset(valids,cache_file_path=f'valid_{time_string}.bin', **params)\n",
        "test_datasets = MoleculeCSVDataset(tests, cache_file_path=f'test_{time_string}.bin', **params)\n",
        "\n",
        "batch_size = 64\n",
        "loader_params ={'batch_size': batch_size,\n",
        "                'shuffle': True,\n",
        "                'collate_fn': collate_molgraphs}\n",
        "\n",
        "train_loader = DataLoader(train_datasets, **loader_params)\n",
        "valid_loader = DataLoader(valid_datasets, **loader_params)\n",
        "test_loader  = DataLoader(test_datasets,  **loader_params)"
      ],
      "metadata": {
        "colab": {
          "base_uri": "https://localhost:8080/"
        },
        "id": "yt2B9Oz1FMhX",
        "outputId": "7596b639-171b-46f1-ddaa-8fa0f739e334"
      },
      "execution_count": 24,
      "outputs": [
        {
          "output_type": "stream",
          "name": "stdout",
          "text": [
            "Processing dgl graphs from scratch...\n"
          ]
        },
        {
          "output_type": "stream",
          "name": "stderr",
          "text": [
            "[Parallel(n_jobs=5)]: Using backend LokyBackend with 5 concurrent workers.\n",
            "[Parallel(n_jobs=5)]: Done  62 tasks      | elapsed:    3.1s\n",
            "[Parallel(n_jobs=5)]: Done 7690 tasks      | elapsed:    9.6s\n",
            "[Parallel(n_jobs=5)]: Done 15984 out of 15984 | elapsed:   17.0s finished\n"
          ]
        },
        {
          "output_type": "stream",
          "name": "stdout",
          "text": [
            "Processing dgl graphs from scratch...\n"
          ]
        },
        {
          "output_type": "stream",
          "name": "stderr",
          "text": [
            "[Parallel(n_jobs=5)]: Using backend LokyBackend with 5 concurrent workers.\n",
            "[Parallel(n_jobs=5)]: Done 150 tasks      | elapsed:    0.2s\n",
            "[Parallel(n_jobs=5)]: Done 5375 out of 5384 | elapsed:    5.6s remaining:    0.0s\n",
            "[Parallel(n_jobs=5)]: Done 5384 out of 5384 | elapsed:    5.6s finished\n"
          ]
        },
        {
          "output_type": "stream",
          "name": "stdout",
          "text": [
            "Processing dgl graphs from scratch...\n"
          ]
        },
        {
          "output_type": "stream",
          "name": "stderr",
          "text": [
            "[Parallel(n_jobs=5)]: Using backend LokyBackend with 5 concurrent workers.\n",
            "[Parallel(n_jobs=5)]: Done 150 tasks      | elapsed:    0.2s\n",
            "[Parallel(n_jobs=5)]: Done 8773 tasks      | elapsed:    7.6s\n",
            "[Parallel(n_jobs=5)]: Done 9240 out of 9240 | elapsed:    7.9s finished\n"
          ]
        }
      ]
    },
    {
      "cell_type": "code",
      "source": [
        "cuda = torch.cuda.is_available()\n",
        "if cuda: device = 'cuda'\n",
        "else: device = 'cpu'\n",
        "n_layers = 3\n",
        "dropout = 0.5\n",
        "\n",
        "model = model_zoo.AttentiveFPPredictor(\n",
        "            node_feat_size=n_feats_num, edge_feat_size=e_feats_num,\n",
        "            num_layers=n_layers, num_timesteps=1, graph_feat_size=300,\n",
        "            n_tasks=len(names), dropout=dropout).to(device)"
      ],
      "metadata": {
        "id": "Rmb4y3BHE_OH"
      },
      "execution_count": 25,
      "outputs": []
    },
    {
      "cell_type": "code",
      "source": [
        "def train_epoch(epoch, model, data_loader, loss_func, optimizer):\n",
        "    model.train()\n",
        "    losses = 0\n",
        "    train_meter = Meter()\n",
        "    for batch_id, batch_data in tqdm(enumerate(data_loader),\n",
        "                                     total=len(data_loader),\n",
        "                                     desc=f'Epoch {epoch}'):\n",
        "        smiles, bg, labels, masks = batch_data\n",
        "        bg, labels, masks = bg.to(device), labels.to(device), masks.to(device)\n",
        "        n_feats = bg.ndata.pop('hv').to(device)\n",
        "        e_feats = bg.edata.pop('he').to(device)\n",
        "\n",
        "        pred = model(bg, n_feats, e_feats)\n",
        "        mask = masks < 1\n",
        "        loss = loss_func(pred[~mask], labels[~mask])\n",
        "        del mask\n",
        "        # loss = (loss_func(pred, labels)*(masks!=0).float()).mean()\n",
        "        optimizer.zero_grad()\n",
        "        loss.backward()\n",
        "        optimizer.step()\n",
        "        train_meter.update(pred, labels, masks)\n",
        "        del pred\n",
        "        del labels\n",
        "        del masks\n",
        "        losses += loss.item()\n",
        "        # losses.append(loss.item())\n",
        "\n",
        "    total_r2 = np.mean(train_meter.compute_metric('r2'))\n",
        "    total_loss = losses / len(data_loader.dataset)\n",
        "    # if epoch % 10 == 0 and epoch != 0:\n",
        "    print(f'[Train] R2: {total_r2:.3f}, Loss: {total_loss:.3f}')\n",
        "\n",
        "    return total_r2, total_loss\n",
        "\n",
        "def eval_epoch(model, data_loader, loss_func):\n",
        "    model.eval()\n",
        "    val_losses = 0\n",
        "    eval_meter = Meter()\n",
        "    with torch.no_grad():\n",
        "        for batch_data in data_loader:\n",
        "            smiles, bg, labels, masks = batch_data\n",
        "            bg, labels, masks = bg.to(device), labels.to(device), masks.to(device)\n",
        "            n_feats = bg.ndata.pop('hv').to(device)\n",
        "            e_feats = bg.edata.pop('he').to(device)\n",
        "            val_pred = model(bg, n_feats, e_feats)\n",
        "            mask = masks < 1\n",
        "            val_loss = loss_func(val_pred[~mask], labels[~mask])\n",
        "            # val_loss = (loss_func(val_pred, labels)*(masks!=0).float()).mean()\n",
        "            # val_losses.append(val_loss.item())\n",
        "            val_losses += val_loss.item()\n",
        "            eval_meter.update(val_pred, labels, masks)\n",
        "            del val_pred\n",
        "            del labels\n",
        "            del masks\n",
        "            del n_feats\n",
        "            del e_feats\n",
        "        total_score = np.mean(eval_meter.compute_metric('r2'))\n",
        "        total_loss = val_losses / len(data_loader.dataset)\n",
        "        print(f'[Valid] R2: {total_score:.3f}, Loss: {total_loss:.3f}')\n",
        "    return total_score, total_loss\n"
      ],
      "metadata": {
        "id": "LrtOJsGe_d_M"
      },
      "execution_count": 27,
      "outputs": []
    },
    {
      "cell_type": "code",
      "source": [
        "optimizer = torch.optim.AdamW(model.parameters(), lr=1e-3, weight_decay=1e-3)\n",
        "stopper = EarlyStopping(mode='lower', patience=30)\n",
        "n_epochs = 500\n",
        "best_epoch = 0\n",
        "min_loss = 100000"
      ],
      "metadata": {
        "id": "CtNDW-6AUVIC"
      },
      "execution_count": 28,
      "outputs": []
    },
    {
      "cell_type": "code",
      "source": [
        "if best_epoch != 0:\n",
        "    model.load_state_dict(torch.load('ckpt.pt', map_location=device))\n",
        "\n",
        "for epoch in range(best_epoch, best_epoch + n_epochs):\n",
        "    score = train_epoch(epoch, model, train_loader, loss_fn, optimizer)\n",
        "    val_score = eval_epoch(model, valid_loader, loss_fn)\n",
        "    early_stop = stopper.step(val_score[1], model)\n",
        "    if val_score[1] < min_loss and epoch > 3:\n",
        "        print(f'prev min loss {min_loss:.3f}, now better loss {val_score[1]:.3f}')\n",
        "        min_loss = val_score[1]\n",
        "        torch.save(model.state_dict(), 'ckpt.pt')\n",
        "        print(f'save model at epoch: {epoch}')\n",
        "        best_epoch = epoch\n",
        "\n",
        "    if early_stop: print('early stop'); break\n"
      ],
      "metadata": {
        "colab": {
          "base_uri": "https://localhost:8080/"
        },
        "id": "1Ag2tmQsStOX",
        "outputId": "c68ac721-21df-4ff6-d472-4f4b70c75dfe"
      },
      "execution_count": 30,
      "outputs": [
        {
          "output_type": "stream",
          "name": "stderr",
          "text": [
            "Epoch 0: 100%|██████████| 250/250 [00:05<00:00, 42.71it/s]\n"
          ]
        },
        {
          "output_type": "stream",
          "name": "stdout",
          "text": [
            "[Train] R2: 0.150, Loss: 1.473\n",
            "[Valid] R2: 0.252, Loss: 2.519\n"
          ]
        },
        {
          "output_type": "stream",
          "name": "stderr",
          "text": [
            "Epoch 1: 100%|██████████| 250/250 [00:05<00:00, 47.84it/s]\n"
          ]
        },
        {
          "output_type": "stream",
          "name": "stdout",
          "text": [
            "[Train] R2: 0.262, Loss: 1.282\n",
            "[Valid] R2: 0.332, Loss: 2.293\n"
          ]
        },
        {
          "output_type": "stream",
          "name": "stderr",
          "text": [
            "Epoch 2: 100%|██████████| 250/250 [00:05<00:00, 48.99it/s]\n"
          ]
        },
        {
          "output_type": "stream",
          "name": "stdout",
          "text": [
            "[Train] R2: 0.316, Loss: 1.206\n",
            "[Valid] R2: 0.352, Loss: 2.185\n"
          ]
        },
        {
          "output_type": "stream",
          "name": "stderr",
          "text": [
            "Epoch 3: 100%|██████████| 250/250 [00:05<00:00, 48.09it/s]\n"
          ]
        },
        {
          "output_type": "stream",
          "name": "stdout",
          "text": [
            "[Train] R2: 0.338, Loss: 1.168\n",
            "[Valid] R2: 0.379, Loss: 2.136\n"
          ]
        },
        {
          "output_type": "stream",
          "name": "stderr",
          "text": [
            "Epoch 4: 100%|██████████| 250/250 [00:05<00:00, 47.27it/s]\n"
          ]
        },
        {
          "output_type": "stream",
          "name": "stdout",
          "text": [
            "[Train] R2: 0.363, Loss: 1.124\n",
            "[Valid] R2: 0.391, Loss: 2.084\n",
            "prev min loss 100000, now better loss 2.0837535229076325\n",
            "save model at epoch: 4\n"
          ]
        },
        {
          "output_type": "stream",
          "name": "stderr",
          "text": [
            "Epoch 5: 100%|██████████| 250/250 [00:05<00:00, 45.61it/s]\n"
          ]
        },
        {
          "output_type": "stream",
          "name": "stdout",
          "text": [
            "[Train] R2: 0.378, Loss: 1.096\n",
            "[Valid] R2: 0.413, Loss: 2.031\n",
            "prev min loss 2.0837535229076325, now better loss 2.031040868057112\n",
            "save model at epoch: 5\n"
          ]
        },
        {
          "output_type": "stream",
          "name": "stderr",
          "text": [
            "Epoch 6: 100%|██████████| 250/250 [00:05<00:00, 47.49it/s]\n"
          ]
        },
        {
          "output_type": "stream",
          "name": "stdout",
          "text": [
            "[Train] R2: 0.386, Loss: 1.083\n",
            "[Valid] R2: 0.423, Loss: 1.988\n",
            "prev min loss 2.031040868057112, now better loss 1.9878368764203673\n",
            "save model at epoch: 6\n"
          ]
        },
        {
          "output_type": "stream",
          "name": "stderr",
          "text": [
            "Epoch 7: 100%|██████████| 250/250 [00:05<00:00, 48.07it/s]\n"
          ]
        },
        {
          "output_type": "stream",
          "name": "stdout",
          "text": [
            "[Train] R2: 0.399, Loss: 1.052\n",
            "[Valid] R2: 0.421, Loss: 1.984\n",
            "prev min loss 1.9878368764203673, now better loss 1.983816438514009\n",
            "save model at epoch: 7\n"
          ]
        },
        {
          "output_type": "stream",
          "name": "stderr",
          "text": [
            "Epoch 8: 100%|██████████| 250/250 [00:05<00:00, 48.35it/s]\n"
          ]
        },
        {
          "output_type": "stream",
          "name": "stdout",
          "text": [
            "[Train] R2: 0.411, Loss: 1.035\n",
            "[Valid] R2: 0.433, Loss: 1.906\n",
            "prev min loss 1.983816438514009, now better loss 1.9061766530581996\n",
            "save model at epoch: 8\n"
          ]
        },
        {
          "output_type": "stream",
          "name": "stderr",
          "text": [
            "Epoch 9: 100%|██████████| 250/250 [00:05<00:00, 47.07it/s]\n"
          ]
        },
        {
          "output_type": "stream",
          "name": "stdout",
          "text": [
            "[Train] R2: 0.417, Loss: 1.014\n",
            "[Valid] R2: 0.431, Loss: 1.944\n",
            "EarlyStopping counter: 1 out of 30\n"
          ]
        },
        {
          "output_type": "stream",
          "name": "stderr",
          "text": [
            "Epoch 10: 100%|██████████| 250/250 [00:05<00:00, 48.41it/s]\n"
          ]
        },
        {
          "output_type": "stream",
          "name": "stdout",
          "text": [
            "[Train] R2: 0.421, Loss: 1.007\n",
            "[Valid] R2: 0.443, Loss: 1.885\n",
            "prev min loss 1.9061766530581996, now better loss 1.885309858298479\n",
            "save model at epoch: 10\n"
          ]
        },
        {
          "output_type": "stream",
          "name": "stderr",
          "text": [
            "Epoch 11: 100%|██████████| 250/250 [00:05<00:00, 47.16it/s]\n"
          ]
        },
        {
          "output_type": "stream",
          "name": "stdout",
          "text": [
            "[Train] R2: 0.429, Loss: 0.993\n",
            "[Valid] R2: 0.448, Loss: 1.879\n",
            "prev min loss 1.885309858298479, now better loss 1.8790214832801282\n",
            "save model at epoch: 11\n"
          ]
        },
        {
          "output_type": "stream",
          "name": "stderr",
          "text": [
            "Epoch 12: 100%|██████████| 250/250 [00:05<00:00, 48.67it/s]\n"
          ]
        },
        {
          "output_type": "stream",
          "name": "stdout",
          "text": [
            "[Train] R2: 0.434, Loss: 0.982\n",
            "[Valid] R2: 0.448, Loss: 1.886\n",
            "EarlyStopping counter: 1 out of 30\n"
          ]
        },
        {
          "output_type": "stream",
          "name": "stderr",
          "text": [
            "Epoch 13: 100%|██████████| 250/250 [00:05<00:00, 47.55it/s]\n"
          ]
        },
        {
          "output_type": "stream",
          "name": "stdout",
          "text": [
            "[Train] R2: 0.439, Loss: 0.967\n",
            "[Valid] R2: 0.459, Loss: 1.845\n",
            "prev min loss 1.8790214832801282, now better loss 1.8454734967502313\n",
            "save model at epoch: 13\n"
          ]
        },
        {
          "output_type": "stream",
          "name": "stderr",
          "text": [
            "Epoch 14: 100%|██████████| 250/250 [00:05<00:00, 47.61it/s]\n"
          ]
        },
        {
          "output_type": "stream",
          "name": "stdout",
          "text": [
            "[Train] R2: 0.445, Loss: 0.955\n",
            "[Valid] R2: 0.453, Loss: 1.884\n",
            "EarlyStopping counter: 1 out of 30\n"
          ]
        },
        {
          "output_type": "stream",
          "name": "stderr",
          "text": [
            "Epoch 15: 100%|██████████| 250/250 [00:05<00:00, 47.38it/s]\n"
          ]
        },
        {
          "output_type": "stream",
          "name": "stdout",
          "text": [
            "[Train] R2: 0.454, Loss: 0.935\n",
            "[Valid] R2: 0.468, Loss: 1.791\n",
            "prev min loss 1.8454734967502313, now better loss 1.7911468021528498\n",
            "save model at epoch: 15\n"
          ]
        },
        {
          "output_type": "stream",
          "name": "stderr",
          "text": [
            "Epoch 16: 100%|██████████| 250/250 [00:05<00:00, 48.37it/s]\n"
          ]
        },
        {
          "output_type": "stream",
          "name": "stdout",
          "text": [
            "[Train] R2: 0.450, Loss: 0.936\n",
            "[Valid] R2: 0.464, Loss: 1.804\n",
            "EarlyStopping counter: 1 out of 30\n"
          ]
        },
        {
          "output_type": "stream",
          "name": "stderr",
          "text": [
            "Epoch 17: 100%|██████████| 250/250 [00:05<00:00, 47.54it/s]\n"
          ]
        },
        {
          "output_type": "stream",
          "name": "stdout",
          "text": [
            "[Train] R2: 0.458, Loss: 0.924\n",
            "[Valid] R2: 0.468, Loss: 1.826\n",
            "EarlyStopping counter: 2 out of 30\n"
          ]
        },
        {
          "output_type": "stream",
          "name": "stderr",
          "text": [
            "Epoch 18: 100%|██████████| 250/250 [00:05<00:00, 48.66it/s]\n"
          ]
        },
        {
          "output_type": "stream",
          "name": "stdout",
          "text": [
            "[Train] R2: 0.458, Loss: 0.917\n",
            "[Valid] R2: 0.471, Loss: 1.781\n",
            "prev min loss 1.7911468021528498, now better loss 1.78116426908398\n",
            "save model at epoch: 18\n"
          ]
        },
        {
          "output_type": "stream",
          "name": "stderr",
          "text": [
            "Epoch 19: 100%|██████████| 250/250 [00:05<00:00, 47.21it/s]\n"
          ]
        },
        {
          "output_type": "stream",
          "name": "stdout",
          "text": [
            "[Train] R2: 0.463, Loss: 0.909\n",
            "[Valid] R2: 0.470, Loss: 1.781\n",
            "prev min loss 1.78116426908398, now better loss 1.781141452300243\n",
            "save model at epoch: 19\n"
          ]
        },
        {
          "output_type": "stream",
          "name": "stderr",
          "text": [
            "Epoch 20: 100%|██████████| 250/250 [00:05<00:00, 48.68it/s]\n"
          ]
        },
        {
          "output_type": "stream",
          "name": "stdout",
          "text": [
            "[Train] R2: 0.469, Loss: 0.893\n",
            "[Valid] R2: 0.471, Loss: 1.779\n",
            "prev min loss 1.781141452300243, now better loss 1.778857084223808\n",
            "save model at epoch: 20\n"
          ]
        },
        {
          "output_type": "stream",
          "name": "stderr",
          "text": [
            "Epoch 21: 100%|██████████| 250/250 [00:05<00:00, 46.49it/s]\n"
          ]
        },
        {
          "output_type": "stream",
          "name": "stdout",
          "text": [
            "[Train] R2: 0.475, Loss: 0.880\n",
            "[Valid] R2: 0.468, Loss: 1.775\n",
            "prev min loss 1.778857084223808, now better loss 1.7752750795473236\n",
            "save model at epoch: 21\n"
          ]
        },
        {
          "output_type": "stream",
          "name": "stderr",
          "text": [
            "Epoch 22: 100%|██████████| 250/250 [00:05<00:00, 45.99it/s]\n"
          ]
        },
        {
          "output_type": "stream",
          "name": "stdout",
          "text": [
            "[Train] R2: 0.480, Loss: 0.871\n",
            "[Valid] R2: 0.471, Loss: 1.745\n",
            "prev min loss 1.7752750795473236, now better loss 1.7451632050466104\n",
            "save model at epoch: 22\n"
          ]
        },
        {
          "output_type": "stream",
          "name": "stderr",
          "text": [
            "Epoch 23: 100%|██████████| 250/250 [00:05<00:00, 45.58it/s]\n"
          ]
        },
        {
          "output_type": "stream",
          "name": "stdout",
          "text": [
            "[Train] R2: 0.482, Loss: 0.860\n",
            "[Valid] R2: 0.467, Loss: 1.769\n",
            "EarlyStopping counter: 1 out of 30\n"
          ]
        },
        {
          "output_type": "stream",
          "name": "stderr",
          "text": [
            "Epoch 24: 100%|██████████| 250/250 [00:05<00:00, 44.96it/s]\n"
          ]
        },
        {
          "output_type": "stream",
          "name": "stdout",
          "text": [
            "[Train] R2: 0.485, Loss: 0.850\n",
            "[Valid] R2: 0.475, Loss: 1.747\n",
            "EarlyStopping counter: 2 out of 30\n"
          ]
        },
        {
          "output_type": "stream",
          "name": "stderr",
          "text": [
            "Epoch 25: 100%|██████████| 250/250 [00:05<00:00, 48.16it/s]\n"
          ]
        },
        {
          "output_type": "stream",
          "name": "stdout",
          "text": [
            "[Train] R2: 0.489, Loss: 0.844\n",
            "[Valid] R2: 0.478, Loss: 1.763\n",
            "EarlyStopping counter: 3 out of 30\n"
          ]
        },
        {
          "output_type": "stream",
          "name": "stderr",
          "text": [
            "Epoch 26: 100%|██████████| 250/250 [00:05<00:00, 47.73it/s]\n"
          ]
        },
        {
          "output_type": "stream",
          "name": "stdout",
          "text": [
            "[Train] R2: 0.493, Loss: 0.832\n",
            "[Valid] R2: 0.476, Loss: 1.740\n",
            "prev min loss 1.7451632050466104, now better loss 1.7402382583239535\n",
            "save model at epoch: 26\n"
          ]
        },
        {
          "output_type": "stream",
          "name": "stderr",
          "text": [
            "Epoch 27: 100%|██████████| 250/250 [00:05<00:00, 48.12it/s]\n"
          ]
        },
        {
          "output_type": "stream",
          "name": "stdout",
          "text": [
            "[Train] R2: 0.495, Loss: 0.822\n",
            "[Valid] R2: 0.467, Loss: 1.768\n",
            "EarlyStopping counter: 1 out of 30\n"
          ]
        },
        {
          "output_type": "stream",
          "name": "stderr",
          "text": [
            "Epoch 28: 100%|██████████| 250/250 [00:05<00:00, 47.36it/s]\n"
          ]
        },
        {
          "output_type": "stream",
          "name": "stdout",
          "text": [
            "[Train] R2: 0.497, Loss: 0.813\n",
            "[Valid] R2: 0.475, Loss: 1.746\n",
            "EarlyStopping counter: 2 out of 30\n"
          ]
        },
        {
          "output_type": "stream",
          "name": "stderr",
          "text": [
            "Epoch 29: 100%|██████████| 250/250 [00:05<00:00, 47.07it/s]\n"
          ]
        },
        {
          "output_type": "stream",
          "name": "stdout",
          "text": [
            "[Train] R2: 0.501, Loss: 0.804\n",
            "[Valid] R2: 0.485, Loss: 1.759\n",
            "EarlyStopping counter: 3 out of 30\n"
          ]
        },
        {
          "output_type": "stream",
          "name": "stderr",
          "text": [
            "Epoch 30: 100%|██████████| 250/250 [00:05<00:00, 46.62it/s]\n"
          ]
        },
        {
          "output_type": "stream",
          "name": "stdout",
          "text": [
            "[Train] R2: 0.504, Loss: 0.798\n",
            "[Valid] R2: 0.482, Loss: 1.732\n",
            "prev min loss 1.7402382583239535, now better loss 1.7324182726905009\n",
            "save model at epoch: 30\n"
          ]
        },
        {
          "output_type": "stream",
          "name": "stderr",
          "text": [
            "Epoch 31: 100%|██████████| 250/250 [00:05<00:00, 46.77it/s]\n"
          ]
        },
        {
          "output_type": "stream",
          "name": "stdout",
          "text": [
            "[Train] R2: 0.509, Loss: 0.785\n",
            "[Valid] R2: 0.484, Loss: 1.763\n",
            "EarlyStopping counter: 1 out of 30\n"
          ]
        },
        {
          "output_type": "stream",
          "name": "stderr",
          "text": [
            "Epoch 32: 100%|██████████| 250/250 [00:05<00:00, 48.02it/s]\n"
          ]
        },
        {
          "output_type": "stream",
          "name": "stdout",
          "text": [
            "[Train] R2: 0.513, Loss: 0.773\n",
            "[Valid] R2: 0.483, Loss: 1.733\n",
            "EarlyStopping counter: 2 out of 30\n"
          ]
        },
        {
          "output_type": "stream",
          "name": "stderr",
          "text": [
            "Epoch 33: 100%|██████████| 250/250 [00:05<00:00, 47.82it/s]\n"
          ]
        },
        {
          "output_type": "stream",
          "name": "stdout",
          "text": [
            "[Train] R2: 0.514, Loss: 0.770\n",
            "[Valid] R2: 0.483, Loss: 1.727\n",
            "prev min loss 1.7324182726905009, now better loss 1.7271392965632297\n",
            "save model at epoch: 33\n"
          ]
        },
        {
          "output_type": "stream",
          "name": "stderr",
          "text": [
            "Epoch 34: 100%|██████████| 250/250 [00:05<00:00, 47.56it/s]\n"
          ]
        },
        {
          "output_type": "stream",
          "name": "stdout",
          "text": [
            "[Train] R2: 0.517, Loss: 0.759\n",
            "[Valid] R2: 0.486, Loss: 1.743\n",
            "EarlyStopping counter: 1 out of 30\n"
          ]
        },
        {
          "output_type": "stream",
          "name": "stderr",
          "text": [
            "Epoch 35: 100%|██████████| 250/250 [00:05<00:00, 48.54it/s]\n"
          ]
        },
        {
          "output_type": "stream",
          "name": "stdout",
          "text": [
            "[Train] R2: 0.519, Loss: 0.751\n",
            "[Valid] R2: 0.479, Loss: 1.752\n",
            "EarlyStopping counter: 2 out of 30\n"
          ]
        },
        {
          "output_type": "stream",
          "name": "stderr",
          "text": [
            "Epoch 36: 100%|██████████| 250/250 [00:05<00:00, 47.72it/s]\n"
          ]
        },
        {
          "output_type": "stream",
          "name": "stdout",
          "text": [
            "[Train] R2: 0.520, Loss: 0.743\n",
            "[Valid] R2: 0.484, Loss: 1.736\n",
            "EarlyStopping counter: 3 out of 30\n"
          ]
        },
        {
          "output_type": "stream",
          "name": "stderr",
          "text": [
            "Epoch 37: 100%|██████████| 250/250 [00:05<00:00, 48.59it/s]\n"
          ]
        },
        {
          "output_type": "stream",
          "name": "stdout",
          "text": [
            "[Train] R2: 0.525, Loss: 0.732\n",
            "[Valid] R2: 0.484, Loss: 1.755\n",
            "EarlyStopping counter: 4 out of 30\n"
          ]
        },
        {
          "output_type": "stream",
          "name": "stderr",
          "text": [
            "Epoch 38: 100%|██████████| 250/250 [00:05<00:00, 47.38it/s]\n"
          ]
        },
        {
          "output_type": "stream",
          "name": "stdout",
          "text": [
            "[Train] R2: 0.526, Loss: 0.723\n",
            "[Valid] R2: 0.481, Loss: 1.772\n",
            "EarlyStopping counter: 5 out of 30\n"
          ]
        },
        {
          "output_type": "stream",
          "name": "stderr",
          "text": [
            "Epoch 39: 100%|██████████| 250/250 [00:05<00:00, 48.21it/s]\n"
          ]
        },
        {
          "output_type": "stream",
          "name": "stdout",
          "text": [
            "[Train] R2: 0.532, Loss: 0.711\n",
            "[Valid] R2: 0.480, Loss: 1.736\n",
            "EarlyStopping counter: 6 out of 30\n"
          ]
        },
        {
          "output_type": "stream",
          "name": "stderr",
          "text": [
            "Epoch 40: 100%|██████████| 250/250 [00:05<00:00, 47.34it/s]\n"
          ]
        },
        {
          "output_type": "stream",
          "name": "stdout",
          "text": [
            "[Train] R2: 0.533, Loss: 0.702\n",
            "[Valid] R2: 0.483, Loss: 1.775\n",
            "EarlyStopping counter: 7 out of 30\n"
          ]
        },
        {
          "output_type": "stream",
          "name": "stderr",
          "text": [
            "Epoch 41: 100%|██████████| 250/250 [00:05<00:00, 48.03it/s]\n"
          ]
        },
        {
          "output_type": "stream",
          "name": "stdout",
          "text": [
            "[Train] R2: 0.536, Loss: 0.693\n",
            "[Valid] R2: 0.481, Loss: 1.805\n",
            "EarlyStopping counter: 8 out of 30\n"
          ]
        },
        {
          "output_type": "stream",
          "name": "stderr",
          "text": [
            "Epoch 42: 100%|██████████| 250/250 [00:05<00:00, 47.78it/s]\n"
          ]
        },
        {
          "output_type": "stream",
          "name": "stdout",
          "text": [
            "[Train] R2: 0.540, Loss: 0.682\n",
            "[Valid] R2: 0.486, Loss: 1.797\n",
            "EarlyStopping counter: 9 out of 30\n"
          ]
        },
        {
          "output_type": "stream",
          "name": "stderr",
          "text": [
            "Epoch 43: 100%|██████████| 250/250 [00:05<00:00, 48.35it/s]\n"
          ]
        },
        {
          "output_type": "stream",
          "name": "stdout",
          "text": [
            "[Train] R2: 0.539, Loss: 0.681\n",
            "[Valid] R2: 0.489, Loss: 1.785\n",
            "EarlyStopping counter: 10 out of 30\n"
          ]
        },
        {
          "output_type": "stream",
          "name": "stderr",
          "text": [
            "Epoch 44: 100%|██████████| 250/250 [00:05<00:00, 47.58it/s]\n"
          ]
        },
        {
          "output_type": "stream",
          "name": "stdout",
          "text": [
            "[Train] R2: 0.543, Loss: 0.670\n",
            "[Valid] R2: 0.483, Loss: 1.806\n",
            "EarlyStopping counter: 11 out of 30\n"
          ]
        },
        {
          "output_type": "stream",
          "name": "stderr",
          "text": [
            "Epoch 45: 100%|██████████| 250/250 [00:05<00:00, 48.66it/s]\n"
          ]
        },
        {
          "output_type": "stream",
          "name": "stdout",
          "text": [
            "[Train] R2: 0.552, Loss: 0.653\n",
            "[Valid] R2: 0.485, Loss: 1.772\n",
            "EarlyStopping counter: 12 out of 30\n"
          ]
        },
        {
          "output_type": "stream",
          "name": "stderr",
          "text": [
            "Epoch 46: 100%|██████████| 250/250 [00:05<00:00, 47.73it/s]\n"
          ]
        },
        {
          "output_type": "stream",
          "name": "stdout",
          "text": [
            "[Train] R2: 0.556, Loss: 0.641\n",
            "[Valid] R2: 0.483, Loss: 1.808\n",
            "EarlyStopping counter: 13 out of 30\n"
          ]
        },
        {
          "output_type": "stream",
          "name": "stderr",
          "text": [
            "Epoch 47: 100%|██████████| 250/250 [00:05<00:00, 48.41it/s]\n"
          ]
        },
        {
          "output_type": "stream",
          "name": "stdout",
          "text": [
            "[Train] R2: 0.554, Loss: 0.642\n",
            "[Valid] R2: 0.478, Loss: 1.819\n",
            "EarlyStopping counter: 14 out of 30\n"
          ]
        },
        {
          "output_type": "stream",
          "name": "stderr",
          "text": [
            "Epoch 48: 100%|██████████| 250/250 [00:05<00:00, 47.50it/s]\n"
          ]
        },
        {
          "output_type": "stream",
          "name": "stdout",
          "text": [
            "[Train] R2: 0.555, Loss: 0.638\n",
            "[Valid] R2: 0.481, Loss: 1.830\n",
            "EarlyStopping counter: 15 out of 30\n"
          ]
        },
        {
          "output_type": "stream",
          "name": "stderr",
          "text": [
            "Epoch 49: 100%|██████████| 250/250 [00:05<00:00, 48.34it/s]\n"
          ]
        },
        {
          "output_type": "stream",
          "name": "stdout",
          "text": [
            "[Train] R2: 0.558, Loss: 0.622\n",
            "[Valid] R2: 0.484, Loss: 1.805\n",
            "EarlyStopping counter: 16 out of 30\n"
          ]
        },
        {
          "output_type": "stream",
          "name": "stderr",
          "text": [
            "Epoch 50: 100%|██████████| 250/250 [00:05<00:00, 47.71it/s]\n"
          ]
        },
        {
          "output_type": "stream",
          "name": "stdout",
          "text": [
            "[Train] R2: 0.560, Loss: 0.619\n",
            "[Valid] R2: 0.479, Loss: 1.836\n",
            "EarlyStopping counter: 17 out of 30\n"
          ]
        },
        {
          "output_type": "stream",
          "name": "stderr",
          "text": [
            "Epoch 51: 100%|██████████| 250/250 [00:05<00:00, 48.66it/s]\n"
          ]
        },
        {
          "output_type": "stream",
          "name": "stdout",
          "text": [
            "[Train] R2: 0.565, Loss: 0.602\n",
            "[Valid] R2: 0.478, Loss: 1.842\n",
            "EarlyStopping counter: 18 out of 30\n"
          ]
        },
        {
          "output_type": "stream",
          "name": "stderr",
          "text": [
            "Epoch 52: 100%|██████████| 250/250 [00:05<00:00, 47.72it/s]\n"
          ]
        },
        {
          "output_type": "stream",
          "name": "stdout",
          "text": [
            "[Train] R2: 0.564, Loss: 0.604\n",
            "[Valid] R2: 0.481, Loss: 1.877\n",
            "EarlyStopping counter: 19 out of 30\n"
          ]
        },
        {
          "output_type": "stream",
          "name": "stderr",
          "text": [
            "Epoch 53: 100%|██████████| 250/250 [00:05<00:00, 46.85it/s]\n"
          ]
        },
        {
          "output_type": "stream",
          "name": "stdout",
          "text": [
            "[Train] R2: 0.570, Loss: 0.587\n",
            "[Valid] R2: 0.479, Loss: 1.885\n",
            "EarlyStopping counter: 20 out of 30\n"
          ]
        },
        {
          "output_type": "stream",
          "name": "stderr",
          "text": [
            "Epoch 54: 100%|██████████| 250/250 [00:05<00:00, 48.32it/s]\n"
          ]
        },
        {
          "output_type": "stream",
          "name": "stdout",
          "text": [
            "[Train] R2: 0.571, Loss: 0.582\n",
            "[Valid] R2: 0.480, Loss: 1.871\n",
            "EarlyStopping counter: 21 out of 30\n"
          ]
        },
        {
          "output_type": "stream",
          "name": "stderr",
          "text": [
            "Epoch 55: 100%|██████████| 250/250 [00:05<00:00, 48.41it/s]\n"
          ]
        },
        {
          "output_type": "stream",
          "name": "stdout",
          "text": [
            "[Train] R2: 0.573, Loss: 0.570\n",
            "[Valid] R2: 0.478, Loss: 1.867\n",
            "EarlyStopping counter: 22 out of 30\n"
          ]
        },
        {
          "output_type": "stream",
          "name": "stderr",
          "text": [
            "Epoch 56: 100%|██████████| 250/250 [00:05<00:00, 47.71it/s]\n"
          ]
        },
        {
          "output_type": "stream",
          "name": "stdout",
          "text": [
            "[Train] R2: 0.572, Loss: 0.568\n",
            "[Valid] R2: 0.477, Loss: 1.880\n",
            "EarlyStopping counter: 23 out of 30\n"
          ]
        },
        {
          "output_type": "stream",
          "name": "stderr",
          "text": [
            "Epoch 57: 100%|██████████| 250/250 [00:05<00:00, 48.44it/s]\n"
          ]
        },
        {
          "output_type": "stream",
          "name": "stdout",
          "text": [
            "[Train] R2: 0.574, Loss: 0.569\n",
            "[Valid] R2: 0.480, Loss: 1.885\n",
            "EarlyStopping counter: 24 out of 30\n"
          ]
        },
        {
          "output_type": "stream",
          "name": "stderr",
          "text": [
            "Epoch 58: 100%|██████████| 250/250 [00:05<00:00, 47.55it/s]\n"
          ]
        },
        {
          "output_type": "stream",
          "name": "stdout",
          "text": [
            "[Train] R2: 0.573, Loss: 0.555\n",
            "[Valid] R2: 0.476, Loss: 1.896\n",
            "EarlyStopping counter: 25 out of 30\n"
          ]
        },
        {
          "output_type": "stream",
          "name": "stderr",
          "text": [
            "Epoch 59: 100%|██████████| 250/250 [00:05<00:00, 48.15it/s]\n"
          ]
        },
        {
          "output_type": "stream",
          "name": "stdout",
          "text": [
            "[Train] R2: 0.574, Loss: 0.553\n",
            "[Valid] R2: 0.479, Loss: 1.913\n",
            "EarlyStopping counter: 26 out of 30\n"
          ]
        },
        {
          "output_type": "stream",
          "name": "stderr",
          "text": [
            "Epoch 60: 100%|██████████| 250/250 [00:05<00:00, 47.96it/s]\n"
          ]
        },
        {
          "output_type": "stream",
          "name": "stdout",
          "text": [
            "[Train] R2: 0.580, Loss: 0.542\n",
            "[Valid] R2: 0.481, Loss: 1.950\n",
            "EarlyStopping counter: 27 out of 30\n"
          ]
        },
        {
          "output_type": "stream",
          "name": "stderr",
          "text": [
            "Epoch 61: 100%|██████████| 250/250 [00:05<00:00, 48.88it/s]\n"
          ]
        },
        {
          "output_type": "stream",
          "name": "stdout",
          "text": [
            "[Train] R2: 0.585, Loss: 0.533\n",
            "[Valid] R2: 0.478, Loss: 1.916\n",
            "EarlyStopping counter: 28 out of 30\n"
          ]
        },
        {
          "output_type": "stream",
          "name": "stderr",
          "text": [
            "Epoch 62: 100%|██████████| 250/250 [00:05<00:00, 48.04it/s]\n"
          ]
        },
        {
          "output_type": "stream",
          "name": "stdout",
          "text": [
            "[Train] R2: 0.585, Loss: 0.527\n",
            "[Valid] R2: 0.479, Loss: 1.950\n",
            "EarlyStopping counter: 29 out of 30\n"
          ]
        },
        {
          "output_type": "stream",
          "name": "stderr",
          "text": [
            "Epoch 63: 100%|██████████| 250/250 [00:05<00:00, 47.88it/s]\n"
          ]
        },
        {
          "output_type": "stream",
          "name": "stdout",
          "text": [
            "[Train] R2: 0.591, Loss: 0.514\n",
            "[Valid] R2: 0.481, Loss: 1.981\n",
            "EarlyStopping counter: 30 out of 30\n",
            "early stop\n"
          ]
        }
      ]
    },
    {
      "cell_type": "code",
      "source": [
        "model = model_zoo.AttentiveFPPredictor(\n",
        "            node_feat_size=n_feats_num, edge_feat_size=e_feats_num,\n",
        "            num_layers=n_layers, num_timesteps=1, graph_feat_size=300,\n",
        "            n_tasks=len(names)).to(device)\n",
        "\n",
        "model.load_state_dict(torch.load('ckpt.pt', map_location=device))"
      ],
      "metadata": {
        "colab": {
          "base_uri": "https://localhost:8080/"
        },
        "id": "QT6EzbELZsw0",
        "outputId": "5e11e220-6293-4d0a-c0ad-348f38d2ba9a"
      },
      "execution_count": 32,
      "outputs": [
        {
          "output_type": "execute_result",
          "data": {
            "text/plain": [
              "<All keys matched successfully>"
            ]
          },
          "metadata": {},
          "execution_count": 32
        }
      ]
    },
    {
      "cell_type": "code",
      "source": [
        "print('Evaluate on test sets')\n",
        "model = model.cpu()\n",
        "model.eval()\n",
        "total_loss = 0\n",
        "test_meter = Meter()\n",
        "if IS_R: print('using MSELoss')\n",
        "else: print('using BCELOSSwithdigits')\n",
        "for i, batch_data in tqdm(enumerate(test_loader), total=len(test_loader)):\n",
        "    smiles, bg, labels, masks = batch_data\n",
        "    # bg, labels, masks = bg.to(device), labels.to(device), masks.to(device)\n",
        "    # n_feats = bg.ndata.pop('hv').to(device)\n",
        "    # e_feats = bg.edata.pop('he').to(device)\n",
        "    n_feats = bg.ndata.pop('hv')\n",
        "    e_feats = bg.edata.pop('he')\n",
        "\n",
        "    pred = model(bg, n_feats, e_feats)\n",
        "    # loss = (loss_fn(pred, labels)*(masks!=0).float()).mean()\n",
        "    mask = masks < 1\n",
        "    loss = loss_fn(pred[~mask], labels[~mask])\n",
        "    test_meter.update(pred, labels, masks)\n",
        "    # print(loss)\n",
        "    total_loss += loss.item()\n",
        "    if i == 0:\n",
        "        preds_ = pred.cpu()\n",
        "        labels_ = labels.cpu()\n",
        "        masks_ = mask.cpu()\n",
        "    else:\n",
        "        preds_ = torch.cat([preds_, pred.cpu()], dim=0)\n",
        "        labels_ = torch.cat([labels_, labels.cpu()], dim=0)\n",
        "        masks_ = torch.cat([masks_, mask.cpu()], dim=0)\n",
        "# masks_ = masks_ < 1\n",
        "# preds_, labels_ = preds_.detach().numpy(), labels_.detach().numpy()\n",
        "total_loss /= len(tests)\n",
        "print(f'total_loss: {total_loss:.3f}')\n",
        "\n",
        "if IS_R:\n",
        "    r2 = test_meter.compute_metric('r2')\n",
        "    r2_mean, r2_std = np.mean(r2), np.std(r2)\n",
        "    # r2_avg = test_meter.compute_metric('r2', reduction='mean')\n",
        "    mae = test_meter.compute_metric('mae')\n",
        "    mae_mean, mae_std = np.mean(mae), np.std(mae)\n",
        "    # mae_avg = test_meter.compute_metric('mae', reduction='mean')\n",
        "    rmse = test_meter.compute_metric('rmse')\n",
        "    rmse_mean, rmse_std = np.mean(rmse), np.std(rmse)\n",
        "    # # rmse_avg = test_meter.compute_metric('rmse', reduction='mean')\n",
        "\n",
        "    print(f' R2: \\t{r2_mean:.3f} +/- {r2_std:.3f} \\n',\n",
        "        f'MAE: \\t{mae_mean:.3f} +/- {mae_std:.3f} \\n',\n",
        "        f'RMSE: \\t{rmse_mean:.3f} +/- {rmse_std:.3f}')"
      ],
      "metadata": {
        "colab": {
          "base_uri": "https://localhost:8080/"
        },
        "id": "xt6jKJNYStLk",
        "outputId": "12f21736-925c-40f3-eaf2-2723a7844495"
      },
      "execution_count": 33,
      "outputs": [
        {
          "output_type": "stream",
          "name": "stdout",
          "text": [
            "Evaluate on test sets\n",
            "using BCELOSSwithdigits\n"
          ]
        },
        {
          "output_type": "stream",
          "name": "stderr",
          "text": [
            "100%|██████████| 145/145 [00:10<00:00, 13.78it/s]"
          ]
        },
        {
          "output_type": "stream",
          "name": "stdout",
          "text": [
            "total_loss: 0.473\n"
          ]
        },
        {
          "output_type": "stream",
          "name": "stderr",
          "text": [
            "\n"
          ]
        }
      ]
    },
    {
      "cell_type": "code",
      "source": [
        "if IS_R == False:\n",
        "    for i, name in enumerate(names):\n",
        "        print('*'*15, name, '*'*15)\n",
        "        probs = F.sigmoid(preds_[:, i][~masks_[:, i]])\n",
        "        label = labels_[:, i][~masks_[:, i]]\n",
        "        probs = probs.cpu().detach().numpy()\n",
        "        label = label.cpu().detach().numpy()\n",
        "        assert len(probs) == len(label)\n",
        "        preds = get_preds(0.5, probs)\n",
        "        evaluate(label, preds, probs)\n",
        "        print()"
      ],
      "metadata": {
        "colab": {
          "base_uri": "https://localhost:8080/"
        },
        "id": "FvZNeWCWFZIw",
        "outputId": "3b0d75a1-806d-4c56-dfbc-7983493e0378"
      },
      "execution_count": 34,
      "outputs": [
        {
          "output_type": "stream",
          "name": "stdout",
          "text": [
            "*************** CYP2C19_Veith ***************\n",
            "Accuracy, weighted accuracy, precision, recall/SE, SP,     F1,     AUC,     MCC,     AP\n",
            "& 0.841  &  0.841  &          0.812  &     0.849  &0.834  &0.830 &0.915 &   0.681 &   0.898\n",
            "\n",
            "*************** CYP2D6_Veith ***************\n",
            "Accuracy, weighted accuracy, precision, recall/SE, SP,     F1,     AUC,     MCC,     AP\n",
            "& 0.882  &  0.777  &          0.716  &     0.609  &0.945  &0.658 &0.889 &   0.590 &   0.726\n",
            "\n",
            "*************** CYP3A4_Veith ***************\n",
            "Accuracy, weighted accuracy, precision, recall/SE, SP,     F1,     AUC,     MCC,     AP\n",
            "& 0.822  &  0.809  &          0.811  &     0.740  &0.879  &0.774 &0.906 &   0.629 &   0.867\n",
            "\n",
            "*************** CYP1A2_Veith ***************\n",
            "Accuracy, weighted accuracy, precision, recall/SE, SP,     F1,     AUC,     MCC,     AP\n",
            "& 0.880  &  0.880  &          0.868  &     0.880  &0.880  &0.874 &0.943 &   0.760 &   0.936\n",
            "\n",
            "*************** CYP2C9_Veith ***************\n",
            "Accuracy, weighted accuracy, precision, recall/SE, SP,     F1,     AUC,     MCC,     AP\n",
            "& 0.849  &  0.829  &          0.781  &     0.769  &0.889  &0.775 &0.918 &   0.661 &   0.830\n",
            "\n"
          ]
        }
      ]
    },
    {
      "cell_type": "code",
      "source": [
        "labels_[~masks_]"
      ],
      "metadata": {
        "id": "VVgmvwVjAd3A"
      },
      "execution_count": null,
      "outputs": []
    },
    {
      "cell_type": "code",
      "source": [
        "eval_result_r2 =   f'R2:     {r2_mean:.3f}'\n",
        "eval_result_mae =  f'MAE:   {mae_mean:.3f}'\n",
        "eval_result_rmse = f'RMSE: {rmse_mean:.3f}'\n",
        "eval_result_r2"
      ],
      "metadata": {
        "colab": {
          "base_uri": "https://localhost:8080/",
          "height": 35
        },
        "id": "gmM5nT48j9Gc",
        "outputId": "3ec15be7-d096-46a0-ae0b-87e76cebba69"
      },
      "execution_count": 251,
      "outputs": [
        {
          "output_type": "execute_result",
          "data": {
            "text/plain": [
              "'R2:     0.133'"
            ],
            "application/vnd.google.colaboratory.intrinsic+json": {
              "type": "string"
            }
          },
          "metadata": {},
          "execution_count": 251
        }
      ]
    },
    {
      "cell_type": "code",
      "source": [
        "from mycolorpy import colorlist as mcp\n",
        "import matplotlib.pyplot as plt\n",
        "if IS_R:\n",
        "    for i, name in enumerate(names):\n",
        "        try: name = name.split('_')[0]\n",
        "        except: pass\n",
        "        label = labels_[:,i][~masks_[:, i]].cpu().detach().numpy()\n",
        "        preds = preds_[:,i][~masks_[:, i]].cpu().detach().numpy()\n",
        "        color = mcp.gen_color_normalized(cmap='viridis', data_arr=label)\n",
        "        plt.scatter(label, preds, cmap='viridis', marker='.',\n",
        "                    s=10, alpha=0.5, edgecolors='none', c=color)\n",
        "        plt.xlabel(f'True {name}')\n",
        "        plt.ylabel(f'Predicted {name}')\n",
        "        plt.title(f'{name} prediction on test set using AttentiveFP')\n",
        "        # plt.text(-12, 1, eval_result_r2)\n",
        "        # plt.text(-12, 0, eval_result_mae)\n",
        "        # plt.text(-12, -1, eval_result_rmse)\n",
        "        plt.show()\n",
        "        plt.close()"
      ],
      "metadata": {
        "id": "xkFi9_8oNBQ7"
      },
      "execution_count": 292,
      "outputs": []
    },
    {
      "cell_type": "code",
      "source": [
        "from torch.utils.data import DataLoader, Dataset\n",
        "\n",
        "import pandas as pd\n",
        "import rdkit\n",
        "from rdkit import Chem\n",
        "from rdkit.Chem.MACCSkeys import GenMACCSKeys\n",
        "import torch.nn.functional as F\n",
        "\n",
        "m = Chem.MolFromSmiles\n",
        "header = ['bit' + str(i) for i in range(167)]\n",
        "\n",
        "def smile_list_to_MACCS(smi_list:list):\n",
        "    MACCS_list = []\n",
        "    for smi in smi_list:\n",
        "        maccs = [float(i) for i in list(GenMACCSKeys(m(smi)).ToBitString())]\n",
        "        MACCS_list.append(maccs)\n",
        "    return MACCS_list\n",
        "\n",
        "def process(data):\n",
        "\n",
        "    # data = convert_with_qed_sa(data)\n",
        "    print('---> converting SMILES to MACCS...')\n",
        "    MACCS_list = smile_list_to_MACCS(data['Drug'].tolist())\n",
        "    data[header] = pd.DataFrame(MACCS_list)\n",
        "    print('---> FINISHED')\n",
        "    return data\n",
        "\n",
        "MASK = -100\n",
        "\n",
        "class nn_dataset(Dataset):\n",
        "    def __init__(self, df, prop_names, mask=MASK):\n",
        "        super(nn_dataset, self).__init__()\n",
        "        df = process(df)\n",
        "        df = df.fillna(mask)\n",
        "        self.df = df\n",
        "        self.len = len(df)\n",
        "        self.fp = self.df[header]\n",
        "        self.props = self.df[prop_names]\n",
        "\n",
        "    def __getitem__(self, idx):\n",
        "        fp = torch.tensor(self.fp.iloc[idx], dtype=torch.float32)\n",
        "        label = torch.tensor(self.props.iloc[idx], dtype=torch.float32)\n",
        "        return fp, label\n",
        "\n",
        "    def __len__(self): return self.len\n",
        "\n",
        "    def get_df(self): return self.df"
      ],
      "metadata": {
        "id": "mMWePkt2OOSa"
      },
      "execution_count": 9,
      "outputs": []
    },
    {
      "cell_type": "code",
      "source": [
        "batch_size = 64\n",
        "params_nn = {'batch_size': batch_size, 'shuffle': True,\n",
        "          'drop_last': False, 'num_workers': 0}\n",
        "\n",
        "train_loader_nn = DataLoader(nn_dataset(trains, names), **params_nn)\n",
        "valid_loader_nn = DataLoader(nn_dataset(valids, names), **params_nn)\n",
        "test_loader_nn  = DataLoader(nn_dataset(tests,  names), **params_nn)"
      ],
      "metadata": {
        "colab": {
          "base_uri": "https://localhost:8080/"
        },
        "id": "tSVYAWxeTYjt",
        "outputId": "115a4cd8-8291-4fa0-c08a-53b5638e2b24"
      },
      "execution_count": 10,
      "outputs": [
        {
          "output_type": "stream",
          "name": "stdout",
          "text": [
            "---> converting SMILES to MACCS...\n",
            "---> FINISHED\n",
            "---> converting SMILES to MACCS...\n",
            "---> FINISHED\n",
            "---> converting SMILES to MACCS...\n",
            "---> FINISHED\n"
          ]
        }
      ]
    },
    {
      "cell_type": "code",
      "source": [
        "class Classifier(nn.Module):\n",
        "    def __init__(self, dims):\n",
        "        super(Classifier, self).__init__()\n",
        "        [in_dim, h_dims, out_dim] = dims\n",
        "        self.dims = dims\n",
        "        neurons = [in_dim, *h_dims]\n",
        "        linear_layers = [nn.Linear(neurons[i-1], neurons[i]) \\\n",
        "                         for i in range(1, len(neurons))]\n",
        "        self.hidden = nn.ModuleList(linear_layers)\n",
        "        self.final = nn.Linear(h_dims[-1], out_dim)\n",
        "\n",
        "    def forward(self, x):\n",
        "        for layer in self.hidden:\n",
        "            x = F.relu(layer(x))\n",
        "        x = self.final(x)\n",
        "        return x\n",
        "\n",
        "import matplotlib.pyplot as plt\n",
        "\n",
        "def get_min(d:dict):\n",
        "    min_key = next(iter(d))\n",
        "\n",
        "    # Iterate over the keys in the dictionary\n",
        "    for key in d:\n",
        "        # If the value of the current key > the value of max_key, update max_key\n",
        "        if d[key] < d[min_key]:\n",
        "            min_key = key\n",
        "    return min_key, d[min_key]\n",
        "\n",
        "def plot_loss(train_dict, test_dict, name='test'):\n",
        "    fig = plt.figure()\n",
        "    plt.plot(list(train_dict.keys()), list(train_dict.values()), label='train')\n",
        "    plt.plot(list(test_dict.keys()), list(test_dict.values()), label=name)\n",
        "    argmin, min = get_min(test_dict)\n",
        "    plt.plot(argmin, min, '*', label=f'min epoch {argmin}')\n",
        "    plt.xlabel('epoch')\n",
        "    plt.ylabel('loss')\n",
        "    plt.title('loss during training')\n",
        "    plt.legend()\n",
        "    plt.show()\n",
        ""
      ],
      "metadata": {
        "id": "QbvQDhAwTZGD"
      },
      "execution_count": 12,
      "outputs": []
    },
    {
      "cell_type": "code",
      "source": [
        "in_dim = 167 # len of fingerprint\n",
        "out_dim = len(names)\n",
        "hid_dims = [256, 128, 64] # hidden dims changeable\n",
        "\n",
        "dims = [in_dim, hid_dims, out_dim]\n",
        "dims\n",
        ""
      ],
      "metadata": {
        "colab": {
          "base_uri": "https://localhost:8080/"
        },
        "id": "QDnpiAioTZ7E",
        "outputId": "cc727d86-a1e6-4493-a3ef-7be6a3cfe61e"
      },
      "execution_count": 13,
      "outputs": [
        {
          "output_type": "execute_result",
          "data": {
            "text/plain": [
              "[167, [256, 128, 64], 5]"
            ]
          },
          "metadata": {},
          "execution_count": 13
        }
      ]
    },
    {
      "cell_type": "code",
      "source": [
        "model = Classifier(dims)\n",
        "cuda = torch.cuda.is_available()\n",
        "if cuda:\n",
        "    model = model.cuda()\n",
        "    device = 'cuda'\n",
        "else: device = 'cpu'\n",
        "\n",
        "# here we need MSELoss since QED,SA are continuous\n",
        "if IS_R: loss_function = nn.MSELoss(reduction='sum')\n",
        "else: loss_function = nn.BCEWithLogitsLoss(reduction='sum')\n",
        "\n",
        "lr = 1e-3\n",
        "wd = 1e-3\n",
        "train_loss_dict = {}\n",
        "valid_loss_dict = {}\n",
        "\n",
        "epochs = 100\n",
        "best_epoch = 0\n",
        "\n",
        "optimizer = torch.optim.AdamW(params=model.parameters(), lr=lr, weight_decay=wd)"
      ],
      "metadata": {
        "id": "W4wF7k_Eq5Oa"
      },
      "execution_count": 17,
      "outputs": []
    },
    {
      "cell_type": "code",
      "source": [
        "if best_epoch != 0:\n",
        "    model.load_state_dict(torch.load('ckpt_nn.pt', map_location=device))\n",
        "\n",
        "for epoch in range(best_epoch, epochs+best_epoch):\n",
        "    total_loss = 0\n",
        "    model.train()\n",
        "    for i, (fp, label) in tqdm(enumerate(train_loader_nn),\n",
        "                               total=len(train_loader_nn),\n",
        "                               desc=f'Epoch {epoch}'):\n",
        "        optimizer.zero_grad()\n",
        "        if cuda: fp, label = fp.cuda(), label.cuda()\n",
        "        mask = label == MASK\n",
        "        output = model(fp)\n",
        "        loss = loss_function(output[~mask], label[~mask])\n",
        "        loss.backward()\n",
        "        optimizer.step()\n",
        "        total_loss += loss.item()\n",
        "\n",
        "    total_loss /= len(train_loader_nn.dataset)\n",
        "    print(f'[Train] MSE loss: {total_loss:.3f}')\n",
        "    train_loss_dict[epoch] = total_loss\n",
        "\n",
        "    model.eval()\n",
        "    total_valid_loss = 0\n",
        "    for fp, label in valid_loader_nn:\n",
        "        if cuda: fp, label = fp.cuda(), label.cuda()\n",
        "        mask = label == MASK\n",
        "        output = model(fp)\n",
        "        loss = loss_function(output[~mask], label[~mask])\n",
        "        total_valid_loss += loss.item()\n",
        "    total_valid_loss /= len(valid_loader_nn.dataset)\n",
        "    valid_loss_dict[epoch] = total_valid_loss\n",
        "    print(f'[Valid] MSE loss: {total_valid_loss:.3f}')\n",
        "    argmin, min_loss = get_min(valid_loss_dict)\n",
        "    if total_valid_loss <= min_loss and epoch > 3:\n",
        "        # SAVE MODEL\n",
        "        torch.save(model.state_dict(), 'ckpt_nn.pt')\n",
        "        best_epoch = epoch\n",
        "\n",
        "    if epoch - argmin > 20: print('early stop, no decrease'); break\n",
        "    if total_valid_loss / min_loss > 1.5: print('loss increase'); break\n",
        "\n",
        "    if epoch % 10 == 0 and epoch != 0:\n",
        "        plot_loss(train_loss_dict, valid_loss_dict, name='valid')"
      ],
      "metadata": {
        "colab": {
          "base_uri": "https://localhost:8080/",
          "height": 1000
        },
        "id": "NUTN_BUtq7QA",
        "outputId": "f84216d2-d407-48ea-8a4d-515de822d60d"
      },
      "execution_count": 18,
      "outputs": [
        {
          "output_type": "stream",
          "name": "stderr",
          "text": [
            "Epoch 0: 100%|██████████| 250/250 [00:03<00:00, 63.51it/s]\n"
          ]
        },
        {
          "output_type": "stream",
          "name": "stdout",
          "text": [
            "[Train] MSE loss: 1.434\n",
            "[Valid] MSE loss: 0.549\n"
          ]
        },
        {
          "output_type": "stream",
          "name": "stderr",
          "text": [
            "Epoch 1: 100%|██████████| 250/250 [00:03<00:00, 82.84it/s]\n"
          ]
        },
        {
          "output_type": "stream",
          "name": "stdout",
          "text": [
            "[Train] MSE loss: 1.238\n",
            "[Valid] MSE loss: 0.527\n"
          ]
        },
        {
          "output_type": "stream",
          "name": "stderr",
          "text": [
            "Epoch 2: 100%|██████████| 250/250 [00:02<00:00, 84.63it/s]\n"
          ]
        },
        {
          "output_type": "stream",
          "name": "stdout",
          "text": [
            "[Train] MSE loss: 1.181\n",
            "[Valid] MSE loss: 0.510\n"
          ]
        },
        {
          "output_type": "stream",
          "name": "stderr",
          "text": [
            "Epoch 3: 100%|██████████| 250/250 [00:02<00:00, 83.63it/s]\n"
          ]
        },
        {
          "output_type": "stream",
          "name": "stdout",
          "text": [
            "[Train] MSE loss: 1.136\n",
            "[Valid] MSE loss: 0.493\n"
          ]
        },
        {
          "output_type": "stream",
          "name": "stderr",
          "text": [
            "Epoch 4: 100%|██████████| 250/250 [00:02<00:00, 83.86it/s]\n"
          ]
        },
        {
          "output_type": "stream",
          "name": "stdout",
          "text": [
            "[Train] MSE loss: 1.100\n",
            "[Valid] MSE loss: 0.488\n"
          ]
        },
        {
          "output_type": "stream",
          "name": "stderr",
          "text": [
            "Epoch 5: 100%|██████████| 250/250 [00:03<00:00, 81.28it/s]\n"
          ]
        },
        {
          "output_type": "stream",
          "name": "stdout",
          "text": [
            "[Train] MSE loss: 1.060\n",
            "[Valid] MSE loss: 0.475\n"
          ]
        },
        {
          "output_type": "stream",
          "name": "stderr",
          "text": [
            "Epoch 6: 100%|██████████| 250/250 [00:03<00:00, 81.79it/s]\n"
          ]
        },
        {
          "output_type": "stream",
          "name": "stdout",
          "text": [
            "[Train] MSE loss: 1.030\n",
            "[Valid] MSE loss: 0.477\n"
          ]
        },
        {
          "output_type": "stream",
          "name": "stderr",
          "text": [
            "Epoch 7: 100%|██████████| 250/250 [00:03<00:00, 78.87it/s]\n"
          ]
        },
        {
          "output_type": "stream",
          "name": "stdout",
          "text": [
            "[Train] MSE loss: 0.998\n",
            "[Valid] MSE loss: 0.480\n"
          ]
        },
        {
          "output_type": "stream",
          "name": "stderr",
          "text": [
            "Epoch 8: 100%|██████████| 250/250 [00:03<00:00, 80.42it/s]\n"
          ]
        },
        {
          "output_type": "stream",
          "name": "stdout",
          "text": [
            "[Train] MSE loss: 0.960\n",
            "[Valid] MSE loss: 0.476\n"
          ]
        },
        {
          "output_type": "stream",
          "name": "stderr",
          "text": [
            "Epoch 9: 100%|██████████| 250/250 [00:02<00:00, 83.95it/s]\n"
          ]
        },
        {
          "output_type": "stream",
          "name": "stdout",
          "text": [
            "[Train] MSE loss: 0.928\n",
            "[Valid] MSE loss: 0.467\n"
          ]
        },
        {
          "output_type": "stream",
          "name": "stderr",
          "text": [
            "Epoch 10: 100%|██████████| 250/250 [00:03<00:00, 82.37it/s]\n"
          ]
        },
        {
          "output_type": "stream",
          "name": "stdout",
          "text": [
            "[Train] MSE loss: 0.904\n",
            "[Valid] MSE loss: 0.501\n"
          ]
        },
        {
          "output_type": "display_data",
          "data": {
            "text/plain": [
              "<Figure size 640x480 with 1 Axes>"
            ],
            "image/png": "[encoded data removed]"
          },
          "metadata": {}
        },
        {
          "output_type": "stream",
          "name": "stderr",
          "text": [
            "Epoch 11: 100%|██████████| 250/250 [00:03<00:00, 80.17it/s]\n"
          ]
        },
        {
          "output_type": "stream",
          "name": "stdout",
          "text": [
            "[Train] MSE loss: 0.868\n",
            "[Valid] MSE loss: 0.473\n"
          ]
        },
        {
          "output_type": "stream",
          "name": "stderr",
          "text": [
            "Epoch 12: 100%|██████████| 250/250 [00:02<00:00, 83.59it/s]\n"
          ]
        },
        {
          "output_type": "stream",
          "name": "stdout",
          "text": [
            "[Train] MSE loss: 0.833\n",
            "[Valid] MSE loss: 0.477\n"
          ]
        },
        {
          "output_type": "stream",
          "name": "stderr",
          "text": [
            "Epoch 13: 100%|██████████| 250/250 [00:02<00:00, 83.85it/s]\n"
          ]
        },
        {
          "output_type": "stream",
          "name": "stdout",
          "text": [
            "[Train] MSE loss: 0.809\n",
            "[Valid] MSE loss: 0.481\n"
          ]
        },
        {
          "output_type": "stream",
          "name": "stderr",
          "text": [
            "Epoch 14: 100%|██████████| 250/250 [00:03<00:00, 81.74it/s]\n"
          ]
        },
        {
          "output_type": "stream",
          "name": "stdout",
          "text": [
            "[Train] MSE loss: 0.776\n",
            "[Valid] MSE loss: 0.497\n"
          ]
        },
        {
          "output_type": "stream",
          "name": "stderr",
          "text": [
            "Epoch 15: 100%|██████████| 250/250 [00:02<00:00, 84.13it/s]\n"
          ]
        },
        {
          "output_type": "stream",
          "name": "stdout",
          "text": [
            "[Train] MSE loss: 0.741\n",
            "[Valid] MSE loss: 0.504\n"
          ]
        },
        {
          "output_type": "stream",
          "name": "stderr",
          "text": [
            "Epoch 16: 100%|██████████| 250/250 [00:03<00:00, 75.96it/s]\n"
          ]
        },
        {
          "output_type": "stream",
          "name": "stdout",
          "text": [
            "[Train] MSE loss: 0.707\n",
            "[Valid] MSE loss: 0.516\n"
          ]
        },
        {
          "output_type": "stream",
          "name": "stderr",
          "text": [
            "Epoch 17: 100%|██████████| 250/250 [00:03<00:00, 79.95it/s]\n"
          ]
        },
        {
          "output_type": "stream",
          "name": "stdout",
          "text": [
            "[Train] MSE loss: 0.682\n",
            "[Valid] MSE loss: 0.525\n"
          ]
        },
        {
          "output_type": "stream",
          "name": "stderr",
          "text": [
            "Epoch 18: 100%|██████████| 250/250 [00:02<00:00, 84.33it/s]\n"
          ]
        },
        {
          "output_type": "stream",
          "name": "stdout",
          "text": [
            "[Train] MSE loss: 0.648\n",
            "[Valid] MSE loss: 0.521\n"
          ]
        },
        {
          "output_type": "stream",
          "name": "stderr",
          "text": [
            "Epoch 19: 100%|██████████| 250/250 [00:03<00:00, 82.64it/s]\n"
          ]
        },
        {
          "output_type": "stream",
          "name": "stdout",
          "text": [
            "[Train] MSE loss: 0.615\n",
            "[Valid] MSE loss: 0.541\n"
          ]
        },
        {
          "output_type": "stream",
          "name": "stderr",
          "text": [
            "Epoch 20: 100%|██████████| 250/250 [00:03<00:00, 81.92it/s]\n"
          ]
        },
        {
          "output_type": "stream",
          "name": "stdout",
          "text": [
            "[Train] MSE loss: 0.592\n",
            "[Valid] MSE loss: 0.543\n"
          ]
        },
        {
          "output_type": "display_data",
          "data": {
            "text/plain": [
              "<Figure size 640x480 with 1 Axes>"
            ],
            "image/png": "[encoded data removed]"
          },
          "metadata": {}
        },
        {
          "output_type": "stream",
          "name": "stderr",
          "text": [
            "Epoch 21: 100%|██████████| 250/250 [00:02<00:00, 85.07it/s]\n"
          ]
        },
        {
          "output_type": "stream",
          "name": "stdout",
          "text": [
            "[Train] MSE loss: 0.559\n",
            "[Valid] MSE loss: 0.574\n"
          ]
        },
        {
          "output_type": "stream",
          "name": "stderr",
          "text": [
            "Epoch 22: 100%|██████████| 250/250 [00:03<00:00, 82.60it/s]\n"
          ]
        },
        {
          "output_type": "stream",
          "name": "stdout",
          "text": [
            "[Train] MSE loss: 0.538\n",
            "[Valid] MSE loss: 0.580\n"
          ]
        },
        {
          "output_type": "stream",
          "name": "stderr",
          "text": [
            "Epoch 23: 100%|██████████| 250/250 [00:03<00:00, 81.22it/s]\n"
          ]
        },
        {
          "output_type": "stream",
          "name": "stdout",
          "text": [
            "[Train] MSE loss: 0.505\n",
            "[Valid] MSE loss: 0.612\n"
          ]
        },
        {
          "output_type": "stream",
          "name": "stderr",
          "text": [
            "Epoch 24: 100%|██████████| 250/250 [00:02<00:00, 83.56it/s]\n"
          ]
        },
        {
          "output_type": "stream",
          "name": "stdout",
          "text": [
            "[Train] MSE loss: 0.477\n",
            "[Valid] MSE loss: 0.626\n"
          ]
        },
        {
          "output_type": "stream",
          "name": "stderr",
          "text": [
            "Epoch 25: 100%|██████████| 250/250 [00:02<00:00, 83.54it/s]\n"
          ]
        },
        {
          "output_type": "stream",
          "name": "stdout",
          "text": [
            "[Train] MSE loss: 0.468\n",
            "[Valid] MSE loss: 0.658\n"
          ]
        },
        {
          "output_type": "stream",
          "name": "stderr",
          "text": [
            "Epoch 26: 100%|██████████| 250/250 [00:03<00:00, 79.24it/s]\n"
          ]
        },
        {
          "output_type": "stream",
          "name": "stdout",
          "text": [
            "[Train] MSE loss: 0.434\n",
            "[Valid] MSE loss: 0.670\n"
          ]
        },
        {
          "output_type": "stream",
          "name": "stderr",
          "text": [
            "Epoch 27: 100%|██████████| 250/250 [00:03<00:00, 82.63it/s]\n"
          ]
        },
        {
          "output_type": "stream",
          "name": "stdout",
          "text": [
            "[Train] MSE loss: 0.411\n",
            "[Valid] MSE loss: 0.698\n"
          ]
        },
        {
          "output_type": "stream",
          "name": "stderr",
          "text": [
            "Epoch 28: 100%|██████████| 250/250 [00:03<00:00, 82.68it/s]\n"
          ]
        },
        {
          "output_type": "stream",
          "name": "stdout",
          "text": [
            "[Train] MSE loss: 0.385\n",
            "[Valid] MSE loss: 0.732\n",
            "loss increase\n"
          ]
        }
      ]
    },
    {
      "cell_type": "code",
      "source": [
        "print('Evaluate on test sets')\n",
        "model = Classifier(dims).to(device)\n",
        "model.load_state_dict(torch.load('ckpt_nn.pt', map_location=device))\n",
        "model.eval()\n",
        "total_loss = 0\n",
        "test_meter = Meter()\n",
        "\n",
        "\n",
        "for i, (fp, labels) in enumerate(test_loader_nn):\n",
        "    fp, labels = fp.to(device), labels.to(device)\n",
        "    mask = labels == MASK\n",
        "    pred = model(fp)\n",
        "    loss = loss_function(pred[~mask], labels[~mask])\n",
        "\n",
        "    total_loss += loss.item()\n",
        "    if i == 0:\n",
        "        preds_ = pred.cpu()\n",
        "        labels_ = labels.cpu()\n",
        "        masks_ = mask.cpu()\n",
        "    else:\n",
        "        preds_ = torch.cat([preds_, pred.cpu()], dim=0)\n",
        "        labels_ = torch.cat([labels_, labels.cpu()], dim=0)\n",
        "        masks_ = torch.cat([masks_, mask.cpu()], dim=0)\n",
        "\n",
        "print('total_loss: ', total_loss / len(tests))\n",
        "\n",
        "\n",
        "if IS_R: reg_evaluate(labels_[~masks_].detach().numpy(),\n",
        "                      preds_[~masks_].detach().numpy())\n",
        "else:\n",
        "    evaluate(labels_[~masks_].detach().numpy(),\n",
        "             get_preds(0.5, F.sigmoid(preds_[~masks_]).detach().numpy()),\n",
        "             preds_[~masks_].detach().numpy())"
      ],
      "metadata": {
        "colab": {
          "base_uri": "https://localhost:8080/"
        },
        "id": "PeSo3nIyrVQ9",
        "outputId": "45e14860-5626-4f26-cb67-95601c0618e9"
      },
      "execution_count": 19,
      "outputs": [
        {
          "output_type": "stream",
          "name": "stdout",
          "text": [
            "Evaluate on test sets\n",
            "total_loss:  0.5620409443264915\n",
            "Accuracy, weighted accuracy, precision, recall/SE, SP,     F1,     AUC,     MCC,     AP\n",
            "& 0.819  &  0.803  &          0.764  &     0.742  &0.864  &0.753 &0.887 &   0.610 &   0.825\n"
          ]
        }
      ]
    },
    {
      "cell_type": "code",
      "source": [
        "import sklearn.metrics as metrics\n",
        "\n",
        "\n",
        "def reg_evaluate(label_clean, preds_clean):\n",
        "    mae = metrics.mean_absolute_error(label_clean, preds_clean)\n",
        "    mse = metrics.mean_squared_error(label_clean, preds_clean)\n",
        "    rmse = np.sqrt(mse) #mse**(0.5)\n",
        "    r2 = metrics.r2_score(label_clean, preds_clean)\n",
        "\n",
        "    # print(\"Overall results of sklearn.metrics:\")\n",
        "    print(\"MAE:\",mae)\n",
        "    print(\"MSE:\", mse)\n",
        "    print(\"RMSE:\", rmse)\n",
        "    print(\"R-Squared:\", r2)\n",
        "\n",
        "    eval_result_r2 =   f'R2:     {r2:.3f}'\n",
        "    eval_result_mae =  f'MAE:   {mae:.3f}'\n",
        "    eval_result_rmse = f'RMSE: {rmse:.3f}'\n",
        "\n",
        "    return eval_result_r2, eval_result_mae, eval_result_rmse\n",
        "\n",
        "for i in range(labels_.shape[1]):\n",
        "    reg_evaluate(labels_[:, i][~masks_[:, i]].detach().numpy(),\n",
        "                 preds_[:, i][~masks_[:, i]].detach().numpy())"
      ],
      "metadata": {
        "colab": {
          "base_uri": "https://localhost:8080/"
        },
        "id": "WrmRbyyD5NuW",
        "outputId": "d41036da-5665-4afd-b6e0-aa83bd07b70b"
      },
      "execution_count": 20,
      "outputs": [
        {
          "output_type": "stream",
          "name": "stdout",
          "text": [
            "MAE: 1.7881881\n",
            "MSE: 4.768252\n",
            "RMSE: 2.1836326\n",
            "R-Squared: -18.201241905030965\n",
            "MAE: 2.7482002\n",
            "MSE: 10.1750765\n",
            "RMSE: 3.1898396\n",
            "R-Squared: -66.25111972782607\n",
            "MAE: 2.1599853\n",
            "MSE: 7.9658384\n",
            "RMSE: 2.8223817\n",
            "R-Squared: -31.872165834879418\n",
            "MAE: 2.620729\n",
            "MSE: 10.74578\n",
            "RMSE: 3.2780757\n",
            "R-Squared: -42.11662332993502\n",
            "MAE: 2.073784\n",
            "MSE: 6.806453\n",
            "RMSE: 2.608918\n",
            "R-Squared: -29.387929123121108\n"
          ]
        }
      ]
    },
    {
      "cell_type": "code",
      "source": [
        "for i, name in enumerate(names):\n",
        "    try: name = name.split('_')[0]\n",
        "    except: pass\n",
        "    e_r2, e_mae, e_rmse = reg_evaluate(\n",
        "                 labels_[:, i][~masks_[:, i]].detach().numpy(),\n",
        "                 preds_[:, i][~masks_[:, i]].detach().numpy())\n",
        "\n",
        "    color = mcp.gen_color_normalized(cmap='viridis',\n",
        "                data_arr=labels_[:, i][~masks_[:, i]].detach().numpy())\n",
        "    plt.scatter(labels_[:, i][~masks_[:, i]].detach().numpy(),\n",
        "                preds_[:, i][~masks_[:, i]].detach().numpy(),\n",
        "                cmap='viridis', marker='.',\n",
        "                s=10, alpha=0.5, edgecolors='none', c=color)\n",
        "    plt.xlabel(f'True {name}')\n",
        "    plt.ylabel(f'Predicted {name}')\n",
        "    plt.title(f'{name} prediction on test set using NN FP')\n",
        "    # plt.text(-12, 1, e_r2)\n",
        "    # plt.text(-12, 0, e_mae)\n",
        "    # plt.text(-12, -1, e_rmse)\n",
        "    plt.show()\n",
        "    plt.close()"
      ],
      "metadata": {
        "colab": {
          "base_uri": "https://localhost:8080/",
          "height": 325
        },
        "id": "vE7yyAO8xRU_",
        "outputId": "ea6c0890-e401-4082-832b-70826da0b90f"
      },
      "execution_count": 21,
      "outputs": [
        {
          "output_type": "stream",
          "name": "stdout",
          "text": [
            "MAE: 1.7881881\n",
            "MSE: 4.768252\n",
            "RMSE: 2.1836326\n",
            "R-Squared: -18.201241905030965\n"
          ]
        },
        {
          "output_type": "error",
          "ename": "NameError",
          "evalue": "ignored",
          "traceback": [
            "\u001b[0;31m---------------------------------------------------------------------------\u001b[0m",
            "\u001b[0;31mNameError\u001b[0m                                 Traceback (most recent call last)",
            "\u001b[0;32m<ipython-input-21-56729e6ed997>\u001b[0m in \u001b[0;36m<cell line: 1>\u001b[0;34m()\u001b[0m\n\u001b[1;32m      6\u001b[0m                  preds_[:, i][~masks_[:, i]].detach().numpy())\n\u001b[1;32m      7\u001b[0m \u001b[0;34m\u001b[0m\u001b[0m\n\u001b[0;32m----> 8\u001b[0;31m     color = mcp.gen_color_normalized(cmap='viridis', \n\u001b[0m\u001b[1;32m      9\u001b[0m                 data_arr=labels_[:, i][~masks_[:, i]].detach().numpy())\n\u001b[1;32m     10\u001b[0m     plt.scatter(labels_[:, i][~masks_[:, i]].detach().numpy(), \n",
            "\u001b[0;31mNameError\u001b[0m: name 'mcp' is not defined"
          ]
        }
      ]
    },
    {
      "cell_type": "code",
      "source": [
        "if IS_R == False:\n",
        "    for i, name in enumerate(names):\n",
        "        print('*'*15, name, '*'*15)\n",
        "        probs = F.sigmoid(preds_[:, i][~masks_[:, i]])\n",
        "        label = labels_[:, i][~masks_[:, i]]\n",
        "        probs = probs.cpu().detach().numpy()\n",
        "        label = label.cpu().detach().numpy()\n",
        "        assert len(probs) == len(label)\n",
        "        preds = get_preds(0.5, probs)\n",
        "        evaluate(label, preds, probs)\n",
        "        print()"
      ],
      "metadata": {
        "colab": {
          "base_uri": "https://localhost:8080/"
        },
        "id": "2XU9Moe_xT9D",
        "outputId": "0a37de83-a859-4beb-8a9a-989411e5b4f8"
      },
      "execution_count": 22,
      "outputs": [
        {
          "output_type": "stream",
          "name": "stdout",
          "text": [
            "*************** CYP2C19_Veith ***************\n",
            "Accuracy, weighted accuracy, precision, recall/SE, SP,     F1,     AUC,     MCC,     AP\n",
            "& 0.809  &  0.810  &          0.773  &     0.825  &0.794  &0.798 &0.877 &   0.618 &   0.842\n",
            "\n",
            "*************** CYP2D6_Veith ***************\n",
            "Accuracy, weighted accuracy, precision, recall/SE, SP,     F1,     AUC,     MCC,     AP\n",
            "& 0.868  &  0.729  &          0.699  &     0.508  &0.950  &0.588 &0.848 &   0.521 &   0.655\n",
            "\n",
            "*************** CYP3A4_Veith ***************\n",
            "Accuracy, weighted accuracy, precision, recall/SE, SP,     F1,     AUC,     MCC,     AP\n",
            "& 0.768  &  0.756  &          0.732  &     0.689  &0.823  &0.710 &0.850 &   0.518 &   0.793\n",
            "\n",
            "*************** CYP1A2_Veith ***************\n",
            "Accuracy, weighted accuracy, precision, recall/SE, SP,     F1,     AUC,     MCC,     AP\n",
            "& 0.834  &  0.834  &          0.823  &     0.827  &0.840  &0.825 &0.911 &   0.668 &   0.901\n",
            "\n",
            "*************** CYP2C9_Veith ***************\n",
            "Accuracy, weighted accuracy, precision, recall/SE, SP,     F1,     AUC,     MCC,     AP\n",
            "& 0.811  &  0.785  &          0.730  &     0.703  &0.867  &0.716 &0.883 &   0.575 &   0.773\n",
            "\n"
          ]
        }
      ]
    },
    {
      "cell_type": "code",
      "source": [],
      "metadata": {
        "id": "RQkLhJmbIDgA"
      },
      "execution_count": null,
      "outputs": []
    }
  ]
}