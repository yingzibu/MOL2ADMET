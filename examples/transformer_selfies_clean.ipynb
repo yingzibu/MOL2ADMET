{
  "nbformat": 4,
  "nbformat_minor": 0,
  "metadata": {
    "colab": {
      "provenance": [],
      "machine_shape": "hm",
      "gpuType": "A100",
      "authorship_tag": "ABX9TyNu6TKD9HyqJWIMVoAsPBLv",
      "include_colab_link": true
    },
    "kernelspec": {
      "name": "python3",
      "display_name": "Python 3"
    },
    "language_info": {
      "name": "python"
    },
    "accelerator": "GPU"
  },
  "cells": [
    {
      "cell_type": "markdown",
      "metadata": {
        "id": "view-in-github",
        "colab_type": "text"
      },
      "source": [
        "<a href=\"https://colab.research.google.com/github/yingzibu/MOL2AE/blob/main/examples/transformer_selfies_clean.ipynb\" target=\"_parent\"><img src=\"https://colab.research.google.com/assets/colab-badge.svg\" alt=\"Open In Colab\"/></a>"
      ]
    },
    {
      "cell_type": "code",
      "execution_count": 1,
      "metadata": {
        "colab": {
          "base_uri": "https://localhost:8080/"
        },
        "id": "IBxv4KjUG-nh",
        "outputId": "13218fbc-cc20-44a2-fbf0-0361226581c2"
      },
      "outputs": [
        {
          "output_type": "stream",
          "name": "stdout",
          "text": [
            "\u001b[2K     \u001b[90m━━━━━━━━━━━━━━━━━━━━━━━━━━━━━━━━━━━━━━━━\u001b[0m \u001b[32m29.7/29.7 MB\u001b[0m \u001b[31m61.9 MB/s\u001b[0m eta \u001b[36m0:00:00\u001b[0m\n",
            "\u001b[2K     \u001b[90m━━━━━━━━━━━━━━━━━━━━━━━━━━━━━━━━━━━━━━━\u001b[0m \u001b[32m107.7/107.7 kB\u001b[0m \u001b[31m3.0 MB/s\u001b[0m eta \u001b[36m0:00:00\u001b[0m\n",
            "\u001b[?25h  Preparing metadata (setup.py) ... \u001b[?25l\u001b[?25hdone\n",
            "\u001b[2K     \u001b[90m━━━━━━━━━━━━━━━━━━━━━━━━━━━━━━━━━━━━━━━━\u001b[0m \u001b[32m29.4/29.4 MB\u001b[0m \u001b[31m59.7 MB/s\u001b[0m eta \u001b[36m0:00:00\u001b[0m\n",
            "\u001b[2K     \u001b[90m━━━━━━━━━━━━━━━━━━━━━━━━━━━━━━━━━━━━━━\u001b[0m \u001b[32m294.9/294.9 kB\u001b[0m \u001b[31m36.4 MB/s\u001b[0m eta \u001b[36m0:00:00\u001b[0m\n",
            "\u001b[?25h  Building wheel for PyTDC (setup.py) ... \u001b[?25l\u001b[?25hdone\n"
          ]
        }
      ],
      "source": [
        "! pip install rdkit --quiet\n",
        "! pip install selfies --quiet\n",
        "! pip install PyTDC --quiet\n",
        "! pip install selfies --quiet\n",
        "! git clone https://github.com/shiwentao00/Molecule-RNN.git --quiet"
      ]
    },
    {
      "cell_type": "code",
      "source": [
        "cd Molecule-RNN"
      ],
      "metadata": {
        "colab": {
          "base_uri": "https://localhost:8080/"
        },
        "id": "8S6whb_XHDyv",
        "outputId": "d5d4ee05-ff93-453c-ccd0-54717445e8cd"
      },
      "execution_count": 2,
      "outputs": [
        {
          "output_type": "stream",
          "name": "stdout",
          "text": [
            "/content/Molecule-RNN\n"
          ]
        }
      ]
    },
    {
      "cell_type": "code",
      "source": [
        "# from tqdm import tqdm\n",
        "\n",
        "import pandas as pd\n",
        "from os import walk\n",
        "import selfies as sf\n",
        "\n",
        "import torch\n",
        "import re\n",
        "import yaml\n",
        "from torch.utils.data import Dataset, DataLoader\n",
        "from torch.nn.utils.rnn import pad_sequence, pack_padded_sequence\n",
        "\n",
        "# import yaml\n",
        "import os\n",
        "# import torch\n",
        "import torch.nn as nn\n",
        "from torch.optim.lr_scheduler import ReduceLROnPlateau\n",
        "from rdkit import Chem\n",
        "# import selfies as sf\n",
        "from rdkit import rdBase\n",
        "from rdkit.Chem.Draw import IPythonConsole, MolsToGridImage\n",
        "\n",
        "rdBase.DisableLog('rdApp.error')"
      ],
      "metadata": {
        "id": "CkiQdRIhHQwf"
      },
      "execution_count": 3,
      "outputs": []
    },
    {
      "cell_type": "markdown",
      "source": [
        "# Encoder"
      ],
      "metadata": {
        "id": "SL4ZHpELHg2t"
      }
    },
    {
      "cell_type": "code",
      "source": [
        "import torch.nn as nn\n",
        "\n",
        "class MultiHeadAttentionLayer(nn.Module):\n",
        "    def __init__(self, hid_dim, n_heads, dropout, device):\n",
        "        super().__init__()\n",
        "\n",
        "        assert hid_dim % n_heads == 0\n",
        "\n",
        "        self.hid_dim = hid_dim\n",
        "        self.n_heads = n_heads\n",
        "        self.head_dim = hid_dim // n_heads\n",
        "\n",
        "        self.fc_q = nn.Linear(hid_dim, hid_dim)\n",
        "        self.fc_k = nn.Linear(hid_dim, hid_dim)\n",
        "        self.fc_v = nn.Linear(hid_dim, hid_dim)\n",
        "\n",
        "        self.fc_o = nn.Linear(hid_dim, hid_dim)\n",
        "\n",
        "        self.dropout = nn.Dropout(dropout)\n",
        "\n",
        "        self.scale = torch.sqrt(torch.FloatTensor([self.head_dim])).to(device)\n",
        "\n",
        "    def forward(self, query, key, value, mask = None):\n",
        "\n",
        "        batch_size = query.shape[0]\n",
        "\n",
        "        #query = [batch size, query len, hid dim]\n",
        "        #key = [batch size, key len, hid dim]\n",
        "        #value = [batch size, value len, hid dim]\n",
        "\n",
        "        Q = self.fc_q(query)\n",
        "        K = self.fc_k(key)\n",
        "        V = self.fc_v(value)\n",
        "\n",
        "        #Q = [batch size, query len, hid dim]\n",
        "        #K = [batch size, key len, hid dim]\n",
        "        #V = [batch size, value len, hid dim]\n",
        "\n",
        "        Q = Q.view(batch_size, -1, self.n_heads, self.head_dim).permute(0, 2, 1, 3)\n",
        "        K = K.view(batch_size, -1, self.n_heads, self.head_dim).permute(0, 2, 1, 3)\n",
        "        V = V.view(batch_size, -1, self.n_heads, self.head_dim).permute(0, 2, 1, 3)\n",
        "\n",
        "        #Q = [batch size, n heads, query len, head dim]\n",
        "        #K = [batch size, n heads, key len, head dim]\n",
        "        #V = [batch size, n heads, value len, head dim]\n",
        "\n",
        "        energy = torch.matmul(Q, K.permute(0, 1, 3, 2)) / self.scale\n",
        "\n",
        "        #energy = [batch size, n heads, query len, key len]\n",
        "\n",
        "        if mask is not None:\n",
        "            energy = energy.masked_fill(mask == 0, -1e10)\n",
        "\n",
        "        attention = torch.softmax(energy, dim = -1)\n",
        "\n",
        "        #attention = [batch size, n heads, query len, key len]\n",
        "\n",
        "        x = torch.matmul(self.dropout(attention), V)\n",
        "\n",
        "        #x = [batch size, n heads, query len, head dim]\n",
        "\n",
        "        x = x.permute(0, 2, 1, 3).contiguous()\n",
        "\n",
        "        #x = [batch size, query len, n heads, head dim]\n",
        "\n",
        "        x = x.view(batch_size, -1, self.hid_dim)\n",
        "\n",
        "        #x = [batch size, query len, hid dim]\n",
        "\n",
        "        x = self.fc_o(x)\n",
        "\n",
        "        #x = [batch size, query len, hid dim]\n",
        "\n",
        "        return x, attention\n",
        "\n",
        "class PositionwiseFeedforwardLayer(nn.Module):\n",
        "    def __init__(self, hid_dim, pf_dim, dropout):\n",
        "        super().__init__()\n",
        "\n",
        "        self.fc_1 = nn.Linear(hid_dim, pf_dim)\n",
        "        self.fc_2 = nn.Linear(pf_dim, hid_dim)\n",
        "\n",
        "        self.dropout = nn.Dropout(dropout)\n",
        "\n",
        "    def forward(self, x):\n",
        "\n",
        "        #x = [batch size, seq len, hid dim]\n",
        "\n",
        "        x = self.dropout(torch.relu(self.fc_1(x)))\n",
        "\n",
        "        #x = [batch size, seq len, pf dim]\n",
        "\n",
        "        x = self.fc_2(x)\n",
        "\n",
        "        #x = [batch size, seq len, hid dim]\n",
        "\n",
        "        return x\n",
        "\n",
        "class EncoderLayer(nn.Module):\n",
        "    def __init__(self,\n",
        "                 hid_dim,\n",
        "                 n_heads,\n",
        "                 pf_dim,\n",
        "                 dropout,\n",
        "                 device):\n",
        "        super().__init__()\n",
        "\n",
        "        self.self_attn_layer_norm = nn.LayerNorm(hid_dim)\n",
        "        self.ff_layer_norm = nn.LayerNorm(hid_dim)\n",
        "        self.self_attention = MultiHeadAttentionLayer(hid_dim, n_heads, dropout, device)\n",
        "        self.positionwise_feedforward = PositionwiseFeedforwardLayer(hid_dim,\n",
        "                                                                     pf_dim,\n",
        "                                                                     dropout)\n",
        "        self.dropout = nn.Dropout(dropout)\n",
        "\n",
        "    def forward(self, src, src_mask):\n",
        "\n",
        "        #src = [batch size, src len, hid dim]\n",
        "        #src_mask = [batch size, 1, 1, src len]\n",
        "\n",
        "        #self attention\n",
        "        _src, _ = self.self_attention(src, src, src, src_mask)\n",
        "\n",
        "        #dropout, residual connection and layer norm\n",
        "        src = self.self_attn_layer_norm(src + self.dropout(_src))\n",
        "\n",
        "        #src = [batch size, src len, hid dim]\n",
        "\n",
        "        #positionwise feedforward\n",
        "        _src = self.positionwise_feedforward(src)\n",
        "\n",
        "        #dropout, residual and layer norm\n",
        "        src = self.ff_layer_norm(src + self.dropout(_src))\n",
        "\n",
        "        #src = [batch size, src len, hid dim]\n",
        "\n",
        "        return src\n",
        "\n",
        "class Encoder(nn.Module):\n",
        "    def __init__(self,\n",
        "                 input_dim,\n",
        "                 hid_dim,\n",
        "                 n_layers,\n",
        "                 n_heads,\n",
        "                 pf_dim,\n",
        "                 dropout,\n",
        "                 device,\n",
        "                 max_length = 200):\n",
        "        super().__init__()\n",
        "\n",
        "        self.device = device\n",
        "\n",
        "        self.tok_embedding = nn.Embedding(input_dim, hid_dim)\n",
        "        self.pos_embedding = nn.Embedding(max_length, hid_dim)\n",
        "\n",
        "        self.layers = nn.ModuleList([EncoderLayer(hid_dim,\n",
        "                                                  n_heads,\n",
        "                                                  pf_dim,\n",
        "                                                  dropout,\n",
        "                                                  device)\n",
        "                                     for _ in range(n_layers)])\n",
        "\n",
        "        self.dropout = nn.Dropout(dropout)\n",
        "\n",
        "        self.scale = torch.sqrt(torch.FloatTensor([hid_dim])).to(device)\n",
        "\n",
        "    def forward(self, src, src_mask):\n",
        "\n",
        "        #src = [batch size, src len]\n",
        "        #src_mask = [batch size, 1, 1, src len]\n",
        "\n",
        "        batch_size = src.shape[0]\n",
        "        src_len = src.shape[1]\n",
        "\n",
        "        pos = torch.arange(0, src_len).unsqueeze(0).repeat(batch_size, 1).to(self.device)\n",
        "\n",
        "        #pos = [batch size, src len]\n",
        "\n",
        "        src = self.dropout((self.tok_embedding(src) * self.scale) + self.pos_embedding(pos))\n",
        "\n",
        "        #src = [batch size, src len, hid dim]\n",
        "\n",
        "        for layer in self.layers:\n",
        "            src = layer(src, src_mask)\n",
        "\n",
        "        #src = [batch size, src len, hid dim]\n",
        "        # print('src shape: ', src.shape) # different batch, different src len\n",
        "        return src\n",
        "\n"
      ],
      "metadata": {
        "id": "d_k1P3AOHgbF"
      },
      "execution_count": 24,
      "outputs": []
    },
    {
      "cell_type": "markdown",
      "source": [
        "# Decoder"
      ],
      "metadata": {
        "id": "0x-RXlUbHnva"
      }
    },
    {
      "cell_type": "code",
      "source": [
        "class DecoderLayer(nn.Module):\n",
        "    def __init__(self,\n",
        "                 hid_dim,\n",
        "                 n_heads,\n",
        "                 pf_dim,\n",
        "                 dropout,\n",
        "                 device):\n",
        "        super().__init__()\n",
        "\n",
        "        self.self_attn_layer_norm = nn.LayerNorm(hid_dim)\n",
        "        self.enc_attn_layer_norm = nn.LayerNorm(hid_dim)\n",
        "        self.ff_layer_norm = nn.LayerNorm(hid_dim)\n",
        "        self.self_attention = MultiHeadAttentionLayer(hid_dim, n_heads, dropout, device)\n",
        "        self.encoder_attention = MultiHeadAttentionLayer(hid_dim, n_heads, dropout, device)\n",
        "        self.positionwise_feedforward = PositionwiseFeedforwardLayer(hid_dim,\n",
        "                                                                     pf_dim,\n",
        "                                                                     dropout)\n",
        "        self.dropout = nn.Dropout(dropout)\n",
        "\n",
        "    def forward(self, trg, enc_src, trg_mask, src_mask):\n",
        "\n",
        "        #trg = [batch size, trg len, hid dim]\n",
        "        #enc_src = [batch size, src len, hid dim]\n",
        "        #trg_mask = [batch size, 1, trg len, trg len]\n",
        "        #src_mask = [batch size, 1, 1, src len]\n",
        "\n",
        "        #self attention\n",
        "        _trg, _ = self.self_attention(trg, trg, trg, trg_mask)\n",
        "\n",
        "        #dropout, residual connection and layer norm\n",
        "        trg = self.self_attn_layer_norm(trg + self.dropout(_trg))\n",
        "\n",
        "        #trg = [batch size, trg len, hid dim]\n",
        "\n",
        "        #encoder attention\n",
        "        _trg, attention = self.encoder_attention(trg, enc_src, enc_src, src_mask)\n",
        "\n",
        "        #dropout, residual connection and layer norm\n",
        "        trg = self.enc_attn_layer_norm(trg + self.dropout(_trg))\n",
        "\n",
        "        #trg = [batch size, trg len, hid dim]\n",
        "\n",
        "        #positionwise feedforward\n",
        "        _trg = self.positionwise_feedforward(trg)\n",
        "\n",
        "        #dropout, residual and layer norm\n",
        "        trg = self.ff_layer_norm(trg + self.dropout(_trg))\n",
        "\n",
        "        #trg = [batch size, trg len, hid dim]\n",
        "        #attention = [batch size, n heads, trg len, src len]\n",
        "\n",
        "        return trg, attention\n",
        "\n",
        "class Decoder(nn.Module):\n",
        "    def __init__(self,\n",
        "                 output_dim,\n",
        "                 hid_dim,\n",
        "                 n_layers,\n",
        "                 n_heads,\n",
        "                 pf_dim,\n",
        "                 dropout,\n",
        "                 device,\n",
        "                 max_length = 100):\n",
        "        super().__init__()\n",
        "\n",
        "        self.device = device\n",
        "\n",
        "        self.tok_embedding = nn.Embedding(output_dim, hid_dim)\n",
        "        self.pos_embedding = nn.Embedding(max_length, hid_dim)\n",
        "\n",
        "        self.layers = nn.ModuleList([DecoderLayer(hid_dim,\n",
        "                                                  n_heads,\n",
        "                                                  pf_dim,\n",
        "                                                  dropout,\n",
        "                                                  device)\n",
        "                                     for _ in range(n_layers)])\n",
        "\n",
        "        self.fc_out = nn.Linear(hid_dim, output_dim)\n",
        "\n",
        "        self.dropout = nn.Dropout(dropout)\n",
        "\n",
        "        self.scale = torch.sqrt(torch.FloatTensor([hid_dim])).to(device)\n",
        "\n",
        "    def forward(self, trg, enc_src, trg_mask, src_mask):\n",
        "\n",
        "        #trg = [batch size, trg len]\n",
        "        #enc_src = [batch size, src len, hid dim]\n",
        "        #trg_mask = [batch size, 1, trg len, trg len]\n",
        "        #src_mask = [batch size, 1, 1, src len]\n",
        "\n",
        "        batch_size = trg.shape[0]\n",
        "        trg_len = trg.shape[1]\n",
        "\n",
        "        pos = torch.arange(0, trg_len).unsqueeze(0).repeat(batch_size, 1).to(self.device)\n",
        "\n",
        "        #pos = [batch size, trg len]\n",
        "\n",
        "        trg = self.dropout((self.tok_embedding(trg) * self.scale) + self.pos_embedding(pos))\n",
        "\n",
        "        #trg = [batch size, trg len, hid dim]\n",
        "\n",
        "        for layer in self.layers:\n",
        "            trg, attention = layer(trg, enc_src, trg_mask, src_mask)\n",
        "\n",
        "        #trg = [batch size, trg len, hid dim]\n",
        "        #attention = [batch size, n heads, trg len, src len]\n",
        "\n",
        "        output = self.fc_out(trg)\n",
        "\n",
        "        #output = [batch size, trg len, output dim]\n",
        "\n",
        "        return output, attention\n",
        ""
      ],
      "metadata": {
        "id": "gimSMDblHlDJ"
      },
      "execution_count": 5,
      "outputs": []
    },
    {
      "cell_type": "markdown",
      "source": [
        "AE: Seq2Seq:\n",
        "\n",
        "input: selfies or smiles in onehot embedding\n",
        "\n",
        "output: selfies or smiles in onehot embedding\n",
        "\n",
        "Input should be as similar as output as possible"
      ],
      "metadata": {
        "id": "SLkfUS0iHzoc"
      }
    },
    {
      "cell_type": "code",
      "source": [
        "class Seq2Seq(nn.Module):\n",
        "    def __init__(self,\n",
        "                 encoder,\n",
        "                 decoder,\n",
        "                 src_pad_idx,\n",
        "                 trg_pad_idx,\n",
        "                 device):\n",
        "        super().__init__()\n",
        "\n",
        "        self.encoder = encoder\n",
        "        self.decoder = decoder\n",
        "        self.src_pad_idx = src_pad_idx\n",
        "        self.trg_pad_idx = trg_pad_idx\n",
        "        self.device = device\n",
        "\n",
        "    def make_src_mask(self, src):\n",
        "\n",
        "        #src = [batch size, src len]\n",
        "\n",
        "        src_mask = (src != self.src_pad_idx).unsqueeze(1).unsqueeze(2)\n",
        "\n",
        "        #src_mask = [batch size, 1, 1, src len]\n",
        "\n",
        "        return src_mask\n",
        "\n",
        "    def make_trg_mask(self, trg):\n",
        "\n",
        "        #trg = [batch size, trg len]\n",
        "\n",
        "        trg_pad_mask = (trg != self.trg_pad_idx).unsqueeze(1).unsqueeze(2)\n",
        "\n",
        "        #trg_pad_mask = [batch size, 1, 1, trg len]\n",
        "\n",
        "        trg_len = trg.shape[1]\n",
        "\n",
        "        trg_sub_mask = torch.tril(torch.ones((trg_len, trg_len), device = self.device)).bool()\n",
        "\n",
        "        #trg_sub_mask = [trg len, trg len]\n",
        "\n",
        "        trg_mask = trg_pad_mask & trg_sub_mask\n",
        "\n",
        "        #trg_mask = [batch size, 1, trg len, trg len]\n",
        "\n",
        "        return trg_mask\n",
        "\n",
        "    def forward(self, src, trg):\n",
        "\n",
        "        #src = [batch size, src len]\n",
        "        #trg = [batch size, trg len]\n",
        "\n",
        "        src_mask = self.make_src_mask(src)\n",
        "        trg_mask = self.make_trg_mask(trg)\n",
        "\n",
        "        #src_mask = [batch size, 1, 1, src len]\n",
        "        #trg_mask = [batch size, 1, trg len, trg len]\n",
        "\n",
        "        enc_src = self.encoder(src, src_mask)\n",
        "\n",
        "        #enc_src = [batch size, src len, hid dim]\n",
        "\n",
        "        output, attention = self.decoder(trg, enc_src, trg_mask, src_mask)\n",
        "\n",
        "        #output = [batch size, trg len, output dim]\n",
        "        #attention = [batch size, n heads, trg len, src len]\n",
        "\n",
        "        return output, attention\n",
        ""
      ],
      "metadata": {
        "id": "aMdBfGiGH-nF"
      },
      "execution_count": 6,
      "outputs": []
    },
    {
      "cell_type": "markdown",
      "source": [
        "Convert strings into seperate tokens, and encode them into scalars using dictionary"
      ],
      "metadata": {
        "id": "vSDAe8L5Ixfo"
      }
    },
    {
      "cell_type": "code",
      "source": [
        "class SELFIEVocab:\n",
        "    def __init__(self, vocab_path):\n",
        "        self.name ='selfies'\n",
        "        with open(vocab_path, 'r') as f: self.vocab = yaml.full_load(f)\n",
        "        self.int2token = {value:key for key, value in self.vocab.items()}\n",
        "\n",
        "    def tokenize_smiles(self, mol): #mol is selfie actually\n",
        "        ints = [self.vocab['<sos>']]\n",
        "        selfies_list = list(sf.split_selfies(mol))\n",
        "        ########################################################################\n",
        "        # add <unk>\n",
        "        for token in selfies_list:\n",
        "            if token in self.vocab.keys(): ints.append(self.vocab[token])\n",
        "            else:\n",
        "                try:\n",
        "                    assert '<unk>' in self.vocab.keys()\n",
        "                    ints.append(self.vocab['<unk>'])\n",
        "                except:\n",
        "                    raise ValueError('unknown tokens: ', token)\n",
        "        # ints += [self.vocab[token] for token in selfies_list]\n",
        "        ########################################################################\n",
        "        ints.append(self.vocab['<eos>'])\n",
        "        return ints\n",
        "    def combine_list(self, selfies): return \"\".join(selfies)\n",
        ""
      ],
      "metadata": {
        "id": "iMepV-b8IC58"
      },
      "execution_count": 7,
      "outputs": []
    },
    {
      "cell_type": "code",
      "source": [
        "import pandas as pd\n",
        "import random\n",
        "from tqdm import tqdm\n",
        "class SMILESDataset(Dataset):\n",
        "    def __init__(self, smiles_file, percentage, vocab):\n",
        "        super(SMILESDataset, self).__init__()\n",
        "        assert (0<percentage<=1)\n",
        "        self.percentage = percentage\n",
        "        self.vocab = vocab\n",
        "        if smiles_file.split('.')[-1] == 'smi':\n",
        "            self.data = self.read_smiles_file(smiles_file)\n",
        "        elif smiles_file.split('.')[-1] == 'csv':\n",
        "            self.data = self.read_csv_file(smiles_file)\n",
        "        print('total number of SMILES loaded: ', len(self.data))\n",
        "\n",
        "        if self.vocab.name == 'selfies':\n",
        "            self.data = self.smi2sf()\n",
        "            print('total valid SELFIES:', len(self.data))\n",
        "\n",
        "    def __getitem__(self, index):\n",
        "        s_mol = self.data[index]\n",
        "        vec_mol = self.vocab.tokenize_smiles(s_mol)\n",
        "        return vec_mol\n",
        "\n",
        "    def __len__(self): return len(self.data)\n",
        "\n",
        "    def smi2sf(self):\n",
        "        smiles = self.data\n",
        "        sfs = []\n",
        "        for i in tqdm(smiles, total=len(smiles), desc='SMILES to SELFIES'):\n",
        "            try:\n",
        "                s_ = sf.encoder(i)\n",
        "                if s_ is not None: sfs.append(s_)\n",
        "            except: pass\n",
        "        return sfs\n",
        "\n",
        "    def read_smiles_file(self, path):\n",
        "        with open(path, 'r') as f:\n",
        "            smiles = [line.strip(\"\\n\") for line in f.readlines()]\n",
        "\n",
        "        select_num = int(len(smiles)*self.percentage)\n",
        "        return random.choices(smiles, k=select_num)\n",
        "\n",
        "    def read_csv_file(self, path):\n",
        "        data = pd.read_csv(path)\n",
        "        for i in ['Smiles', 'smiles', 'SMILES']:\n",
        "            if i in data.columns:\n",
        "                smiles = data[i].tolist()\n",
        "                select_num = int(len(smiles)*self.percentage)\n",
        "                return random.choices(smiles, k=select_num)\n"
      ],
      "metadata": {
        "id": "FpUJYGipI9Zu"
      },
      "execution_count": 8,
      "outputs": []
    },
    {
      "cell_type": "code",
      "source": [
        "def dataloader_gen_transformer(percentage, batch_size, PADDING_IDX, shuffle,\n",
        "                               vocab_path, dataset_dir, which_vocab='selfies',\n",
        "                               drop_last=True):\n",
        "    print('which_vocab:', which_vocab)\n",
        "    if which_vocab == 'selfies':\n",
        "        vocab = SELFIEVocab(vocab_path)\n",
        "        dataset = SMILESDataset(dataset_dir, percentage, vocab)\n",
        "    else:\n",
        "        raise ValueError('have not try smiles vocab')\n",
        "\n",
        "    def collate_fn(batch):\n",
        "\n",
        "        batch = [torch.tensor(x, dtype=torch.long) for x in batch]\n",
        "        lengths = [len(x) for x in batch]\n",
        "        x_padded = pad_sequence(batch, batch_first=True,\n",
        "                                padding_value=PADDING_IDX)\n",
        "        return x_padded, torch.LongTensor(lengths)\n",
        "\n",
        "    dataloader = DataLoader(dataset=dataset, batch_size=batch_size,\n",
        "                            shuffle=shuffle, drop_last=drop_last,\n",
        "                            collate_fn=collate_fn)\n",
        "    return dataloader, len(dataset)"
      ],
      "metadata": {
        "id": "sLyQMVdTJDIN"
      },
      "execution_count": 25,
      "outputs": []
    },
    {
      "cell_type": "code",
      "source": [
        "smile_dir = '/content/Molecule-RNN/dataset/chembl28-cleaned.smi'\n",
        "alphabet_path = '/content/Molecule-RNN/vocab/selfies_merged_vocab.yaml'\n",
        "\n",
        "\n",
        "rnn_config = {\n",
        "    'data_dir': smile_dir,\n",
        "    'vocab_dir': alphabet_path,\n",
        "    'which_vocab': 'selfies',\n",
        "    'percentage': 0.1,\n",
        "\n",
        "    'num_embeddings': 78,\n",
        "    'embedding_dim': 256,\n",
        "    'rnn_type': \"GRU\",\n",
        "\n",
        "    \"input_size\": 256,\n",
        "    'hidden_size': 512,\n",
        "    'latent_size': 76,\n",
        "    'num_layers': 3,\n",
        "    'dropout': 0,\n",
        "\n",
        "    'token_weights':None,\n",
        "    'max_token_len': 50,\n",
        "    'num_dilated_layers':7,\n",
        "    'num_channels': 128,\n",
        "\n",
        "\n",
        "    'beta': 0.001,\n",
        "    'gamma':0.1,\n",
        "\n",
        "\n",
        "    \"batch_size\": 512,\n",
        "    'shuffle': True,\n",
        "    'num_epoch': 10,\n",
        "    'which_optimizer': 'adam',\n",
        "    'learning_rate': 0.001,\n",
        "    'weight_decay': 1.0e-4\n",
        "}\n",
        "vocab = SELFIEVocab(rnn_config['vocab_dir'])\n",
        "\n",
        "percentage = rnn_config['percentage']\n",
        "PADDING_IDX = vocab.vocab['<pad>']\n",
        "num_workers = os.cpu_count()\n",
        "batch_size = rnn_config['batch_size']\n",
        "shuffle = rnn_config['shuffle']\n",
        "# vocab.vocab['<pad>'], vocab.vocab['<sos>'], len(vocab.vocab)\n",
        "which_vocab = rnn_config['which_vocab']\n",
        "\n",
        "print('number of workers to load data:', num_workers)\n",
        "print('which vocab to use: ', which_vocab)\n",
        "\n",
        "try:\n",
        "    assert(rnn_config['num_embeddings'] == len(vocab.vocab))\n",
        "except:\n",
        "    raise ValueError('difference in len alphabet, change rnn_config')"
      ],
      "metadata": {
        "colab": {
          "base_uri": "https://localhost:8080/"
        },
        "id": "gJpGgrxiJP_3",
        "outputId": "a50692d5-679e-4c91-c7d0-46e06a5a2c4c"
      },
      "execution_count": 12,
      "outputs": [
        {
          "output_type": "stream",
          "name": "stdout",
          "text": [
            "number of workers to load data: 12\n",
            "which vocab to use:  selfies\n"
          ]
        }
      ]
    },
    {
      "cell_type": "code",
      "source": [
        "dataloader, train_size = dataloader_gen_transformer(\n",
        "                            percentage=0.5, batch_size=batch_size,\n",
        "                            PADDING_IDX=PADDING_IDX, shuffle=shuffle,\n",
        "                            vocab_path=rnn_config['vocab_dir'],\n",
        "                            dataset_dir=rnn_config['data_dir'])\n",
        "val_dataloader, val_train_size = dataloader_gen_transformer(\n",
        "                            percentage=percentage, batch_size=batch_size,\n",
        "                            PADDING_IDX=PADDING_IDX, shuffle=shuffle,\n",
        "                            vocab_path=rnn_config['vocab_dir'],\n",
        "                            dataset_dir=rnn_config['data_dir'])"
      ],
      "metadata": {
        "colab": {
          "base_uri": "https://localhost:8080/"
        },
        "id": "y3KOtpLwJlNh",
        "outputId": "3e1baa34-8fdf-4c67-ece7-eaca506dd083"
      },
      "execution_count": 13,
      "outputs": [
        {
          "output_type": "stream",
          "name": "stdout",
          "text": [
            "which_vocab: selfies\n",
            "total number of SMILES loaded:  269123\n"
          ]
        },
        {
          "output_type": "stream",
          "name": "stderr",
          "text": [
            "SMILES to SELFIES: 100%|██████████| 269123/269123 [02:38<00:00, 1695.04it/s]\n"
          ]
        },
        {
          "output_type": "stream",
          "name": "stdout",
          "text": [
            "total valid SELFIES: 269123\n",
            "which_vocab: selfies\n",
            "total number of SMILES loaded:  53824\n"
          ]
        },
        {
          "output_type": "stream",
          "name": "stderr",
          "text": [
            "SMILES to SELFIES: 100%|██████████| 53824/53824 [00:31<00:00, 1692.24it/s]"
          ]
        },
        {
          "output_type": "stream",
          "name": "stdout",
          "text": [
            "total valid SELFIES: 53824\n"
          ]
        },
        {
          "output_type": "stream",
          "name": "stderr",
          "text": [
            "\n"
          ]
        }
      ]
    },
    {
      "cell_type": "code",
      "source": [
        "import torch, gc\n",
        "gc.collect()\n",
        "torch.cuda.empty_cache()"
      ],
      "metadata": {
        "id": "jyrYSAbrk1_L"
      },
      "execution_count": 15,
      "outputs": []
    },
    {
      "cell_type": "code",
      "source": [
        "INPUT_DIM = len(vocab.vocab)\n",
        "OUTPUT_DIM = INPUT_DIM\n",
        "\n",
        "if torch.cuda.is_available(): device = 'cuda'\n",
        "else: device = 'cpu'\n",
        "\n",
        "MAX_LENGTH_MODEL = 200\n",
        "HID_DIM = 256\n",
        "ENC_LAYERS = 3\n",
        "DEC_LAYERS = 3\n",
        "ENC_HEADS = 8\n",
        "DEC_HEADS = 8\n",
        "ENC_PF_DIM = 512\n",
        "DEC_PF_DIM = 512\n",
        "ENC_DROPOUT = 0.1\n",
        "DEC_DROPOUT = 0.1\n",
        "\n",
        "enc = Encoder(INPUT_DIM,\n",
        "              HID_DIM,\n",
        "              ENC_LAYERS,\n",
        "              ENC_HEADS,\n",
        "              ENC_PF_DIM,\n",
        "              ENC_DROPOUT,\n",
        "              device,\n",
        "              max_length=MAX_LENGTH_MODEL)\n",
        "\n",
        "dec = Decoder(OUTPUT_DIM,\n",
        "              HID_DIM,\n",
        "              DEC_LAYERS,\n",
        "              DEC_HEADS,\n",
        "              DEC_PF_DIM,\n",
        "              DEC_DROPOUT,\n",
        "              device,\n",
        "              max_length=MAX_LENGTH_MODEL)\n",
        "SRC_PAD_IDX = PADDING_IDX\n",
        "TRG_PAD_IDX = PADDING_IDX\n",
        "\n",
        "model = Seq2Seq(enc, dec, SRC_PAD_IDX, TRG_PAD_IDX, device).to(device)\n",
        "def count_parameters(model):\n",
        "    return sum(p.numel() for p in model.parameters() if p.requires_grad)\n",
        "\n",
        "print(f'The model has {count_parameters(model):,} trainable parameters')\n",
        "\n",
        "def initialize_weights(m):\n",
        "    if hasattr(m, 'weight') and m.weight.dim() > 1:\n",
        "        nn.init.xavier_uniform_(m.weight.data)\n",
        "\n",
        "model.apply(initialize_weights)\n",
        "LEARNING_RATE = 0.0005\n",
        "\n",
        "optimizer = torch.optim.Adam(model.parameters(), lr = LEARNING_RATE)\n",
        "criterion = nn.CrossEntropyLoss(ignore_index = TRG_PAD_IDX)\n",
        "\n",
        "def epoch_time(start_time, end_time):\n",
        "    elapsed_time = end_time - start_time\n",
        "    elapsed_mins = int(elapsed_time / 60)\n",
        "    elapsed_secs = int(elapsed_time - (elapsed_mins * 60))\n",
        "    return elapsed_mins, elapsed_secs\n",
        "\n",
        "def train(model, iterator, optimizer, criterion, clip):\n",
        "\n",
        "    model.train()\n",
        "\n",
        "    epoch_loss = 0\n",
        "\n",
        "    for i, batch in tqdm(enumerate(iterator), total=len(iterator)):\n",
        "\n",
        "        src, src_len = batch\n",
        "\n",
        "        src, src_len = src.to(device), src_len.to(device)\n",
        "\n",
        "        optimizer.zero_grad()\n",
        "\n",
        "        output, _ = model(src, src[:,:-1])\n",
        "\n",
        "        #output = [batch size, trg len - 1, output dim]\n",
        "        #trg = [batch size, trg len]\n",
        "\n",
        "        output_dim = output.shape[-1]\n",
        "\n",
        "        output = output.contiguous().view(-1, output_dim)\n",
        "        src = src[:,1:].contiguous().view(-1)\n",
        "\n",
        "        #output = [batch size * trg len - 1, output dim]\n",
        "        #trg = [batch size * trg len - 1]\n",
        "\n",
        "        loss = criterion(output, src)\n",
        "\n",
        "        loss.backward()\n",
        "\n",
        "        torch.nn.utils.clip_grad_norm_(model.parameters(), clip)\n",
        "\n",
        "        optimizer.step()\n",
        "\n",
        "        epoch_loss += loss.item()\n",
        "\n",
        "    return epoch_loss / len(iterator)\n",
        "\n",
        "def evaluate(model, iterator, criterion):\n",
        "\n",
        "    model.eval()\n",
        "\n",
        "    epoch_loss = 0\n",
        "\n",
        "    with torch.no_grad():\n",
        "\n",
        "        for i, batch in enumerate(iterator):\n",
        "\n",
        "            src, src_len = batch\n",
        "\n",
        "            src, src_len = src.to(device), src_len.to(device)\n",
        "\n",
        "            output, _ = model(src, src[:,:-1])\n",
        "\n",
        "            #output = [batch size, trg len - 1, output dim]\n",
        "            #trg = [batch size, trg len]\n",
        "\n",
        "            output_dim = output.shape[-1]\n",
        "\n",
        "            output = output.contiguous().view(-1, output_dim)\n",
        "            src = src[:,1:].contiguous().view(-1)\n",
        "\n",
        "            #output = [batch size * trg len - 1, output dim]\n",
        "            #trg = [batch size * trg len - 1]\n",
        "\n",
        "            loss = criterion(output, src)\n",
        "\n",
        "            epoch_loss += loss.item()\n",
        "\n",
        "    return epoch_loss / len(iterator)\n"
      ],
      "metadata": {
        "colab": {
          "base_uri": "https://localhost:8080/"
        },
        "id": "sUx0cq6vJowK",
        "outputId": "5240b4a5-a22b-4259-f993-3eab67892014"
      },
      "execution_count": 26,
      "outputs": [
        {
          "output_type": "stream",
          "name": "stdout",
          "text": [
            "The model has 4,116,046 trainable parameters\n"
          ]
        }
      ]
    },
    {
      "cell_type": "code",
      "source": [
        "# model.load_state_dict(torch.load('/content/Molecule-RNN/tut6-model.pt',\n",
        "#                                  map_location=device))"
      ],
      "metadata": {
        "colab": {
          "base_uri": "https://localhost:8080/"
        },
        "id": "i5pcpaK8lTC5",
        "outputId": "0d2e8d12-3a0c-4f8a-cecf-f9a991667c79"
      },
      "execution_count": 27,
      "outputs": [
        {
          "output_type": "execute_result",
          "data": {
            "text/plain": [
              "<All keys matched successfully>"
            ]
          },
          "metadata": {},
          "execution_count": 27
        }
      ]
    },
    {
      "cell_type": "code",
      "source": [
        "def translate(input_selfie, vocab,  model,\n",
        "              device, max_len=50):\n",
        "    model.eval()\n",
        "    if isinstance(input_selfie, str):\n",
        "        tokens = vocab.tokenize_smiles(input_selfie) # list\n",
        "        sel_tensor = torch.LongTensor(tokens).unsqueeze(0).to(device)\n",
        "    else: sel_tensor = input_selfie\n",
        "\n",
        "    # tokens = [init_token] + tokens + [eos_token]\n",
        "\n",
        "    src_mask = model.make_src_mask(sel_tensor)\n",
        "    with torch.no_grad(): enc_src = model.encoder(sel_tensor, src_mask)\n",
        "    init_token_ind = vocab.vocab['<sos>']\n",
        "    trg_indexes = [init_token_ind]\n",
        "    for i in range(max_len):\n",
        "        trg_tensor = torch.LongTensor(trg_indexes).unsqueeze(0).to(device)\n",
        "        trg_mask = model.make_trg_mask(trg_tensor)\n",
        "        with torch.no_grad():\n",
        "            output, attention = model.decoder(trg_tensor, enc_src,\n",
        "                                              trg_mask, src_mask)\n",
        "        pred_token = output.argmax(2)[:,-1].item()\n",
        "        trg_indexes.append(pred_token)\n",
        "        if pred_token == vocab.vocab['<eos>']:\n",
        "            trg_indexes.pop(-1)\n",
        "            break\n",
        "    trg_tokens = [vocab.int2token[x] for x in trg_indexes]\n",
        "    return trg_tokens[1:], attention\n",
        "\n"
      ],
      "metadata": {
        "id": "ZZrMTx0oJ7Eu"
      },
      "execution_count": 28,
      "outputs": []
    },
    {
      "cell_type": "markdown",
      "source": [
        "SELFIES and SMILES are all strings, just different representation"
      ],
      "metadata": {
        "id": "XQVPDQIBLToA"
      }
    },
    {
      "cell_type": "code",
      "source": [
        "from IPython.display import display\n",
        "from rdkit import Chem\n",
        "m = Chem.MolFromSmiles\n",
        "\n",
        "# converting smiles to selfies\n",
        "fed = 'Cc1cnc(nc1Nc1cccc(c1)S(=O)(=O)NC(C)(C)C)Nc1ccc(cc1)OCCN1CCCC1'\n",
        "bar = 'CCS(=O)(=O)N1CC(C1)(CC#N)N2C=C(C=N2)C3=C4C=CNC4=NC=N3'\n",
        "tof = 'CC1CCN(CC1N(C)C2=NC=NC3=C2C=CN3)C(=O)CC#N'\n",
        "src = sf.encoder(fed)\n",
        "print('SMILES')\n",
        "print(fed)\n",
        "display(m(fed))\n",
        "print(bar)\n",
        "display(m(bar))\n",
        "display(m(tof))\n",
        "print('SELFIES')\n",
        "print(src)\n",
        "display(m(sf.decoder(src)))\n",
        "src = sf.encoder(bar)\n",
        "display(m(sf.decoder(src)))\n",
        "\n",
        "print('initial prediction, model no training')\n",
        "trg, att = translate(src, vocab, model, device, max_len=150)\n",
        "\n",
        "display(m(sf.decoder(\"\".join(trg))))"
      ],
      "metadata": {
        "colab": {
          "base_uri": "https://localhost:8080/",
          "height": 1000
        },
        "id": "EC9XzLTFKAnd",
        "outputId": "8bf0d403-69da-4efd-f3d3-73fc26067362"
      },
      "execution_count": 33,
      "outputs": [
        {
          "output_type": "stream",
          "name": "stdout",
          "text": [
            "SMILES\n",
            "Cc1cnc(nc1Nc1cccc(c1)S(=O)(=O)NC(C)(C)C)Nc1ccc(cc1)OCCN1CCCC1\n"
          ]
        },
        {
          "output_type": "display_data",
          "data": {
            "text/plain": [
              "<rdkit.Chem.rdchem.Mol at 0x7f041139a030>"
            ],
            "image/png": "[encoded data removed]"
          },
          "metadata": {}
        },
        {
          "output_type": "stream",
          "name": "stdout",
          "text": [
            "CCS(=O)(=O)N1CC(C1)(CC#N)N2C=C(C=N2)C3=C4C=CNC4=NC=N3\n"
          ]
        },
        {
          "output_type": "display_data",
          "data": {
            "text/plain": [
              "<rdkit.Chem.rdchem.Mol at 0x7f041139a030>"
            ],
            "image/png": "[encoded data removed]"
          },
          "metadata": {}
        },
        {
          "output_type": "display_data",
          "data": {
            "text/plain": [
              "<rdkit.Chem.rdchem.Mol at 0x7f041139a030>"
            ],
            "image/png": "[encoded data removed]"
          },
          "metadata": {}
        },
        {
          "output_type": "stream",
          "name": "stdout",
          "text": [
            "SELFIES\n",
            "[C][C][=C][N][=C][Branch2][Ring1][S][N][=C][Ring1][=Branch1][N][C][=C][C][=C][C][=Branch1][Ring2][=C][Ring1][=Branch1][S][=Branch1][C][=O][=Branch1][C][=O][N][C][Branch1][C][C][Branch1][C][C][C][N][C][=C][C][=C][Branch1][Branch1][C][=C][Ring1][=Branch1][O][C][C][N][C][C][C][C][Ring1][Branch1]\n"
          ]
        },
        {
          "output_type": "display_data",
          "data": {
            "text/plain": [
              "<rdkit.Chem.rdchem.Mol at 0x7f041139a030>"
            ],
            "image/png": "[encoded data removed]"
          },
          "metadata": {}
        },
        {
          "output_type": "display_data",
          "data": {
            "text/plain": [
              "<rdkit.Chem.rdchem.Mol at 0x7f041139a2d0>"
            ],
            "image/png": "[encoded data removed]"
          },
          "metadata": {}
        },
        {
          "output_type": "stream",
          "name": "stdout",
          "text": [
            "initial prediction, model no training\n"
          ]
        },
        {
          "output_type": "display_data",
          "data": {
            "text/plain": [
              "<rdkit.Chem.rdchem.Mol at 0x7f0411399ee0>"
            ],
            "image/png": "[encoded data removed]"
          },
          "metadata": {}
        }
      ]
    },
    {
      "cell_type": "code",
      "source": [
        "import numpy as np\n",
        "import matplotlib.pyplot as plt\n",
        "from IPython.display import display\n",
        "def calc_reconstruction_accuracies(input_smiles, output_smiles,\n",
        "                                   is_smiles=False, draw_fig=True,\n",
        "                                   max_len=126):\n",
        "    \"\"\"Calculates SMILEs, token and positional accuracies for a set of\\\n",
        "    input and reconstructed SMILES strings\n",
        "    input_smiles: list of string\n",
        "    output_smiles: list of string\n",
        "    is_smiles:\n",
        "        True: input and output are both in SMILES form\n",
        "        False: input and output are both in SELFIES form\n",
        "    \"\"\"\n",
        "    smile_acc = 0\n",
        "    hits = 0\n",
        "    misses = 0\n",
        "    position_accs = np.zeros((2, max_len))\n",
        "\n",
        "    for in_smi, out_smi in zip(input_smiles, output_smiles):\n",
        "        if is_smiles==False: # in_smi, out_smi are selfies\n",
        "            # print(in_smi)\n",
        "            in_smi = list(sf.split_selfies(in_smi))\n",
        "            out_smi = list(sf.split_selfies(out_smi))\n",
        "\n",
        "        if in_smi == out_smi:\n",
        "            smile_acc += 1\n",
        "            hits += len(in_smi)\n",
        "            for j in range(len(in_smi)):\n",
        "                position_accs[0, j] += 1\n",
        "                position_accs[1, j] += 1\n",
        "\n",
        "        else: #  in_smi is not the same as out smi\n",
        "            misses += abs(len(in_smi) - len(out_smi))\n",
        "            for j, (token_in, token_out) in enumerate(zip(in_smi, out_smi)):\n",
        "                if token_in == token_out: hits += 1; position_accs[0, j] += 1\n",
        "                else: misses += 1\n",
        "                position_accs[1, j] += 1\n",
        "\n",
        "    smile_acc /= len(input_smiles)\n",
        "    token_acc = hits / (hits + misses)\n",
        "    position_acc = []\n",
        "    for i in range(max_len):\n",
        "        if position_accs[1,i] != 0:\n",
        "            position_acc.append(position_accs[0,i] / position_accs[1,i])\n",
        "        else: break\n",
        "\n",
        "    if draw_fig:\n",
        "        plt.plot(position_acc)\n",
        "        plt.xlabel('Sequence Position')\n",
        "        plt.ylabel('Accuracy')\n",
        "        plt.ylim(0,1.2)\n",
        "        plt.title(f'sf acc: {smile_acc:.3f}, tok acc: {token_acc:.3f}')\n",
        "        plt.show()\n",
        "        plt.close()\n",
        "    return smile_acc, token_acc, position_acc\n",
        "\n",
        "\n",
        "def evaluate_acc(smile_list, draw_fig=True, display_mol=True):\n",
        "    inp_selfies = []\n",
        "    out_selfies = []\n",
        "    for smi in tqdm(smile_list, total=len(smile_list), desc='eval acc'):\n",
        "        selfi = sf.encoder(smi)\n",
        "        inp_selfies.append(selfi)\n",
        "        out, _ = translate(selfi, vocab, model, device, max_len=150)\n",
        "        out_selfies.append(\"\".join(out))\n",
        "        if display_mol:\n",
        "            try: display(m(sf.decoder(\"\".join(out))))\n",
        "            except: print('cannot display mol')\n",
        "\n",
        "    sf_acc, tok_acc, pos_acc = calc_reconstruction_accuracies(\n",
        "                                            inp_selfies, out_selfies,\n",
        "                                            is_smiles=False, draw_fig=draw_fig)\n",
        "    print(f'selfie accuracy: {sf_acc:.3f}, token accuracy: {tok_acc:.3f}')\n",
        "rux = 'C1CCC(C1)C(CC#N)N2C=C(C=N2)C3=C4C=CNC4=NC=N3'\n",
        "# smile_list = [fed, bar, tof, rux]\n",
        "# smile_list = [fed, bar]\n",
        "\n",
        "with open(smile_dir, 'r') as f:\n",
        "    smiles = [line.strip(\"\\n\") for line in f.readlines()]\n",
        "\n",
        "smile_list = random.choices(smiles, k=10)\n",
        "evaluate_acc(smile_list, draw_fig=True, display_mol=False)\n",
        "evaluate_acc([bar, fed], draw_fig=False, display_mol=True)"
      ],
      "metadata": {
        "colab": {
          "base_uri": "https://localhost:8080/",
          "height": 899
        },
        "id": "oP0SkNyQQP0d",
        "outputId": "2875bb64-2271-4da6-a3a6-2e16dd1776d9"
      },
      "execution_count": 46,
      "outputs": [
        {
          "output_type": "stream",
          "name": "stderr",
          "text": [
            "eval acc: 100%|██████████| 10/10 [00:02<00:00,  3.57it/s]\n"
          ]
        },
        {
          "output_type": "display_data",
          "data": {
            "text/plain": [
              "<Figure size 640x480 with 1 Axes>"
            ],
            "image/png": "[encoded data removed]"
          },
          "metadata": {}
        },
        {
          "output_type": "stream",
          "name": "stdout",
          "text": [
            "selfie accuracy: 1.000, token accuracy: 1.000\n"
          ]
        },
        {
          "output_type": "stream",
          "name": "stderr",
          "text": [
            "\reval acc:   0%|          | 0/2 [00:00<?, ?it/s]"
          ]
        },
        {
          "output_type": "display_data",
          "data": {
            "text/plain": [
              "<rdkit.Chem.rdchem.Mol at 0x7f0388d30580>"
            ],
            "image/png": "[encoded data removed]"
          },
          "metadata": {}
        },
        {
          "output_type": "stream",
          "name": "stderr",
          "text": [
            "\reval acc:  50%|█████     | 1/2 [00:00<00:00,  4.34it/s]"
          ]
        },
        {
          "output_type": "display_data",
          "data": {
            "text/plain": [
              "<rdkit.Chem.rdchem.Mol at 0x7f0388d30580>"
            ],
            "image/png": "[encoded data removed]"
          },
          "metadata": {}
        },
        {
          "output_type": "stream",
          "name": "stderr",
          "text": [
            "eval acc: 100%|██████████| 2/2 [00:00<00:00,  3.68it/s]"
          ]
        },
        {
          "output_type": "stream",
          "name": "stdout",
          "text": [
            "selfie accuracy: 1.000, token accuracy: 1.000\n"
          ]
        },
        {
          "output_type": "stream",
          "name": "stderr",
          "text": [
            "\n"
          ]
        }
      ]
    },
    {
      "cell_type": "markdown",
      "source": [
        "Train Transformer, predict Fedratinib every epoch"
      ],
      "metadata": {
        "id": "4C31lp90LdFC"
      }
    },
    {
      "cell_type": "code",
      "source": [
        "import time\n",
        "import math\n",
        "from IPython.display import display\n",
        "from rdkit import Chem\n",
        "m = Chem.MolFromSmiles\n",
        "\n",
        "N_EPOCHS = 10\n",
        "CLIP = 1\n",
        "\n",
        "best_valid_loss = float('inf')\n",
        "\n",
        "for epoch in range(N_EPOCHS+100):\n",
        "    start_time = time.time()\n",
        "    train_loss = train(model, dataloader, optimizer, criterion, CLIP)\n",
        "    valid_loss = evaluate(model, val_dataloader, criterion)\n",
        "\n",
        "    # trg, att = translate(src, vocab, model, device, max_len=150)\n",
        "    # display(m(sf.decoder(\"\".join(trg))))\n",
        "    end_time = time.time()\n",
        "\n",
        "    epoch_mins, epoch_secs = epoch_time(start_time, end_time)\n",
        "\n",
        "    # Display predicted structure of fedratinib and baricitinib\n",
        "    evaluate_acc([fed, bar], draw_fig=False, display_mol=True)\n",
        "\n",
        "    if valid_loss < best_valid_loss:\n",
        "        print(f'prev loss: {best_valid_loss:.3f}; ',\n",
        "              f'now  loss: {valid_loss:.3f}, save model and evaluate')\n",
        "        best_valid_loss = valid_loss\n",
        "        torch.save(model.state_dict(), 'tut6-model.pt')\n",
        "\n",
        "        # Random select k smiles, evaluate accuracy\n",
        "        smile_list = random.choices(smiles, k=100)\n",
        "        evaluate_acc(smile_list, draw_fig=True, display_mol=False)\n",
        "\n",
        "    print(f'Epoch: {epoch+1:02} | Time: {epoch_mins}m {epoch_secs}s')\n",
        "    print(f'\\tTrain Loss: {train_loss:.3f} | Train PPL: {math.exp(train_loss):7.3f}')\n",
        "    print(f'\\t Val. Loss: {valid_loss:.3f} |  Val. PPL: {math.exp(valid_loss):7.3f}')"
      ],
      "metadata": {
        "colab": {
          "base_uri": "https://localhost:8080/",
          "height": 986
        },
        "id": "mwQMJyM1KbGx",
        "outputId": "aa15cb99-cb2f-4724-df08-c1bf4c332f38"
      },
      "execution_count": null,
      "outputs": [
        {
          "output_type": "stream",
          "name": "stderr",
          "text": [
            "100%|██████████| 525/525 [02:07<00:00,  4.13it/s]\n",
            "eval acc:   0%|          | 0/2 [00:00<?, ?it/s]"
          ]
        },
        {
          "output_type": "display_data",
          "data": {
            "text/plain": [
              "<rdkit.Chem.rdchem.Mol at 0x7f041139bbc0>"
            ],
            "image/png": "[encoded data removed]"
          },
          "metadata": {}
        },
        {
          "output_type": "stream",
          "name": "stderr",
          "text": [
            "\reval acc:  50%|█████     | 1/2 [00:00<00:00,  3.25it/s]"
          ]
        },
        {
          "output_type": "display_data",
          "data": {
            "text/plain": [
              "<rdkit.Chem.rdchem.Mol at 0x7f041139bae0>"
            ],
            "image/png": "[encoded data removed]"
          },
          "metadata": {}
        },
        {
          "output_type": "stream",
          "name": "stderr",
          "text": [
            "eval acc: 100%|██████████| 2/2 [00:00<00:00,  3.72it/s]\n"
          ]
        },
        {
          "output_type": "stream",
          "name": "stdout",
          "text": [
            "selfie accuracy: 1.000, token accuracy: 1.000\n",
            "prev loss: inf;  now  loss: 0.001, save model and evaluate\n"
          ]
        },
        {
          "output_type": "stream",
          "name": "stderr",
          "text": [
            "eval acc: 100%|██████████| 100/100 [00:26<00:00,  3.80it/s]\n"
          ]
        },
        {
          "output_type": "display_data",
          "data": {
            "text/plain": [
              "<Figure size 640x480 with 1 Axes>"
            ],
            "image/png": "[encoded data removed]"
          },
          "metadata": {}
        },
        {
          "output_type": "stream",
          "name": "stdout",
          "text": [
            "selfie accuracy: 0.990, token accuracy: 0.999\n",
            "Epoch: 01 | Time: 2m 17s\n",
            "\tTrain Loss: 0.004 | Train PPL:   1.004\n",
            "\t Val. Loss: 0.001 |  Val. PPL:   1.001\n"
          ]
        },
        {
          "output_type": "stream",
          "name": "stderr",
          "text": [
            " 74%|███████▍  | 389/525 [01:34<00:31,  4.28it/s]"
          ]
        }
      ]
    },
    {
      "cell_type": "code",
      "source": [
        "cd /content/"
      ],
      "metadata": {
        "colab": {
          "base_uri": "https://localhost:8080/"
        },
        "id": "LDPo1D8kKd2h",
        "outputId": "6d68539a-2418-4e49-9cee-76746b277fe2"
      },
      "execution_count": 50,
      "outputs": [
        {
          "output_type": "stream",
          "name": "stdout",
          "text": [
            "/content\n"
          ]
        }
      ]
    },
    {
      "cell_type": "code",
      "source": [],
      "metadata": {
        "id": "QGI_zNP77kG6"
      },
      "execution_count": null,
      "outputs": []
    }
  ]
}