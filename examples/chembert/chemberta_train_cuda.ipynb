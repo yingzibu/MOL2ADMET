{
  "nbformat": 4,
  "nbformat_minor": 0,
  "metadata": {
    "colab": {
      "provenance": [],
      "machine_shape": "hm",
      "gpuType": "T4",
      "mount_file_id": "13zRZH57GuWi_bpIiFUgxpLz26JWBWK_Y",
      "authorship_tag": "ABX9TyMmH/TK5EF404a5zIU4o+d3",
      "include_colab_link": true
    },
    "kernelspec": {
      "name": "python3",
      "display_name": "Python 3"
    },
    "language_info": {
      "name": "python"
    },
    "accelerator": "GPU"
  },
  "cells": [
    {
      "cell_type": "markdown",
      "metadata": {
        "id": "view-in-github",
        "colab_type": "text"
      },
      "source": [
        "<a href=\"https://colab.research.google.com/github/yingzibu/MOL2ADMET/blob/main/examples/chembert/chemberta_train_cuda.ipynb\" target=\"_parent\"><img src=\"https://colab.research.google.com/assets/colab-badge.svg\" alt=\"Open In Colab\"/></a>"
      ]
    },
    {
      "cell_type": "code",
      "source": [
        "!pip install pubchempy --quiet\n",
        "!pip install rdkit --quiet\n",
        "!pip uninstall transformers -y\n",
        "!pip install transformers==4.30.2  --quiet"
      ],
      "metadata": {
        "id": "TXxNwq1NhGJY"
      },
      "execution_count": null,
      "outputs": []
    },
    {
      "cell_type": "code",
      "source": [
        "cd /content/drive/MyDrive/chemberta"
      ],
      "metadata": {
        "colab": {
          "base_uri": "https://localhost:8080/"
        },
        "id": "zwI87agOg4Vr",
        "outputId": "ec9f3e0f-b3f1-4c79-895e-4be042151b62"
      },
      "execution_count": 1,
      "outputs": [
        {
          "output_type": "stream",
          "name": "stdout",
          "text": [
            "/content/drive/MyDrive/chemberta\n"
          ]
        }
      ]
    },
    {
      "cell_type": "code",
      "source": [
        "import torch\n",
        "import os\n",
        "from tqdm import tqdm\n",
        "import math\n",
        "import pandas as pd\n",
        "import numpy as np\n",
        "from torch.nn import init\n",
        "import torch.nn.functional as F\n",
        "import argparse\n",
        "import random\n",
        "import torch.optim as optim\n",
        "import torch.nn as nn\n",
        "from torch.utils.data import DataLoader, Dataset\n",
        "from sklearn.model_selection import KFold, train_test_split\n",
        "from sklearn.metrics import classification_report, confusion_matrix, average_precision_score, roc_auc_score"
      ],
      "metadata": {
        "id": "rp_YDiL7hCBG"
      },
      "execution_count": 2,
      "outputs": []
    },
    {
      "cell_type": "markdown",
      "source": [
        "MPNN   https://arxiv.org/pdf/1704.01212v2.pdf   \n",
        "\n",
        "chemberta-2 https://github.com/deepchem/deepchem/blob/master/examples/tutorials/Transfer_Learning_With_ChemBERTa_Transformers.ipynb\n",
        "\n",
        "vae code explained https://avandekleut.github.io/vae/\n",
        "\n",
        "\n"
      ],
      "metadata": {
        "id": "rbeyYXazqZZi"
      }
    },
    {
      "cell_type": "code",
      "source": [
        "from help_function import *\n",
        "from const import *\n",
        "from chembertforclassification import *\n",
        "from bert_encoder import *\n",
        "\n",
        "class jak_dataset(Dataset):\n",
        "    def __init__(self, dataframe):\n",
        "        super(jak_dataset, self).__init__()\n",
        "\n",
        "        self.len = len(dataframe)\n",
        "        self.dataframe = dataframe\n",
        "\n",
        "    def __getitem__(self, idx):\n",
        "        try:\n",
        "            sml = self.dataframe.Smiles[idx]\n",
        "        except:\n",
        "            sml = self.dataframe.SMILES[idx]\n",
        "\n",
        "        y = 1 if self.dataframe.Activity[idx] == 1 else 0\n",
        "\n",
        "        return sml, y\n",
        "\n",
        "    def __len__(self):\n",
        "        return self.len\n",
        "\n",
        "def data_load(df, params={'batch_size': 16, 'shuffle': True,\n",
        "                          'drop_last': False, 'num_workers': 0}):\n",
        "    reset_df = df.reset_index(drop=True)\n",
        "    data = jak_dataset(reset_df)\n",
        "    loader = DataLoader(data, **params)\n",
        "    return loader"
      ],
      "metadata": {
        "id": "OZUMaKEthR6g",
        "colab": {
          "base_uri": "https://localhost:8080/"
        },
        "outputId": "4fdfb5f3-37f3-4869-e368-e935a59bf236"
      },
      "execution_count": 3,
      "outputs": [
        {
          "output_type": "stream",
          "name": "stdout",
          "text": [
            "If cuda available: True\n",
            "cuda\n"
          ]
        }
      ]
    },
    {
      "cell_type": "code",
      "source": [
        "data_path = 'data_0.25uM/'\n",
        "if torch.cuda.is_available(): device='cuda'\n",
        "else: device='cpu'\n",
        "\n",
        "enzymes = ['JAK1', 'JAK2', 'JAK3', 'TYK2']\n",
        "model_path = 'model_epoch_20/'\n",
        "create_path(model_path) # if model_path exists, ignore, if not,create it"
      ],
      "metadata": {
        "id": "xddBpylUlXsx"
      },
      "execution_count": 4,
      "outputs": []
    },
    {
      "cell_type": "code",
      "source": [
        "enzyme = 'JAK1'\n"
      ],
      "metadata": {
        "id": "wDoqfzgEoSLV"
      },
      "execution_count": 5,
      "outputs": []
    },
    {
      "cell_type": "code",
      "source": [
        "train_df"
      ],
      "metadata": {
        "colab": {
          "base_uri": "https://localhost:8080/",
          "height": 423
        },
        "id": "Bx6VmDqG4I4_",
        "outputId": "7ccca564-1c13-49bc-8ced-19584885d862"
      },
      "execution_count": 7,
      "outputs": [
        {
          "output_type": "execute_result",
          "data": {
            "text/plain": [
              "                                                 SMILES   TYK2  pIC50_TYK2  \\\n",
              "0     [2H]C([2H])([2H])N=C(O)c1cnc(N=C(O)C2CC2)cc1Nc...     13   -1.113943   \n",
              "1     [2H]C([2H])([2H])NC(=O)c1cnc(NC(=O)C2CC2)cc1Nc...     13   -1.113943   \n",
              "2     [2H]C([2H])([2H])NC(=O)c1n[nH]c(=NC(=O)C2CC2)c...  50000   -4.698970   \n",
              "3     [2H]C([2H])([2H])NC(=O)c1n[nH]c(=Nc2ccc(F)cn2)...    200   -2.301030   \n",
              "4     [2H]C([2H])([2H])NC(=O)c1nnc(NC(=O)C2CC2)cc1Nc...    1.3   -0.113943   \n",
              "...                                                 ...    ...         ...   \n",
              "1950  ON=C(O)CCCCCCOc1ccc2cc1COC/C=C/COCc1cccc(c1)-c...     10   -1.000000   \n",
              "1951  ON=C(O)CCCCCn1cc(Nc2ncc(Cl)c(Nc3ccc(Cl)cc3)n2)cn1     49   -1.690196   \n",
              "1952               S=c1[nH]c(C2CCCCC2)c2c3cc[nH]c3ncn12     36   -1.556303   \n",
              "1953          SC[C@H]1CC[C@H](c2nnn3cnc4[nH]ccc4c23)CC1    9.7   -0.986772   \n",
              "1954                  SCC1CCC(c2nnn3cnc4[nH]ccc4c23)CC1    9.7   -0.986772   \n",
              "\n",
              "      Activity  \n",
              "0            1  \n",
              "1            1  \n",
              "2            0  \n",
              "3            1  \n",
              "4            1  \n",
              "...        ...  \n",
              "1950         1  \n",
              "1951         1  \n",
              "1952         1  \n",
              "1953         1  \n",
              "1954         1  \n",
              "\n",
              "[1955 rows x 4 columns]"
            ],
            "text/html": [
              "\n",
              "  <div id=\"df-60a7f7e9-727c-453a-a8c1-eb831ff7785f\" class=\"colab-df-container\">\n",
              "    <div>\n",
              "<style scoped>\n",
              "    .dataframe tbody tr th:only-of-type {\n",
              "        vertical-align: middle;\n",
              "    }\n",
              "\n",
              "    .dataframe tbody tr th {\n",
              "        vertical-align: top;\n",
              "    }\n",
              "\n",
              "    .dataframe thead th {\n",
              "        text-align: right;\n",
              "    }\n",
              "</style>\n",
              "<table border=\"1\" class=\"dataframe\">\n",
              "  <thead>\n",
              "    <tr style=\"text-align: right;\">\n",
              "      <th></th>\n",
              "      <th>SMILES</th>\n",
              "      <th>TYK2</th>\n",
              "      <th>pIC50_TYK2</th>\n",
              "      <th>Activity</th>\n",
              "    </tr>\n",
              "  </thead>\n",
              "  <tbody>\n",
              "    <tr>\n",
              "      <th>0</th>\n",
              "      <td>[2H]C([2H])([2H])N=C(O)c1cnc(N=C(O)C2CC2)cc1Nc...</td>\n",
              "      <td>13</td>\n",
              "      <td>-1.113943</td>\n",
              "      <td>1</td>\n",
              "    </tr>\n",
              "    <tr>\n",
              "      <th>1</th>\n",
              "      <td>[2H]C([2H])([2H])NC(=O)c1cnc(NC(=O)C2CC2)cc1Nc...</td>\n",
              "      <td>13</td>\n",
              "      <td>-1.113943</td>\n",
              "      <td>1</td>\n",
              "    </tr>\n",
              "    <tr>\n",
              "      <th>2</th>\n",
              "      <td>[2H]C([2H])([2H])NC(=O)c1n[nH]c(=NC(=O)C2CC2)c...</td>\n",
              "      <td>50000</td>\n",
              "      <td>-4.698970</td>\n",
              "      <td>0</td>\n",
              "    </tr>\n",
              "    <tr>\n",
              "      <th>3</th>\n",
              "      <td>[2H]C([2H])([2H])NC(=O)c1n[nH]c(=Nc2ccc(F)cn2)...</td>\n",
              "      <td>200</td>\n",
              "      <td>-2.301030</td>\n",
              "      <td>1</td>\n",
              "    </tr>\n",
              "    <tr>\n",
              "      <th>4</th>\n",
              "      <td>[2H]C([2H])([2H])NC(=O)c1nnc(NC(=O)C2CC2)cc1Nc...</td>\n",
              "      <td>1.3</td>\n",
              "      <td>-0.113943</td>\n",
              "      <td>1</td>\n",
              "    </tr>\n",
              "    <tr>\n",
              "      <th>...</th>\n",
              "      <td>...</td>\n",
              "      <td>...</td>\n",
              "      <td>...</td>\n",
              "      <td>...</td>\n",
              "    </tr>\n",
              "    <tr>\n",
              "      <th>1950</th>\n",
              "      <td>ON=C(O)CCCCCCOc1ccc2cc1COC/C=C/COCc1cccc(c1)-c...</td>\n",
              "      <td>10</td>\n",
              "      <td>-1.000000</td>\n",
              "      <td>1</td>\n",
              "    </tr>\n",
              "    <tr>\n",
              "      <th>1951</th>\n",
              "      <td>ON=C(O)CCCCCn1cc(Nc2ncc(Cl)c(Nc3ccc(Cl)cc3)n2)cn1</td>\n",
              "      <td>49</td>\n",
              "      <td>-1.690196</td>\n",
              "      <td>1</td>\n",
              "    </tr>\n",
              "    <tr>\n",
              "      <th>1952</th>\n",
              "      <td>S=c1[nH]c(C2CCCCC2)c2c3cc[nH]c3ncn12</td>\n",
              "      <td>36</td>\n",
              "      <td>-1.556303</td>\n",
              "      <td>1</td>\n",
              "    </tr>\n",
              "    <tr>\n",
              "      <th>1953</th>\n",
              "      <td>SC[C@H]1CC[C@H](c2nnn3cnc4[nH]ccc4c23)CC1</td>\n",
              "      <td>9.7</td>\n",
              "      <td>-0.986772</td>\n",
              "      <td>1</td>\n",
              "    </tr>\n",
              "    <tr>\n",
              "      <th>1954</th>\n",
              "      <td>SCC1CCC(c2nnn3cnc4[nH]ccc4c23)CC1</td>\n",
              "      <td>9.7</td>\n",
              "      <td>-0.986772</td>\n",
              "      <td>1</td>\n",
              "    </tr>\n",
              "  </tbody>\n",
              "</table>\n",
              "<p>1955 rows × 4 columns</p>\n",
              "</div>\n",
              "    <div class=\"colab-df-buttons\">\n",
              "\n",
              "  <div class=\"colab-df-container\">\n",
              "    <button class=\"colab-df-convert\" onclick=\"convertToInteractive('df-60a7f7e9-727c-453a-a8c1-eb831ff7785f')\"\n",
              "            title=\"Convert this dataframe to an interactive table.\"\n",
              "            style=\"display:none;\">\n",
              "\n",
              "  <svg xmlns=\"http://www.w3.org/2000/svg\" height=\"24px\" viewBox=\"0 -960 960 960\">\n",
              "    <path d=\"M120-120v-720h720v720H120Zm60-500h600v-160H180v160Zm220 220h160v-160H400v160Zm0 220h160v-160H400v160ZM180-400h160v-160H180v160Zm440 0h160v-160H620v160ZM180-180h160v-160H180v160Zm440 0h160v-160H620v160Z\"/>\n",
              "  </svg>\n",
              "    </button>\n",
              "\n",
              "  <style>\n",
              "    .colab-df-container {\n",
              "      display:flex;\n",
              "      gap: 12px;\n",
              "    }\n",
              "\n",
              "    .colab-df-convert {\n",
              "      background-color: #E8F0FE;\n",
              "      border: none;\n",
              "      border-radius: 50%;\n",
              "      cursor: pointer;\n",
              "      display: none;\n",
              "      fill: #1967D2;\n",
              "      height: 32px;\n",
              "      padding: 0 0 0 0;\n",
              "      width: 32px;\n",
              "    }\n",
              "\n",
              "    .colab-df-convert:hover {\n",
              "      background-color: #E2EBFA;\n",
              "      box-shadow: 0px 1px 2px rgba(60, 64, 67, 0.3), 0px 1px 3px 1px rgba(60, 64, 67, 0.15);\n",
              "      fill: #174EA6;\n",
              "    }\n",
              "\n",
              "    .colab-df-buttons div {\n",
              "      margin-bottom: 4px;\n",
              "    }\n",
              "\n",
              "    [theme=dark] .colab-df-convert {\n",
              "      background-color: #3B4455;\n",
              "      fill: #D2E3FC;\n",
              "    }\n",
              "\n",
              "    [theme=dark] .colab-df-convert:hover {\n",
              "      background-color: #434B5C;\n",
              "      box-shadow: 0px 1px 3px 1px rgba(0, 0, 0, 0.15);\n",
              "      filter: drop-shadow(0px 1px 2px rgba(0, 0, 0, 0.3));\n",
              "      fill: #FFFFFF;\n",
              "    }\n",
              "  </style>\n",
              "\n",
              "    <script>\n",
              "      const buttonEl =\n",
              "        document.querySelector('#df-60a7f7e9-727c-453a-a8c1-eb831ff7785f button.colab-df-convert');\n",
              "      buttonEl.style.display =\n",
              "        google.colab.kernel.accessAllowed ? 'block' : 'none';\n",
              "\n",
              "      async function convertToInteractive(key) {\n",
              "        const element = document.querySelector('#df-60a7f7e9-727c-453a-a8c1-eb831ff7785f');\n",
              "        const dataTable =\n",
              "          await google.colab.kernel.invokeFunction('convertToInteractive',\n",
              "                                                    [key], {});\n",
              "        if (!dataTable) return;\n",
              "\n",
              "        const docLinkHtml = 'Like what you see? Visit the ' +\n",
              "          '<a target=\"_blank\" href=https://colab.research.google.com/notebooks/data_table.ipynb>data table notebook</a>'\n",
              "          + ' to learn more about interactive tables.';\n",
              "        element.innerHTML = '';\n",
              "        dataTable['output_type'] = 'display_data';\n",
              "        await google.colab.output.renderOutput(dataTable, element);\n",
              "        const docLink = document.createElement('div');\n",
              "        docLink.innerHTML = docLinkHtml;\n",
              "        element.appendChild(docLink);\n",
              "      }\n",
              "    </script>\n",
              "  </div>\n",
              "\n",
              "\n",
              "<div id=\"df-8ee4fb26-3d67-4bed-ab59-e32a66bfc2b4\">\n",
              "  <button class=\"colab-df-quickchart\" onclick=\"quickchart('df-8ee4fb26-3d67-4bed-ab59-e32a66bfc2b4')\"\n",
              "            title=\"Suggest charts\"\n",
              "            style=\"display:none;\">\n",
              "\n",
              "<svg xmlns=\"http://www.w3.org/2000/svg\" height=\"24px\"viewBox=\"0 0 24 24\"\n",
              "     width=\"24px\">\n",
              "    <g>\n",
              "        <path d=\"M19 3H5c-1.1 0-2 .9-2 2v14c0 1.1.9 2 2 2h14c1.1 0 2-.9 2-2V5c0-1.1-.9-2-2-2zM9 17H7v-7h2v7zm4 0h-2V7h2v10zm4 0h-2v-4h2v4z\"/>\n",
              "    </g>\n",
              "</svg>\n",
              "  </button>\n",
              "\n",
              "<style>\n",
              "  .colab-df-quickchart {\n",
              "      --bg-color: #E8F0FE;\n",
              "      --fill-color: #1967D2;\n",
              "      --hover-bg-color: #E2EBFA;\n",
              "      --hover-fill-color: #174EA6;\n",
              "      --disabled-fill-color: #AAA;\n",
              "      --disabled-bg-color: #DDD;\n",
              "  }\n",
              "\n",
              "  [theme=dark] .colab-df-quickchart {\n",
              "      --bg-color: #3B4455;\n",
              "      --fill-color: #D2E3FC;\n",
              "      --hover-bg-color: #434B5C;\n",
              "      --hover-fill-color: #FFFFFF;\n",
              "      --disabled-bg-color: #3B4455;\n",
              "      --disabled-fill-color: #666;\n",
              "  }\n",
              "\n",
              "  .colab-df-quickchart {\n",
              "    background-color: var(--bg-color);\n",
              "    border: none;\n",
              "    border-radius: 50%;\n",
              "    cursor: pointer;\n",
              "    display: none;\n",
              "    fill: var(--fill-color);\n",
              "    height: 32px;\n",
              "    padding: 0;\n",
              "    width: 32px;\n",
              "  }\n",
              "\n",
              "  .colab-df-quickchart:hover {\n",
              "    background-color: var(--hover-bg-color);\n",
              "    box-shadow: 0 1px 2px rgba(60, 64, 67, 0.3), 0 1px 3px 1px rgba(60, 64, 67, 0.15);\n",
              "    fill: var(--button-hover-fill-color);\n",
              "  }\n",
              "\n",
              "  .colab-df-quickchart-complete:disabled,\n",
              "  .colab-df-quickchart-complete:disabled:hover {\n",
              "    background-color: var(--disabled-bg-color);\n",
              "    fill: var(--disabled-fill-color);\n",
              "    box-shadow: none;\n",
              "  }\n",
              "\n",
              "  .colab-df-spinner {\n",
              "    border: 2px solid var(--fill-color);\n",
              "    border-color: transparent;\n",
              "    border-bottom-color: var(--fill-color);\n",
              "    animation:\n",
              "      spin 1s steps(1) infinite;\n",
              "  }\n",
              "\n",
              "  @keyframes spin {\n",
              "    0% {\n",
              "      border-color: transparent;\n",
              "      border-bottom-color: var(--fill-color);\n",
              "      border-left-color: var(--fill-color);\n",
              "    }\n",
              "    20% {\n",
              "      border-color: transparent;\n",
              "      border-left-color: var(--fill-color);\n",
              "      border-top-color: var(--fill-color);\n",
              "    }\n",
              "    30% {\n",
              "      border-color: transparent;\n",
              "      border-left-color: var(--fill-color);\n",
              "      border-top-color: var(--fill-color);\n",
              "      border-right-color: var(--fill-color);\n",
              "    }\n",
              "    40% {\n",
              "      border-color: transparent;\n",
              "      border-right-color: var(--fill-color);\n",
              "      border-top-color: var(--fill-color);\n",
              "    }\n",
              "    60% {\n",
              "      border-color: transparent;\n",
              "      border-right-color: var(--fill-color);\n",
              "    }\n",
              "    80% {\n",
              "      border-color: transparent;\n",
              "      border-right-color: var(--fill-color);\n",
              "      border-bottom-color: var(--fill-color);\n",
              "    }\n",
              "    90% {\n",
              "      border-color: transparent;\n",
              "      border-bottom-color: var(--fill-color);\n",
              "    }\n",
              "  }\n",
              "</style>\n",
              "\n",
              "  <script>\n",
              "    async function quickchart(key) {\n",
              "      const quickchartButtonEl =\n",
              "        document.querySelector('#' + key + ' button');\n",
              "      quickchartButtonEl.disabled = true;  // To prevent multiple clicks.\n",
              "      quickchartButtonEl.classList.add('colab-df-spinner');\n",
              "      try {\n",
              "        const charts = await google.colab.kernel.invokeFunction(\n",
              "            'suggestCharts', [key], {});\n",
              "      } catch (error) {\n",
              "        console.error('Error during call to suggestCharts:', error);\n",
              "      }\n",
              "      quickchartButtonEl.classList.remove('colab-df-spinner');\n",
              "      quickchartButtonEl.classList.add('colab-df-quickchart-complete');\n",
              "    }\n",
              "    (() => {\n",
              "      let quickchartButtonEl =\n",
              "        document.querySelector('#df-8ee4fb26-3d67-4bed-ab59-e32a66bfc2b4 button');\n",
              "      quickchartButtonEl.style.display =\n",
              "        google.colab.kernel.accessAllowed ? 'block' : 'none';\n",
              "    })();\n",
              "  </script>\n",
              "</div>\n",
              "\n",
              "  <div id=\"id_c8b6adf1-eda0-4050-8a6e-2471a9775b4a\">\n",
              "    <style>\n",
              "      .colab-df-generate {\n",
              "        background-color: #E8F0FE;\n",
              "        border: none;\n",
              "        border-radius: 50%;\n",
              "        cursor: pointer;\n",
              "        display: none;\n",
              "        fill: #1967D2;\n",
              "        height: 32px;\n",
              "        padding: 0 0 0 0;\n",
              "        width: 32px;\n",
              "      }\n",
              "\n",
              "      .colab-df-generate:hover {\n",
              "        background-color: #E2EBFA;\n",
              "        box-shadow: 0px 1px 2px rgba(60, 64, 67, 0.3), 0px 1px 3px 1px rgba(60, 64, 67, 0.15);\n",
              "        fill: #174EA6;\n",
              "      }\n",
              "\n",
              "      [theme=dark] .colab-df-generate {\n",
              "        background-color: #3B4455;\n",
              "        fill: #D2E3FC;\n",
              "      }\n",
              "\n",
              "      [theme=dark] .colab-df-generate:hover {\n",
              "        background-color: #434B5C;\n",
              "        box-shadow: 0px 1px 3px 1px rgba(0, 0, 0, 0.15);\n",
              "        filter: drop-shadow(0px 1px 2px rgba(0, 0, 0, 0.3));\n",
              "        fill: #FFFFFF;\n",
              "      }\n",
              "    </style>\n",
              "    <button class=\"colab-df-generate\" onclick=\"generateWithVariable('train_df')\"\n",
              "            title=\"Generate code using this dataframe.\"\n",
              "            style=\"display:none;\">\n",
              "\n",
              "  <svg xmlns=\"http://www.w3.org/2000/svg\" height=\"24px\"viewBox=\"0 0 24 24\"\n",
              "       width=\"24px\">\n",
              "    <path d=\"M7,19H8.4L18.45,9,17,7.55,7,17.6ZM5,21V16.75L18.45,3.32a2,2,0,0,1,2.83,0l1.4,1.43a1.91,1.91,0,0,1,.58,1.4,1.91,1.91,0,0,1-.58,1.4L9.25,21ZM18.45,9,17,7.55Zm-12,3A5.31,5.31,0,0,0,4.9,8.1,5.31,5.31,0,0,0,1,6.5,5.31,5.31,0,0,0,4.9,4.9,5.31,5.31,0,0,0,6.5,1,5.31,5.31,0,0,0,8.1,4.9,5.31,5.31,0,0,0,12,6.5,5.46,5.46,0,0,0,6.5,12Z\"/>\n",
              "  </svg>\n",
              "    </button>\n",
              "    <script>\n",
              "      (() => {\n",
              "      const buttonEl =\n",
              "        document.querySelector('#id_c8b6adf1-eda0-4050-8a6e-2471a9775b4a button.colab-df-generate');\n",
              "      buttonEl.style.display =\n",
              "        google.colab.kernel.accessAllowed ? 'block' : 'none';\n",
              "\n",
              "      buttonEl.onclick = () => {\n",
              "        google.colab.notebook.generateWithVariable('train_df');\n",
              "      }\n",
              "      })();\n",
              "    </script>\n",
              "  </div>\n",
              "\n",
              "    </div>\n",
              "  </div>\n"
            ],
            "application/vnd.google.colaboratory.intrinsic+json": {
              "type": "dataframe",
              "variable_name": "train_df",
              "summary": "{\n  \"name\": \"train_df\",\n  \"rows\": 1955,\n  \"fields\": [\n    {\n      \"column\": \"SMILES\",\n      \"properties\": {\n        \"dtype\": \"string\",\n        \"num_unique_values\": 1949,\n        \"samples\": [\n          \"N#CCNC(=O)C1CCC(c2nnn3cnc4[nH]ccc4c23)CC1\",\n          \"FC(F)(F)C1CCC(c2nnn3cnc4[nH]ccc4c23)CC1\",\n          \"CN=C(O)c1cnc(Nc2cc(C)nc(C)n2)cc1Nc1cccc(-c2ncn(C)n2)c1OC\"\n        ],\n        \"semantic_type\": \"\",\n        \"description\": \"\"\n      }\n    },\n    {\n      \"column\": \"TYK2\",\n      \"properties\": {\n        \"dtype\": \"category\",\n        \"num_unique_values\": 648,\n        \"samples\": [\n          \"419\",\n          \"7943.28\",\n          \"17.7\"\n        ],\n        \"semantic_type\": \"\",\n        \"description\": \"\"\n      }\n    },\n    {\n      \"column\": \"pIC50_TYK2\",\n      \"properties\": {\n        \"dtype\": \"number\",\n        \"std\": 0.8364779940286432,\n        \"min\": -4.698970004,\n        \"max\": 0.301029996,\n        \"num_unique_values\": 647,\n        \"samples\": [\n          -2.622214023,\n          -3.899999872,\n          -1.413299764\n        ],\n        \"semantic_type\": \"\",\n        \"description\": \"\"\n      }\n    },\n    {\n      \"column\": \"Activity\",\n      \"properties\": {\n        \"dtype\": \"number\",\n        \"std\": 0,\n        \"min\": 0,\n        \"max\": 1,\n        \"num_unique_values\": 2,\n        \"samples\": [\n          0,\n          1\n        ],\n        \"semantic_type\": \"\",\n        \"description\": \"\"\n      }\n    }\n  ]\n}"
            }
          },
          "metadata": {},
          "execution_count": 7
        }
      ]
    },
    {
      "cell_type": "code",
      "source": [
        "for enzyme in enzymes:\n",
        "    print()\n",
        "    ind = enzymes.index(enzyme)\n",
        "    print(enzyme)\n",
        "    train_df = pd.read_csv(data_path + enzyme + '_train.csv')\n",
        "    valid_df = pd.read_csv(data_path + enzyme + '_valid.csv')\n",
        "    # print(train_df['Activity'].value_counts())\n",
        "    weight_dict = {1: torch.tensor([3.0, 1.0]), 2: torch.tensor([2.0, 1.0]),\n",
        "                   3: torch.tensor([2.0, 1.0]), 4: torch.tensor([2.0, 1.0])}\n",
        "    params = {'batch_size': 16, 'shuffle': True,\n",
        "              'drop_last': False, 'num_workers': 0}\n",
        "\n",
        "    train_loader = data_load(train_df, params)\n",
        "    valid_loader = data_load(valid_df, params)\n",
        "    epoches = 20\n",
        "    model_name = f'chembert_{enzyme}.pt'\n",
        "    file_exist = os.path.isfile(model_path + model_name)\n",
        "    print(f\"{model_path+model_name} existence: \", file_exist)\n",
        "\n",
        "    if device == 'cuda':\n",
        "        model = chembertforclassification().cuda()\n",
        "    else: model = chembertforclassification()\n",
        "\n",
        "    if file_exist: # load model from predefined model_path\n",
        "        model.load_state_dict(torch.load(model_path+model_name,\n",
        "                                         map_location=torch.device(device)))\n",
        "    else: # trained model does not exist, need to train and save\n",
        "        optimizer = optim.AdamW(params=model.parameters(),\n",
        "                                lr=1e-5, weight_decay=1e-2)\n",
        "        loss_function = nn.CrossEntropyLoss(weight=weight_dict[ind+1].cuda())\n",
        "        model.train()\n",
        "        for epoch in range(epoches):\n",
        "            print(\"EPOCH -- {}\".format(epoch))\n",
        "            total_loss = 0\n",
        "            for idx, (x, y_true) in tqdm(enumerate(train_loader),\n",
        "                                         total=len(train_loader)):\n",
        "                # print(y_true)\n",
        "                optimizer.zero_grad()\n",
        "                output = model(list(x))\n",
        "                loss = loss_function(output, y_true.cuda())\n",
        "                loss.backward()\n",
        "                optimizer.step()\n",
        "                total_loss += loss.item()\n",
        "        ###SAVE MODEL\n",
        "        torch.save(model.state_dict(), model_path + model_name)\n",
        "        print(f'model trained and saved at {model_path + model_name}')\n",
        "    model.eval()\n",
        "\n",
        "    accumulate_y_pred = []\n",
        "    accumulate_y_true = []\n",
        "    accumulate_y_prob = []\n",
        "    accumulate_x = []\n",
        "    for idx, (x, y_true) in tqdm(enumerate(valid_loader),\n",
        "                                 total=len(valid_loader)):\n",
        "        output = model(list(x))\n",
        "        _, y_pred = torch.max(output, 1)\n",
        "        accumulate_y_pred.extend(y_pred.tolist())\n",
        "        accumulate_y_true.extend(y_true.tolist())\n",
        "        accumulate_y_prob.extend(torch.softmax(output, 1)[:, 1].tolist())\n",
        "        accumulate_x.extend(list(x))\n",
        "    evaluate(accumulate_y_true, accumulate_y_pred, accumulate_y_prob)\n",
        "\n"
      ],
      "metadata": {
        "id": "8HIz5lSil5YF",
        "colab": {
          "base_uri": "https://localhost:8080/"
        },
        "outputId": "3d688b58-934b-4b24-cbe4-312538d8d359"
      },
      "execution_count": 6,
      "outputs": [
        {
          "output_type": "stream",
          "name": "stdout",
          "text": [
            "\n",
            "JAK1\n",
            "model_epoch_20/chembert_JAK1.pt existence:  True\n"
          ]
        },
        {
          "output_type": "stream",
          "name": "stderr",
          "text": [
            "100%|██████████| 55/55 [00:02<00:00, 22.65it/s]\n"
          ]
        },
        {
          "output_type": "stream",
          "name": "stdout",
          "text": [
            "Accuracy, weighted accuracy, precision, recall/SE, SP,     F1,     AUC,     MCC,     AP\n",
            "& 0.912  &  0.876  &          0.961  &     0.931  &0.821  &0.946 &0.941 &   0.712 &   0.978\n",
            "\n",
            "JAK2\n",
            "model_epoch_20/chembert_JAK2.pt existence:  True\n"
          ]
        },
        {
          "output_type": "stream",
          "name": "stderr",
          "text": [
            "100%|██████████| 74/74 [00:02<00:00, 34.78it/s]\n"
          ]
        },
        {
          "output_type": "stream",
          "name": "stdout",
          "text": [
            "Accuracy, weighted accuracy, precision, recall/SE, SP,     F1,     AUC,     MCC,     AP\n",
            "& 0.868  &  0.859  &          0.906  &     0.889  &0.828  &0.897 &0.929 &   0.712 &   0.956\n",
            "\n",
            "JAK3\n",
            "model_epoch_20/chembert_JAK3.pt existence:  True\n"
          ]
        },
        {
          "output_type": "stream",
          "name": "stderr",
          "text": [
            "100%|██████████| 33/33 [00:00<00:00, 34.72it/s]\n"
          ]
        },
        {
          "output_type": "stream",
          "name": "stdout",
          "text": [
            "Accuracy, weighted accuracy, precision, recall/SE, SP,     F1,     AUC,     MCC,     AP\n",
            "& 0.776  &  0.774  &          0.770  &     0.818  &0.731  &0.793 &0.869 &   0.551 &   0.889\n",
            "\n",
            "TYK2\n",
            "model_epoch_20/chembert_TYK2.pt existence:  True\n"
          ]
        },
        {
          "output_type": "stream",
          "name": "stderr",
          "text": [
            "100%|██████████| 17/17 [00:00<00:00, 33.37it/s]"
          ]
        },
        {
          "output_type": "stream",
          "name": "stdout",
          "text": [
            "Accuracy, weighted accuracy, precision, recall/SE, SP,     F1,     AUC,     MCC,     AP\n",
            "& 0.812  &  0.808  &          0.822  &     0.849  &0.767  &0.835 &0.892 &   0.618 &   0.920\n"
          ]
        },
        {
          "output_type": "stream",
          "name": "stderr",
          "text": [
            "\n"
          ]
        }
      ]
    },
    {
      "cell_type": "code",
      "source": [
        "model_name"
      ],
      "metadata": {
        "id": "OCASD5yemQSw"
      },
      "execution_count": null,
      "outputs": []
    },
    {
      "cell_type": "code",
      "source": [
        "create_path('model/')"
      ],
      "metadata": {
        "id": "1QflURjbnmVr"
      },
      "execution_count": null,
      "outputs": []
    },
    {
      "cell_type": "code",
      "source": [
        "file_name = data_path + 'JAK1_valid.csv'\n",
        "file_exist = os.path.isfile(file_name)"
      ],
      "metadata": {
        "id": "6mLHma0sn3-M"
      },
      "execution_count": null,
      "outputs": []
    },
    {
      "cell_type": "code",
      "source": [
        "check_file"
      ],
      "metadata": {
        "id": "TamIKugOn-es"
      },
      "execution_count": null,
      "outputs": []
    },
    {
      "cell_type": "code",
      "source": [
        "model.eval()"
      ],
      "metadata": {
        "id": "Fbpl93bqskSh"
      },
      "execution_count": null,
      "outputs": []
    },
    {
      "cell_type": "code",
      "source": [],
      "metadata": {
        "id": "QxtzQBMWvKBu"
      },
      "execution_count": null,
      "outputs": []
    },
    {
      "cell_type": "code",
      "source": [],
      "metadata": {
        "id": "VHFjs04Cvf4A"
      },
      "execution_count": null,
      "outputs": []
    },
    {
      "cell_type": "code",
      "source": [],
      "metadata": {
        "id": "A5KCQmRSvyvi"
      },
      "execution_count": null,
      "outputs": []
    }
  ]
}