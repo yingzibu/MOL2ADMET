{
  "nbformat": 4,
  "nbformat_minor": 0,
  "metadata": {
    "colab": {
      "provenance": [],
      "machine_shape": "hm",
      "gpuType": "T4",
      "mount_file_id": "1vByFoJ9PAjdMWmw7eYPq3lHL8rwexGOl",
      "authorship_tag": "ABX9TyNHHjsHAbKwqu7Rxpf6Vkol",
      "include_colab_link": true
    },
    "kernelspec": {
      "name": "python3",
      "display_name": "Python 3"
    },
    "language_info": {
      "name": "python"
    },
    "accelerator": "GPU"
  },
  "cells": [
    {
      "cell_type": "markdown",
      "metadata": {
        "id": "view-in-github",
        "colab_type": "text"
      },
      "source": [
        "<a href=\"https://colab.research.google.com/github/yingzibu/MOL2ADMET/blob/main/examples/chembert/chemberta_ADMET_old_vocab.ipynb\" target=\"_parent\"><img src=\"https://colab.research.google.com/assets/colab-badge.svg\" alt=\"Open In Colab\"/></a>"
      ]
    },
    {
      "cell_type": "code",
      "execution_count": 1,
      "metadata": {
        "colab": {
          "base_uri": "https://localhost:8080/"
        },
        "id": "L3GZjcYckfLC",
        "outputId": "7c786148-b54b-4504-ce28-2f32485aaec2"
      },
      "outputs": [
        {
          "output_type": "stream",
          "name": "stdout",
          "text": [
            "2.1.0+cu121\n",
            "cuda:  True\n"
          ]
        }
      ],
      "source": [
        "import torch\n",
        "print(torch.__version__)\n",
        "print('cuda: ', torch.cuda.is_available())"
      ]
    },
    {
      "cell_type": "code",
      "source": [
        "! pip install rdkit --quiet\n",
        "! pip install PyTDC --quiet\n",
        "! pip install mycolorpy --quiet\n",
        "! pip install selfies  --quiet\n",
        "! pip install pubchempy --quiet\n",
        "! pip install dgllife --quiet\n",
        "! pip install molvs --quiet\n",
        "! pip install dgl -f https://data.dgl.ai/wheels/cu121/repo.html --quiet\n",
        "! pip install dglgo -f https://data.dgl.ai/wheels-test/repo.html --quiet\n",
        "! pip install DeepPurpose --quiet\n",
        "! pip install git+https://github.com/bp-kelley/descriptastorus --quiet\n",
        "! pip install pandas-flavor --quiet\n",
        "\n",
        "\n",
        "# specific for chemberta\n",
        "!pip uninstall transformers -y\n",
        "!pip install transformers==4.30.2 --quiet"
      ],
      "metadata": {
        "colab": {
          "base_uri": "https://localhost:8080/"
        },
        "id": "P6w2qW2hk-de",
        "outputId": "0697b8d0-761b-4f6e-d598-a5cbc1af80be"
      },
      "execution_count": 2,
      "outputs": [
        {
          "output_type": "stream",
          "name": "stdout",
          "text": [
            "  Preparing metadata (setup.py) ... \u001b[?25l\u001b[?25hdone\n",
            "  Building wheel for descriptastorus (setup.py) ... \u001b[?25l\u001b[?25hdone\n"
          ]
        }
      ]
    },
    {
      "cell_type": "code",
      "source": [
        "cd /content/drive/MyDrive/ADMET"
      ],
      "metadata": {
        "colab": {
          "base_uri": "https://localhost:8080/"
        },
        "id": "Ino4SfIvlKCo",
        "outputId": "8eb613bf-5b4e-492e-8714-24f23d3db165"
      },
      "execution_count": 1,
      "outputs": [
        {
          "output_type": "stream",
          "name": "stdout",
          "text": [
            "/content/drive/MyDrive/ADMET\n"
          ]
        }
      ]
    },
    {
      "cell_type": "code",
      "source": [
        "from scripts.func_utils import make_path, convert_with_qed_sa, get_min, \\\n",
        "                                plot_loss, plot_performance\n",
        "\n",
        "from scripts.eval_utils import *\n",
        "from scripts.preprocess_mols import *\n",
        "from scripts.model_architecture import *\n",
        "from scripts.dataset import *\n",
        "from scripts.train import *\n",
        "import yaml\n",
        "import pandas as pd\n",
        "from scripts.get_vocab import *\n",
        "\n",
        "from tdc.single_pred import ADME\n",
        "from tdc.single_pred import Tox\n",
        "from scripts.CONSTANT import *\n",
        "from scripts.yaml_utils import *\n",
        "from scripts.TRAIN import *\n",
        "from scripts.MUE import *\n",
        "print('VOCAB TYPE:', VOCAB_TYPE)"
      ],
      "metadata": {
        "colab": {
          "base_uri": "https://localhost:8080/"
        },
        "id": "FE9KGbfGlpv6",
        "outputId": "79b24cb5-7772-4c31-aa5f-7c20b56cc755"
      },
      "execution_count": 2,
      "outputs": [
        {
          "output_type": "stream",
          "name": "stdout",
          "text": [
            "VOCAB TYPE: smiles\n"
          ]
        }
      ]
    },
    {
      "cell_type": "code",
      "source": [
        "import torch\n",
        "import torch.nn as nn\n",
        "from transformers import AutoModelWithLMHead, AutoTokenizer\n",
        "\n",
        "import torch\n",
        "adj_max=80\n",
        "fps_len=167\n",
        "max_len=120\n",
        "\n",
        "vocabulary = {'C': 1, 'c': 2, '1': 3, '(': 4, '-': 5, '2': 6, 's': 7, 'N': 8,\n",
        "              '=': 9, ')': 10, 'n': 11, '[': 12, '@': 13,\n",
        "                  'H': 14, ']': 15, 'O': 16, 'S': 17, '3': 18, 'l': 19, 'B': 20, 'r': 21, '/': 22, '\\\\': 23, 'o': 24,\n",
        "                  '4': 25,\n",
        "                  '5': 26, '6': 27, '7': 28, '+': 29, '.': 30, 'I': 31, 'F': 32, '8': 33, '#': 34, 'P': 35, '9': 36,\n",
        "                  'a': 37,\n",
        "                  '%': 38, '0': 39, 'i': 40, 'e': 41, 'L': 42, 'K': 43, 't': 44, 'T': 45, 'A': 46, 'g': 47, 'Z': 48,\n",
        "                  'M': 49,\n",
        "                  'R': 50, 'p': 51, 'b': 52, 'X': 53}\n",
        "\n",
        "cuda_available = True\n",
        "\n",
        "class chembert_encoder(nn.Module):\n",
        "    def __init__(self, output_dim=fps_len,dropout=0.5):\n",
        "        super(chembert_encoder, self).__init__()\n",
        "        pretrained_path = \"seyonec/ChemBERTa-zinc-base-v1\"\n",
        "        self.bert = AutoModelWithLMHead.from_pretrained(pretrained_path)\n",
        "        self.tokenizer =  AutoTokenizer.from_pretrained(pretrained_path)\n",
        "        self.dropout=nn.Dropout(dropout)\n",
        "        self.w=nn.Linear(767,output_dim)\n",
        "\n",
        "    def forward(self, x):\n",
        "        input_feat = self.tokenizer.batch_encode_plus(x, max_length=512,\n",
        "                                                 padding='longest',  # implements dynamic padding\n",
        "                                                 truncation=True,\n",
        "                                                 return_tensors='pt',\n",
        "                                                 return_attention_mask=True,\n",
        "                                                 return_token_type_ids=True\n",
        "                                                 )\n",
        "\n",
        "        if cuda_available:\n",
        "            input_feat['attention_mask'] = input_feat['attention_mask'].cuda()\n",
        "            input_feat['input_ids'] = input_feat['input_ids'].cuda()\n",
        "\n",
        "\n",
        "        outputs = self.bert(input_feat['input_ids'],\n",
        "                            attention_mask=input_feat['attention_mask'],\n",
        "                            output_hidden_states=None).logits[:,0,:]\n",
        "\n",
        "        return self.w(self.dropout(outputs))"
      ],
      "metadata": {
        "id": "9CYRyWkYlyGK"
      },
      "execution_count": 3,
      "outputs": []
    },
    {
      "cell_type": "code",
      "source": [
        "import torch\n",
        "import torch.nn as nn\n",
        "import torch.nn.functional as F\n",
        "\n",
        "# from encoder import encoder\n",
        "\n",
        "\n",
        "if torch.cuda.is_available(): device='cuda'\n",
        "else: device='cpu'\n",
        "\n",
        "class chembertforclassification(nn.Module):\n",
        "    def __init__(self, output_size=2,\n",
        "                 load_path='/content/drive/MyDrive/chemberta/checkpoints/chem_bert_encoder_pretrain_9.pt',\n",
        "                 last_layer_size=fps_len, dropout=0.5):\n",
        "        super(chembertforclassification, self).__init__()\n",
        "\n",
        "        self.last_layer_size = last_layer_size\n",
        "        self.output_size = output_size\n",
        "        self.pretrained = chembert_encoder()\n",
        "        self.pretrained.load_state_dict(\n",
        "            torch.load(load_path, map_location=device))\n",
        "\n",
        "        self.w = nn.Linear(self.last_layer_size, self.output_size)\n",
        "\n",
        "        self.dropout = nn.Dropout(dropout)\n",
        "\n",
        "    def forward(self, x):\n",
        "\n",
        "        return self.w(self.dropout(self.pretrained(x)))\n",
        "\n",
        "\n",
        "from torch.utils.data import DataLoader, Dataset\n",
        "class chemberta_dataset(Dataset):\n",
        "    def __init__(self, df, prop_names, vocab=vocabulary, vocab_type='smiles',\n",
        "                 device='cpu', mask=MASK):\n",
        "        super(chemberta_dataset, self).__init__()\n",
        "        self.df = df.fillna(mask)\n",
        "        self.device = device\n",
        "        self.len = len(df)\n",
        "\n",
        "        for col_smi in ['smiles', 'Drug', 'SMILES', 'Smiles', 'smile']:\n",
        "            if col_smi in self.df.columns:\n",
        "                self.smi = self.df[col_smi]; break\n",
        "        self.props = self.df[prop_names]\n",
        "        self.vocab_type = vocab_type\n",
        "\n",
        "    def __getitem__(self, idx):\n",
        "        lab = torch.tensor(self.props.iloc[idx],\n",
        "                           dtype=torch.float32).to(self.device)\n",
        "        smi = self.smi[idx]\n",
        "\n",
        "        return [smi, lab]\n",
        "\n",
        "    def __len__(self): return self.len"
      ],
      "metadata": {
        "id": "GAXi2MGml_VR"
      },
      "execution_count": 4,
      "outputs": []
    },
    {
      "cell_type": "code",
      "source": [
        "name = names_cls[0]\n",
        "trn, val, tst = collect_data(name)\n",
        "if isinstance(name, str): name = [name]\n",
        "is_r = [names_dict[n] for n in name]\n",
        "print(is_r)"
      ],
      "metadata": {
        "colab": {
          "base_uri": "https://localhost:8080/"
        },
        "id": "x9-wbO-woSDP",
        "outputId": "dc0a75a4-17ad-4dec-e2f1-342d0d0a85b0"
      },
      "execution_count": 10,
      "outputs": [
        {
          "output_type": "stream",
          "name": "stderr",
          "text": [
            "Found local copy...\n",
            "Loading...\n",
            "Done!\n"
          ]
        },
        {
          "output_type": "stream",
          "name": "stdout",
          "text": [
            "collect data for:  ['CYP2C19_Veith']\n",
            "[False]\n"
          ]
        }
      ]
    },
    {
      "cell_type": "code",
      "source": [
        "params = {'batch_size':16, 'shuffle': True, 'drop_last':False, 'num_workers':0}\n",
        "trn_l = DataLoader(chemberta_dataset(trn, name), **params)\n",
        "val_l = DataLoader(chemberta_dataset(val, name), **params)\n",
        "tst_l = DataLoader(chemberta_dataset(tst, name), **params)\n",
        "for idx, (x, y_true) in enumerate(trn_l):\n",
        "    y_true = y_true.reshape(len(y_true), 1)\n",
        "    print(y_true.shape)\n",
        "    break"
      ],
      "metadata": {
        "colab": {
          "base_uri": "https://localhost:8080/"
        },
        "id": "9j-5FfhApWf8",
        "outputId": "8b75a402-16e3-4658-8fbf-028591462bbf"
      },
      "execution_count": 11,
      "outputs": [
        {
          "output_type": "stream",
          "name": "stdout",
          "text": [
            "torch.Size([16, 1])\n"
          ]
        }
      ]
    },
    {
      "cell_type": "code",
      "source": [
        "model = chembertforclassification(output_size=len(name)).cuda()\n",
        "optimizer = optim.AdamW(params=model.parameters(), lr=1e-5, weight_decay=1e-2)\n",
        "loss_function = nn.CrossEntropyLoss().cuda()"
      ],
      "metadata": {
        "id": "7e0XB5S_pe_a"
      },
      "execution_count": 12,
      "outputs": []
    },
    {
      "cell_type": "code",
      "source": [
        "for epoch in range(20):\n",
        "    train_epoch_MLP(model, trn_l, is_r, name, device='cuda',\n",
        "                epoch=epoch, optimizer=optimizer, MASK=-100,\n",
        "                scale_dict=None, weight_loss=None,\n",
        "                model_type='model', ver=True)\n",
        "\n",
        "    train_epoch_MLP(model, val_l, is_r, name, device='cuda',\n",
        "                epoch=epoch, optimizer=None, MASK=-100,\n",
        "                scale_dict=None, weight_loss=None,\n",
        "                model_type='model', ver=True)\n",
        "\n",
        "_ = train_epoch_MLP(model, tst_l, is_r, name, device='cuda',\n",
        "                epoch=None, optimizer=None, MASK=-100,\n",
        "                scale_dict=None, weight_loss=None,\n",
        "                model_type='model', ver=True)"
      ],
      "metadata": {
        "colab": {
          "base_uri": "https://localhost:8080/"
        },
        "id": "oczPWkrr4KyC",
        "outputId": "8d10020a-c436-406c-bb3d-1a61835fdaaf"
      },
      "execution_count": null,
      "outputs": [
        {
          "metadata": {
            "tags": null
          },
          "name": "stdout",
          "output_type": "stream",
          "text": [
            "Epoch:0, [Train] Loss: 0.569\n",
            "Epoch:0, [Valid] Loss: 0.472\n",
            "Epoch:1, [Train] Loss: 0.453\n",
            "Epoch:1, [Valid] Loss: 0.435\n",
            "Epoch:2, [Train] Loss: 0.410\n",
            "Epoch:2, [Valid] Loss: 0.421\n",
            "Epoch:3, [Train] Loss: 0.378\n",
            "Epoch:3, [Valid] Loss: 0.417\n",
            "Epoch:4, [Train] Loss: 0.353\n",
            "Epoch:4, [Valid] Loss: 0.416\n"
          ]
        }
      ]
    },
    {
      "cell_type": "code",
      "source": [
        "from IPython.display import Code"
      ],
      "metadata": {
        "id": "Li3R0Ff82tLp"
      },
      "execution_count": 11,
      "outputs": []
    },
    {
      "cell_type": "code",
      "source": [],
      "metadata": {
        "colab": {
          "base_uri": "https://localhost:8080/",
          "height": 559
        },
        "id": "53zHWWUq2R6y",
        "outputId": "49fb16fc-7d3e-4766-c7e2-c373d0986dd5"
      },
      "execution_count": 9,
      "outputs": [
        {
          "output_type": "stream",
          "name": "stdout",
          "text": [
            "[Test] Loss: 0.264\n",
            "*************** Caco2_Wang ***************\n",
            "  MAE     MSE     RMSE    R2     pcc     spearman\n",
            "&0.403  &0.265  &0.515  &0.582  &0.769  &0.696\n"
          ]
        },
        {
          "output_type": "display_data",
          "data": {
            "text/plain": [
              "<Figure size 640x480 with 1 Axes>"
            ],
            "image/png": "[encoded data removed]"
          },
          "metadata": {}
        },
        {
          "output_type": "stream",
          "name": "stdout",
          "text": [
            "\n"
          ]
        }
      ]
    },
    {
      "cell_type": "code",
      "source": [
        "Code('scripts/train.py')"
      ],
      "metadata": {
        "id": "edQJtvz62vsb"
      },
      "execution_count": null,
      "outputs": []
    },
    {
      "cell_type": "code",
      "source": [
        "def train_epoch_MLP_v1(model, loader, IS_R, names, device,\n",
        "                    epoch=None, optimizer=None, MASK=-100,\n",
        "                    scale_dict=None, weight_loss=None,\n",
        "                    model_type='model', ver=False):\n",
        "    \"\"\"\n",
        "    param weight_loss: list, the weight of loss for different tasks\n",
        "    \"\"\"\n",
        "\n",
        "    if optimizer==None: # no optimizer, either validation or test\n",
        "        model.eval()    # model evaluation for either valid or test\n",
        "        if epoch != None: train_type='Valid' # if epoch is inputted, its valid\n",
        "        else: train_type = 'Test' # if no epoch information, its test\n",
        "    else: model.train(); train_type='Train' # if optimizer inputted, its train\n",
        "    print(names)\n",
        "    if isinstance(names, str): names = [names]\n",
        "    if isinstance(IS_R, list): IS_R_list = IS_R\n",
        "    else: IS_R_list = [IS_R] * len(names)\n",
        "    if weight_loss == None: weight_loss = [1.0/len(names)]*len(names)\n",
        "\n",
        "    total_loss, losses_list, y_probs, y_label = 0, [], {}, {}\n",
        "    for idx, batch_data in enumerate(loader):\n",
        "        \"\"\"\n",
        "        len(batch_data) could determine which algorithm\n",
        "        len(batch_data) == 2: MLP, GIN, RNN, ENSEMBLE, chemberta\n",
        "        len(batch_data) == 4: AttentiveFP\n",
        "        \"\"\"\n",
        "        if len(batch_data) == 2:  # MLP or GIN or RNN\n",
        "\n",
        "            fp, labels = batch_data\n",
        "            labels = labels.to(device)\n",
        "            try: fp = fp.to(device) # MLP, GIN, RNN\n",
        "            except:\n",
        "                fp = list(fp)   # actually SMILES, convert tuple to list\n",
        "                labels = labels.reshape(len(fp), len(names))\n",
        "\n",
        "            mask = labels == MASK\n",
        "            pred = model(fp)\n",
        "            assert labels.shape == pred.shape\n",
        "            # print(labels.shape, pred.shape, mask.shape)\n",
        "\n",
        "        elif len(batch_data) == 4: # attentiveFP\n",
        "            smiles, bg, labels, masks = batch_data\n",
        "            bg,labels,masks = bg.to(device), labels.to(device), masks.to(device)\n",
        "            n_feats = bg.ndata.pop('hv').to(device)\n",
        "            e_feats = bg.edata.pop('he').to(device)\n",
        "            pred = model(bg, n_feats, e_feats)\n",
        "            mask = masks < 1\n",
        "\n",
        "        batch_loss_list = []\n",
        "        for j, (name, IS_R, w) in enumerate(zip(names, IS_R_list, weight_loss)):\n",
        "            loss_func = get_loss_fn(IS_R)\n",
        "            # print(pred[:, j].shape)\n",
        "            probs = pred[:, j][~mask[:, j]]\n",
        "            label = labels[:, j][~mask[:, j]]\n",
        "\n",
        "            len_here = label.shape[0] # num of data with labels\n",
        "            loss_here = loss_func(probs, label)\n",
        "            if len_here != 0:\n",
        "                loss_here /= len_here\n",
        "                batch_loss_list.append(loss_here.item())\n",
        "            else:       batch_loss_list.append(float(0))\n",
        "\n",
        "            if j == 0: loss  = loss_here * w\n",
        "            else:      loss += loss_here * w\n",
        "\n",
        "            if IS_R == False: probs = F.sigmoid(probs)\n",
        "            if train_type != 'Train': # valid or test, output probs and labels\n",
        "                                      # if train, no process prob to save time\n",
        "                probs = probs.cpu().detach().numpy().tolist()\n",
        "                label = label.cpu().detach().numpy().tolist()\n",
        "                if scale_dict != None:\n",
        "                    if name in scale_dict.keys():\n",
        "                        min_here = scale_dict[name][0]\n",
        "                        max_here = scale_dict[name][1]\n",
        "                        del_here = max_here - min_here\n",
        "                        label = [l * del_here + min_here for l in label]\n",
        "                        probs = [p * del_here + min_here for p in probs]\n",
        "\n",
        "                if idx == 0: y_probs[name], y_label[name] = probs, label\n",
        "                else:     y_probs[name] += probs; y_label[name] += label\n",
        "\n",
        "        if len(losses_list) == 0:               losses_list = batch_loss_list\n",
        "        else: losses_list = [i+j for i, j in zip(losses_list, batch_loss_list)]\n",
        "\n",
        "        total_loss += loss.item()\n",
        "\n",
        "        if optimizer != None:\n",
        "            optimizer.zero_grad(); loss.backward(); optimizer.step()\n",
        "\n",
        "    total_loss /= len(loader) # no need /loader.dataset since has / len_here\n",
        "\n",
        "    if epoch != None: # train or valid\n",
        "        if ver: print(f'Epoch:{epoch}, [{train_type}] Loss: {total_loss:.3f}')\n",
        "\n",
        "    elif epoch == None: # test\n",
        "        print(f'[{train_type}] Loss: {total_loss:.3f}')\n",
        "        performance = eval_dict(y_probs, y_label, names, IS_R_list,\n",
        "                                model_type=model_type, draw_fig=True)\n",
        "        performance['loss'] = float(total_loss)\n",
        "\n",
        "    IS_R = IS_R_list\n",
        "    if   train_type == 'Train': return total_loss, losses_list, IS_R # train\n",
        "    elif train_type == 'Valid': return total_loss,  y_probs, y_label # valid\n",
        "    else:                       return performance, y_probs, y_label # test\n",
        "\n",
        "for epoch in range(20):\n",
        "    train_epoch_MLP(model, trn_l, is_r, name, device='cuda',\n",
        "                epoch=epoch, optimizer=optimizer, MASK=-100,\n",
        "                scale_dict=None, weight_loss=None,\n",
        "                model_type='model', ver=True)\n",
        "\n",
        "    train_epoch_MLP(model, val_l, is_r, name, device='cuda',\n",
        "                epoch=epoch, optimizer=None, MASK=-100,\n",
        "                scale_dict=None, weight_loss=None,\n",
        "                model_type='model', ver=True)\n",
        "\n",
        "    train_epoch_MLP(model, tst_l, is_r, name, device='cuda',\n",
        "                epoch=None, optimizer=None, MASK=-100,\n",
        "                scale_dict=None, weight_loss=None,\n",
        "                model_type='model', ver=True)"
      ],
      "metadata": {
        "id": "nNg6EVOHrSgU"
      },
      "execution_count": null,
      "outputs": []
    },
    {
      "cell_type": "code",
      "source": [
        "model.train()\n",
        "total_loss = 0\n",
        "temp_path = 'ckpt.pt'\n",
        "for epoch in range(20):\n",
        "    for idx, (x, y_true) in enumerate(trn_l):\n",
        "        optimizer.zero_grad()\n",
        "\n",
        "        output = model(list(x))\n",
        "        print(output)\n",
        "        break\n",
        "#         loss = loss_function(output, y_true.cuda())\n",
        "#         loss.backward()\n",
        "#         optimizer.step()\n",
        "#         total_loss += loss.item()\n",
        "# torch.save(model.state_dict(), temp_path)"
      ],
      "metadata": {
        "id": "oBfPB1Lipn05"
      },
      "execution_count": null,
      "outputs": []
    },
    {
      "cell_type": "code",
      "source": [
        "output.shape"
      ],
      "metadata": {
        "colab": {
          "base_uri": "https://localhost:8080/"
        },
        "id": "Up4dEc2jpvWu",
        "outputId": "e18d96f8-abba-49e1-eaee-1ab02e72c4c8"
      },
      "execution_count": 49,
      "outputs": [
        {
          "output_type": "execute_result",
          "data": {
            "text/plain": [
              "torch.Size([16, 1])"
            ]
          },
          "metadata": {},
          "execution_count": 49
        }
      ]
    },
    {
      "cell_type": "code",
      "source": [
        "config_MLP = get_config('MLP', name)\n",
        "trn_l_M, val_l_M, tst_l_M, v = get_multi_loader(trn, val, tst, config_MLP)\n",
        "models = PRED(**config_MLP)\n",
        "model_MLP = models.model\n",
        "\n",
        "optimizer_MLP = optim.AdamW(params=model_MLP.parameters(), lr=1e-5, weight_decay=1e-2)\n",
        "\n"
      ],
      "metadata": {
        "colab": {
          "base_uri": "https://localhost:8080/"
        },
        "id": "xjXg6ZJAs_hy",
        "outputId": "5cfcc664-714c-4936-e117-d08d63210a9f"
      },
      "execution_count": 9,
      "outputs": [
        {
          "output_type": "stream",
          "name": "stdout",
          "text": [
            "---> loader for ['CYP2C19_Veith']\n",
            "--> preparing data loader for model type  MLP\n",
            "---> converting SMILES to MACCS...\n",
            "---> FINISHED\n",
            "--> preparing data loader for model type  MLP\n",
            "---> converting SMILES to MACCS...\n",
            "---> FINISHED\n",
            "--> preparing data loader for model type  MLP\n",
            "---> converting SMILES to MACCS...\n",
            "---> FINISHED\n",
            "Model type:  MLP | Model parameters:  32385\n"
          ]
        }
      ]
    },
    {
      "cell_type": "code",
      "source": [
        "train_epoch_MLP(model_MLP, trn_l_M, names_dict[name], name, device='cuda',\n",
        "                epoch=1, optimizer=optimizer_MLP, MASK=-100,\n",
        "                scale_dict=None, weight_loss=None,\n",
        "                model_type='model', ver=False)"
      ],
      "metadata": {
        "id": "N0hNaLAit68B"
      },
      "execution_count": null,
      "outputs": []
    },
    {
      "cell_type": "code",
      "source": [],
      "metadata": {
        "id": "Bykg8uYuuBHu"
      },
      "execution_count": 57,
      "outputs": []
    },
    {
      "cell_type": "code",
      "source": [
        "model_MLP"
      ],
      "metadata": {
        "colab": {
          "base_uri": "https://localhost:8080/"
        },
        "id": "m5NTzowauLDJ",
        "outputId": "4adc44df-b44a-4798-af2f-c07369af48cf"
      },
      "execution_count": 58,
      "outputs": [
        {
          "output_type": "execute_result",
          "data": {
            "text/plain": [
              "Classifier(\n",
              "  (hidden): ModuleList(\n",
              "    (0): Linear(in_features=167, out_features=128, bias=True)\n",
              "    (1): Linear(in_features=128, out_features=64, bias=True)\n",
              "    (2): Linear(in_features=64, out_features=32, bias=True)\n",
              "    (3): Linear(in_features=32, out_features=16, bias=True)\n",
              "  )\n",
              "  (final): Linear(in_features=16, out_features=1, bias=True)\n",
              "  (dropout): Dropout(p=0.1, inplace=False)\n",
              ")"
            ]
          },
          "metadata": {},
          "execution_count": 58
        }
      ]
    },
    {
      "cell_type": "code",
      "source": [],
      "metadata": {
        "id": "w-JFE3LjuNJn"
      },
      "execution_count": null,
      "outputs": []
    },
    {
      "cell_type": "code",
      "source": [],
      "metadata": {
        "id": "t8hcdD1CuZSM"
      },
      "execution_count": null,
      "outputs": []
    }
  ]
}