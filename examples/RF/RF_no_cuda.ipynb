{
  "cells": [
    {
      "cell_type": "markdown",
      "metadata": {
        "id": "view-in-github",
        "colab_type": "text"
      },
      "source": [
        "<a href=\"https://colab.research.google.com/github/yingzibu/MOL2ADMET/blob/main/examples/RF/RF_no_cuda.ipynb\" target=\"_parent\"><img src=\"https://colab.research.google.com/assets/colab-badge.svg\" alt=\"Open In Colab\"/></a>"
      ]
    },
    {
      "cell_type": "code",
      "execution_count": null,
      "metadata": {
        "colab": {
          "base_uri": "https://localhost:8080/"
        },
        "id": "evBHL7Ir5ioX",
        "outputId": "d1df3572-74f9-4ac9-e1fd-69dd4d082c0d"
      },
      "outputs": [
        {
          "name": "stdout",
          "output_type": "stream",
          "text": [
            "\u001b[2K     \u001b[90m━━━━━━━━━━━━━━━━━━━━━━━━━━━━━━━━━━━━━━━━\u001b[0m \u001b[32m34.4/34.4 MB\u001b[0m \u001b[31m32.6 MB/s\u001b[0m eta \u001b[36m0:00:00\u001b[0m\n",
            "\u001b[2K     \u001b[90m━━━━━━━━━━━━━━━━━━━━━━━━━━━━━━━━━━━━━━━━\u001b[0m \u001b[32m107.7/107.7 kB\u001b[0m \u001b[31m2.3 MB/s\u001b[0m eta \u001b[36m0:00:00\u001b[0m\n",
            "\u001b[?25h  Preparing metadata (setup.py) ... \u001b[?25l\u001b[?25hdone\n",
            "\u001b[2K     \u001b[90m━━━━━━━━━━━━━━━━━━━━━━━━━━━━━━━━━━━━━━━━\u001b[0m \u001b[32m29.4/29.4 MB\u001b[0m \u001b[31m32.1 MB/s\u001b[0m eta \u001b[36m0:00:00\u001b[0m\n",
            "\u001b[?25h  Building wheel for PyTDC (setup.py) ... \u001b[?25l\u001b[?25hdone\n"
          ]
        }
      ],
      "source": [
        "! pip install rdkit --quiet\n",
        "! pip install selfies --quiet\n",
        "! pip install PyTDC --quiet\n",
        "! pip install mycolorpy --quiet\n"
      ]
    },
    {
      "cell_type": "markdown",
      "metadata": {
        "id": "MYoMv1zQ5lx1"
      },
      "source": [
        "# Random Forest as Baseline"
      ]
    },
    {
      "cell_type": "code",
      "execution_count": null,
      "metadata": {
        "colab": {
          "base_uri": "https://localhost:8080/"
        },
        "id": "OlLMrbOm5Wgy",
        "outputId": "d0d88b3d-9d40-4d07-eac9-a2d9bb4acd6e"
      },
      "outputs": [
        {
          "name": "stdout",
          "output_type": "stream",
          "text": [
            "/content/drive/MyDrive/ADMET\n"
          ]
        }
      ],
      "source": [
        "cd /content/drive/MyDrive/ADMET"
      ]
    },
    {
      "cell_type": "code",
      "execution_count": null,
      "metadata": {
        "id": "qTUQbbCz5kwK"
      },
      "outputs": [],
      "source": [
        "import plotly.figure_factory as ff\n",
        "import numpy as np\n",
        "import matplotlib.pyplot as plt\n",
        "from scripts.preprocess_mols import *\n",
        "from scripts.CONSTANT import *\n",
        "from scripts.eval_utils import *\n",
        "from rdkit import Chem\n",
        "from rdkit.Chem.MACCSkeys import GenMACCSKeys\n",
        "\n",
        "m = Chem.MolFromSmiles\n",
        "header = ['bit' + str(i) for i in range(167)]\n",
        "MASK = -100\n",
        "\n",
        "def smile_list_to_MACCS(smi_list:list):\n",
        "    MACCS_list = []\n",
        "    for smi in smi_list:\n",
        "        maccs = [float(i) for i in list(GenMACCSKeys(m(smi)).ToBitString())]\n",
        "        MACCS_list.append(maccs)\n",
        "    return MACCS_list\n",
        "\n",
        "def process(data_, ver=True):\n",
        "    data = data_.copy()\n",
        "    # data = convert_with_qed_sa(data)\n",
        "    if ver: print('---> converting SMILES to MACCS...')\n",
        "    MACCS_list = smile_list_to_MACCS(data['Drug'].tolist())\n",
        "    data[header] = pd.DataFrame(MACCS_list)\n",
        "    if ver: print('---> FINISHED')\n",
        "    return data\n",
        "\n",
        "# radius = 2 : morgan ECFP4\n",
        "# radius = 3 : ECFP6\n",
        "def smile_list_to_MORGAN(smi_list, morgan_fp_len=MORGAN_LEN, radius=RADIUS):\n",
        "    import rdkit\n",
        "    from rdkit import Chem\n",
        "    from tqdm import tqdm\n",
        "    from rdkit.Chem.AllChem import GetMorganFingerprintAsBitVect as MorganFP\n",
        "    MORGAN_list = []\n",
        "    for smi in tqdm(smi_list, total=len(smi_list)):\n",
        "        mol = m(smi)\n",
        "        morgan = [float(i) for i in list(MorganFP(m(smi), useChirality=True,\n",
        "                                        radius=radius, nBits=morgan_fp_len))]\n",
        "\n",
        "        MORGAN_list.append(morgan)\n",
        "    return MORGAN_list\n",
        "\n",
        "def process_Morgan(data_, header=header_MORGAN, ver=True):\n",
        "    data = data_.copy()\n",
        "    if ver: print('---> converting SMILES to Morgan FP...')\n",
        "    l = smile_list_to_MORGAN(data['Drug'].tolist())\n",
        "    len_here = len(l[0])\n",
        "    assert len_here == len(header)\n",
        "    data[header] = pd.DataFrame(l)\n",
        "    if ver: print('---> FINISHED')\n",
        "\n",
        "    return data"
      ]
    },
    {
      "cell_type": "markdown",
      "metadata": {
        "id": "iWJNAFWI5-UG"
      },
      "source": [
        "## classification"
      ]
    },
    {
      "cell_type": "code",
      "execution_count": null,
      "metadata": {
        "id": "jL3N2g7Q7IrX"
      },
      "outputs": [],
      "source": [
        "from sklearn.ensemble import RandomForestClassifier as RFC\n",
        "from scripts.yaml_utils import *\n",
        "\n",
        "def train_RF(name, metric_num, ver=True, repeat_time=1, save_path=None):\n",
        "    trn, val, tst = collect_data(name)\n",
        "    trn = process(trn, ver); val = process(val, ver); tst = process(tst, ver)\n",
        "\n",
        "    trn_x = trn[header]; trn_y = trn[name]\n",
        "    val_x = val[header]; val_y = val[name]\n",
        "\n",
        "    AP_results = []\n",
        "    estimators = []\n",
        "    best_param = 0\n",
        "    max_value = 0\n",
        "\n",
        "    if ver: print(f'Finding best param (n_estimators) for RF on {name}: \\n')\n",
        "    for n in range(1, 12):\n",
        "        n_estimators = 50 * n\n",
        "        model = RFC(n_estimators=n_estimators)\n",
        "        model.fit(trn_x, trn_y)\n",
        "        val_pred = model.predict(val_x)\n",
        "        val_prob = model.predict_proba(val_x)\n",
        "        if ver: print(f'Estimators: {n_estimators}')\n",
        "        results = evaluate(val_y, val_pred, val_prob, ver=ver)\n",
        "        estimators.append(n_estimators)\n",
        "        AP_results.append(results[metric_num])\n",
        "        if results[metric_num] > max_value:\n",
        "            best_param = n_estimators\n",
        "            max_value = results[metric_num]\n",
        "        if ver: print('\\n')\n",
        "\n",
        "    if ver:\n",
        "        plt.plot(estimators, AP_results)\n",
        "        # plt.axhline(y = 0.5, color = 'r', linestyle = '-')\n",
        "        plt.xlabel('n estimators')\n",
        "        plt.ylabel('AUPRC')\n",
        "        plt.title(f'{name}, RF on Validation set')\n",
        "        plt.show(); plt.close()\n",
        "    perfs = []\n",
        "    for i in range(repeat_time):\n",
        "        model = RFC(n_estimators=best_param)\n",
        "        model.fit(trn_x, trn_y)\n",
        "        tst_x = tst[header]; tst_y = tst[name]\n",
        "        tst_pred = model.predict(tst_x)\n",
        "        tst_prob = model.predict_proba(tst_x)\n",
        "        if ver: print(f'best Estimators: {best_param}')\n",
        "        results = evaluate(tst_y, tst_pred, tst_prob, ver=ver)\n",
        "        p = {name: results}\n",
        "        perfs.append(p)\n",
        "    if save_path != None:\n",
        "        with open(f'{save_path}/{name}.pkl', 'wb') as fp:\n",
        "            pickle.dump(perfs, fp)\n",
        "        if ver: print(f'RF on {name} saved: {save_path}/{name}.pkl')\n",
        "    return perfs"
      ]
    },
    {
      "cell_type": "code",
      "execution_count": null,
      "metadata": {
        "colab": {
          "base_uri": "https://localhost:8080/"
        },
        "id": "W8RHmE3HGsfE",
        "outputId": "04041551-b0ef-439a-e49c-c3f146b2b707"
      },
      "outputs": [
        {
          "data": {
            "text/plain": [
              "['CYP2C19_Veith',\n",
              " 'CYP2D6_Veith',\n",
              " 'CYP3A4_Veith',\n",
              " 'CYP1A2_Veith',\n",
              " 'CYP2C9_Veith',\n",
              " 'BBB_Martins',\n",
              " 'Bioavailability_Ma',\n",
              " 'Pgp_Broccatelli',\n",
              " 'HIA_Hou',\n",
              " 'PAMPA_NCATS',\n",
              " 'hERG_Karim',\n",
              " 'AMES',\n",
              " 'CYP2C9_Substrate_CarbonMangels',\n",
              " 'CYP2D6_Substrate_CarbonMangels',\n",
              " 'CYP3A4_Substrate_CarbonMangels',\n",
              " 'DILI',\n",
              " 'Skin Reaction',\n",
              " 'Carcinogens_Lagunin',\n",
              " 'ClinTox']"
            ]
          },
          "execution_count": 11,
          "metadata": {},
          "output_type": "execute_result"
        }
      ],
      "source": [
        "names_cls"
      ]
    },
    {
      "cell_type": "code",
      "execution_count": null,
      "metadata": {
        "colab": {
          "background_save": true,
          "base_uri": "https://localhost:8080/"
        },
        "id": "Q3PvMxnaLbQm",
        "outputId": "a07849b7-1bce-4966-a6e7-64e843f3ed5b"
      },
      "outputs": [
        {
          "name": "stderr",
          "output_type": "stream",
          "text": [
            "Found local copy...\n",
            "Loading...\n",
            "Done!\n"
          ]
        },
        {
          "name": "stdout",
          "output_type": "stream",
          "text": [
            "collect data for:  ['CYP2C19_Veith']\n"
          ]
        },
        {
          "name": "stderr",
          "output_type": "stream",
          "text": [
            "Found local copy...\n",
            "Loading...\n"
          ]
        },
        {
          "name": "stdout",
          "output_type": "stream",
          "text": [
            "******************** CYP2C19_Veith ******************** \n",
            "\t|       acc      |       auc      |       ap      \n",
            "\t&0.780$\\pm$0.003  &0.854$\\pm$0.000  &0.808$\\pm$0.001  collect data for:  ['CYP2D6_Veith']\n"
          ]
        },
        {
          "name": "stderr",
          "output_type": "stream",
          "text": [
            "Done!\n",
            "Found local copy...\n",
            "Loading...\n"
          ]
        },
        {
          "name": "stdout",
          "output_type": "stream",
          "text": [
            "******************** CYP2D6_Veith ******************** \n",
            "\t|       acc      |       auc      |       ap      \n",
            "\t&0.860$\\pm$0.001  &0.857$\\pm$0.001  &0.639$\\pm$0.000  collect data for:  ['CYP3A4_Veith']\n"
          ]
        },
        {
          "name": "stderr",
          "output_type": "stream",
          "text": [
            "Done!\n",
            "Found local copy...\n",
            "Loading...\n"
          ]
        },
        {
          "name": "stdout",
          "output_type": "stream",
          "text": [
            "******************** CYP3A4_Veith ******************** \n",
            "\t|       acc      |       auc      |       ap      \n",
            "\t&0.767$\\pm$0.001  &0.849$\\pm$0.000  &0.790$\\pm$0.001  collect data for:  ['CYP1A2_Veith']\n"
          ]
        },
        {
          "name": "stderr",
          "output_type": "stream",
          "text": [
            "Done!\n",
            "Found local copy...\n",
            "Loading...\n"
          ]
        },
        {
          "name": "stdout",
          "output_type": "stream",
          "text": [
            "******************** CYP1A2_Veith ******************** \n",
            "\t|       acc      |       auc      |       ap      \n",
            "\t&0.840$\\pm$0.001  &0.919$\\pm$0.000  &0.912$\\pm$0.001  collect data for:  ['CYP2C9_Veith']\n"
          ]
        },
        {
          "name": "stderr",
          "output_type": "stream",
          "text": [
            "Done!\n",
            "Found local copy...\n",
            "Loading...\n"
          ]
        },
        {
          "name": "stdout",
          "output_type": "stream",
          "text": [
            "******************** CYP2C9_Veith ******************** \n",
            "\t|       acc      |       auc      |       ap      \n",
            "\t&0.796$\\pm$0.003  &0.867$\\pm$0.002  &0.737$\\pm$0.002  collect data for:  ['BBB_Martins']\n"
          ]
        },
        {
          "name": "stderr",
          "output_type": "stream",
          "text": [
            "Done!\n",
            "Found local copy...\n",
            "Loading...\n"
          ]
        },
        {
          "name": "stdout",
          "output_type": "stream",
          "text": [
            "******************** BBB_Martins ******************** \n",
            "\t|       acc      |       auc      |       ap      \n",
            "\t&0.856$\\pm$0.005  &0.904$\\pm$0.004  &0.960$\\pm$0.004  collect data for:  ['Bioavailability_Ma']\n"
          ]
        },
        {
          "name": "stderr",
          "output_type": "stream",
          "text": [
            "Done!\n",
            "Found local copy...\n",
            "Loading...\n"
          ]
        },
        {
          "name": "stdout",
          "output_type": "stream",
          "text": [
            "******************** Bioavailability_Ma ******************** \n",
            "\t|       acc      |       auc      |       ap      \n",
            "\t&0.747$\\pm$0.007  &0.718$\\pm$0.007  &0.837$\\pm$0.003  collect data for:  ['Pgp_Broccatelli']\n"
          ]
        },
        {
          "name": "stderr",
          "output_type": "stream",
          "text": [
            "Done!\n",
            "Found local copy...\n",
            "Loading...\n",
            "Done!\n"
          ]
        },
        {
          "name": "stdout",
          "output_type": "stream",
          "text": [
            "******************** Pgp_Broccatelli ******************** \n",
            "\t|       acc      |       auc      |       ap      \n",
            "\t&0.831$\\pm$0.011  &0.906$\\pm$0.003  &0.933$\\pm$0.002  collect data for:  ['HIA_Hou']\n"
          ]
        },
        {
          "name": "stderr",
          "output_type": "stream",
          "text": [
            "Found local copy...\n",
            "Loading...\n"
          ]
        },
        {
          "name": "stdout",
          "output_type": "stream",
          "text": [
            "******************** HIA_Hou ******************** \n",
            "\t|       acc      |       auc      |       ap      \n",
            "\t&0.963$\\pm$0.004  &0.979$\\pm$0.002  &0.996$\\pm$0.001  collect data for:  ['PAMPA_NCATS']\n"
          ]
        },
        {
          "name": "stderr",
          "output_type": "stream",
          "text": [
            "Done!\n",
            "Found local copy...\n",
            "Loading...\n"
          ]
        },
        {
          "name": "stdout",
          "output_type": "stream",
          "text": [
            "******************** PAMPA_NCATS ******************** \n",
            "\t|       acc      |       auc      |       ap      \n",
            "\t&0.857$\\pm$0.008  &0.797$\\pm$0.001  &0.950$\\pm$0.001  collect data for:  ['hERG_Karim']\n"
          ]
        },
        {
          "name": "stderr",
          "output_type": "stream",
          "text": [
            "Done!\n",
            "Found local copy...\n",
            "Loading...\n"
          ]
        },
        {
          "name": "stdout",
          "output_type": "stream",
          "text": [
            "******************** hERG_Karim ******************** \n",
            "\t|       acc      |       auc      |       ap      \n",
            "\t&0.836$\\pm$0.003  &0.905$\\pm$0.000  &0.908$\\pm$0.000  collect data for:  ['AMES']\n"
          ]
        },
        {
          "name": "stderr",
          "output_type": "stream",
          "text": [
            "Done!\n",
            "Found local copy...\n",
            "Loading...\n"
          ]
        },
        {
          "name": "stdout",
          "output_type": "stream",
          "text": [
            "******************** AMES ******************** \n",
            "\t|       acc      |       auc      |       ap      \n",
            "\t&0.835$\\pm$0.002  &0.900$\\pm$0.001  &0.909$\\pm$0.001  collect data for:  ['CYP2C9_Substrate_CarbonMangels']\n"
          ]
        },
        {
          "name": "stderr",
          "output_type": "stream",
          "text": [
            "Done!\n",
            "Found local copy...\n",
            "Loading...\n"
          ]
        },
        {
          "name": "stdout",
          "output_type": "stream",
          "text": [
            "******************** CYP2C9_Substrate_CarbonMangels ******************** \n",
            "\t|       acc      |       auc      |       ap      \n",
            "\t&0.769$\\pm$0.006  &0.600$\\pm$0.002  &0.263$\\pm$0.001  collect data for:  ['CYP2D6_Substrate_CarbonMangels']\n"
          ]
        },
        {
          "name": "stderr",
          "output_type": "stream",
          "text": [
            "Done!\n",
            "Found local copy...\n",
            "Loading...\n"
          ]
        },
        {
          "name": "stdout",
          "output_type": "stream",
          "text": [
            "******************** CYP2D6_Substrate_CarbonMangels ******************** \n",
            "\t|       acc      |       auc      |       ap      \n",
            "\t&0.742$\\pm$0.004  &0.791$\\pm$0.006  &0.539$\\pm$0.030  collect data for:  ['CYP3A4_Substrate_CarbonMangels']\n"
          ]
        },
        {
          "name": "stderr",
          "output_type": "stream",
          "text": [
            "Done!\n",
            "Found local copy...\n",
            "Loading...\n"
          ]
        },
        {
          "name": "stdout",
          "output_type": "stream",
          "text": [
            "******************** CYP3A4_Substrate_CarbonMangels ******************** \n",
            "\t|       acc      |       auc      |       ap      \n",
            "\t&0.624$\\pm$0.009  &0.657$\\pm$0.000  &0.627$\\pm$0.003  collect data for:  ['DILI']\n"
          ]
        },
        {
          "name": "stderr",
          "output_type": "stream",
          "text": [
            "Done!\n",
            "Found local copy...\n",
            "Loading...\n"
          ]
        },
        {
          "name": "stdout",
          "output_type": "stream",
          "text": [
            "******************** DILI ******************** \n",
            "\t|       acc      |       auc      |       ap      \n",
            "\t&0.818$\\pm$0.010  &0.886$\\pm$0.003  &0.882$\\pm$0.004  collect data for:  ['Skin Reaction']\n"
          ]
        },
        {
          "name": "stderr",
          "output_type": "stream",
          "text": [
            "Done!\n",
            "Found local copy...\n",
            "Loading...\n"
          ]
        },
        {
          "name": "stdout",
          "output_type": "stream",
          "text": [
            "******************** Skin Reaction ******************** \n",
            "\t|       acc      |       auc      |       ap      \n",
            "\t&0.831$\\pm$0.012  &0.839$\\pm$0.004  &0.828$\\pm$0.004  collect data for:  ['Carcinogens_Lagunin']\n"
          ]
        },
        {
          "name": "stderr",
          "output_type": "stream",
          "text": [
            "Done!\n",
            "Found local copy...\n",
            "Loading...\n"
          ]
        },
        {
          "name": "stdout",
          "output_type": "stream",
          "text": [
            "******************** Carcinogens_Lagunin ******************** \n",
            "\t|       acc      |       auc      |       ap      \n",
            "\t&0.893$\\pm$0.000  &0.820$\\pm$0.015  &0.744$\\pm$0.006  collect data for:  ['ClinTox']\n"
          ]
        },
        {
          "name": "stderr",
          "output_type": "stream",
          "text": [
            "Done!\n"
          ]
        },
        {
          "name": "stdout",
          "output_type": "stream",
          "text": [
            "******************** ClinTox ******************** \n",
            "\t|       acc      |       auc      |       ap      \n",
            "\t&0.921$\\pm$0.002  &0.904$\\pm$0.006  &0.455$\\pm$0.008  "
          ]
        }
      ],
      "source": [
        "name = 'HIA_Hou'\n",
        "ver = False\n",
        "metric_num = -1 # AP\n",
        "repeat_time = 3\n",
        "save_path = 'RF'\n",
        "\n",
        "\n",
        "\n",
        "for name in names_cls:\n",
        "    perfs = train_RF(name, metric_num, ver, repeat_time, save_path)\n",
        "\n",
        "    # with open(f'RF/{name}.pkl', 'rb') as fp:\n",
        "    #     perf_reload = pickle.load(fp)\n",
        "\n",
        "    # eval_perf_list(perf_reload, name)\n",
        "    eval_perf_list(perfs, name)"
      ]
    }
  ],
  "metadata": {
    "colab": {
      "provenance": [],
      "mount_file_id": "1WQzKw1zBqExVUyZvg8QsWJ4cJmJFL__U",
      "authorship_tag": "ABX9TyOyyMYvJ5QKpnjtv6fqY+m7",
      "include_colab_link": true
    },
    "kernelspec": {
      "display_name": "Python 3",
      "name": "python3"
    },
    "language_info": {
      "name": "python"
    }
  },
  "nbformat": 4,
  "nbformat_minor": 0
}