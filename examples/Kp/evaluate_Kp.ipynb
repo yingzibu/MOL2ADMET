{
  "cells": [
    {
      "cell_type": "markdown",
      "metadata": {
        "id": "view-in-github",
        "colab_type": "text"
      },
      "source": [
        "<a href=\"https://colab.research.google.com/github/yingzibu/MOL2ADMET/blob/main/examples/Kp/evaluate_Kp.ipynb\" target=\"_parent\"><img src=\"https://colab.research.google.com/assets/colab-badge.svg\" alt=\"Open In Colab\"/></a>"
      ]
    },
    {
      "cell_type": "code",
      "execution_count": 1,
      "metadata": {
        "colab": {
          "base_uri": "https://localhost:8080/"
        },
        "id": "64umKpGN4Nw3",
        "outputId": "d9de3092-d77f-40ca-f8b1-27d1290e7ac1"
      },
      "outputs": [
        {
          "output_type": "stream",
          "name": "stdout",
          "text": [
            "2.1.0+cu121\n",
            "cuda:  True\n"
          ]
        }
      ],
      "source": [
        "import torch\n",
        "print(torch.__version__)\n",
        "print('cuda: ', torch.cuda.is_available())"
      ]
    },
    {
      "cell_type": "code",
      "execution_count": null,
      "metadata": {
        "id": "uL3oiTld4XMQ"
      },
      "outputs": [],
      "source": [
        "! pip install rdkit --quiet\n",
        "! pip install PyTDC --quiet\n",
        "! pip install mycolorpy --quiet\n",
        "! pip install selfies  --quiet\n",
        "! pip install pubchempy --quiet\n",
        "! pip install dgllife --quiet\n",
        "! pip install molvs --quiet\n",
        "! pip install dgl -f https://data.dgl.ai/wheels/cu121/repo.html --quiet\n",
        "! pip install dglgo -f https://data.dgl.ai/wheels-test/repo.html --quiet\n",
        "! pip install DeepPurpose --quiet\n",
        "! pip install git+https://github.com/bp-kelley/descriptastorus --quiet\n",
        "! pip install pandas-flavor --quiet"
      ]
    },
    {
      "cell_type": "code",
      "execution_count": 3,
      "metadata": {
        "colab": {
          "base_uri": "https://localhost:8080/"
        },
        "id": "VlCpEz9r4YsM",
        "outputId": "e2fd5bf0-9d93-475b-84eb-0a85c33e104e"
      },
      "outputs": [
        {
          "output_type": "stream",
          "name": "stdout",
          "text": [
            "/content/drive/MyDrive/ADMET\n"
          ]
        }
      ],
      "source": [
        "cd /content/drive/MyDrive/ADMET"
      ]
    },
    {
      "cell_type": "code",
      "execution_count": 4,
      "metadata": {
        "colab": {
          "base_uri": "https://localhost:8080/"
        },
        "id": "80NzGqIJ4a27",
        "outputId": "17c624ce-c670-4dbb-fdd9-db7d02586620"
      },
      "outputs": [
        {
          "output_type": "stream",
          "name": "stderr",
          "text": [
            "DGL backend not selected or invalid.  Assuming PyTorch for now.\n"
          ]
        },
        {
          "output_type": "stream",
          "name": "stdout",
          "text": [
            "Setting the default backend to \"pytorch\". You can change it in the ~/.dgl/config.json file or export the DGLBACKEND environment variable.  Valid options are: pytorch, mxnet, tensorflow (all lowercase)\n",
            "VOCAB TYPE: smiles\n"
          ]
        }
      ],
      "source": [
        "from scripts.func_utils import make_path, convert_with_qed_sa, get_min, \\\n",
        "                                plot_loss, plot_performance\n",
        "\n",
        "from scripts.eval_utils import *\n",
        "from scripts.preprocess_mols import *\n",
        "from scripts.model_architecture import *\n",
        "from scripts.dataset import *\n",
        "from scripts.train import *\n",
        "import yaml\n",
        "import pandas as pd\n",
        "from scripts.get_vocab import *\n",
        "\n",
        "from tdc.single_pred import ADME\n",
        "from tdc.single_pred import Tox\n",
        "from scripts.CONSTANT import *\n",
        "from scripts.yaml_utils import *\n",
        "\n",
        "from scripts.TRAIN import *\n",
        "\n",
        "print('VOCAB TYPE:', VOCAB_TYPE)\n"
      ]
    },
    {
      "cell_type": "markdown",
      "metadata": {
        "id": "m2ksUU_-AVFe"
      },
      "source": [
        "## single task on Kp"
      ]
    },
    {
      "cell_type": "code",
      "execution_count": 5,
      "metadata": {
        "colab": {
          "base_uri": "https://localhost:8080/"
        },
        "id": "XIBO9wqP4d1V",
        "outputId": "7dce619d-4501-492c-80bf-e056fe8aecdb"
      },
      "outputs": [
        {
          "output_type": "stream",
          "name": "stdout",
          "text": [
            "\n",
            " ============================== MLP ==============================\n",
            "repeated num # 3 idx 1 has the lowest loss\n",
            "******************** Kp ******************** \n",
            "\t|       mae      |       mse      |       rmse      |       r2      \n",
            "\t&7.032$\\pm$0.237  &149.006$\\pm$14.536  &12.193$\\pm$0.586  &0.211$\\pm$0.077  \n",
            " idx 1: &6.891            &138.573            &11.772            &0.266            \n",
            "\n",
            "\n",
            " ============================== AttentiveFP ==============================\n",
            "repeated num # 3 idx 1 has the lowest loss\n",
            "******************** Kp ******************** \n",
            "\t|       mae      |       mse      |       rmse      |       r2      \n",
            "\t&7.592$\\pm$0.981  &119.477$\\pm$23.825  &10.871$\\pm$1.136  &0.315$\\pm$0.137  \n",
            " idx 1: &6.244            &85.922            &9.269            &0.508            \n",
            "\n",
            "\n",
            " ============================== GIN ==============================\n",
            "repeated num # 3 idx 1 has the lowest loss\n",
            "******************** Kp ******************** \n",
            "\t|       mae      |       mse      |       rmse      |       r2      \n",
            "\t&7.394$\\pm$0.429  &150.511$\\pm$7.541  &12.264$\\pm$0.310  &0.203$\\pm$0.040  \n",
            " idx 1: &6.885            &139.846            &11.826            &0.260            \n",
            "\n",
            "\n",
            " ============================== RNN ==============================\n",
            "repeated num # 3 idx 0 has the lowest loss\n",
            "******************** Kp ******************** \n",
            "\t|       mae      |       mse      |       rmse      |       r2      \n",
            "\t&7.455$\\pm$0.079  &164.190$\\pm$0.967  &12.814$\\pm$0.038  &0.131$\\pm$0.005  \n",
            " idx 0: &7.561            &162.830            &12.760            &0.138            \n",
            "\n"
          ]
        }
      ],
      "source": [
        "folder_name = 'Kp/'\n",
        "for model_type in ['MLP', 'AttentiveFP', 'GIN', 'RNN']:\n",
        "    print('\\n','='*30, model_type, '='*30)\n",
        "    perfs = []\n",
        "    for i in range(3):\n",
        "        file_name = folder_name + model_type + '_ST_' + str(i) + '.yml'\n",
        "        p = yml_report(file_name)\n",
        "        perfs.append(p)\n",
        "    eval_perf_list(perfs, 'Kp', metrics_dict={})\n"
      ]
    },
    {
      "cell_type": "markdown",
      "metadata": {
        "id": "g7Gg88D1D1yD"
      },
      "source": [
        "# Kp trained with Absorption 3 tasks"
      ]
    },
    {
      "cell_type": "code",
      "execution_count": 6,
      "metadata": {
        "colab": {
          "base_uri": "https://localhost:8080/"
        },
        "id": "SGv9BeIW4f3d",
        "outputId": "2405b2e8-721d-48eb-d259-fa6010a9f971"
      },
      "outputs": [
        {
          "output_type": "stream",
          "name": "stdout",
          "text": [
            "\n",
            " ============================== MLP ==============================\n",
            "repeated num # 3 idx 2 has the lowest loss\n",
            "******************** Kp ******************** \n",
            "\t|       mae      |       mse      |       rmse      |       r2      \n",
            "\t&5.985$\\pm$0.227  &137.201$\\pm$3.043  &11.713$\\pm$0.130  &0.274$\\pm$0.016  \n",
            " idx 2: &5.792            &136.197            &11.670            &0.279            \n",
            "\n",
            "\n",
            " ============================== AttentiveFP ==============================\n",
            "repeated num # 3 idx 1 has the lowest loss\n",
            "******************** Kp ******************** \n",
            "\t|       mae      |       mse      |       rmse      |       r2      \n",
            "\t&6.052$\\pm$0.079  &145.145$\\pm$7.770  &12.043$\\pm$0.324  &0.231$\\pm$0.041  \n",
            " idx 1: &6.162            &153.893            &12.405            &0.185            \n",
            "\n",
            "\n",
            " ============================== GIN ==============================\n",
            "repeated num # 3 idx 2 has the lowest loss\n",
            "******************** Kp ******************** \n",
            "\t|       mae      |       mse      |       rmse      |       r2      \n",
            "\t&5.672$\\pm$0.235  &121.901$\\pm$13.746  &11.024$\\pm$0.617  &0.355$\\pm$0.073  \n",
            " idx 2: &5.349            &107.469            &10.367            &0.431            \n",
            "\n",
            "\n",
            " ============================== RNN ==============================\n",
            "repeated num # 3 idx 1 has the lowest loss\n",
            "******************** Kp ******************** \n",
            "\t|       mae      |       mse      |       rmse      |       r2      \n",
            "\t&7.075$\\pm$0.623  &206.778$\\pm$19.322  &14.364$\\pm$0.666  &-0.095$\\pm$0.102  \n",
            " idx 1: &6.199            &186.885            &13.671            &0.010            \n",
            "\n"
          ]
        }
      ],
      "source": [
        "folder_name = 'Kp+A3/'\n",
        "for model_type in ['MLP', 'AttentiveFP', 'GIN', 'RNN']:\n",
        "    print('\\n','='*30, model_type, '='*30)\n",
        "    perfs = []\n",
        "    for i in range(3):\n",
        "        file_name = folder_name + model_type + '_MT_' + str(i) + '.yml'\n",
        "        p = yml_report(file_name)\n",
        "        perfs.append(p)\n",
        "    eval_perf_list(perfs, 'Kp', metrics_dict={})\n"
      ]
    },
    {
      "cell_type": "code",
      "execution_count": 7,
      "metadata": {
        "colab": {
          "base_uri": "https://localhost:8080/"
        },
        "id": "U9s--YfS_qNL",
        "outputId": "22188f49-292d-4c42-aba5-3e0d2e50516b"
      },
      "outputs": [
        {
          "output_type": "stream",
          "name": "stdout",
          "text": [
            "\n",
            " ============================== MLP ==============================\n",
            "repeated num # 3 idx 1 has the lowest loss\n",
            "******************** Kp ******************** \n",
            "\t|       mae      |       mse      |       rmse      |       r2      \n",
            "\t&6.304$\\pm$0.281  &157.793$\\pm$3.373  &12.561$\\pm$0.135  &0.164$\\pm$0.018  \n",
            " idx 1: &5.936            &160.165            &12.656            &0.152            \n",
            "\n",
            "\n",
            " ============================== AttentiveFP ==============================\n",
            "repeated num # 3 idx 0 has the lowest loss\n",
            "******************** Kp ******************** \n",
            "\t|       mae      |       mse      |       rmse      |       r2      \n",
            "\t&5.464$\\pm$0.643  &108.349$\\pm$27.048  &10.333$\\pm$1.259  &0.426$\\pm$0.143  \n",
            " idx 0: &4.648            &85.498            &9.246            &0.547            \n",
            "\n",
            "\n",
            " ============================== GIN ==============================\n",
            "repeated num # 3 idx 0 has the lowest loss\n",
            "******************** Kp ******************** \n",
            "\t|       mae      |       mse      |       rmse      |       r2      \n",
            "\t&5.401$\\pm$0.237  &109.500$\\pm$4.838  &10.462$\\pm$0.229  &0.420$\\pm$0.026  \n",
            " idx 0: &5.629            &116.341            &10.786            &0.384            \n",
            "\n",
            "\n",
            " ============================== RNN ==============================\n",
            "repeated num # 3 idx 2 has the lowest loss\n",
            "******************** Kp ******************** \n",
            "\t|       mae      |       mse      |       rmse      |       r2      \n",
            "\t&6.081$\\pm$0.246  &167.403$\\pm$11.124  &12.931$\\pm$0.430  &0.114$\\pm$0.059  \n",
            " idx 2: &6.375            &181.228            &13.462            &0.040            \n",
            "\n"
          ]
        }
      ],
      "source": [
        "folder_name = 'Kp+M5/'\n",
        "for model_type in ['MLP', 'AttentiveFP', 'GIN', 'RNN']:\n",
        "    print('\\n','='*30, model_type, '='*30)\n",
        "    perfs = []\n",
        "    for i in range(3):\n",
        "        file_name = folder_name + model_type + '_MT_' + str(i) + '.yml'\n",
        "        p = yml_report(file_name)\n",
        "        perfs.append(p)\n",
        "    eval_perf_list(perfs, 'Kp', metrics_dict={})\n"
      ]
    },
    {
      "cell_type": "code",
      "execution_count": 8,
      "metadata": {
        "colab": {
          "base_uri": "https://localhost:8080/"
        },
        "id": "7-rzK-VnAkFs",
        "outputId": "6da8ed59-0dad-46f9-8e3b-83185683d401"
      },
      "outputs": [
        {
          "output_type": "stream",
          "name": "stdout",
          "text": [
            "\n",
            "Run # 0 for RNN MT\t | save dir:  Kp+M5/RNN_MT_0 | \t--> pre data loaded\n",
            "\n",
            "Run # 1 for RNN MT\t | save dir:  Kp+M5/RNN_MT_1 | \t--> pre data loaded\n",
            "\n",
            "Run # 2 for RNN MT\t | save dir:  Kp+M5/RNN_MT_2 | \t--> pre data loaded\n",
            "repeated num # 3 idx 2 has the lowest loss\n",
            "******************** CYP2C19_Veith ******************** \n",
            "\t|       acc      |       w_acc      |       prec      |       recall      |       sp      |       f1      |       auc      |       mcc      |       ap      \n",
            "\t&0.805$\\pm$0.004  &0.807$\\pm$0.003  &0.770$\\pm$0.014  &0.822$\\pm$0.015  &0.791$\\pm$0.020  &0.795$\\pm$0.000  &0.877$\\pm$0.004  &0.612$\\pm$0.006  &0.842$\\pm$0.007  \n",
            " idx 2: &0.806            &0.807            &0.772            &0.819            &0.795            &0.795            &0.879            &0.612            &0.846            \n",
            "\n",
            "******************** CYP2D6_Veith ******************** \n",
            "\t|       acc      |       w_acc      |       prec      |       recall      |       sp      |       f1      |       auc      |       mcc      |       ap      \n",
            "\t&0.855$\\pm$0.003  &0.695$\\pm$0.021  &0.667$\\pm$0.024  &0.441$\\pm$0.053  &0.949$\\pm$0.012  &0.528$\\pm$0.031  &0.831$\\pm$0.004  &0.461$\\pm$0.022  &0.616$\\pm$0.015  \n",
            " idx 2: &0.858            &0.691            &0.692            &0.424            &0.957            &0.526            &0.835            &0.467            &0.626            \n",
            "\n",
            "******************** CYP3A4_Veith ******************** \n",
            "\t|       acc      |       w_acc      |       prec      |       recall      |       sp      |       f1      |       auc      |       mcc      |       ap      \n",
            "\t&0.785$\\pm$0.004  &0.779$\\pm$0.005  &0.737$\\pm$0.007  &0.746$\\pm$0.014  &0.813$\\pm$0.009  &0.741$\\pm$0.006  &0.863$\\pm$0.004  &0.558$\\pm$0.009  &0.814$\\pm$0.002  \n",
            " idx 2: &0.790            &0.783            &0.746            &0.743            &0.823            &0.745            &0.865            &0.566            &0.815            \n",
            "\n",
            "******************** CYP1A2_Veith ******************** \n",
            "\t|       acc      |       w_acc      |       prec      |       recall      |       sp      |       f1      |       auc      |       mcc      |       ap      \n",
            "\t&0.828$\\pm$0.005  &0.829$\\pm$0.005  &0.795$\\pm$0.013  &0.856$\\pm$0.010  &0.802$\\pm$0.017  &0.824$\\pm$0.004  &0.912$\\pm$0.004  &0.657$\\pm$0.009  &0.904$\\pm$0.005  \n",
            " idx 2: &0.832            &0.834            &0.800            &0.859            &0.808            &0.829            &0.917            &0.666            &0.908            \n",
            "\n",
            "******************** CYP2C9_Veith ******************** \n",
            "\t|       acc      |       w_acc      |       prec      |       recall      |       sp      |       f1      |       auc      |       mcc      |       ap      \n",
            "\t&0.821$\\pm$0.004  &0.797$\\pm$0.014  &0.744$\\pm$0.011  &0.722$\\pm$0.042  &0.872$\\pm$0.015  &0.732$\\pm$0.016  &0.890$\\pm$0.004  &0.599$\\pm$0.016  &0.784$\\pm$0.005  \n",
            " idx 2: &0.822            &0.796            &0.749            &0.714            &0.877            &0.731            &0.895            &0.599            &0.789            \n",
            "\n",
            "******************** Kp ******************** \n",
            "\t|       mae      |       mse      |       rmse      |       r2      \n",
            "\t&6.081$\\pm$0.246  &167.403$\\pm$11.124  &12.931$\\pm$0.430  &0.114$\\pm$0.059  \n",
            " idx 2: &6.375            &181.228            &13.462            &0.040            \n",
            "\n",
            "******************** CYP2C19_Veith ******************** \n",
            "\t|  acc  |  auc  |  ap  \n",
            "single: &0.806   &0.879   &0.846   \n",
            "******************** CYP2D6_Veith ******************** \n",
            "\t|  acc  |  auc  |  ap  \n",
            "single: &0.858   &0.835   &0.626   \n",
            "******************** CYP3A4_Veith ******************** \n",
            "\t|  acc  |  auc  |  ap  \n",
            "single: &0.790   &0.865   &0.815   \n",
            "******************** CYP1A2_Veith ******************** \n",
            "\t|  acc  |  auc  |  ap  \n",
            "single: &0.832   &0.917   &0.908   \n",
            "******************** CYP2C9_Veith ******************** \n",
            "\t|  acc  |  auc  |  ap  \n",
            "single: &0.822   &0.895   &0.789   \n",
            "******************** Kp ******************** \n",
            "\t|  mae  |  rmse  |  r2  \n",
            "single: &6.375   &13.462   &0.040   \n",
            "\n",
            "\n",
            "\n",
            "\n"
          ]
        }
      ],
      "source": [
        "eval_names = ['CYP2C19_Veith', 'CYP2D6_Veith', 'CYP3A4_Veith',\n",
        "             'CYP1A2_Veith', 'CYP2C9_Veith', 'Kp']\n",
        "perfs = train_mt(eval_names, 'RNN', 'Kp+M5', 3, retrain=False, uw=True)"
      ]
    },
    {
      "cell_type": "code",
      "source": [
        "names = names_M5 + names_AD + ['Kp']\n",
        "\n",
        "for model_type in ['MLP', 'AttentiveFP', 'GIN', 'RNN']:\n",
        "    p = train_mt(names, model_type, 'Kp+M5+AD4', repeat_time=3, retrain=False, uw=True)"
      ],
      "metadata": {
        "colab": {
          "base_uri": "https://localhost:8080/"
        },
        "id": "ecTahcVPtOpP",
        "outputId": "976ef779-a705-41df-bfb4-ef7126c50bd4"
      },
      "execution_count": null,
      "outputs": [
        {
          "output_type": "stream",
          "name": "stdout",
          "text": [
            "---> FINISHED\n",
            "--> preparing data loader for model type  MLP\n",
            "---> converting SMILES to MACCS...\n",
            "---> FINISHED\n",
            "Model type:  MLP | Model parameters:  32538\n",
            "Start training MLP...\n",
            "Epoch:0 [Train] Loss: 0.514 | [Valid] Loss: 0.544\tSAVE MODEL: loss: inf -> 0.544 | runtime: 0.296 ms\n",
            "Epoch:1 [Train] Loss: 0.530 | [Valid] Loss: 0.043\tSAVE MODEL: loss: 0.544 -> 0.043 | runtime: 0.245 ms\n",
            "Epoch:2 [Train] Loss: 0.058 | [Valid] Loss: 0.041\tSAVE MODEL: loss: 0.043 -> 0.041 | runtime: 0.244 ms\n",
            "Epoch:3 [Train] Loss: 0.049 | [Valid] Loss: 0.039\tSAVE MODEL: loss: 0.041 -> 0.039 | runtime: 0.246 ms\n",
            "Epoch:4 [Train] Loss: 0.046 | [Valid] Loss: 0.038\tSAVE MODEL: loss: 0.039 -> 0.038 | runtime: 0.248 ms\n",
            "Epoch:5 [Train] Loss: 0.044 | [Valid] Loss: 0.038\tSAVE MODEL: loss: 0.038 -> 0.038 | runtime: 0.247 ms\n",
            "Epoch:6 [Train] Loss: 0.043 | [Valid] Loss: 0.038\tEarlyStopping counter: 1 out of 30\n",
            "Epoch:7 [Train] Loss: 0.042 | [Valid] Loss: 0.037\tSAVE MODEL: loss: 0.038 -> 0.037 | runtime: 0.246 ms\n",
            "Epoch:8 [Train] Loss: 0.043 | [Valid] Loss: 0.037\tEarlyStopping counter: 1 out of 30\n",
            "Epoch:9 [Train] Loss: 0.042 | [Valid] Loss: 0.037\tSAVE MODEL: loss: 0.037 -> 0.037 | runtime: 0.248 ms\n",
            "Epoch:10 [Train] Loss: 0.041 | [Valid] Loss: 0.037\tEarlyStopping counter: 1 out of 30\n"
          ]
        }
      ]
    },
    {
      "cell_type": "code",
      "execution_count": 10,
      "metadata": {
        "id": "aqqgC4x4Ar8a",
        "colab": {
          "base_uri": "https://localhost:8080/"
        },
        "outputId": "928a52dc-8c56-400e-b891-aefd1721a339"
      },
      "outputs": [
        {
          "output_type": "execute_result",
          "data": {
            "text/plain": [
              "['CYP2C19_Veith',\n",
              " 'CYP2D6_Veith',\n",
              " 'CYP3A4_Veith',\n",
              " 'CYP1A2_Veith',\n",
              " 'CYP2C9_Veith',\n",
              " 'BBB_Martins',\n",
              " 'PAMPA_NCATS',\n",
              " 'Lipophilicity_AstraZeneca',\n",
              " 'Solubility_AqSolDB',\n",
              " 'Kp']"
            ]
          },
          "metadata": {},
          "execution_count": 10
        }
      ],
      "source": [
        "names"
      ]
    },
    {
      "cell_type": "code",
      "source": [],
      "metadata": {
        "id": "xqBiANiDtSar"
      },
      "execution_count": null,
      "outputs": []
    }
  ],
  "metadata": {
    "accelerator": "GPU",
    "colab": {
      "machine_shape": "hm",
      "provenance": [],
      "mount_file_id": "15JWLWGh5Fcj1t6treEaqVA_6BQSa2Ygk",
      "authorship_tag": "ABX9TyMH6DKfEt+B2vIMJYSSbBFM",
      "include_colab_link": true
    },
    "kernelspec": {
      "display_name": "Python 3",
      "name": "python3"
    },
    "language_info": {
      "name": "python"
    }
  },
  "nbformat": 4,
  "nbformat_minor": 0
}