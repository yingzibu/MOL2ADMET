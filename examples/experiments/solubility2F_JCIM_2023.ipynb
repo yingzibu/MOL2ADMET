{
  "nbformat": 4,
  "nbformat_minor": 0,
  "metadata": {
    "colab": {
      "provenance": [],
      "machine_shape": "hm",
      "gpuType": "T4",
      "authorship_tag": "ABX9TyNwQsnQP3iDlTvlmboOGqAh",
      "include_colab_link": true
    },
    "kernelspec": {
      "name": "python3",
      "display_name": "Python 3"
    },
    "language_info": {
      "name": "python"
    },
    "accelerator": "GPU"
  },
  "cells": [
    {
      "cell_type": "markdown",
      "metadata": {
        "id": "view-in-github",
        "colab_type": "text"
      },
      "source": [
        "<a href=\"https://colab.research.google.com/github/yingzibu/MOL2ADMET/blob/main/examples/experiments/solubility2F_JCIM_2023.ipynb\" target=\"_parent\"><img src=\"https://colab.research.google.com/assets/colab-badge.svg\" alt=\"Open In Colab\"/></a>"
      ]
    },
    {
      "cell_type": "code",
      "source": [
        "from google.colab import drive\n",
        "drive.mount('/content/drive')"
      ],
      "metadata": {
        "colab": {
          "base_uri": "https://localhost:8080/"
        },
        "id": "VeP4dJ8sNUfp",
        "outputId": "5d823749-5221-4cb3-bfc4-4343362ede69"
      },
      "execution_count": 1,
      "outputs": [
        {
          "output_type": "stream",
          "name": "stdout",
          "text": [
            "Mounted at /content/drive\n"
          ]
        }
      ]
    },
    {
      "cell_type": "code",
      "execution_count": 2,
      "metadata": {
        "id": "5LS-r0J5NQzp"
      },
      "outputs": [],
      "source": [
        "! pip install rdkit --quiet\n",
        "! pip install PyTDC --quiet\n",
        "! pip install mycolorpy --quiet\n",
        "\n",
        "! pip install dgllife --quiet\n",
        "! pip install molvs --quiet\n",
        "! pip install dgl -f https://data.dgl.ai/wheels/cu118/repo.html --quiet\n",
        "! pip install dglgo -f https://data.dgl.ai/wheels-test/repo.html --quiet"
      ]
    },
    {
      "cell_type": "code",
      "source": [
        "! pip install DeepPurpose --quiet\n",
        "! pip install git+https://github.com/bp-kelley/descriptastorus --quiet\n",
        "! pip install pandas-flavor --quiet"
      ],
      "metadata": {
        "id": "U-VqSRYxNasS"
      },
      "execution_count": 3,
      "outputs": []
    },
    {
      "cell_type": "code",
      "source": [
        "cd /content/drive/MyDrive/ADMET"
      ],
      "metadata": {
        "colab": {
          "base_uri": "https://localhost:8080/"
        },
        "id": "RWnlYd3wNceb",
        "outputId": "97a728d4-3150-4e7a-db35-01aec4c54a86"
      },
      "execution_count": 4,
      "outputs": [
        {
          "output_type": "stream",
          "name": "stdout",
          "text": [
            "/content/drive/MyDrive/ADMET\n"
          ]
        }
      ]
    },
    {
      "cell_type": "markdown",
      "source": [
        "Try compare whether transfer learning or pretrain with multiobjective, which is better"
      ],
      "metadata": {
        "id": "p1XD0UNWO6f8"
      }
    },
    {
      "cell_type": "code",
      "source": [
        "import pandas as pd\n",
        "print('try compare with paper JCIM 2023 solubility to bioavailability transfer learning')\n",
        "data_path = '/content/drive/MyDrive/ADMET/solubility2F_JCIM_2023.xlsx'\n",
        "F_train = pd.read_excel(data_path, sheet_name=1)\n",
        "print(F_train.head())\n",
        "print('bioavailability len train:', len(F_train))\n",
        "F_test = pd.read_excel(data_path, sheet_name=2)\n",
        "print('bioavailability len test:', len(F_test))\n",
        "sol_train = pd.read_excel(data_path, sheet_name=7)\n",
        "sol_valid = pd.read_excel(data_path, sheet_name=8)\n",
        "len(sol_train), len(sol_valid)"
      ],
      "metadata": {
        "colab": {
          "base_uri": "https://localhost:8080/"
        },
        "id": "sqU5IoW8NzWF",
        "outputId": "cbf5614a-8d5b-49af-ce70-3736c31a4f3d"
      },
      "execution_count": 115,
      "outputs": [
        {
          "output_type": "stream",
          "name": "stdout",
          "text": [
            "try compare with paper JCIM 2023 solubility to bioavailability transfer learning\n",
            "               Name                              smile value  label_cutoff_50%\n",
            "0      sulfadiazine      Nc1ccc(S(=O)(=O)Nc2ncccn2)cc1    90                 1\n",
            "1       clofarabine  Nc1nc(Cl)nc2c1ncn2C1OC(CO)C(O)C1F    50                 1\n",
            "2  sulfamethoxazole    Cc1cc(NS(=O)(=O)c2ccc(N)cc2)no1    99                 1\n",
            "3        tolazoline                c1ccc(CC2=NCCN2)cc1    90                 1\n",
            "4          cotinine               CN1C(=O)CCC1c1cccnc1    97                 1\n",
            "bioavailability len train: 1157\n",
            "bioavailability len test: 290\n"
          ]
        },
        {
          "output_type": "execute_result",
          "data": {
            "text/plain": [
              "(7880, 978)"
            ]
          },
          "metadata": {},
          "execution_count": 115
        }
      ]
    },
    {
      "cell_type": "code",
      "source": [
        "F_train"
      ],
      "metadata": {
        "colab": {
          "base_uri": "https://localhost:8080/",
          "height": 423
        },
        "id": "38Q8Ag6hQU8X",
        "outputId": "64c4c2e5-fa88-40b9-fc08-2f6ad626d136"
      },
      "execution_count": 88,
      "outputs": [
        {
          "output_type": "execute_result",
          "data": {
            "text/plain": [
              "                  Name                              smile value  \\\n",
              "0         sulfadiazine      Nc1ccc(S(=O)(=O)Nc2ncccn2)cc1    90   \n",
              "1          clofarabine  Nc1nc(Cl)nc2c1ncn2C1OC(CO)C(O)C1F    50   \n",
              "2     sulfamethoxazole    Cc1cc(NS(=O)(=O)c2ccc(N)cc2)no1    99   \n",
              "3           tolazoline                c1ccc(CC2=NCCN2)cc1    90   \n",
              "4             cotinine               CN1C(=O)CCC1c1cccnc1    97   \n",
              "...                ...                                ...   ...   \n",
              "1152         clonidine            Clc1cccc(Cl)c1NC1=NCCN1    95   \n",
              "1153        guanfacine        N=C(N)N=C(O)Cc1c(Cl)cccc1Cl    81   \n",
              "1154        diloxanide        CN(C(=O)C(Cl)Cl)c1ccc(O)cc1    90   \n",
              "1155        clodronate  O=P([O-])([O-])C(Cl)(Cl)P(=O)(O)O     1   \n",
              "1156       hydroxyurea                           N=C(O)NO    79   \n",
              "\n",
              "      label_cutoff_50%  \n",
              "0                    1  \n",
              "1                    1  \n",
              "2                    1  \n",
              "3                    1  \n",
              "4                    1  \n",
              "...                ...  \n",
              "1152                 1  \n",
              "1153                 1  \n",
              "1154                 1  \n",
              "1155                 0  \n",
              "1156                 1  \n",
              "\n",
              "[1157 rows x 4 columns]"
            ],
            "text/html": [
              "\n",
              "  <div id=\"df-43407bec-2e57-4f9b-a168-1378828981c9\" class=\"colab-df-container\">\n",
              "    <div>\n",
              "<style scoped>\n",
              "    .dataframe tbody tr th:only-of-type {\n",
              "        vertical-align: middle;\n",
              "    }\n",
              "\n",
              "    .dataframe tbody tr th {\n",
              "        vertical-align: top;\n",
              "    }\n",
              "\n",
              "    .dataframe thead th {\n",
              "        text-align: right;\n",
              "    }\n",
              "</style>\n",
              "<table border=\"1\" class=\"dataframe\">\n",
              "  <thead>\n",
              "    <tr style=\"text-align: right;\">\n",
              "      <th></th>\n",
              "      <th>Name</th>\n",
              "      <th>smile</th>\n",
              "      <th>value</th>\n",
              "      <th>label_cutoff_50%</th>\n",
              "    </tr>\n",
              "  </thead>\n",
              "  <tbody>\n",
              "    <tr>\n",
              "      <th>0</th>\n",
              "      <td>sulfadiazine</td>\n",
              "      <td>Nc1ccc(S(=O)(=O)Nc2ncccn2)cc1</td>\n",
              "      <td>90</td>\n",
              "      <td>1</td>\n",
              "    </tr>\n",
              "    <tr>\n",
              "      <th>1</th>\n",
              "      <td>clofarabine</td>\n",
              "      <td>Nc1nc(Cl)nc2c1ncn2C1OC(CO)C(O)C1F</td>\n",
              "      <td>50</td>\n",
              "      <td>1</td>\n",
              "    </tr>\n",
              "    <tr>\n",
              "      <th>2</th>\n",
              "      <td>sulfamethoxazole</td>\n",
              "      <td>Cc1cc(NS(=O)(=O)c2ccc(N)cc2)no1</td>\n",
              "      <td>99</td>\n",
              "      <td>1</td>\n",
              "    </tr>\n",
              "    <tr>\n",
              "      <th>3</th>\n",
              "      <td>tolazoline</td>\n",
              "      <td>c1ccc(CC2=NCCN2)cc1</td>\n",
              "      <td>90</td>\n",
              "      <td>1</td>\n",
              "    </tr>\n",
              "    <tr>\n",
              "      <th>4</th>\n",
              "      <td>cotinine</td>\n",
              "      <td>CN1C(=O)CCC1c1cccnc1</td>\n",
              "      <td>97</td>\n",
              "      <td>1</td>\n",
              "    </tr>\n",
              "    <tr>\n",
              "      <th>...</th>\n",
              "      <td>...</td>\n",
              "      <td>...</td>\n",
              "      <td>...</td>\n",
              "      <td>...</td>\n",
              "    </tr>\n",
              "    <tr>\n",
              "      <th>1152</th>\n",
              "      <td>clonidine</td>\n",
              "      <td>Clc1cccc(Cl)c1NC1=NCCN1</td>\n",
              "      <td>95</td>\n",
              "      <td>1</td>\n",
              "    </tr>\n",
              "    <tr>\n",
              "      <th>1153</th>\n",
              "      <td>guanfacine</td>\n",
              "      <td>N=C(N)N=C(O)Cc1c(Cl)cccc1Cl</td>\n",
              "      <td>81</td>\n",
              "      <td>1</td>\n",
              "    </tr>\n",
              "    <tr>\n",
              "      <th>1154</th>\n",
              "      <td>diloxanide</td>\n",
              "      <td>CN(C(=O)C(Cl)Cl)c1ccc(O)cc1</td>\n",
              "      <td>90</td>\n",
              "      <td>1</td>\n",
              "    </tr>\n",
              "    <tr>\n",
              "      <th>1155</th>\n",
              "      <td>clodronate</td>\n",
              "      <td>O=P([O-])([O-])C(Cl)(Cl)P(=O)(O)O</td>\n",
              "      <td>1</td>\n",
              "      <td>0</td>\n",
              "    </tr>\n",
              "    <tr>\n",
              "      <th>1156</th>\n",
              "      <td>hydroxyurea</td>\n",
              "      <td>N=C(O)NO</td>\n",
              "      <td>79</td>\n",
              "      <td>1</td>\n",
              "    </tr>\n",
              "  </tbody>\n",
              "</table>\n",
              "<p>1157 rows × 4 columns</p>\n",
              "</div>\n",
              "    <div class=\"colab-df-buttons\">\n",
              "\n",
              "  <div class=\"colab-df-container\">\n",
              "    <button class=\"colab-df-convert\" onclick=\"convertToInteractive('df-43407bec-2e57-4f9b-a168-1378828981c9')\"\n",
              "            title=\"Convert this dataframe to an interactive table.\"\n",
              "            style=\"display:none;\">\n",
              "\n",
              "  <svg xmlns=\"http://www.w3.org/2000/svg\" height=\"24px\" viewBox=\"0 -960 960 960\">\n",
              "    <path d=\"M120-120v-720h720v720H120Zm60-500h600v-160H180v160Zm220 220h160v-160H400v160Zm0 220h160v-160H400v160ZM180-400h160v-160H180v160Zm440 0h160v-160H620v160ZM180-180h160v-160H180v160Zm440 0h160v-160H620v160Z\"/>\n",
              "  </svg>\n",
              "    </button>\n",
              "\n",
              "  <style>\n",
              "    .colab-df-container {\n",
              "      display:flex;\n",
              "      gap: 12px;\n",
              "    }\n",
              "\n",
              "    .colab-df-convert {\n",
              "      background-color: #E8F0FE;\n",
              "      border: none;\n",
              "      border-radius: 50%;\n",
              "      cursor: pointer;\n",
              "      display: none;\n",
              "      fill: #1967D2;\n",
              "      height: 32px;\n",
              "      padding: 0 0 0 0;\n",
              "      width: 32px;\n",
              "    }\n",
              "\n",
              "    .colab-df-convert:hover {\n",
              "      background-color: #E2EBFA;\n",
              "      box-shadow: 0px 1px 2px rgba(60, 64, 67, 0.3), 0px 1px 3px 1px rgba(60, 64, 67, 0.15);\n",
              "      fill: #174EA6;\n",
              "    }\n",
              "\n",
              "    .colab-df-buttons div {\n",
              "      margin-bottom: 4px;\n",
              "    }\n",
              "\n",
              "    [theme=dark] .colab-df-convert {\n",
              "      background-color: #3B4455;\n",
              "      fill: #D2E3FC;\n",
              "    }\n",
              "\n",
              "    [theme=dark] .colab-df-convert:hover {\n",
              "      background-color: #434B5C;\n",
              "      box-shadow: 0px 1px 3px 1px rgba(0, 0, 0, 0.15);\n",
              "      filter: drop-shadow(0px 1px 2px rgba(0, 0, 0, 0.3));\n",
              "      fill: #FFFFFF;\n",
              "    }\n",
              "  </style>\n",
              "\n",
              "    <script>\n",
              "      const buttonEl =\n",
              "        document.querySelector('#df-43407bec-2e57-4f9b-a168-1378828981c9 button.colab-df-convert');\n",
              "      buttonEl.style.display =\n",
              "        google.colab.kernel.accessAllowed ? 'block' : 'none';\n",
              "\n",
              "      async function convertToInteractive(key) {\n",
              "        const element = document.querySelector('#df-43407bec-2e57-4f9b-a168-1378828981c9');\n",
              "        const dataTable =\n",
              "          await google.colab.kernel.invokeFunction('convertToInteractive',\n",
              "                                                    [key], {});\n",
              "        if (!dataTable) return;\n",
              "\n",
              "        const docLinkHtml = 'Like what you see? Visit the ' +\n",
              "          '<a target=\"_blank\" href=https://colab.research.google.com/notebooks/data_table.ipynb>data table notebook</a>'\n",
              "          + ' to learn more about interactive tables.';\n",
              "        element.innerHTML = '';\n",
              "        dataTable['output_type'] = 'display_data';\n",
              "        await google.colab.output.renderOutput(dataTable, element);\n",
              "        const docLink = document.createElement('div');\n",
              "        docLink.innerHTML = docLinkHtml;\n",
              "        element.appendChild(docLink);\n",
              "      }\n",
              "    </script>\n",
              "  </div>\n",
              "\n",
              "\n",
              "<div id=\"df-e32078ac-0331-45a1-b623-55ec06047e55\">\n",
              "  <button class=\"colab-df-quickchart\" onclick=\"quickchart('df-e32078ac-0331-45a1-b623-55ec06047e55')\"\n",
              "            title=\"Suggest charts.\"\n",
              "            style=\"display:none;\">\n",
              "\n",
              "<svg xmlns=\"http://www.w3.org/2000/svg\" height=\"24px\"viewBox=\"0 0 24 24\"\n",
              "     width=\"24px\">\n",
              "    <g>\n",
              "        <path d=\"M19 3H5c-1.1 0-2 .9-2 2v14c0 1.1.9 2 2 2h14c1.1 0 2-.9 2-2V5c0-1.1-.9-2-2-2zM9 17H7v-7h2v7zm4 0h-2V7h2v10zm4 0h-2v-4h2v4z\"/>\n",
              "    </g>\n",
              "</svg>\n",
              "  </button>\n",
              "\n",
              "<style>\n",
              "  .colab-df-quickchart {\n",
              "      --bg-color: #E8F0FE;\n",
              "      --fill-color: #1967D2;\n",
              "      --hover-bg-color: #E2EBFA;\n",
              "      --hover-fill-color: #174EA6;\n",
              "      --disabled-fill-color: #AAA;\n",
              "      --disabled-bg-color: #DDD;\n",
              "  }\n",
              "\n",
              "  [theme=dark] .colab-df-quickchart {\n",
              "      --bg-color: #3B4455;\n",
              "      --fill-color: #D2E3FC;\n",
              "      --hover-bg-color: #434B5C;\n",
              "      --hover-fill-color: #FFFFFF;\n",
              "      --disabled-bg-color: #3B4455;\n",
              "      --disabled-fill-color: #666;\n",
              "  }\n",
              "\n",
              "  .colab-df-quickchart {\n",
              "    background-color: var(--bg-color);\n",
              "    border: none;\n",
              "    border-radius: 50%;\n",
              "    cursor: pointer;\n",
              "    display: none;\n",
              "    fill: var(--fill-color);\n",
              "    height: 32px;\n",
              "    padding: 0;\n",
              "    width: 32px;\n",
              "  }\n",
              "\n",
              "  .colab-df-quickchart:hover {\n",
              "    background-color: var(--hover-bg-color);\n",
              "    box-shadow: 0 1px 2px rgba(60, 64, 67, 0.3), 0 1px 3px 1px rgba(60, 64, 67, 0.15);\n",
              "    fill: var(--button-hover-fill-color);\n",
              "  }\n",
              "\n",
              "  .colab-df-quickchart-complete:disabled,\n",
              "  .colab-df-quickchart-complete:disabled:hover {\n",
              "    background-color: var(--disabled-bg-color);\n",
              "    fill: var(--disabled-fill-color);\n",
              "    box-shadow: none;\n",
              "  }\n",
              "\n",
              "  .colab-df-spinner {\n",
              "    border: 2px solid var(--fill-color);\n",
              "    border-color: transparent;\n",
              "    border-bottom-color: var(--fill-color);\n",
              "    animation:\n",
              "      spin 1s steps(1) infinite;\n",
              "  }\n",
              "\n",
              "  @keyframes spin {\n",
              "    0% {\n",
              "      border-color: transparent;\n",
              "      border-bottom-color: var(--fill-color);\n",
              "      border-left-color: var(--fill-color);\n",
              "    }\n",
              "    20% {\n",
              "      border-color: transparent;\n",
              "      border-left-color: var(--fill-color);\n",
              "      border-top-color: var(--fill-color);\n",
              "    }\n",
              "    30% {\n",
              "      border-color: transparent;\n",
              "      border-left-color: var(--fill-color);\n",
              "      border-top-color: var(--fill-color);\n",
              "      border-right-color: var(--fill-color);\n",
              "    }\n",
              "    40% {\n",
              "      border-color: transparent;\n",
              "      border-right-color: var(--fill-color);\n",
              "      border-top-color: var(--fill-color);\n",
              "    }\n",
              "    60% {\n",
              "      border-color: transparent;\n",
              "      border-right-color: var(--fill-color);\n",
              "    }\n",
              "    80% {\n",
              "      border-color: transparent;\n",
              "      border-right-color: var(--fill-color);\n",
              "      border-bottom-color: var(--fill-color);\n",
              "    }\n",
              "    90% {\n",
              "      border-color: transparent;\n",
              "      border-bottom-color: var(--fill-color);\n",
              "    }\n",
              "  }\n",
              "</style>\n",
              "\n",
              "  <script>\n",
              "    async function quickchart(key) {\n",
              "      const quickchartButtonEl =\n",
              "        document.querySelector('#' + key + ' button');\n",
              "      quickchartButtonEl.disabled = true;  // To prevent multiple clicks.\n",
              "      quickchartButtonEl.classList.add('colab-df-spinner');\n",
              "      try {\n",
              "        const charts = await google.colab.kernel.invokeFunction(\n",
              "            'suggestCharts', [key], {});\n",
              "      } catch (error) {\n",
              "        console.error('Error during call to suggestCharts:', error);\n",
              "      }\n",
              "      quickchartButtonEl.classList.remove('colab-df-spinner');\n",
              "      quickchartButtonEl.classList.add('colab-df-quickchart-complete');\n",
              "    }\n",
              "    (() => {\n",
              "      let quickchartButtonEl =\n",
              "        document.querySelector('#df-e32078ac-0331-45a1-b623-55ec06047e55 button');\n",
              "      quickchartButtonEl.style.display =\n",
              "        google.colab.kernel.accessAllowed ? 'block' : 'none';\n",
              "    })();\n",
              "  </script>\n",
              "</div>\n",
              "\n",
              "  <div id=\"id_89a5c0f8-6b7c-4186-bd13-9f9a8d3ff00d\">\n",
              "    <style>\n",
              "      .colab-df-generate {\n",
              "        background-color: #E8F0FE;\n",
              "        border: none;\n",
              "        border-radius: 50%;\n",
              "        cursor: pointer;\n",
              "        display: none;\n",
              "        fill: #1967D2;\n",
              "        height: 32px;\n",
              "        padding: 0 0 0 0;\n",
              "        width: 32px;\n",
              "      }\n",
              "\n",
              "      .colab-df-generate:hover {\n",
              "        background-color: #E2EBFA;\n",
              "        box-shadow: 0px 1px 2px rgba(60, 64, 67, 0.3), 0px 1px 3px 1px rgba(60, 64, 67, 0.15);\n",
              "        fill: #174EA6;\n",
              "      }\n",
              "\n",
              "      [theme=dark] .colab-df-generate {\n",
              "        background-color: #3B4455;\n",
              "        fill: #D2E3FC;\n",
              "      }\n",
              "\n",
              "      [theme=dark] .colab-df-generate:hover {\n",
              "        background-color: #434B5C;\n",
              "        box-shadow: 0px 1px 3px 1px rgba(0, 0, 0, 0.15);\n",
              "        filter: drop-shadow(0px 1px 2px rgba(0, 0, 0, 0.3));\n",
              "        fill: #FFFFFF;\n",
              "      }\n",
              "    </style>\n",
              "    <button class=\"colab-df-generate\" onclick=\"generateWithVariable('F_train')\"\n",
              "            title=\"Generate code using this dataframe.\"\n",
              "            style=\"display:none;\">\n",
              "\n",
              "  <svg xmlns=\"http://www.w3.org/2000/svg\" height=\"24px\"viewBox=\"0 0 24 24\"\n",
              "       width=\"24px\">\n",
              "    <path d=\"M7,19H8.4L18.45,9,17,7.55,7,17.6ZM5,21V16.75L18.45,3.32a2,2,0,0,1,2.83,0l1.4,1.43a1.91,1.91,0,0,1,.58,1.4,1.91,1.91,0,0,1-.58,1.4L9.25,21ZM18.45,9,17,7.55Zm-12,3A5.31,5.31,0,0,0,4.9,8.1,5.31,5.31,0,0,0,1,6.5,5.31,5.31,0,0,0,4.9,4.9,5.31,5.31,0,0,0,6.5,1,5.31,5.31,0,0,0,8.1,4.9,5.31,5.31,0,0,0,12,6.5,5.46,5.46,0,0,0,6.5,12Z\"/>\n",
              "  </svg>\n",
              "    </button>\n",
              "    <script>\n",
              "      (() => {\n",
              "      const buttonEl =\n",
              "        document.querySelector('#id_89a5c0f8-6b7c-4186-bd13-9f9a8d3ff00d button.colab-df-generate');\n",
              "      buttonEl.style.display =\n",
              "        google.colab.kernel.accessAllowed ? 'block' : 'none';\n",
              "\n",
              "      buttonEl.onclick = () => {\n",
              "        google.colab.notebook.generateWithVariable('F_train');\n",
              "      }\n",
              "      })();\n",
              "    </script>\n",
              "  </div>\n",
              "\n",
              "    </div>\n",
              "  </div>\n"
            ]
          },
          "metadata": {},
          "execution_count": 88
        }
      ]
    },
    {
      "cell_type": "code",
      "source": [
        "# trains = pd.DataFrame()\n",
        "# valids = pd.DataFrame()\n",
        "\n",
        "trains = sol_train[['SMILES', 'logS']].reset_index(drop=True)\n",
        "valids = sol_valid[['SMILES', 'logS']].reset_index(drop=True)\n",
        "trains = trains.rename(columns={'SMILES': 'Drug'})\n",
        "valids = valids.rename(columns={'SMILES': 'Drug'})\n",
        "\n",
        "F_train = F_train.rename(columns={'smile':'Drug', 'label_cutoff_50%':'F'})\n",
        "F_test = F_test.rename(columns={'smile':'Drug', 'label_cutoff_50%':'F'})\n",
        "train = F_train[['Drug', 'F']].reset_index(drop=True)\n",
        "valid = F_test[['Drug', 'F']].reset_index(drop=True)\n",
        "trains = trains.merge(train, how='outer')\n",
        "valids = valids.merge(valid, how='outer')"
      ],
      "metadata": {
        "id": "OvjK_RrkN4Tn"
      },
      "execution_count": 23,
      "outputs": []
    },
    {
      "cell_type": "code",
      "source": [
        "trains = sol_train[['SMILES', 'logS']].reset_index(drop=True)\n",
        "valids = sol_valid[['SMILES', 'logS']].reset_index(drop=True)\n",
        "trains = trains.rename(columns={'SMILES': 'Drug'})\n",
        "valids = valids.rename(columns={'SMILES': 'Drug'})\n"
      ],
      "metadata": {
        "id": "3zL2v1XASl4f"
      },
      "execution_count": 33,
      "outputs": []
    },
    {
      "cell_type": "code",
      "source": [
        "trains = trains.rename(columns={'SMILES': 'Drug'})\n",
        "valids = valids.rename(columns={'SMILES': 'Drug'})"
      ],
      "metadata": {
        "id": "CQRT983FRjII"
      },
      "execution_count": 28,
      "outputs": []
    },
    {
      "cell_type": "markdown",
      "source": [
        "Mixed data. logS is regression while F is binary classification"
      ],
      "metadata": {
        "id": "ce45LW1yRLws"
      }
    },
    {
      "cell_type": "code",
      "source": [
        "from dgllife.model import load_pretrained\n",
        "from dgl.nn.pytorch.glob import AvgPooling\n",
        "import torch.nn as nn\n",
        "from torch.utils.data import Dataset, DataLoader\n",
        "from functools import partial\n",
        "import torch\n",
        "from dgllife.utils import smiles_to_bigraph, PretrainAtomFeaturizer, PretrainBondFeaturizer\n",
        "\n",
        "MASK = -100\n",
        "\n",
        "class GIN_dataset(Dataset):\n",
        "    def __init__(self, df, names, mask=MASK):\n",
        "        df = df.fillna(mask)\n",
        "        self.names = names\n",
        "        self.df = df\n",
        "        self.len = len(df)\n",
        "        self.props = self.df[names]\n",
        "        self.node_featurizer = PretrainAtomFeaturizer()\n",
        "        self.edge_featurizer = PretrainBondFeaturizer()\n",
        "        self.fc = partial(smiles_to_bigraph, add_self_loop=True)\n",
        "    def __len__(self): return self.len\n",
        "    def __getitem__(self, idx):\n",
        "        v_d = self.df.iloc[idx]['Drug']\n",
        "        v_d = self.fc(smiles=v_d, node_featurizer = self.node_featurizer,\n",
        "                      edge_featurizer = self.edge_featurizer)\n",
        "        label = torch.tensor(self.props.iloc[idx], dtype=torch.float32)\n",
        "        return v_d, label\n",
        "\n",
        "import dgl\n",
        "def get_GIN_dataloader(datasets, loader_params):\n",
        "    def dgl_collate_func(data):\n",
        "        x, labels = map(list, zip(*data))\n",
        "        bg = dgl.batch(x)\n",
        "        labels = torch.stack(labels, dim=0)\n",
        "        bg.set_n_initializer(dgl.init.zero_initializer)\n",
        "        bg.set_e_initializer(dgl.init.zero_initializer)\n",
        "        return bg, labels\n",
        "    loader_params['collate_fn'] = dgl_collate_func\n",
        "    return DataLoader(datasets, **loader_params)"
      ],
      "metadata": {
        "colab": {
          "base_uri": "https://localhost:8080/",
          "height": 423
        },
        "id": "Ofc6bJBAOyAI",
        "outputId": "87a2ccd7-a8b3-4ec8-a7ba-3b002e07a3a5"
      },
      "execution_count": 25,
      "outputs": [
        {
          "output_type": "execute_result",
          "data": {
            "text/plain": [
              "                                        SMILES      logS    F\n",
              "0              CCCCC(COC(=O)N)(COC(=O)NC(C)C)C -3.633502  NaN\n",
              "1             O=P(c1ccccc1)(c1ccccc1)Cc1ccccc1 -4.397670  NaN\n",
              "2     CCC(=O)N1C2CCC1CN(C2)C(c1ccccc1)c1ccccc1 -4.760920  NaN\n",
              "3       Clc1cc(Cl)c(c(c1)c1cc(Cl)c(cc1Cl)Cl)Cl -8.600000  NaN\n",
              "4              CN1CCC(CC1)N(c1ccccc1)Cc1ccccc1 -4.086451  NaN\n",
              "...                                        ...       ...  ...\n",
              "9032                   Clc1cccc(Cl)c1NC1=NCCN1       NaN  1.0\n",
              "9033               N=C(N)N=C(O)Cc1c(Cl)cccc1Cl       NaN  1.0\n",
              "9034               CN(C(=O)C(Cl)Cl)c1ccc(O)cc1       NaN  1.0\n",
              "9035         O=P([O-])([O-])C(Cl)(Cl)P(=O)(O)O       NaN  0.0\n",
              "9036                                  N=C(O)NO       NaN  1.0\n",
              "\n",
              "[9037 rows x 3 columns]"
            ],
            "text/html": [
              "\n",
              "  <div id=\"df-8f8092e1-5e8f-4eeb-b0d2-ed7f514499a6\" class=\"colab-df-container\">\n",
              "    <div>\n",
              "<style scoped>\n",
              "    .dataframe tbody tr th:only-of-type {\n",
              "        vertical-align: middle;\n",
              "    }\n",
              "\n",
              "    .dataframe tbody tr th {\n",
              "        vertical-align: top;\n",
              "    }\n",
              "\n",
              "    .dataframe thead th {\n",
              "        text-align: right;\n",
              "    }\n",
              "</style>\n",
              "<table border=\"1\" class=\"dataframe\">\n",
              "  <thead>\n",
              "    <tr style=\"text-align: right;\">\n",
              "      <th></th>\n",
              "      <th>SMILES</th>\n",
              "      <th>logS</th>\n",
              "      <th>F</th>\n",
              "    </tr>\n",
              "  </thead>\n",
              "  <tbody>\n",
              "    <tr>\n",
              "      <th>0</th>\n",
              "      <td>CCCCC(COC(=O)N)(COC(=O)NC(C)C)C</td>\n",
              "      <td>-3.633502</td>\n",
              "      <td>NaN</td>\n",
              "    </tr>\n",
              "    <tr>\n",
              "      <th>1</th>\n",
              "      <td>O=P(c1ccccc1)(c1ccccc1)Cc1ccccc1</td>\n",
              "      <td>-4.397670</td>\n",
              "      <td>NaN</td>\n",
              "    </tr>\n",
              "    <tr>\n",
              "      <th>2</th>\n",
              "      <td>CCC(=O)N1C2CCC1CN(C2)C(c1ccccc1)c1ccccc1</td>\n",
              "      <td>-4.760920</td>\n",
              "      <td>NaN</td>\n",
              "    </tr>\n",
              "    <tr>\n",
              "      <th>3</th>\n",
              "      <td>Clc1cc(Cl)c(c(c1)c1cc(Cl)c(cc1Cl)Cl)Cl</td>\n",
              "      <td>-8.600000</td>\n",
              "      <td>NaN</td>\n",
              "    </tr>\n",
              "    <tr>\n",
              "      <th>4</th>\n",
              "      <td>CN1CCC(CC1)N(c1ccccc1)Cc1ccccc1</td>\n",
              "      <td>-4.086451</td>\n",
              "      <td>NaN</td>\n",
              "    </tr>\n",
              "    <tr>\n",
              "      <th>...</th>\n",
              "      <td>...</td>\n",
              "      <td>...</td>\n",
              "      <td>...</td>\n",
              "    </tr>\n",
              "    <tr>\n",
              "      <th>9032</th>\n",
              "      <td>Clc1cccc(Cl)c1NC1=NCCN1</td>\n",
              "      <td>NaN</td>\n",
              "      <td>1.0</td>\n",
              "    </tr>\n",
              "    <tr>\n",
              "      <th>9033</th>\n",
              "      <td>N=C(N)N=C(O)Cc1c(Cl)cccc1Cl</td>\n",
              "      <td>NaN</td>\n",
              "      <td>1.0</td>\n",
              "    </tr>\n",
              "    <tr>\n",
              "      <th>9034</th>\n",
              "      <td>CN(C(=O)C(Cl)Cl)c1ccc(O)cc1</td>\n",
              "      <td>NaN</td>\n",
              "      <td>1.0</td>\n",
              "    </tr>\n",
              "    <tr>\n",
              "      <th>9035</th>\n",
              "      <td>O=P([O-])([O-])C(Cl)(Cl)P(=O)(O)O</td>\n",
              "      <td>NaN</td>\n",
              "      <td>0.0</td>\n",
              "    </tr>\n",
              "    <tr>\n",
              "      <th>9036</th>\n",
              "      <td>N=C(O)NO</td>\n",
              "      <td>NaN</td>\n",
              "      <td>1.0</td>\n",
              "    </tr>\n",
              "  </tbody>\n",
              "</table>\n",
              "<p>9037 rows × 3 columns</p>\n",
              "</div>\n",
              "    <div class=\"colab-df-buttons\">\n",
              "\n",
              "  <div class=\"colab-df-container\">\n",
              "    <button class=\"colab-df-convert\" onclick=\"convertToInteractive('df-8f8092e1-5e8f-4eeb-b0d2-ed7f514499a6')\"\n",
              "            title=\"Convert this dataframe to an interactive table.\"\n",
              "            style=\"display:none;\">\n",
              "\n",
              "  <svg xmlns=\"http://www.w3.org/2000/svg\" height=\"24px\" viewBox=\"0 -960 960 960\">\n",
              "    <path d=\"M120-120v-720h720v720H120Zm60-500h600v-160H180v160Zm220 220h160v-160H400v160Zm0 220h160v-160H400v160ZM180-400h160v-160H180v160Zm440 0h160v-160H620v160ZM180-180h160v-160H180v160Zm440 0h160v-160H620v160Z\"/>\n",
              "  </svg>\n",
              "    </button>\n",
              "\n",
              "  <style>\n",
              "    .colab-df-container {\n",
              "      display:flex;\n",
              "      gap: 12px;\n",
              "    }\n",
              "\n",
              "    .colab-df-convert {\n",
              "      background-color: #E8F0FE;\n",
              "      border: none;\n",
              "      border-radius: 50%;\n",
              "      cursor: pointer;\n",
              "      display: none;\n",
              "      fill: #1967D2;\n",
              "      height: 32px;\n",
              "      padding: 0 0 0 0;\n",
              "      width: 32px;\n",
              "    }\n",
              "\n",
              "    .colab-df-convert:hover {\n",
              "      background-color: #E2EBFA;\n",
              "      box-shadow: 0px 1px 2px rgba(60, 64, 67, 0.3), 0px 1px 3px 1px rgba(60, 64, 67, 0.15);\n",
              "      fill: #174EA6;\n",
              "    }\n",
              "\n",
              "    .colab-df-buttons div {\n",
              "      margin-bottom: 4px;\n",
              "    }\n",
              "\n",
              "    [theme=dark] .colab-df-convert {\n",
              "      background-color: #3B4455;\n",
              "      fill: #D2E3FC;\n",
              "    }\n",
              "\n",
              "    [theme=dark] .colab-df-convert:hover {\n",
              "      background-color: #434B5C;\n",
              "      box-shadow: 0px 1px 3px 1px rgba(0, 0, 0, 0.15);\n",
              "      filter: drop-shadow(0px 1px 2px rgba(0, 0, 0, 0.3));\n",
              "      fill: #FFFFFF;\n",
              "    }\n",
              "  </style>\n",
              "\n",
              "    <script>\n",
              "      const buttonEl =\n",
              "        document.querySelector('#df-8f8092e1-5e8f-4eeb-b0d2-ed7f514499a6 button.colab-df-convert');\n",
              "      buttonEl.style.display =\n",
              "        google.colab.kernel.accessAllowed ? 'block' : 'none';\n",
              "\n",
              "      async function convertToInteractive(key) {\n",
              "        const element = document.querySelector('#df-8f8092e1-5e8f-4eeb-b0d2-ed7f514499a6');\n",
              "        const dataTable =\n",
              "          await google.colab.kernel.invokeFunction('convertToInteractive',\n",
              "                                                    [key], {});\n",
              "        if (!dataTable) return;\n",
              "\n",
              "        const docLinkHtml = 'Like what you see? Visit the ' +\n",
              "          '<a target=\"_blank\" href=https://colab.research.google.com/notebooks/data_table.ipynb>data table notebook</a>'\n",
              "          + ' to learn more about interactive tables.';\n",
              "        element.innerHTML = '';\n",
              "        dataTable['output_type'] = 'display_data';\n",
              "        await google.colab.output.renderOutput(dataTable, element);\n",
              "        const docLink = document.createElement('div');\n",
              "        docLink.innerHTML = docLinkHtml;\n",
              "        element.appendChild(docLink);\n",
              "      }\n",
              "    </script>\n",
              "  </div>\n",
              "\n",
              "\n",
              "<div id=\"df-50fa3178-c265-4f64-a58b-a2a1b34af0ed\">\n",
              "  <button class=\"colab-df-quickchart\" onclick=\"quickchart('df-50fa3178-c265-4f64-a58b-a2a1b34af0ed')\"\n",
              "            title=\"Suggest charts.\"\n",
              "            style=\"display:none;\">\n",
              "\n",
              "<svg xmlns=\"http://www.w3.org/2000/svg\" height=\"24px\"viewBox=\"0 0 24 24\"\n",
              "     width=\"24px\">\n",
              "    <g>\n",
              "        <path d=\"M19 3H5c-1.1 0-2 .9-2 2v14c0 1.1.9 2 2 2h14c1.1 0 2-.9 2-2V5c0-1.1-.9-2-2-2zM9 17H7v-7h2v7zm4 0h-2V7h2v10zm4 0h-2v-4h2v4z\"/>\n",
              "    </g>\n",
              "</svg>\n",
              "  </button>\n",
              "\n",
              "<style>\n",
              "  .colab-df-quickchart {\n",
              "      --bg-color: #E8F0FE;\n",
              "      --fill-color: #1967D2;\n",
              "      --hover-bg-color: #E2EBFA;\n",
              "      --hover-fill-color: #174EA6;\n",
              "      --disabled-fill-color: #AAA;\n",
              "      --disabled-bg-color: #DDD;\n",
              "  }\n",
              "\n",
              "  [theme=dark] .colab-df-quickchart {\n",
              "      --bg-color: #3B4455;\n",
              "      --fill-color: #D2E3FC;\n",
              "      --hover-bg-color: #434B5C;\n",
              "      --hover-fill-color: #FFFFFF;\n",
              "      --disabled-bg-color: #3B4455;\n",
              "      --disabled-fill-color: #666;\n",
              "  }\n",
              "\n",
              "  .colab-df-quickchart {\n",
              "    background-color: var(--bg-color);\n",
              "    border: none;\n",
              "    border-radius: 50%;\n",
              "    cursor: pointer;\n",
              "    display: none;\n",
              "    fill: var(--fill-color);\n",
              "    height: 32px;\n",
              "    padding: 0;\n",
              "    width: 32px;\n",
              "  }\n",
              "\n",
              "  .colab-df-quickchart:hover {\n",
              "    background-color: var(--hover-bg-color);\n",
              "    box-shadow: 0 1px 2px rgba(60, 64, 67, 0.3), 0 1px 3px 1px rgba(60, 64, 67, 0.15);\n",
              "    fill: var(--button-hover-fill-color);\n",
              "  }\n",
              "\n",
              "  .colab-df-quickchart-complete:disabled,\n",
              "  .colab-df-quickchart-complete:disabled:hover {\n",
              "    background-color: var(--disabled-bg-color);\n",
              "    fill: var(--disabled-fill-color);\n",
              "    box-shadow: none;\n",
              "  }\n",
              "\n",
              "  .colab-df-spinner {\n",
              "    border: 2px solid var(--fill-color);\n",
              "    border-color: transparent;\n",
              "    border-bottom-color: var(--fill-color);\n",
              "    animation:\n",
              "      spin 1s steps(1) infinite;\n",
              "  }\n",
              "\n",
              "  @keyframes spin {\n",
              "    0% {\n",
              "      border-color: transparent;\n",
              "      border-bottom-color: var(--fill-color);\n",
              "      border-left-color: var(--fill-color);\n",
              "    }\n",
              "    20% {\n",
              "      border-color: transparent;\n",
              "      border-left-color: var(--fill-color);\n",
              "      border-top-color: var(--fill-color);\n",
              "    }\n",
              "    30% {\n",
              "      border-color: transparent;\n",
              "      border-left-color: var(--fill-color);\n",
              "      border-top-color: var(--fill-color);\n",
              "      border-right-color: var(--fill-color);\n",
              "    }\n",
              "    40% {\n",
              "      border-color: transparent;\n",
              "      border-right-color: var(--fill-color);\n",
              "      border-top-color: var(--fill-color);\n",
              "    }\n",
              "    60% {\n",
              "      border-color: transparent;\n",
              "      border-right-color: var(--fill-color);\n",
              "    }\n",
              "    80% {\n",
              "      border-color: transparent;\n",
              "      border-right-color: var(--fill-color);\n",
              "      border-bottom-color: var(--fill-color);\n",
              "    }\n",
              "    90% {\n",
              "      border-color: transparent;\n",
              "      border-bottom-color: var(--fill-color);\n",
              "    }\n",
              "  }\n",
              "</style>\n",
              "\n",
              "  <script>\n",
              "    async function quickchart(key) {\n",
              "      const quickchartButtonEl =\n",
              "        document.querySelector('#' + key + ' button');\n",
              "      quickchartButtonEl.disabled = true;  // To prevent multiple clicks.\n",
              "      quickchartButtonEl.classList.add('colab-df-spinner');\n",
              "      try {\n",
              "        const charts = await google.colab.kernel.invokeFunction(\n",
              "            'suggestCharts', [key], {});\n",
              "      } catch (error) {\n",
              "        console.error('Error during call to suggestCharts:', error);\n",
              "      }\n",
              "      quickchartButtonEl.classList.remove('colab-df-spinner');\n",
              "      quickchartButtonEl.classList.add('colab-df-quickchart-complete');\n",
              "    }\n",
              "    (() => {\n",
              "      let quickchartButtonEl =\n",
              "        document.querySelector('#df-50fa3178-c265-4f64-a58b-a2a1b34af0ed button');\n",
              "      quickchartButtonEl.style.display =\n",
              "        google.colab.kernel.accessAllowed ? 'block' : 'none';\n",
              "    })();\n",
              "  </script>\n",
              "</div>\n",
              "\n",
              "  <div id=\"id_40bd635b-e944-41b5-b87a-358691019929\">\n",
              "    <style>\n",
              "      .colab-df-generate {\n",
              "        background-color: #E8F0FE;\n",
              "        border: none;\n",
              "        border-radius: 50%;\n",
              "        cursor: pointer;\n",
              "        display: none;\n",
              "        fill: #1967D2;\n",
              "        height: 32px;\n",
              "        padding: 0 0 0 0;\n",
              "        width: 32px;\n",
              "      }\n",
              "\n",
              "      .colab-df-generate:hover {\n",
              "        background-color: #E2EBFA;\n",
              "        box-shadow: 0px 1px 2px rgba(60, 64, 67, 0.3), 0px 1px 3px 1px rgba(60, 64, 67, 0.15);\n",
              "        fill: #174EA6;\n",
              "      }\n",
              "\n",
              "      [theme=dark] .colab-df-generate {\n",
              "        background-color: #3B4455;\n",
              "        fill: #D2E3FC;\n",
              "      }\n",
              "\n",
              "      [theme=dark] .colab-df-generate:hover {\n",
              "        background-color: #434B5C;\n",
              "        box-shadow: 0px 1px 3px 1px rgba(0, 0, 0, 0.15);\n",
              "        filter: drop-shadow(0px 1px 2px rgba(0, 0, 0, 0.3));\n",
              "        fill: #FFFFFF;\n",
              "      }\n",
              "    </style>\n",
              "    <button class=\"colab-df-generate\" onclick=\"generateWithVariable('trains')\"\n",
              "            title=\"Generate code using this dataframe.\"\n",
              "            style=\"display:none;\">\n",
              "\n",
              "  <svg xmlns=\"http://www.w3.org/2000/svg\" height=\"24px\"viewBox=\"0 0 24 24\"\n",
              "       width=\"24px\">\n",
              "    <path d=\"M7,19H8.4L18.45,9,17,7.55,7,17.6ZM5,21V16.75L18.45,3.32a2,2,0,0,1,2.83,0l1.4,1.43a1.91,1.91,0,0,1,.58,1.4,1.91,1.91,0,0,1-.58,1.4L9.25,21ZM18.45,9,17,7.55Zm-12,3A5.31,5.31,0,0,0,4.9,8.1,5.31,5.31,0,0,0,1,6.5,5.31,5.31,0,0,0,4.9,4.9,5.31,5.31,0,0,0,6.5,1,5.31,5.31,0,0,0,8.1,4.9,5.31,5.31,0,0,0,12,6.5,5.46,5.46,0,0,0,6.5,12Z\"/>\n",
              "  </svg>\n",
              "    </button>\n",
              "    <script>\n",
              "      (() => {\n",
              "      const buttonEl =\n",
              "        document.querySelector('#id_40bd635b-e944-41b5-b87a-358691019929 button.colab-df-generate');\n",
              "      buttonEl.style.display =\n",
              "        google.colab.kernel.accessAllowed ? 'block' : 'none';\n",
              "\n",
              "      buttonEl.onclick = () => {\n",
              "        google.colab.notebook.generateWithVariable('trains');\n",
              "      }\n",
              "      })();\n",
              "    </script>\n",
              "  </div>\n",
              "\n",
              "    </div>\n",
              "  </div>\n"
            ]
          },
          "metadata": {},
          "execution_count": 25
        }
      ]
    },
    {
      "cell_type": "code",
      "source": [
        "from dgllife.model import load_pretrained\n",
        "from dgl.nn.pytorch.glob import AvgPooling\n",
        "import torch.nn as nn\n",
        "from torch.utils.data import Dataset, DataLoader\n",
        "from functools import partial\n",
        "import torch\n",
        "from dgllife.utils import smiles_to_bigraph, PretrainAtomFeaturizer, PretrainBondFeaturizer\n",
        "\n",
        "MASK = -100\n",
        "\n",
        "class GIN_dataset(Dataset):\n",
        "    def __init__(self, df, names, mask=MASK):\n",
        "        df = df.fillna(mask)\n",
        "        self.names = names\n",
        "        self.df = df\n",
        "        self.len = len(df)\n",
        "        self.props = self.df[names]\n",
        "        self.node_featurizer = PretrainAtomFeaturizer()\n",
        "        self.edge_featurizer = PretrainBondFeaturizer()\n",
        "        self.fc = partial(smiles_to_bigraph, add_self_loop=True)\n",
        "    def __len__(self): return self.len\n",
        "    def __getitem__(self, idx):\n",
        "        v_d = self.df.iloc[idx]['Drug']\n",
        "        v_d = self.fc(smiles=v_d, node_featurizer = self.node_featurizer,\n",
        "                      edge_featurizer = self.edge_featurizer)\n",
        "        label = torch.tensor(self.props.iloc[idx], dtype=torch.float32)\n",
        "        return v_d, label\n",
        "\n"
      ],
      "metadata": {
        "colab": {
          "base_uri": "https://localhost:8080/"
        },
        "id": "uga2AJ0GPC_z",
        "outputId": "0b575581-5762-4a5f-f7a1-80c4eaeaa84b"
      },
      "execution_count": 29,
      "outputs": [
        {
          "output_type": "stream",
          "name": "stderr",
          "text": [
            "DGL backend not selected or invalid.  Assuming PyTorch for now.\n"
          ]
        },
        {
          "output_type": "stream",
          "name": "stdout",
          "text": [
            "Setting the default backend to \"pytorch\". You can change it in the ~/.dgl/config.json file or export the DGLBACKEND environment variable.  Valid options are: pytorch, mxnet, tensorflow (all lowercase)\n"
          ]
        }
      ]
    },
    {
      "cell_type": "code",
      "source": [
        "\n",
        "import dgl\n",
        "def get_GIN_dataloader(datasets, loader_params):\n",
        "    def dgl_collate_func(data):\n",
        "        x, labels = map(list, zip(*data))\n",
        "        bg = dgl.batch(x)\n",
        "        labels = torch.stack(labels, dim=0)\n",
        "        bg.set_n_initializer(dgl.init.zero_initializer)\n",
        "        bg.set_e_initializer(dgl.init.zero_initializer)\n",
        "        return bg, labels\n",
        "    loader_params['collate_fn'] = dgl_collate_func\n",
        "    return DataLoader(datasets, **loader_params)\n",
        ""
      ],
      "metadata": {
        "id": "HU9yVVOdXtO3"
      },
      "execution_count": null,
      "outputs": []
    },
    {
      "cell_type": "code",
      "source": [
        "from dgllife.utils import EarlyStopping, Meter\n",
        "from tqdm import tqdm\n",
        "\n",
        "def train_epoch(epoch, model, loader, loss_func, device,\n",
        "                optimizer=None, names=None, MASK=-100):\n",
        "    if optimizer==None: model.eval(); train_type='Valid'\n",
        "    else: model.train(); train_type='Train'\n",
        "    losses = 0\n",
        "    y_probs = {}\n",
        "    y_label = {}\n",
        "    # for idx, batch in tqdm(enumerate(loader), total=len(loader), desc=f'Epoch {epoch}'):\n",
        "    for idx, batch in enumerate(loader):\n",
        "        bg, labels = batch\n",
        "        bg, labels = bg.to(device), labels.to(device)\n",
        "        mask = labels == MASK\n",
        "        pred = model(bg)\n",
        "        loss = loss_func(pred[~mask], labels[~mask])\n",
        "        # del mask\n",
        "        losses += loss.item()\n",
        "        if optimizer != None:\n",
        "            optimizer.zero_grad()\n",
        "            loss.backward()\n",
        "            optimizer.step()\n",
        "        if names != None:\n",
        "            for j, name in enumerate(names):\n",
        "                probs = F.sigmoid(pred[:, j][~mask[:, j]])\n",
        "                label = labels[:, j][~mask[:, j]]\n",
        "                probs = probs.cpu().detach().numpy().tolist()\n",
        "                label = label.cpu().detach().numpy().tolist()\n",
        "                if idx ==0: y_probs[name], y_label[name] = probs, label\n",
        "                else:\n",
        "                    y_probs[name] += probs\n",
        "                    y_label[name] += label\n",
        "\n",
        "        # if idx % 10 == 0: print(losses)\n",
        "    total_loss = losses / len(loader.dataset)\n",
        "    print(f'Epoch:{epoch}, [{train_type}] Loss: {total_loss:.3f}')\n",
        "    if names == None or train_type == 'train': return total_loss\n",
        "    else: return total_loss, y_probs, y_label\n"
      ],
      "metadata": {
        "id": "UnY3wbuaqkmx"
      },
      "execution_count": 120,
      "outputs": []
    },
    {
      "cell_type": "code",
      "source": [
        "from dgllife.utils import EarlyStopping, Meter\n",
        "from tqdm import tqdm\n",
        "\n",
        "def train_epoch_reg(epoch, model, loader, loss_func, device,\n",
        "                optimizer=None, names=None, MASK=-100):\n",
        "    if optimizer==None: model.eval(); train_type='Valid'\n",
        "    else: model.train(); train_type='Train'\n",
        "    losses = 0\n",
        "    y_probs = {}\n",
        "    y_label = {}\n",
        "    # for idx, batch in tqdm(enumerate(loader), total=len(loader), desc=f'Epoch {epoch}'):\n",
        "    for idx, batch in enumerate(loader):\n",
        "        bg, labels = batch\n",
        "        bg, labels = bg.to(device), labels.to(device)\n",
        "        mask = labels == MASK\n",
        "        pred = model(bg)\n",
        "        loss = loss_func(pred[~mask], labels[~mask])\n",
        "        # del mask\n",
        "        losses += loss.item()\n",
        "        if optimizer != None:\n",
        "            optimizer.zero_grad()\n",
        "            loss.backward()\n",
        "            optimizer.step()\n",
        "        if names != None:\n",
        "            for j, name in enumerate(names):\n",
        "                probs = pred[:, j][~mask[:, j]]\n",
        "                label = labels[:, j][~mask[:, j]]\n",
        "                probs = probs.cpu().detach().numpy().tolist()\n",
        "                label = label.cpu().detach().numpy().tolist()\n",
        "                if idx ==0: y_probs[name], y_label[name] = probs, label\n",
        "                else:\n",
        "                    y_probs[name] += probs\n",
        "                    y_label[name] += label\n",
        "\n",
        "        # if idx % 10 == 0: print(losses)\n",
        "    total_loss = losses / len(loader.dataset)\n",
        "    print(f'Epoch:{epoch}, [{train_type}] Loss: {total_loss:.3f}')\n",
        "    if names == None or train_type == 'train': return total_loss\n",
        "    else: return total_loss, y_probs, y_label\n"
      ],
      "metadata": {
        "id": "xOcAYdv3uUJ0"
      },
      "execution_count": 123,
      "outputs": []
    },
    {
      "cell_type": "code",
      "source": [
        "from dgllife.utils import EarlyStopping, Meter\n",
        "from tqdm import tqdm\n",
        "\n",
        "def train_epoch_mix(epoch, model, loader, IS_Rs, device,\n",
        "                optimizer=None, names=None, MASK=-100):\n",
        "    if optimizer==None: model.eval(); train_type='Valid'\n",
        "    else: model.train(); train_type='Train'\n",
        "\n",
        "    losses = 0\n",
        "    y_probs = {}\n",
        "    y_label = {}\n",
        "    # for idx, batch in tqdm(enumerate(loader), total=len(loader), desc=f'Epoch {epoch}'):\n",
        "    for idx, batch in enumerate(loader):\n",
        "        bg, labels = batch\n",
        "        bg, labels = bg.to(device), labels.to(device)\n",
        "        mask = labels == MASK\n",
        "        pred = model(bg)\n",
        "\n",
        "        if names != None:\n",
        "            for j, name in enumerate(names):\n",
        "                IS_R = IS_Rs[j]\n",
        "                if IS_R:\n",
        "                    loss_func = nn.MSELoss(reduction='sum') # if regression\n",
        "                    probs = pred[:, j][~mask[:, j]]\n",
        "                else:\n",
        "                    loss_func = nn.BCEWithLogitsLoss(reduction='sum') # if classification\n",
        "                    probs = F.sigmoid(pred[:, j][~mask[:, j]])\n",
        "                label = labels[:, j][~mask[:, j]]\n",
        "                if j == 0: loss = loss_func(pred[:, j][~mask[:, j]], label)\n",
        "                else: loss += loss_func(pred[:, j][~mask[:, j]], label)\n",
        "\n",
        "                if train_type != 'Train':\n",
        "                    probs = probs.cpu().detach().numpy().tolist()\n",
        "                    label = label.cpu().detach().numpy().tolist()\n",
        "                    if idx ==0: y_probs[name], y_label[name] = probs, label\n",
        "                    else:\n",
        "                        y_probs[name] += probs\n",
        "                        y_label[name] += label\n",
        "\n",
        "        # del mask\n",
        "        losses += loss.item()\n",
        "        if optimizer != None:\n",
        "            optimizer.zero_grad()\n",
        "            loss.backward()\n",
        "            optimizer.step()\n",
        "        # if idx % 10 == 0: print(losses)\n",
        "    total_loss = losses / len(loader.dataset)\n",
        "    print(f'Epoch:{epoch}, [{train_type}] Loss: {total_loss:.3f}')\n",
        "    if names == None or train_type == 'train': return total_loss\n",
        "    else: return total_loss, y_probs, y_label\n"
      ],
      "metadata": {
        "id": "l2t3oxenXtUm"
      },
      "execution_count": 119,
      "outputs": []
    },
    {
      "cell_type": "code",
      "source": [
        "import torch.nn.functional as F\n",
        "from scripts.eval_utils import *\n",
        "from scripts.preprocess_mols import *\n",
        "from sklearn.metrics import mean_squared_error as MSE\n",
        "from sklearn.metrics import roc_auc_score, average_precision_score, f1_score\n",
        "\n",
        "device = 'cuda'\n",
        "import sklearn.metrics as metrics\n",
        "\n",
        "import numpy as np\n",
        "\n",
        "def reg_evaluate(label_clean, preds_clean):\n",
        "    mae = metrics.mean_absolute_error(label_clean, preds_clean)\n",
        "    mse = metrics.mean_squared_error(label_clean, preds_clean)\n",
        "    rmse = np.sqrt(mse) #mse**(0.5)\n",
        "    r2 = metrics.r2_score(label_clean, preds_clean)\n",
        "\n",
        "    print('MAE,   MSE,   RMSE,   R2')\n",
        "    print(\"& %5.3f\" % (mae), \" &%5.3f\" % (mse), \" &%5.3f\" % (rmse),\n",
        "      \" &%5.3f\" % (r2))\n",
        "\n",
        "    eval_result_r2 =   f'R2:     {r2:.3f}'\n",
        "    eval_result_mae =  f'MAE:   {mae:.3f}'\n",
        "    eval_result_rmse = f'RMSE: {rmse:.3f}'\n",
        "\n",
        "    return eval_result_r2, eval_result_mae, eval_result_rmse\n",
        "\n",
        "from mycolorpy import colorlist as mcp\n",
        "import matplotlib.pyplot as plt\n",
        "\n",
        "def eval_dict(y_probs:dict, y_label:dict, names:list, IS_R=False, draw_fig=False):\n",
        "    if isinstance(IS_R, list): task_list = IS_R\n",
        "    else: task_list = [IS_R] * len(names)\n",
        "    for i, name in enumerate(names):\n",
        "        IS_R = task_list[i]\n",
        "        print('*'*15, name, '*'*15)\n",
        "        probs = y_probs[name]\n",
        "        label = y_label[name]\n",
        "        assert len(probs) == len(label)\n",
        "        if IS_R == False:\n",
        "            preds = get_preds(0.5, probs)\n",
        "            evaluate(label, preds, probs)\n",
        "\n",
        "        else:\n",
        "            r2, mae, rmse = reg_evaluate(label, probs)\n",
        "            if draw_fig:\n",
        "                color = mcp.gen_color_normalized(cmap='viridis',\n",
        "                                                data_arr=label)\n",
        "                plt.scatter(label, probs, cmap='viridis', marker='.',\n",
        "                            s=10, alpha=0.5, edgecolors='none', c=color)\n",
        "                plt.xlabel(f'True {name}')\n",
        "                plt.ylabel(f'Predicted {name}')\n",
        "                plt.title(f'{name} prediction on test set')\n",
        "\n",
        "                x0, xmax = plt.xlim()\n",
        "                y0, ymax = plt.ylim()\n",
        "                data_width = xmax - x0\n",
        "                data_height = ymax - y0\n",
        "                # print(x0, xmax, y0, ymax, data_width, data_height)\n",
        "                plt.text(x0 + 0.1*data_width, y0 + data_height * 0.8/0.95, r2)\n",
        "                plt.text(x0 + 0.1*data_width, y0 + data_height * 0.8,  mae)\n",
        "                plt.text(x0 + 0.1*data_width, y0 + data_height * 0.8*0.95, rmse)\n",
        "\n",
        "                plt.show()\n",
        "                plt.cla()\n",
        "                plt.clf()\n",
        "                plt.close()\n",
        "        print()\n",
        "\n",
        "\n",
        "\n",
        "def eval_AP(model, IS_R, test_loader, names, device=device):\n",
        "    # print('Evaluate on test sets')\n",
        "    # model = model.cpu()\n",
        "    model.eval()\n",
        "    total_loss = 0\n",
        "    y_probs = {}\n",
        "    y_label = {}\n",
        "    if IS_R: print('using MSELoss')\n",
        "    else: print('using BCELOSSwithdigits')\n",
        "    if IS_R: loss_fn = nn.MSELoss(reduction='sum') # if regression\n",
        "    else: loss_fn = nn.BCEWithLogitsLoss(reduction='sum') # if classification\n",
        "    for i, batch_data in tqdm(enumerate(test_loader), total=len(test_loader)):\n",
        "        bg, labels = batch_data\n",
        "        bg, labels = bg.to(device), labels.to(device)\n",
        "        pred = model(bg)\n",
        "        mask = labels == MASK\n",
        "        loss = loss_fn(pred[~mask], labels[~mask])\n",
        "        total_loss += loss.item()\n",
        "        for j, name in enumerate(names):\n",
        "            if IS_R: probs = pred[:, j][~mask[:, j]]\n",
        "            else: probs = F.sigmoid(pred[:, j][~mask[:, j]])\n",
        "            label = labels[:, j][~mask[:, j]]\n",
        "            probs = probs.cpu().detach().numpy().tolist()\n",
        "            label = label.cpu().detach().numpy().tolist()\n",
        "            if i ==0: y_probs[name], y_label[name] = probs, label\n",
        "            else:\n",
        "                y_probs[name] += probs\n",
        "                y_label[name] += label\n",
        "\n",
        "    total_loss /= len(test_loader.dataset)\n",
        "    print(f'total_loss: {total_loss:.3f}')\n",
        "\n",
        "    eval_dict(y_probs, y_label, names, IS_R, True)\n",
        "\n",
        "    return y_probs, y_label\n"
      ],
      "metadata": {
        "id": "TEWw5AGNSE9Y"
      },
      "execution_count": 124,
      "outputs": []
    },
    {
      "cell_type": "code",
      "source": [
        "\n",
        "class GIN_MOD(nn.Module):\n",
        "    \"\"\"\n",
        "    Reference: https://github.com/kexinhuang12345/DeepPurpose/blob/master/DeepPurpose/encoders.py#L392\n",
        "    \"\"\"\n",
        "\t## adapted from https://github.com/awslabs/dgl-lifesci/blob/2fbf5fd6aca92675b709b6f1c3bc3c6ad5434e96/examples/property_prediction/moleculenet/utils.py#L76\n",
        "    def __init__(self, **config):\n",
        "        super(GIN_MOD, self).__init__()\n",
        "        self.gnn = load_pretrained('gin_supervised_contextpred')\n",
        "        self.readout = AvgPooling()\n",
        "        self.transform = nn.Linear(300, config['GIN_out_dim'])\n",
        "        self.dropout = nn.Dropout(config['dropout'])\n",
        "        self.hidden_dims = config['hid_dims']\n",
        "        self.out_dim = config['out_dim']\n",
        "        layer_size = len(self.hidden_dims)\n",
        "        neurons = [config['GIN_out_dim'], *self.hidden_dims]\n",
        "        linear_layers = [nn.Linear(neurons[i-1], neurons[i]) \\\n",
        "                         for i in range(1, len(neurons))]\n",
        "        self.hidden = nn.ModuleList(linear_layers)\n",
        "        self.final = nn.Linear(self.hidden_dims[-1], self.out_dim)\n",
        "\n",
        "    def forward(self, bg):\n",
        "        # bg = bg.to(device)\n",
        "        node_feats = [\n",
        "            bg.ndata.pop('atomic_number'),\n",
        "            bg.ndata.pop('chirality_type')\n",
        "        ]\n",
        "        edge_feats = [\n",
        "            bg.edata.pop('bond_type'),\n",
        "            bg.edata.pop('bond_direction_type')\n",
        "        ]\n",
        "\n",
        "        node_feats = self.gnn(bg, node_feats, edge_feats)\n",
        "        x = self.readout(bg, node_feats)\n",
        "        x = self.transform(x)\n",
        "        for layer in self.hidden: x = F.leaky_relu(layer(x))\n",
        "        x = self.final(x)\n",
        "        return self.dropout(x)\n"
      ],
      "metadata": {
        "id": "Gvgau-_USSCP"
      },
      "execution_count": 125,
      "outputs": []
    },
    {
      "cell_type": "code",
      "source": [
        "\n",
        "\n",
        "class PRED:\n",
        "    def __init__(self, **config):\n",
        "        cuda = torch.cuda.is_available()\n",
        "        if cuda: self.device = 'cuda'\n",
        "        else:    self.device = 'cpu'\n",
        "        self.prop_names = config['prop_names']\n",
        "        self.model = GIN_MOD(**config).to(self.device)\n",
        "        self.config = config\n",
        "        self.IS_R = config['IS_R']\n",
        "        if self.IS_R: loss_fn = nn.MSELoss(reduction='sum') # if regression\n",
        "        elif self.IS_R==False:\n",
        "            loss_fn = nn.BCEWithLogitsLoss(reduction='sum') # if classification\n",
        "        self.loss_fn = loss_fn\n",
        "        self.optimizer = torch.optim.AdamW(self.model.parameters(),\n",
        "                    lr=config['lr'], weight_decay=config['wd'])\n",
        "        self.stopper = EarlyStopping(mode='lower', patience=config['patience'])\n",
        "        self.min_loss = 10000\n",
        "        self.best_epoch = 0\n",
        "\n",
        "    def load_model(self, path):\n",
        "        con = self.config.copy()\n",
        "        # con['dropout'] = 0\n",
        "        self.model = GIN_MOD(**con).to(self.device)\n",
        "        print('load pretrained model from ', path)\n",
        "        self.model.load_state_dict(torch.load(path, map_location=self.device))\n",
        "\n",
        "    def eval(self, loader, path=None):\n",
        "        # self.load_model(path)\n",
        "        if path != None: self.load_model(path)\n",
        "        eval_AP(self.model, self.IS_R, loader, self.prop_names)\n",
        "\n",
        "    def train(self, data_loader, val_loader, test_loader=None, train_epoch=train_epoch):\n",
        "        if self.IS_R: train_epoch = train_epoch_reg\n",
        "        if self.best_epoch != 0: self.load_model(self.config['model_path'])\n",
        "\n",
        "        for epoch in range(500):\n",
        "            score = train_epoch(epoch, self.model, data_loader, self.loss_fn,\n",
        "                                self.device, self.optimizer)\n",
        "            val_score, probs, labels = \\\n",
        "                    train_epoch(epoch, self.model, val_loader, self.loss_fn,\n",
        "                                self.device, names=self.prop_names)\n",
        "\n",
        "            early_stop = self.stopper.step(val_score, self.model)\n",
        "            if val_score < self.min_loss:\n",
        "                print(f'prev min loss {self.min_loss:.3f}, '\n",
        "                      f'now loss {val_score:.3f} |',\n",
        "                      f'save model at epoch: {epoch}')\n",
        "                self.min_loss = val_score\n",
        "                torch.save(self.model.state_dict(), self.config['model_path'])\n",
        "                self.best_epoch = epoch\n",
        "                eval_dict(probs, labels, self.prop_names, IS_R=self.IS_R)\n",
        "                # self.eval(val_data_loader, 'ckpt_.pt')\n",
        "            if early_stop: print('early stop'); break\n",
        "\n",
        "        print(f\"best epoch: {self.best_epoch}, min loss: {self.min_loss:.4f}\")\n",
        "        print()\n",
        "        if test_loader != None: self.eval(test_loader, self.config['model_path'])\n"
      ],
      "metadata": {
        "id": "SvoO2rlISVqt"
      },
      "execution_count": 126,
      "outputs": []
    },
    {
      "cell_type": "markdown",
      "source": [
        "###Single objective\n",
        "\n",
        "#### logS"
      ],
      "metadata": {
        "id": "mW2azDjKSzSN"
      }
    },
    {
      "cell_type": "code",
      "source": [
        "trains = sol_train[['SMILES', 'logS']].reset_index(drop=True)\n",
        "valids = sol_valid[['SMILES', 'logS']].reset_index(drop=True)\n",
        "trains = trains.rename(columns={'SMILES': 'Drug'})\n",
        "valids = valids.rename(columns={'SMILES': 'Drug'})"
      ],
      "metadata": {
        "id": "CgpK0JHWSaoa"
      },
      "execution_count": 127,
      "outputs": []
    },
    {
      "cell_type": "code",
      "source": [
        "trains.head() # regression task"
      ],
      "metadata": {
        "colab": {
          "base_uri": "https://localhost:8080/",
          "height": 206
        },
        "id": "JQmlPSpQS9Kd",
        "outputId": "d6e8ab08-0ec1-4eef-8681-b65e222874b1"
      },
      "execution_count": 128,
      "outputs": [
        {
          "output_type": "execute_result",
          "data": {
            "text/plain": [
              "                                       Drug      logS\n",
              "0           CCCCC(COC(=O)N)(COC(=O)NC(C)C)C -3.633502\n",
              "1          O=P(c1ccccc1)(c1ccccc1)Cc1ccccc1 -4.397670\n",
              "2  CCC(=O)N1C2CCC1CN(C2)C(c1ccccc1)c1ccccc1 -4.760920\n",
              "3    Clc1cc(Cl)c(c(c1)c1cc(Cl)c(cc1Cl)Cl)Cl -8.600000\n",
              "4           CN1CCC(CC1)N(c1ccccc1)Cc1ccccc1 -4.086451"
            ],
            "text/html": [
              "\n",
              "  <div id=\"df-096b5a85-8f12-4647-a506-8d461fe7b2ff\" class=\"colab-df-container\">\n",
              "    <div>\n",
              "<style scoped>\n",
              "    .dataframe tbody tr th:only-of-type {\n",
              "        vertical-align: middle;\n",
              "    }\n",
              "\n",
              "    .dataframe tbody tr th {\n",
              "        vertical-align: top;\n",
              "    }\n",
              "\n",
              "    .dataframe thead th {\n",
              "        text-align: right;\n",
              "    }\n",
              "</style>\n",
              "<table border=\"1\" class=\"dataframe\">\n",
              "  <thead>\n",
              "    <tr style=\"text-align: right;\">\n",
              "      <th></th>\n",
              "      <th>Drug</th>\n",
              "      <th>logS</th>\n",
              "    </tr>\n",
              "  </thead>\n",
              "  <tbody>\n",
              "    <tr>\n",
              "      <th>0</th>\n",
              "      <td>CCCCC(COC(=O)N)(COC(=O)NC(C)C)C</td>\n",
              "      <td>-3.633502</td>\n",
              "    </tr>\n",
              "    <tr>\n",
              "      <th>1</th>\n",
              "      <td>O=P(c1ccccc1)(c1ccccc1)Cc1ccccc1</td>\n",
              "      <td>-4.397670</td>\n",
              "    </tr>\n",
              "    <tr>\n",
              "      <th>2</th>\n",
              "      <td>CCC(=O)N1C2CCC1CN(C2)C(c1ccccc1)c1ccccc1</td>\n",
              "      <td>-4.760920</td>\n",
              "    </tr>\n",
              "    <tr>\n",
              "      <th>3</th>\n",
              "      <td>Clc1cc(Cl)c(c(c1)c1cc(Cl)c(cc1Cl)Cl)Cl</td>\n",
              "      <td>-8.600000</td>\n",
              "    </tr>\n",
              "    <tr>\n",
              "      <th>4</th>\n",
              "      <td>CN1CCC(CC1)N(c1ccccc1)Cc1ccccc1</td>\n",
              "      <td>-4.086451</td>\n",
              "    </tr>\n",
              "  </tbody>\n",
              "</table>\n",
              "</div>\n",
              "    <div class=\"colab-df-buttons\">\n",
              "\n",
              "  <div class=\"colab-df-container\">\n",
              "    <button class=\"colab-df-convert\" onclick=\"convertToInteractive('df-096b5a85-8f12-4647-a506-8d461fe7b2ff')\"\n",
              "            title=\"Convert this dataframe to an interactive table.\"\n",
              "            style=\"display:none;\">\n",
              "\n",
              "  <svg xmlns=\"http://www.w3.org/2000/svg\" height=\"24px\" viewBox=\"0 -960 960 960\">\n",
              "    <path d=\"M120-120v-720h720v720H120Zm60-500h600v-160H180v160Zm220 220h160v-160H400v160Zm0 220h160v-160H400v160ZM180-400h160v-160H180v160Zm440 0h160v-160H620v160ZM180-180h160v-160H180v160Zm440 0h160v-160H620v160Z\"/>\n",
              "  </svg>\n",
              "    </button>\n",
              "\n",
              "  <style>\n",
              "    .colab-df-container {\n",
              "      display:flex;\n",
              "      gap: 12px;\n",
              "    }\n",
              "\n",
              "    .colab-df-convert {\n",
              "      background-color: #E8F0FE;\n",
              "      border: none;\n",
              "      border-radius: 50%;\n",
              "      cursor: pointer;\n",
              "      display: none;\n",
              "      fill: #1967D2;\n",
              "      height: 32px;\n",
              "      padding: 0 0 0 0;\n",
              "      width: 32px;\n",
              "    }\n",
              "\n",
              "    .colab-df-convert:hover {\n",
              "      background-color: #E2EBFA;\n",
              "      box-shadow: 0px 1px 2px rgba(60, 64, 67, 0.3), 0px 1px 3px 1px rgba(60, 64, 67, 0.15);\n",
              "      fill: #174EA6;\n",
              "    }\n",
              "\n",
              "    .colab-df-buttons div {\n",
              "      margin-bottom: 4px;\n",
              "    }\n",
              "\n",
              "    [theme=dark] .colab-df-convert {\n",
              "      background-color: #3B4455;\n",
              "      fill: #D2E3FC;\n",
              "    }\n",
              "\n",
              "    [theme=dark] .colab-df-convert:hover {\n",
              "      background-color: #434B5C;\n",
              "      box-shadow: 0px 1px 3px 1px rgba(0, 0, 0, 0.15);\n",
              "      filter: drop-shadow(0px 1px 2px rgba(0, 0, 0, 0.3));\n",
              "      fill: #FFFFFF;\n",
              "    }\n",
              "  </style>\n",
              "\n",
              "    <script>\n",
              "      const buttonEl =\n",
              "        document.querySelector('#df-096b5a85-8f12-4647-a506-8d461fe7b2ff button.colab-df-convert');\n",
              "      buttonEl.style.display =\n",
              "        google.colab.kernel.accessAllowed ? 'block' : 'none';\n",
              "\n",
              "      async function convertToInteractive(key) {\n",
              "        const element = document.querySelector('#df-096b5a85-8f12-4647-a506-8d461fe7b2ff');\n",
              "        const dataTable =\n",
              "          await google.colab.kernel.invokeFunction('convertToInteractive',\n",
              "                                                    [key], {});\n",
              "        if (!dataTable) return;\n",
              "\n",
              "        const docLinkHtml = 'Like what you see? Visit the ' +\n",
              "          '<a target=\"_blank\" href=https://colab.research.google.com/notebooks/data_table.ipynb>data table notebook</a>'\n",
              "          + ' to learn more about interactive tables.';\n",
              "        element.innerHTML = '';\n",
              "        dataTable['output_type'] = 'display_data';\n",
              "        await google.colab.output.renderOutput(dataTable, element);\n",
              "        const docLink = document.createElement('div');\n",
              "        docLink.innerHTML = docLinkHtml;\n",
              "        element.appendChild(docLink);\n",
              "      }\n",
              "    </script>\n",
              "  </div>\n",
              "\n",
              "\n",
              "<div id=\"df-6d36353e-1d35-4a8f-9562-fd2d43a4775a\">\n",
              "  <button class=\"colab-df-quickchart\" onclick=\"quickchart('df-6d36353e-1d35-4a8f-9562-fd2d43a4775a')\"\n",
              "            title=\"Suggest charts.\"\n",
              "            style=\"display:none;\">\n",
              "\n",
              "<svg xmlns=\"http://www.w3.org/2000/svg\" height=\"24px\"viewBox=\"0 0 24 24\"\n",
              "     width=\"24px\">\n",
              "    <g>\n",
              "        <path d=\"M19 3H5c-1.1 0-2 .9-2 2v14c0 1.1.9 2 2 2h14c1.1 0 2-.9 2-2V5c0-1.1-.9-2-2-2zM9 17H7v-7h2v7zm4 0h-2V7h2v10zm4 0h-2v-4h2v4z\"/>\n",
              "    </g>\n",
              "</svg>\n",
              "  </button>\n",
              "\n",
              "<style>\n",
              "  .colab-df-quickchart {\n",
              "      --bg-color: #E8F0FE;\n",
              "      --fill-color: #1967D2;\n",
              "      --hover-bg-color: #E2EBFA;\n",
              "      --hover-fill-color: #174EA6;\n",
              "      --disabled-fill-color: #AAA;\n",
              "      --disabled-bg-color: #DDD;\n",
              "  }\n",
              "\n",
              "  [theme=dark] .colab-df-quickchart {\n",
              "      --bg-color: #3B4455;\n",
              "      --fill-color: #D2E3FC;\n",
              "      --hover-bg-color: #434B5C;\n",
              "      --hover-fill-color: #FFFFFF;\n",
              "      --disabled-bg-color: #3B4455;\n",
              "      --disabled-fill-color: #666;\n",
              "  }\n",
              "\n",
              "  .colab-df-quickchart {\n",
              "    background-color: var(--bg-color);\n",
              "    border: none;\n",
              "    border-radius: 50%;\n",
              "    cursor: pointer;\n",
              "    display: none;\n",
              "    fill: var(--fill-color);\n",
              "    height: 32px;\n",
              "    padding: 0;\n",
              "    width: 32px;\n",
              "  }\n",
              "\n",
              "  .colab-df-quickchart:hover {\n",
              "    background-color: var(--hover-bg-color);\n",
              "    box-shadow: 0 1px 2px rgba(60, 64, 67, 0.3), 0 1px 3px 1px rgba(60, 64, 67, 0.15);\n",
              "    fill: var(--button-hover-fill-color);\n",
              "  }\n",
              "\n",
              "  .colab-df-quickchart-complete:disabled,\n",
              "  .colab-df-quickchart-complete:disabled:hover {\n",
              "    background-color: var(--disabled-bg-color);\n",
              "    fill: var(--disabled-fill-color);\n",
              "    box-shadow: none;\n",
              "  }\n",
              "\n",
              "  .colab-df-spinner {\n",
              "    border: 2px solid var(--fill-color);\n",
              "    border-color: transparent;\n",
              "    border-bottom-color: var(--fill-color);\n",
              "    animation:\n",
              "      spin 1s steps(1) infinite;\n",
              "  }\n",
              "\n",
              "  @keyframes spin {\n",
              "    0% {\n",
              "      border-color: transparent;\n",
              "      border-bottom-color: var(--fill-color);\n",
              "      border-left-color: var(--fill-color);\n",
              "    }\n",
              "    20% {\n",
              "      border-color: transparent;\n",
              "      border-left-color: var(--fill-color);\n",
              "      border-top-color: var(--fill-color);\n",
              "    }\n",
              "    30% {\n",
              "      border-color: transparent;\n",
              "      border-left-color: var(--fill-color);\n",
              "      border-top-color: var(--fill-color);\n",
              "      border-right-color: var(--fill-color);\n",
              "    }\n",
              "    40% {\n",
              "      border-color: transparent;\n",
              "      border-right-color: var(--fill-color);\n",
              "      border-top-color: var(--fill-color);\n",
              "    }\n",
              "    60% {\n",
              "      border-color: transparent;\n",
              "      border-right-color: var(--fill-color);\n",
              "    }\n",
              "    80% {\n",
              "      border-color: transparent;\n",
              "      border-right-color: var(--fill-color);\n",
              "      border-bottom-color: var(--fill-color);\n",
              "    }\n",
              "    90% {\n",
              "      border-color: transparent;\n",
              "      border-bottom-color: var(--fill-color);\n",
              "    }\n",
              "  }\n",
              "</style>\n",
              "\n",
              "  <script>\n",
              "    async function quickchart(key) {\n",
              "      const quickchartButtonEl =\n",
              "        document.querySelector('#' + key + ' button');\n",
              "      quickchartButtonEl.disabled = true;  // To prevent multiple clicks.\n",
              "      quickchartButtonEl.classList.add('colab-df-spinner');\n",
              "      try {\n",
              "        const charts = await google.colab.kernel.invokeFunction(\n",
              "            'suggestCharts', [key], {});\n",
              "      } catch (error) {\n",
              "        console.error('Error during call to suggestCharts:', error);\n",
              "      }\n",
              "      quickchartButtonEl.classList.remove('colab-df-spinner');\n",
              "      quickchartButtonEl.classList.add('colab-df-quickchart-complete');\n",
              "    }\n",
              "    (() => {\n",
              "      let quickchartButtonEl =\n",
              "        document.querySelector('#df-6d36353e-1d35-4a8f-9562-fd2d43a4775a button');\n",
              "      quickchartButtonEl.style.display =\n",
              "        google.colab.kernel.accessAllowed ? 'block' : 'none';\n",
              "    })();\n",
              "  </script>\n",
              "</div>\n",
              "\n",
              "    </div>\n",
              "  </div>\n"
            ]
          },
          "metadata": {},
          "execution_count": 128
        }
      ]
    },
    {
      "cell_type": "code",
      "source": [
        "names = ['logS']\n",
        "batch_size = 128\n",
        "loader_params ={'batch_size': batch_size, 'shuffle': True}\n",
        "train_loader = get_GIN_dataloader(GIN_dataset(trains, names), loader_params)\n",
        "loader_params ={'batch_size': batch_size, 'shuffle': False}\n",
        "valid_loader = get_GIN_dataloader(GIN_dataset(valids, names), loader_params)"
      ],
      "metadata": {
        "id": "hmi6s2DzStST"
      },
      "execution_count": 129,
      "outputs": []
    },
    {
      "cell_type": "code",
      "source": [
        "IS_R = True\n",
        "config = {'GIN_out_dim': 256,\n",
        "            'hid_dims': [512],\n",
        "            'out_dim': len(names),\n",
        "            'prop_names': names,\n",
        "            'dropout': 0.1,\n",
        "            'IS_R': IS_R,\n",
        "            'lr': 1e-4,\n",
        "            'wd':1e-5,\n",
        "            'patience': 10,\n",
        "            'model_path': f'GIN_SO_DR_0.1/ckpt_{names[0]}.pt'}"
      ],
      "metadata": {
        "id": "5suHyOJyTKQs"
      },
      "execution_count": 130,
      "outputs": []
    },
    {
      "cell_type": "code",
      "source": [
        "models = PRED(**config)\n",
        "models.train(train_loader, valid_loader)"
      ],
      "metadata": {
        "colab": {
          "base_uri": "https://localhost:8080/"
        },
        "id": "wybMxM2mTTVH",
        "outputId": "2f421ee7-55d4-43e7-d5bb-02aa062d68eb"
      },
      "execution_count": 131,
      "outputs": [
        {
          "output_type": "stream",
          "name": "stdout",
          "text": [
            "Downloading gin_supervised_contextpred_pre_trained.pth from https://data.dgl.ai/dgllife/pre_trained/gin_supervised_contextpred.pth...\n",
            "Pretrained model loaded\n",
            "Epoch:0, [Train] Loss: 11.897\n",
            "Epoch:0, [Valid] Loss: 7.658\n",
            "prev min loss 10000.000, now loss 7.658 | save model at epoch: 0\n",
            "*************** logS ***************\n",
            "MAE,   MSE,   RMSE,   R2\n",
            "& 2.189  &7.658  &2.767  &-0.654\n",
            "\n",
            "Epoch:1, [Train] Loss: 5.734\n",
            "Epoch:1, [Valid] Loss: 2.795\n",
            "prev min loss 7.658, now loss 2.795 | save model at epoch: 1\n",
            "*************** logS ***************\n",
            "MAE,   MSE,   RMSE,   R2\n",
            "& 1.273  &2.795  &1.672  &0.396\n",
            "\n",
            "Epoch:2, [Train] Loss: 4.104\n",
            "Epoch:2, [Valid] Loss: 2.348\n",
            "prev min loss 2.795, now loss 2.348 | save model at epoch: 2\n",
            "*************** logS ***************\n",
            "MAE,   MSE,   RMSE,   R2\n",
            "& 1.148  &2.348  &1.532  &0.493\n",
            "\n",
            "Epoch:3, [Train] Loss: 3.856\n",
            "Epoch:3, [Valid] Loss: 2.185\n",
            "prev min loss 2.348, now loss 2.185 | save model at epoch: 3\n",
            "*************** logS ***************\n",
            "MAE,   MSE,   RMSE,   R2\n",
            "& 1.097  &2.185  &1.478  &0.528\n",
            "\n",
            "Epoch:4, [Train] Loss: 3.792\n",
            "Epoch:4, [Valid] Loss: 2.067\n",
            "prev min loss 2.185, now loss 2.067 | save model at epoch: 4\n",
            "*************** logS ***************\n",
            "MAE,   MSE,   RMSE,   R2\n",
            "& 1.063  &2.067  &1.438  &0.554\n",
            "\n",
            "Epoch:5, [Train] Loss: 3.739\n",
            "Epoch:5, [Valid] Loss: 2.024\n",
            "prev min loss 2.067, now loss 2.024 | save model at epoch: 5\n",
            "*************** logS ***************\n",
            "MAE,   MSE,   RMSE,   R2\n",
            "& 1.046  &2.024  &1.423  &0.563\n",
            "\n",
            "Epoch:6, [Train] Loss: 3.595\n",
            "Epoch:6, [Valid] Loss: 1.986\n",
            "prev min loss 2.024, now loss 1.986 | save model at epoch: 6\n",
            "*************** logS ***************\n",
            "MAE,   MSE,   RMSE,   R2\n",
            "& 1.033  &1.986  &1.409  &0.571\n",
            "\n",
            "Epoch:7, [Train] Loss: 3.587\n",
            "Epoch:7, [Valid] Loss: 1.905\n",
            "prev min loss 1.986, now loss 1.905 | save model at epoch: 7\n",
            "*************** logS ***************\n",
            "MAE,   MSE,   RMSE,   R2\n",
            "& 1.007  &1.905  &1.380  &0.589\n",
            "\n",
            "Epoch:8, [Train] Loss: 3.614\n",
            "Epoch:8, [Valid] Loss: 1.900\n",
            "prev min loss 1.905, now loss 1.900 | save model at epoch: 8\n",
            "*************** logS ***************\n",
            "MAE,   MSE,   RMSE,   R2\n",
            "& 1.003  &1.900  &1.378  &0.590\n",
            "\n",
            "Epoch:9, [Train] Loss: 3.417\n",
            "Epoch:9, [Valid] Loss: 1.862\n",
            "prev min loss 1.900, now loss 1.862 | save model at epoch: 9\n",
            "*************** logS ***************\n",
            "MAE,   MSE,   RMSE,   R2\n",
            "& 0.992  &1.862  &1.365  &0.598\n",
            "\n",
            "Epoch:10, [Train] Loss: 3.549\n",
            "Epoch:10, [Valid] Loss: 1.848\n",
            "prev min loss 1.862, now loss 1.848 | save model at epoch: 10\n",
            "*************** logS ***************\n",
            "MAE,   MSE,   RMSE,   R2\n",
            "& 0.988  &1.848  &1.360  &0.601\n",
            "\n",
            "Epoch:11, [Train] Loss: 3.469\n",
            "Epoch:11, [Valid] Loss: 1.843\n",
            "prev min loss 1.848, now loss 1.843 | save model at epoch: 11\n",
            "*************** logS ***************\n",
            "MAE,   MSE,   RMSE,   R2\n",
            "& 0.986  &1.843  &1.358  &0.602\n",
            "\n",
            "Epoch:12, [Train] Loss: 3.341\n",
            "Epoch:12, [Valid] Loss: 1.781\n",
            "prev min loss 1.843, now loss 1.781 | save model at epoch: 12\n",
            "*************** logS ***************\n",
            "MAE,   MSE,   RMSE,   R2\n",
            "& 0.966  &1.781  &1.334  &0.615\n",
            "\n",
            "Epoch:13, [Train] Loss: 3.421\n",
            "Epoch:13, [Valid] Loss: 1.803\n",
            "EarlyStopping counter: 1 out of 10\n",
            "Epoch:14, [Train] Loss: 3.379\n",
            "Epoch:14, [Valid] Loss: 1.892\n",
            "EarlyStopping counter: 2 out of 10\n",
            "Epoch:15, [Train] Loss: 3.453\n",
            "Epoch:15, [Valid] Loss: 1.799\n",
            "EarlyStopping counter: 3 out of 10\n",
            "Epoch:16, [Train] Loss: 3.481\n",
            "Epoch:16, [Valid] Loss: 1.764\n",
            "prev min loss 1.781, now loss 1.764 | save model at epoch: 16\n",
            "*************** logS ***************\n",
            "MAE,   MSE,   RMSE,   R2\n",
            "& 0.959  &1.764  &1.328  &0.619\n",
            "\n",
            "Epoch:17, [Train] Loss: 3.345\n",
            "Epoch:17, [Valid] Loss: 1.827\n",
            "EarlyStopping counter: 1 out of 10\n",
            "Epoch:18, [Train] Loss: 3.531\n",
            "Epoch:18, [Valid] Loss: 1.838\n",
            "EarlyStopping counter: 2 out of 10\n",
            "Epoch:19, [Train] Loss: 3.357\n",
            "Epoch:19, [Valid] Loss: 1.776\n",
            "EarlyStopping counter: 3 out of 10\n",
            "Epoch:20, [Train] Loss: 3.404\n",
            "Epoch:20, [Valid] Loss: 1.795\n",
            "EarlyStopping counter: 4 out of 10\n",
            "Epoch:21, [Train] Loss: 3.402\n",
            "Epoch:21, [Valid] Loss: 1.753\n",
            "prev min loss 1.764, now loss 1.753 | save model at epoch: 21\n",
            "*************** logS ***************\n",
            "MAE,   MSE,   RMSE,   R2\n",
            "& 0.954  &1.753  &1.324  &0.622\n",
            "\n",
            "Epoch:22, [Train] Loss: 3.252\n",
            "Epoch:22, [Valid] Loss: 1.806\n",
            "EarlyStopping counter: 1 out of 10\n",
            "Epoch:23, [Train] Loss: 3.290\n",
            "Epoch:23, [Valid] Loss: 1.665\n",
            "prev min loss 1.753, now loss 1.665 | save model at epoch: 23\n",
            "*************** logS ***************\n",
            "MAE,   MSE,   RMSE,   R2\n",
            "& 0.923  &1.665  &1.290  &0.640\n",
            "\n",
            "Epoch:24, [Train] Loss: 3.350\n",
            "Epoch:24, [Valid] Loss: 1.733\n",
            "EarlyStopping counter: 1 out of 10\n",
            "Epoch:25, [Train] Loss: 3.304\n",
            "Epoch:25, [Valid] Loss: 1.684\n",
            "EarlyStopping counter: 2 out of 10\n",
            "Epoch:26, [Train] Loss: 3.313\n",
            "Epoch:26, [Valid] Loss: 1.826\n",
            "EarlyStopping counter: 3 out of 10\n",
            "Epoch:27, [Train] Loss: 3.211\n",
            "Epoch:27, [Valid] Loss: 1.833\n",
            "EarlyStopping counter: 4 out of 10\n",
            "Epoch:28, [Train] Loss: 3.355\n",
            "Epoch:28, [Valid] Loss: 1.748\n",
            "EarlyStopping counter: 5 out of 10\n",
            "Epoch:29, [Train] Loss: 3.182\n",
            "Epoch:29, [Valid] Loss: 1.625\n",
            "prev min loss 1.665, now loss 1.625 | save model at epoch: 29\n",
            "*************** logS ***************\n",
            "MAE,   MSE,   RMSE,   R2\n",
            "& 0.902  &1.625  &1.275  &0.649\n",
            "\n",
            "Epoch:30, [Train] Loss: 3.199\n",
            "Epoch:30, [Valid] Loss: 1.766\n",
            "EarlyStopping counter: 1 out of 10\n",
            "Epoch:31, [Train] Loss: 3.184\n",
            "Epoch:31, [Valid] Loss: 1.798\n",
            "EarlyStopping counter: 2 out of 10\n",
            "Epoch:32, [Train] Loss: 3.043\n",
            "Epoch:32, [Valid] Loss: 1.653\n",
            "EarlyStopping counter: 3 out of 10\n",
            "Epoch:33, [Train] Loss: 3.161\n",
            "Epoch:33, [Valid] Loss: 1.617\n",
            "prev min loss 1.625, now loss 1.617 | save model at epoch: 33\n",
            "*************** logS ***************\n",
            "MAE,   MSE,   RMSE,   R2\n",
            "& 0.900  &1.617  &1.271  &0.651\n",
            "\n",
            "Epoch:34, [Train] Loss: 3.056\n",
            "Epoch:34, [Valid] Loss: 1.579\n",
            "prev min loss 1.617, now loss 1.579 | save model at epoch: 34\n",
            "*************** logS ***************\n",
            "MAE,   MSE,   RMSE,   R2\n",
            "& 0.894  &1.579  &1.256  &0.659\n",
            "\n",
            "Epoch:35, [Train] Loss: 3.137\n",
            "Epoch:35, [Valid] Loss: 1.660\n",
            "EarlyStopping counter: 1 out of 10\n",
            "Epoch:36, [Train] Loss: 3.169\n",
            "Epoch:36, [Valid] Loss: 1.624\n",
            "EarlyStopping counter: 2 out of 10\n",
            "Epoch:37, [Train] Loss: 3.262\n",
            "Epoch:37, [Valid] Loss: 1.656\n",
            "EarlyStopping counter: 3 out of 10\n",
            "Epoch:38, [Train] Loss: 3.023\n",
            "Epoch:38, [Valid] Loss: 1.745\n",
            "EarlyStopping counter: 4 out of 10\n",
            "Epoch:39, [Train] Loss: 3.161\n",
            "Epoch:39, [Valid] Loss: 1.669\n",
            "EarlyStopping counter: 5 out of 10\n",
            "Epoch:40, [Train] Loss: 3.239\n",
            "Epoch:40, [Valid] Loss: 1.816\n",
            "EarlyStopping counter: 6 out of 10\n",
            "Epoch:41, [Train] Loss: 3.034\n",
            "Epoch:41, [Valid] Loss: 1.570\n",
            "prev min loss 1.579, now loss 1.570 | save model at epoch: 41\n",
            "*************** logS ***************\n",
            "MAE,   MSE,   RMSE,   R2\n",
            "& 0.895  &1.570  &1.253  &0.661\n",
            "\n",
            "Epoch:42, [Train] Loss: 3.121\n",
            "Epoch:42, [Valid] Loss: 1.695\n",
            "EarlyStopping counter: 1 out of 10\n",
            "Epoch:43, [Train] Loss: 3.221\n",
            "Epoch:43, [Valid] Loss: 1.606\n",
            "EarlyStopping counter: 2 out of 10\n",
            "Epoch:44, [Train] Loss: 3.121\n",
            "Epoch:44, [Valid] Loss: 1.644\n",
            "EarlyStopping counter: 3 out of 10\n",
            "Epoch:45, [Train] Loss: 3.177\n",
            "Epoch:45, [Valid] Loss: 1.831\n",
            "EarlyStopping counter: 4 out of 10\n",
            "Epoch:46, [Train] Loss: 3.045\n",
            "Epoch:46, [Valid] Loss: 1.665\n",
            "EarlyStopping counter: 5 out of 10\n",
            "Epoch:47, [Train] Loss: 3.023\n",
            "Epoch:47, [Valid] Loss: 1.613\n",
            "EarlyStopping counter: 6 out of 10\n",
            "Epoch:48, [Train] Loss: 2.956\n",
            "Epoch:48, [Valid] Loss: 1.501\n",
            "prev min loss 1.570, now loss 1.501 | save model at epoch: 48\n",
            "*************** logS ***************\n",
            "MAE,   MSE,   RMSE,   R2\n",
            "& 0.875  &1.501  &1.225  &0.676\n",
            "\n",
            "Epoch:49, [Train] Loss: 2.977\n",
            "Epoch:49, [Valid] Loss: 1.560\n",
            "EarlyStopping counter: 1 out of 10\n",
            "Epoch:50, [Train] Loss: 3.043\n",
            "Epoch:50, [Valid] Loss: 1.493\n",
            "prev min loss 1.501, now loss 1.493 | save model at epoch: 50\n",
            "*************** logS ***************\n",
            "MAE,   MSE,   RMSE,   R2\n",
            "& 0.869  &1.493  &1.222  &0.678\n",
            "\n",
            "Epoch:51, [Train] Loss: 3.125\n",
            "Epoch:51, [Valid] Loss: 1.660\n",
            "EarlyStopping counter: 1 out of 10\n",
            "Epoch:52, [Train] Loss: 2.958\n",
            "Epoch:52, [Valid] Loss: 1.719\n",
            "EarlyStopping counter: 2 out of 10\n",
            "Epoch:53, [Train] Loss: 2.940\n",
            "Epoch:53, [Valid] Loss: 1.435\n",
            "prev min loss 1.493, now loss 1.435 | save model at epoch: 53\n",
            "*************** logS ***************\n",
            "MAE,   MSE,   RMSE,   R2\n",
            "& 0.857  &1.435  &1.198  &0.690\n",
            "\n",
            "Epoch:54, [Train] Loss: 2.870\n",
            "Epoch:54, [Valid] Loss: 1.432\n",
            "prev min loss 1.435, now loss 1.432 | save model at epoch: 54\n",
            "*************** logS ***************\n",
            "MAE,   MSE,   RMSE,   R2\n",
            "& 0.853  &1.432  &1.197  &0.691\n",
            "\n",
            "Epoch:55, [Train] Loss: 2.956\n",
            "Epoch:55, [Valid] Loss: 1.533\n",
            "EarlyStopping counter: 1 out of 10\n",
            "Epoch:56, [Train] Loss: 2.917\n",
            "Epoch:56, [Valid] Loss: 1.614\n",
            "EarlyStopping counter: 2 out of 10\n",
            "Epoch:57, [Train] Loss: 3.142\n",
            "Epoch:57, [Valid] Loss: 1.577\n",
            "EarlyStopping counter: 3 out of 10\n",
            "Epoch:58, [Train] Loss: 2.940\n",
            "Epoch:58, [Valid] Loss: 1.568\n",
            "EarlyStopping counter: 4 out of 10\n",
            "Epoch:59, [Train] Loss: 3.124\n",
            "Epoch:59, [Valid] Loss: 1.612\n",
            "EarlyStopping counter: 5 out of 10\n",
            "Epoch:60, [Train] Loss: 2.921\n",
            "Epoch:60, [Valid] Loss: 1.403\n",
            "prev min loss 1.432, now loss 1.403 | save model at epoch: 60\n",
            "*************** logS ***************\n",
            "MAE,   MSE,   RMSE,   R2\n",
            "& 0.847  &1.403  &1.185  &0.697\n",
            "\n",
            "Epoch:61, [Train] Loss: 2.957\n",
            "Epoch:61, [Valid] Loss: 1.438\n",
            "EarlyStopping counter: 1 out of 10\n",
            "Epoch:62, [Train] Loss: 2.869\n",
            "Epoch:62, [Valid] Loss: 1.540\n",
            "EarlyStopping counter: 2 out of 10\n",
            "Epoch:63, [Train] Loss: 2.962\n",
            "Epoch:63, [Valid] Loss: 1.582\n",
            "EarlyStopping counter: 3 out of 10\n",
            "Epoch:64, [Train] Loss: 2.909\n",
            "Epoch:64, [Valid] Loss: 1.625\n",
            "EarlyStopping counter: 4 out of 10\n",
            "Epoch:65, [Train] Loss: 2.878\n",
            "Epoch:65, [Valid] Loss: 1.626\n",
            "EarlyStopping counter: 5 out of 10\n",
            "Epoch:66, [Train] Loss: 2.833\n",
            "Epoch:66, [Valid] Loss: 1.551\n",
            "EarlyStopping counter: 6 out of 10\n",
            "Epoch:67, [Train] Loss: 2.957\n",
            "Epoch:67, [Valid] Loss: 1.702\n",
            "EarlyStopping counter: 7 out of 10\n",
            "Epoch:68, [Train] Loss: 2.909\n",
            "Epoch:68, [Valid] Loss: 1.523\n",
            "EarlyStopping counter: 8 out of 10\n",
            "Epoch:69, [Train] Loss: 2.840\n",
            "Epoch:69, [Valid] Loss: 1.491\n",
            "EarlyStopping counter: 9 out of 10\n",
            "Epoch:70, [Train] Loss: 2.923\n",
            "Epoch:70, [Valid] Loss: 1.573\n",
            "EarlyStopping counter: 10 out of 10\n",
            "early stop\n",
            "best epoch: 60, min loss: 1.4032\n",
            "\n"
          ]
        }
      ]
    },
    {
      "cell_type": "code",
      "source": [
        "models.eval(valid_loader, config['model_path'])"
      ],
      "metadata": {
        "colab": {
          "base_uri": "https://localhost:8080/",
          "height": 671
        },
        "id": "MWg_DEaATqyk",
        "outputId": "2f069e1b-89be-4683-890f-08c5c77db015"
      },
      "execution_count": 132,
      "outputs": [
        {
          "output_type": "stream",
          "name": "stdout",
          "text": [
            "Downloading gin_supervised_contextpred_pre_trained.pth from https://data.dgl.ai/dgllife/pre_trained/gin_supervised_contextpred.pth...\n",
            "Pretrained model loaded\n",
            "load pretrained model from  GIN_SO_DR_0.1/ckpt_logS.pt\n",
            "using MSELoss\n"
          ]
        },
        {
          "output_type": "stream",
          "name": "stderr",
          "text": [
            "100%|██████████| 8/8 [00:02<00:00,  3.38it/s]\n"
          ]
        },
        {
          "output_type": "stream",
          "name": "stdout",
          "text": [
            "total_loss: 1.403\n",
            "*************** logS ***************\n",
            "MAE,   MSE,   RMSE,   R2\n",
            "& 0.847  &1.403  &1.185  &0.697\n"
          ]
        },
        {
          "output_type": "display_data",
          "data": {
            "text/plain": [
              "<Figure size 640x480 with 1 Axes>"
            ],
            "image/png": "[encoded data removed]"
          },
          "metadata": {}
        },
        {
          "output_type": "stream",
          "name": "stdout",
          "text": [
            "\n"
          ]
        }
      ]
    },
    {
      "cell_type": "code",
      "source": [
        "names = ['Lipophilicity_AstraZeneca', 'Solubility_AqSolDB', 'HydrationFreeEnergy_FreeSolv']\n",
        "IS_R = True\n",
        "trains, valids, tests = collect_data(names, IS_R=IS_R)\n",
        "batch_size = 128\n",
        "loader_params ={'batch_size': batch_size, 'shuffle': True}\n",
        "\n",
        "train_loader = get_GIN_dataloader(GIN_dataset(trains, names), loader_params)\n",
        "valid_loader = get_GIN_dataloader(GIN_dataset(valids, names), loader_params)\n",
        "p = {'batch_size': batch_size, 'shuffle': False}\n",
        "test_loader = get_GIN_dataloader(GIN_dataset(tests, names), p)"
      ],
      "metadata": {
        "id": "BgzCZtTUX--y"
      },
      "execution_count": null,
      "outputs": []
    },
    {
      "cell_type": "code",
      "source": [
        "config = {'GIN_out_dim': 256,\n",
        "          'hid_dims': [64],\n",
        "          'out_dim': len(names),\n",
        "          'prop_names': names,\n",
        "          'dropout': 0.1,\n",
        "          'IS_R': IS_R,\n",
        "          'lr': 5e-4,\n",
        "          'wd':1e-5,\n",
        "          'patience': 5,\n",
        "          'model_path': f'ckpt_GIN_MO_regression.pt'}\n",
        "\n",
        "models = PRED(**config)"
      ],
      "metadata": {
        "colab": {
          "base_uri": "https://localhost:8080/"
        },
        "id": "_iaqK46WZWa8",
        "outputId": "1cda94cd-2b4f-41a1-8105-5d581a2b73ad"
      },
      "execution_count": 135,
      "outputs": [
        {
          "output_type": "stream",
          "name": "stdout",
          "text": [
            "Downloading gin_supervised_contextpred_pre_trained.pth from https://data.dgl.ai/dgllife/pre_trained/gin_supervised_contextpred.pth...\n",
            "Pretrained model loaded\n"
          ]
        }
      ]
    },
    {
      "cell_type": "code",
      "source": [
        "models.train(train_loader, valid_loader, test_loader)"
      ],
      "metadata": {
        "colab": {
          "base_uri": "https://localhost:8080/",
          "height": 1000
        },
        "id": "7on9mQFQZjmH",
        "outputId": "adfa4064-06da-4cfa-b80e-2be869832682"
      },
      "execution_count": 136,
      "outputs": [
        {
          "output_type": "stream",
          "name": "stdout",
          "text": [
            "Epoch:0, [Train] Loss: 7.026\n",
            "Epoch:0, [Valid] Loss: 3.042\n",
            "prev min loss 10000.000, now loss 3.042 | save model at epoch: 0\n",
            "*************** Lipophilicity_AstraZeneca ***************\n",
            "MAE,   MSE,   RMSE,   R2\n",
            "& 0.953  &1.278  &1.131  &0.111\n",
            "\n",
            "*************** Solubility_AqSolDB ***************\n",
            "MAE,   MSE,   RMSE,   R2\n",
            "& 1.215  &2.601  &1.613  &0.510\n",
            "\n",
            "*************** HydrationFreeEnergy_FreeSolv ***************\n",
            "MAE,   MSE,   RMSE,   R2\n",
            "& 3.540  &21.107  &4.594  &-0.790\n",
            "\n",
            "Epoch:1, [Train] Loss: 4.125\n",
            "Epoch:1, [Valid] Loss: 2.405\n",
            "prev min loss 3.042, now loss 2.405 | save model at epoch: 1\n",
            "*************** Lipophilicity_AstraZeneca ***************\n",
            "MAE,   MSE,   RMSE,   R2\n",
            "& 0.909  &1.157  &1.076  &0.195\n",
            "\n",
            "*************** Solubility_AqSolDB ***************\n",
            "MAE,   MSE,   RMSE,   R2\n",
            "& 1.183  &2.482  &1.575  &0.532\n",
            "\n",
            "*************** HydrationFreeEnergy_FreeSolv ***************\n",
            "MAE,   MSE,   RMSE,   R2\n",
            "& 2.197  &9.089  &3.015  &0.229\n",
            "\n",
            "Epoch:2, [Train] Loss: 3.507\n",
            "Epoch:2, [Valid] Loss: 2.239\n",
            "prev min loss 2.405, now loss 2.239 | save model at epoch: 2\n",
            "*************** Lipophilicity_AstraZeneca ***************\n",
            "MAE,   MSE,   RMSE,   R2\n",
            "& 0.905  &1.140  &1.068  &0.207\n",
            "\n",
            "*************** Solubility_AqSolDB ***************\n",
            "MAE,   MSE,   RMSE,   R2\n",
            "& 1.157  &2.369  &1.539  &0.554\n",
            "\n",
            "*************** HydrationFreeEnergy_FreeSolv ***************\n",
            "MAE,   MSE,   RMSE,   R2\n",
            "& 1.903  &7.141  &2.672  &0.394\n",
            "\n",
            "Epoch:3, [Train] Loss: 3.429\n",
            "Epoch:3, [Valid] Loss: 1.948\n",
            "prev min loss 2.239, now loss 1.948 | save model at epoch: 3\n",
            "*************** Lipophilicity_AstraZeneca ***************\n",
            "MAE,   MSE,   RMSE,   R2\n",
            "& 0.837  &0.988  &0.994  &0.312\n",
            "\n",
            "*************** Solubility_AqSolDB ***************\n",
            "MAE,   MSE,   RMSE,   R2\n",
            "& 1.093  &2.127  &1.459  &0.599\n",
            "\n",
            "*************** HydrationFreeEnergy_FreeSolv ***************\n",
            "MAE,   MSE,   RMSE,   R2\n",
            "& 1.670  &5.210  &2.283  &0.558\n",
            "\n",
            "Epoch:4, [Train] Loss: 3.496\n",
            "Epoch:4, [Valid] Loss: 2.061\n",
            "EarlyStopping counter: 1 out of 5\n",
            "Epoch:5, [Train] Loss: 3.219\n",
            "Epoch:5, [Valid] Loss: 1.819\n",
            "prev min loss 1.948, now loss 1.819 | save model at epoch: 5\n",
            "*************** Lipophilicity_AstraZeneca ***************\n",
            "MAE,   MSE,   RMSE,   R2\n",
            "& 0.769  &0.859  &0.927  &0.403\n",
            "\n",
            "*************** Solubility_AqSolDB ***************\n",
            "MAE,   MSE,   RMSE,   R2\n",
            "& 1.067  &2.048  &1.431  &0.614\n",
            "\n",
            "*************** HydrationFreeEnergy_FreeSolv ***************\n",
            "MAE,   MSE,   RMSE,   R2\n",
            "& 1.521  &4.328  &2.080  &0.633\n",
            "\n",
            "Epoch:6, [Train] Loss: 3.151\n",
            "Epoch:6, [Valid] Loss: 1.688\n",
            "prev min loss 1.819, now loss 1.688 | save model at epoch: 6\n",
            "*************** Lipophilicity_AstraZeneca ***************\n",
            "MAE,   MSE,   RMSE,   R2\n",
            "& 0.729  &0.779  &0.883  &0.458\n",
            "\n",
            "*************** Solubility_AqSolDB ***************\n",
            "MAE,   MSE,   RMSE,   R2\n",
            "& 1.030  &1.908  &1.381  &0.640\n",
            "\n",
            "*************** HydrationFreeEnergy_FreeSolv ***************\n",
            "MAE,   MSE,   RMSE,   R2\n",
            "& 1.492  &4.016  &2.004  &0.659\n",
            "\n",
            "Epoch:7, [Train] Loss: 3.239\n",
            "Epoch:7, [Valid] Loss: 1.831\n",
            "EarlyStopping counter: 1 out of 5\n",
            "Epoch:8, [Train] Loss: 2.956\n",
            "Epoch:8, [Valid] Loss: 1.811\n",
            "EarlyStopping counter: 2 out of 5\n",
            "Epoch:9, [Train] Loss: 3.111\n",
            "Epoch:9, [Valid] Loss: 1.739\n",
            "EarlyStopping counter: 3 out of 5\n",
            "Epoch:10, [Train] Loss: 3.120\n",
            "Epoch:10, [Valid] Loss: 1.772\n",
            "EarlyStopping counter: 4 out of 5\n",
            "Epoch:11, [Train] Loss: 2.959\n",
            "Epoch:11, [Valid] Loss: 1.663\n",
            "prev min loss 1.688, now loss 1.663 | save model at epoch: 11\n",
            "*************** Lipophilicity_AstraZeneca ***************\n",
            "MAE,   MSE,   RMSE,   R2\n",
            "& 0.724  &0.772  &0.879  &0.463\n",
            "\n",
            "*************** Solubility_AqSolDB ***************\n",
            "MAE,   MSE,   RMSE,   R2\n",
            "& 1.026  &1.881  &1.372  &0.645\n",
            "\n",
            "*************** HydrationFreeEnergy_FreeSolv ***************\n",
            "MAE,   MSE,   RMSE,   R2\n",
            "& 1.453  &3.903  &1.976  &0.669\n",
            "\n",
            "Epoch:12, [Train] Loss: 2.935\n",
            "Epoch:12, [Valid] Loss: 1.632\n",
            "prev min loss 1.663, now loss 1.632 | save model at epoch: 12\n",
            "*************** Lipophilicity_AstraZeneca ***************\n",
            "MAE,   MSE,   RMSE,   R2\n",
            "& 0.735  &0.782  &0.884  &0.456\n",
            "\n",
            "*************** Solubility_AqSolDB ***************\n",
            "MAE,   MSE,   RMSE,   R2\n",
            "& 1.004  &1.817  &1.348  &0.658\n",
            "\n",
            "*************** HydrationFreeEnergy_FreeSolv ***************\n",
            "MAE,   MSE,   RMSE,   R2\n",
            "& 1.493  &4.131  &2.033  &0.650\n",
            "\n",
            "Epoch:13, [Train] Loss: 3.066\n",
            "Epoch:13, [Valid] Loss: 1.685\n",
            "EarlyStopping counter: 1 out of 5\n",
            "Epoch:14, [Train] Loss: 3.018\n",
            "Epoch:14, [Valid] Loss: 1.754\n",
            "EarlyStopping counter: 2 out of 5\n",
            "Epoch:15, [Train] Loss: 2.851\n",
            "Epoch:15, [Valid] Loss: 1.563\n",
            "prev min loss 1.632, now loss 1.563 | save model at epoch: 15\n",
            "*************** Lipophilicity_AstraZeneca ***************\n",
            "MAE,   MSE,   RMSE,   R2\n",
            "& 0.668  &0.666  &0.816  &0.537\n",
            "\n",
            "*************** Solubility_AqSolDB ***************\n",
            "MAE,   MSE,   RMSE,   R2\n",
            "& 0.962  &1.717  &1.310  &0.676\n",
            "\n",
            "*************** HydrationFreeEnergy_FreeSolv ***************\n",
            "MAE,   MSE,   RMSE,   R2\n",
            "& 1.612  &4.855  &2.203  &0.588\n",
            "\n",
            "Epoch:16, [Train] Loss: 2.826\n",
            "Epoch:16, [Valid] Loss: 1.495\n",
            "prev min loss 1.563, now loss 1.495 | save model at epoch: 16\n",
            "*************** Lipophilicity_AstraZeneca ***************\n",
            "MAE,   MSE,   RMSE,   R2\n",
            "& 0.643  &0.629  &0.793  &0.562\n",
            "\n",
            "*************** Solubility_AqSolDB ***************\n",
            "MAE,   MSE,   RMSE,   R2\n",
            "& 0.952  &1.675  &1.294  &0.684\n",
            "\n",
            "*************** HydrationFreeEnergy_FreeSolv ***************\n",
            "MAE,   MSE,   RMSE,   R2\n",
            "& 1.437  &4.194  &2.048  &0.644\n",
            "\n",
            "Epoch:17, [Train] Loss: 2.892\n",
            "Epoch:17, [Valid] Loss: 1.503\n",
            "EarlyStopping counter: 1 out of 5\n",
            "Epoch:18, [Train] Loss: 2.863\n",
            "Epoch:18, [Valid] Loss: 1.639\n",
            "EarlyStopping counter: 2 out of 5\n",
            "Epoch:19, [Train] Loss: 2.748\n",
            "Epoch:19, [Valid] Loss: 1.783\n",
            "EarlyStopping counter: 3 out of 5\n",
            "Epoch:20, [Train] Loss: 2.882\n",
            "Epoch:20, [Valid] Loss: 1.600\n",
            "EarlyStopping counter: 4 out of 5\n",
            "Epoch:21, [Train] Loss: 2.787\n",
            "Epoch:21, [Valid] Loss: 1.621\n",
            "EarlyStopping counter: 5 out of 5\n",
            "early stop\n",
            "best epoch: 16, min loss: 1.4954\n",
            "\n",
            "Downloading gin_supervised_contextpred_pre_trained.pth from https://data.dgl.ai/dgllife/pre_trained/gin_supervised_contextpred.pth...\n",
            "Pretrained model loaded\n",
            "load pretrained model from  ckpt_GIN_MO_regression.pt\n",
            "using MSELoss\n"
          ]
        },
        {
          "output_type": "stream",
          "name": "stderr",
          "text": [
            "100%|██████████| 23/23 [00:07<00:00,  3.03it/s]\n"
          ]
        },
        {
          "output_type": "stream",
          "name": "stdout",
          "text": [
            "total_loss: 1.443\n",
            "*************** Lipophilicity_AstraZeneca ***************\n",
            "MAE,   MSE,   RMSE,   R2\n",
            "& 0.644  &0.637  &0.798  &0.569\n"
          ]
        },
        {
          "output_type": "display_data",
          "data": {
            "text/plain": [
              "<Figure size 640x480 with 1 Axes>"
            ],
            "image/png": "[encoded data removed]"
          },
          "metadata": {}
        },
        {
          "output_type": "stream",
          "name": "stdout",
          "text": [
            "\n",
            "*************** Solubility_AqSolDB ***************\n",
            "MAE,   MSE,   RMSE,   R2\n",
            "& 0.949  &1.689  &1.300  &0.689\n"
          ]
        },
        {
          "output_type": "display_data",
          "data": {
            "text/plain": [
              "<Figure size 640x480 with 1 Axes>"
            ],
            "image/png": "[encoded data removed]"
          },
          "metadata": {}
        },
        {
          "output_type": "stream",
          "name": "stdout",
          "text": [
            "\n",
            "*************** HydrationFreeEnergy_FreeSolv ***************\n",
            "MAE,   MSE,   RMSE,   R2\n",
            "& 1.168  &2.554  &1.598  &0.844\n"
          ]
        },
        {
          "output_type": "display_data",
          "data": {
            "text/plain": [
              "<Figure size 640x480 with 1 Axes>"
            ],
            "image/png": "[encoded data removed]"
          },
          "metadata": {}
        },
        {
          "output_type": "stream",
          "name": "stdout",
          "text": [
            "\n"
          ]
        }
      ]
    },
    {
      "cell_type": "code",
      "source": [
        "# label, probs = eval_AP(models.model, IS_R, test_loader, names, device=device)\n",
        "models.eval(test_loader, config['model_path'])"
      ],
      "metadata": {
        "colab": {
          "base_uri": "https://localhost:8080/",
          "height": 1000
        },
        "id": "CGMXwb3LZn4s",
        "outputId": "d1405e93-3467-4cc5-d811-435aa81d9a87"
      },
      "execution_count": 137,
      "outputs": [
        {
          "output_type": "stream",
          "name": "stdout",
          "text": [
            "Downloading gin_supervised_contextpred_pre_trained.pth from https://data.dgl.ai/dgllife/pre_trained/gin_supervised_contextpred.pth...\n",
            "Pretrained model loaded\n",
            "load pretrained model from  ckpt_GIN_MO_regression.pt\n",
            "using MSELoss\n"
          ]
        },
        {
          "output_type": "stream",
          "name": "stderr",
          "text": [
            "100%|██████████| 23/23 [00:07<00:00,  3.21it/s]\n"
          ]
        },
        {
          "output_type": "stream",
          "name": "stdout",
          "text": [
            "total_loss: 1.443\n",
            "*************** Lipophilicity_AstraZeneca ***************\n",
            "MAE,   MSE,   RMSE,   R2\n",
            "& 0.644  &0.637  &0.798  &0.569\n"
          ]
        },
        {
          "output_type": "display_data",
          "data": {
            "text/plain": [
              "<Figure size 640x480 with 1 Axes>"
            ],
            "image/png": "[encoded data removed]"
          },
          "metadata": {}
        },
        {
          "output_type": "stream",
          "name": "stdout",
          "text": [
            "\n",
            "*************** Solubility_AqSolDB ***************\n",
            "MAE,   MSE,   RMSE,   R2\n",
            "& 0.949  &1.689  &1.300  &0.689\n"
          ]
        },
        {
          "output_type": "display_data",
          "data": {
            "text/plain": [
              "<Figure size 640x480 with 1 Axes>"
            ],
            "image/png": "[encoded data removed]"
          },
          "metadata": {}
        },
        {
          "output_type": "stream",
          "name": "stdout",
          "text": [
            "\n",
            "*************** HydrationFreeEnergy_FreeSolv ***************\n",
            "MAE,   MSE,   RMSE,   R2\n",
            "& 1.168  &2.554  &1.598  &0.844\n"
          ]
        },
        {
          "output_type": "display_data",
          "data": {
            "text/plain": [
              "<Figure size 640x480 with 1 Axes>"
            ],
            "image/png": "[encoded data removed]"
          },
          "metadata": {}
        },
        {
          "output_type": "stream",
          "name": "stdout",
          "text": [
            "\n"
          ]
        }
      ]
    },
    {
      "cell_type": "code",
      "source": [
        "F_train = F_train.rename(columns={'smile':'Drug', 'label_cutoff_50%':'F'})\n",
        "F_test = F_test.rename(columns={'smile':'Drug', 'label_cutoff_50%':'F'})\n",
        "trains = F_train[['Drug', 'F']].reset_index(drop=True)\n",
        "valids = F_test[['Drug', 'F']].reset_index(drop=True)\n",
        "trains"
      ],
      "metadata": {
        "colab": {
          "base_uri": "https://localhost:8080/",
          "height": 423
        },
        "id": "jcerOa7oi8UT",
        "outputId": "b3308a41-407f-47a5-c47a-d9bf6042d503"
      },
      "execution_count": 98,
      "outputs": [
        {
          "output_type": "execute_result",
          "data": {
            "text/plain": [
              "                                   Drug  F\n",
              "0         Nc1ccc(S(=O)(=O)Nc2ncccn2)cc1  1\n",
              "1     Nc1nc(Cl)nc2c1ncn2C1OC(CO)C(O)C1F  1\n",
              "2       Cc1cc(NS(=O)(=O)c2ccc(N)cc2)no1  1\n",
              "3                   c1ccc(CC2=NCCN2)cc1  1\n",
              "4                  CN1C(=O)CCC1c1cccnc1  1\n",
              "...                                 ... ..\n",
              "1152            Clc1cccc(Cl)c1NC1=NCCN1  1\n",
              "1153        N=C(N)N=C(O)Cc1c(Cl)cccc1Cl  1\n",
              "1154        CN(C(=O)C(Cl)Cl)c1ccc(O)cc1  1\n",
              "1155  O=P([O-])([O-])C(Cl)(Cl)P(=O)(O)O  0\n",
              "1156                           N=C(O)NO  1\n",
              "\n",
              "[1157 rows x 2 columns]"
            ],
            "text/html": [
              "\n",
              "  <div id=\"df-eb47f913-a3fc-4679-9eb2-2aacc7d21139\" class=\"colab-df-container\">\n",
              "    <div>\n",
              "<style scoped>\n",
              "    .dataframe tbody tr th:only-of-type {\n",
              "        vertical-align: middle;\n",
              "    }\n",
              "\n",
              "    .dataframe tbody tr th {\n",
              "        vertical-align: top;\n",
              "    }\n",
              "\n",
              "    .dataframe thead th {\n",
              "        text-align: right;\n",
              "    }\n",
              "</style>\n",
              "<table border=\"1\" class=\"dataframe\">\n",
              "  <thead>\n",
              "    <tr style=\"text-align: right;\">\n",
              "      <th></th>\n",
              "      <th>Drug</th>\n",
              "      <th>F</th>\n",
              "    </tr>\n",
              "  </thead>\n",
              "  <tbody>\n",
              "    <tr>\n",
              "      <th>0</th>\n",
              "      <td>Nc1ccc(S(=O)(=O)Nc2ncccn2)cc1</td>\n",
              "      <td>1</td>\n",
              "    </tr>\n",
              "    <tr>\n",
              "      <th>1</th>\n",
              "      <td>Nc1nc(Cl)nc2c1ncn2C1OC(CO)C(O)C1F</td>\n",
              "      <td>1</td>\n",
              "    </tr>\n",
              "    <tr>\n",
              "      <th>2</th>\n",
              "      <td>Cc1cc(NS(=O)(=O)c2ccc(N)cc2)no1</td>\n",
              "      <td>1</td>\n",
              "    </tr>\n",
              "    <tr>\n",
              "      <th>3</th>\n",
              "      <td>c1ccc(CC2=NCCN2)cc1</td>\n",
              "      <td>1</td>\n",
              "    </tr>\n",
              "    <tr>\n",
              "      <th>4</th>\n",
              "      <td>CN1C(=O)CCC1c1cccnc1</td>\n",
              "      <td>1</td>\n",
              "    </tr>\n",
              "    <tr>\n",
              "      <th>...</th>\n",
              "      <td>...</td>\n",
              "      <td>...</td>\n",
              "    </tr>\n",
              "    <tr>\n",
              "      <th>1152</th>\n",
              "      <td>Clc1cccc(Cl)c1NC1=NCCN1</td>\n",
              "      <td>1</td>\n",
              "    </tr>\n",
              "    <tr>\n",
              "      <th>1153</th>\n",
              "      <td>N=C(N)N=C(O)Cc1c(Cl)cccc1Cl</td>\n",
              "      <td>1</td>\n",
              "    </tr>\n",
              "    <tr>\n",
              "      <th>1154</th>\n",
              "      <td>CN(C(=O)C(Cl)Cl)c1ccc(O)cc1</td>\n",
              "      <td>1</td>\n",
              "    </tr>\n",
              "    <tr>\n",
              "      <th>1155</th>\n",
              "      <td>O=P([O-])([O-])C(Cl)(Cl)P(=O)(O)O</td>\n",
              "      <td>0</td>\n",
              "    </tr>\n",
              "    <tr>\n",
              "      <th>1156</th>\n",
              "      <td>N=C(O)NO</td>\n",
              "      <td>1</td>\n",
              "    </tr>\n",
              "  </tbody>\n",
              "</table>\n",
              "<p>1157 rows × 2 columns</p>\n",
              "</div>\n",
              "    <div class=\"colab-df-buttons\">\n",
              "\n",
              "  <div class=\"colab-df-container\">\n",
              "    <button class=\"colab-df-convert\" onclick=\"convertToInteractive('df-eb47f913-a3fc-4679-9eb2-2aacc7d21139')\"\n",
              "            title=\"Convert this dataframe to an interactive table.\"\n",
              "            style=\"display:none;\">\n",
              "\n",
              "  <svg xmlns=\"http://www.w3.org/2000/svg\" height=\"24px\" viewBox=\"0 -960 960 960\">\n",
              "    <path d=\"M120-120v-720h720v720H120Zm60-500h600v-160H180v160Zm220 220h160v-160H400v160Zm0 220h160v-160H400v160ZM180-400h160v-160H180v160Zm440 0h160v-160H620v160ZM180-180h160v-160H180v160Zm440 0h160v-160H620v160Z\"/>\n",
              "  </svg>\n",
              "    </button>\n",
              "\n",
              "  <style>\n",
              "    .colab-df-container {\n",
              "      display:flex;\n",
              "      gap: 12px;\n",
              "    }\n",
              "\n",
              "    .colab-df-convert {\n",
              "      background-color: #E8F0FE;\n",
              "      border: none;\n",
              "      border-radius: 50%;\n",
              "      cursor: pointer;\n",
              "      display: none;\n",
              "      fill: #1967D2;\n",
              "      height: 32px;\n",
              "      padding: 0 0 0 0;\n",
              "      width: 32px;\n",
              "    }\n",
              "\n",
              "    .colab-df-convert:hover {\n",
              "      background-color: #E2EBFA;\n",
              "      box-shadow: 0px 1px 2px rgba(60, 64, 67, 0.3), 0px 1px 3px 1px rgba(60, 64, 67, 0.15);\n",
              "      fill: #174EA6;\n",
              "    }\n",
              "\n",
              "    .colab-df-buttons div {\n",
              "      margin-bottom: 4px;\n",
              "    }\n",
              "\n",
              "    [theme=dark] .colab-df-convert {\n",
              "      background-color: #3B4455;\n",
              "      fill: #D2E3FC;\n",
              "    }\n",
              "\n",
              "    [theme=dark] .colab-df-convert:hover {\n",
              "      background-color: #434B5C;\n",
              "      box-shadow: 0px 1px 3px 1px rgba(0, 0, 0, 0.15);\n",
              "      filter: drop-shadow(0px 1px 2px rgba(0, 0, 0, 0.3));\n",
              "      fill: #FFFFFF;\n",
              "    }\n",
              "  </style>\n",
              "\n",
              "    <script>\n",
              "      const buttonEl =\n",
              "        document.querySelector('#df-eb47f913-a3fc-4679-9eb2-2aacc7d21139 button.colab-df-convert');\n",
              "      buttonEl.style.display =\n",
              "        google.colab.kernel.accessAllowed ? 'block' : 'none';\n",
              "\n",
              "      async function convertToInteractive(key) {\n",
              "        const element = document.querySelector('#df-eb47f913-a3fc-4679-9eb2-2aacc7d21139');\n",
              "        const dataTable =\n",
              "          await google.colab.kernel.invokeFunction('convertToInteractive',\n",
              "                                                    [key], {});\n",
              "        if (!dataTable) return;\n",
              "\n",
              "        const docLinkHtml = 'Like what you see? Visit the ' +\n",
              "          '<a target=\"_blank\" href=https://colab.research.google.com/notebooks/data_table.ipynb>data table notebook</a>'\n",
              "          + ' to learn more about interactive tables.';\n",
              "        element.innerHTML = '';\n",
              "        dataTable['output_type'] = 'display_data';\n",
              "        await google.colab.output.renderOutput(dataTable, element);\n",
              "        const docLink = document.createElement('div');\n",
              "        docLink.innerHTML = docLinkHtml;\n",
              "        element.appendChild(docLink);\n",
              "      }\n",
              "    </script>\n",
              "  </div>\n",
              "\n",
              "\n",
              "<div id=\"df-9b94972c-b57c-4aa3-b22b-de2eee118e88\">\n",
              "  <button class=\"colab-df-quickchart\" onclick=\"quickchart('df-9b94972c-b57c-4aa3-b22b-de2eee118e88')\"\n",
              "            title=\"Suggest charts.\"\n",
              "            style=\"display:none;\">\n",
              "\n",
              "<svg xmlns=\"http://www.w3.org/2000/svg\" height=\"24px\"viewBox=\"0 0 24 24\"\n",
              "     width=\"24px\">\n",
              "    <g>\n",
              "        <path d=\"M19 3H5c-1.1 0-2 .9-2 2v14c0 1.1.9 2 2 2h14c1.1 0 2-.9 2-2V5c0-1.1-.9-2-2-2zM9 17H7v-7h2v7zm4 0h-2V7h2v10zm4 0h-2v-4h2v4z\"/>\n",
              "    </g>\n",
              "</svg>\n",
              "  </button>\n",
              "\n",
              "<style>\n",
              "  .colab-df-quickchart {\n",
              "      --bg-color: #E8F0FE;\n",
              "      --fill-color: #1967D2;\n",
              "      --hover-bg-color: #E2EBFA;\n",
              "      --hover-fill-color: #174EA6;\n",
              "      --disabled-fill-color: #AAA;\n",
              "      --disabled-bg-color: #DDD;\n",
              "  }\n",
              "\n",
              "  [theme=dark] .colab-df-quickchart {\n",
              "      --bg-color: #3B4455;\n",
              "      --fill-color: #D2E3FC;\n",
              "      --hover-bg-color: #434B5C;\n",
              "      --hover-fill-color: #FFFFFF;\n",
              "      --disabled-bg-color: #3B4455;\n",
              "      --disabled-fill-color: #666;\n",
              "  }\n",
              "\n",
              "  .colab-df-quickchart {\n",
              "    background-color: var(--bg-color);\n",
              "    border: none;\n",
              "    border-radius: 50%;\n",
              "    cursor: pointer;\n",
              "    display: none;\n",
              "    fill: var(--fill-color);\n",
              "    height: 32px;\n",
              "    padding: 0;\n",
              "    width: 32px;\n",
              "  }\n",
              "\n",
              "  .colab-df-quickchart:hover {\n",
              "    background-color: var(--hover-bg-color);\n",
              "    box-shadow: 0 1px 2px rgba(60, 64, 67, 0.3), 0 1px 3px 1px rgba(60, 64, 67, 0.15);\n",
              "    fill: var(--button-hover-fill-color);\n",
              "  }\n",
              "\n",
              "  .colab-df-quickchart-complete:disabled,\n",
              "  .colab-df-quickchart-complete:disabled:hover {\n",
              "    background-color: var(--disabled-bg-color);\n",
              "    fill: var(--disabled-fill-color);\n",
              "    box-shadow: none;\n",
              "  }\n",
              "\n",
              "  .colab-df-spinner {\n",
              "    border: 2px solid var(--fill-color);\n",
              "    border-color: transparent;\n",
              "    border-bottom-color: var(--fill-color);\n",
              "    animation:\n",
              "      spin 1s steps(1) infinite;\n",
              "  }\n",
              "\n",
              "  @keyframes spin {\n",
              "    0% {\n",
              "      border-color: transparent;\n",
              "      border-bottom-color: var(--fill-color);\n",
              "      border-left-color: var(--fill-color);\n",
              "    }\n",
              "    20% {\n",
              "      border-color: transparent;\n",
              "      border-left-color: var(--fill-color);\n",
              "      border-top-color: var(--fill-color);\n",
              "    }\n",
              "    30% {\n",
              "      border-color: transparent;\n",
              "      border-left-color: var(--fill-color);\n",
              "      border-top-color: var(--fill-color);\n",
              "      border-right-color: var(--fill-color);\n",
              "    }\n",
              "    40% {\n",
              "      border-color: transparent;\n",
              "      border-right-color: var(--fill-color);\n",
              "      border-top-color: var(--fill-color);\n",
              "    }\n",
              "    60% {\n",
              "      border-color: transparent;\n",
              "      border-right-color: var(--fill-color);\n",
              "    }\n",
              "    80% {\n",
              "      border-color: transparent;\n",
              "      border-right-color: var(--fill-color);\n",
              "      border-bottom-color: var(--fill-color);\n",
              "    }\n",
              "    90% {\n",
              "      border-color: transparent;\n",
              "      border-bottom-color: var(--fill-color);\n",
              "    }\n",
              "  }\n",
              "</style>\n",
              "\n",
              "  <script>\n",
              "    async function quickchart(key) {\n",
              "      const quickchartButtonEl =\n",
              "        document.querySelector('#' + key + ' button');\n",
              "      quickchartButtonEl.disabled = true;  // To prevent multiple clicks.\n",
              "      quickchartButtonEl.classList.add('colab-df-spinner');\n",
              "      try {\n",
              "        const charts = await google.colab.kernel.invokeFunction(\n",
              "            'suggestCharts', [key], {});\n",
              "      } catch (error) {\n",
              "        console.error('Error during call to suggestCharts:', error);\n",
              "      }\n",
              "      quickchartButtonEl.classList.remove('colab-df-spinner');\n",
              "      quickchartButtonEl.classList.add('colab-df-quickchart-complete');\n",
              "    }\n",
              "    (() => {\n",
              "      let quickchartButtonEl =\n",
              "        document.querySelector('#df-9b94972c-b57c-4aa3-b22b-de2eee118e88 button');\n",
              "      quickchartButtonEl.style.display =\n",
              "        google.colab.kernel.accessAllowed ? 'block' : 'none';\n",
              "    })();\n",
              "  </script>\n",
              "</div>\n",
              "\n",
              "  <div id=\"id_7e7b9c9b-5237-4ad6-951a-9efd59867d0e\">\n",
              "    <style>\n",
              "      .colab-df-generate {\n",
              "        background-color: #E8F0FE;\n",
              "        border: none;\n",
              "        border-radius: 50%;\n",
              "        cursor: pointer;\n",
              "        display: none;\n",
              "        fill: #1967D2;\n",
              "        height: 32px;\n",
              "        padding: 0 0 0 0;\n",
              "        width: 32px;\n",
              "      }\n",
              "\n",
              "      .colab-df-generate:hover {\n",
              "        background-color: #E2EBFA;\n",
              "        box-shadow: 0px 1px 2px rgba(60, 64, 67, 0.3), 0px 1px 3px 1px rgba(60, 64, 67, 0.15);\n",
              "        fill: #174EA6;\n",
              "      }\n",
              "\n",
              "      [theme=dark] .colab-df-generate {\n",
              "        background-color: #3B4455;\n",
              "        fill: #D2E3FC;\n",
              "      }\n",
              "\n",
              "      [theme=dark] .colab-df-generate:hover {\n",
              "        background-color: #434B5C;\n",
              "        box-shadow: 0px 1px 3px 1px rgba(0, 0, 0, 0.15);\n",
              "        filter: drop-shadow(0px 1px 2px rgba(0, 0, 0, 0.3));\n",
              "        fill: #FFFFFF;\n",
              "      }\n",
              "    </style>\n",
              "    <button class=\"colab-df-generate\" onclick=\"generateWithVariable('trains')\"\n",
              "            title=\"Generate code using this dataframe.\"\n",
              "            style=\"display:none;\">\n",
              "\n",
              "  <svg xmlns=\"http://www.w3.org/2000/svg\" height=\"24px\"viewBox=\"0 0 24 24\"\n",
              "       width=\"24px\">\n",
              "    <path d=\"M7,19H8.4L18.45,9,17,7.55,7,17.6ZM5,21V16.75L18.45,3.32a2,2,0,0,1,2.83,0l1.4,1.43a1.91,1.91,0,0,1,.58,1.4,1.91,1.91,0,0,1-.58,1.4L9.25,21ZM18.45,9,17,7.55Zm-12,3A5.31,5.31,0,0,0,4.9,8.1,5.31,5.31,0,0,0,1,6.5,5.31,5.31,0,0,0,4.9,4.9,5.31,5.31,0,0,0,6.5,1,5.31,5.31,0,0,0,8.1,4.9,5.31,5.31,0,0,0,12,6.5,5.46,5.46,0,0,0,6.5,12Z\"/>\n",
              "  </svg>\n",
              "    </button>\n",
              "    <script>\n",
              "      (() => {\n",
              "      const buttonEl =\n",
              "        document.querySelector('#id_7e7b9c9b-5237-4ad6-951a-9efd59867d0e button.colab-df-generate');\n",
              "      buttonEl.style.display =\n",
              "        google.colab.kernel.accessAllowed ? 'block' : 'none';\n",
              "\n",
              "      buttonEl.onclick = () => {\n",
              "        google.colab.notebook.generateWithVariable('trains');\n",
              "      }\n",
              "      })();\n",
              "    </script>\n",
              "  </div>\n",
              "\n",
              "    </div>\n",
              "  </div>\n"
            ]
          },
          "metadata": {},
          "execution_count": 98
        }
      ]
    },
    {
      "cell_type": "code",
      "source": [
        "names = ['F']\n",
        "IS_R = False\n",
        "batch_size = 128\n",
        "loader_params ={'batch_size': batch_size, 'shuffle': True}\n",
        "\n",
        "train_loader = get_GIN_dataloader(GIN_dataset(trains, names), loader_params)\n",
        "valid_loader = get_GIN_dataloader(GIN_dataset(valids, names), loader_params)\n",
        "# p = {'batch_size': batch_size, 'shuffle': False}\n",
        "# test_loader = get_GIN_dataloader(GIN_dataset(tests, names), p)"
      ],
      "metadata": {
        "id": "1EVTKnArjUVJ"
      },
      "execution_count": 100,
      "outputs": []
    },
    {
      "cell_type": "code",
      "source": [
        "IS_R = False\n",
        "config = {'GIN_out_dim': 256,\n",
        "            'hid_dims': [512],\n",
        "            'out_dim': len(names),\n",
        "            'prop_names': names,\n",
        "            'dropout': 0.1,\n",
        "            'IS_R': IS_R,\n",
        "            'lr': 1e-4,\n",
        "            'wd':1e-5,\n",
        "            'patience': 10,\n",
        "            'model_path': f'GIN_SO_DR_0.1/ckpt_{names[0]}.pt'}"
      ],
      "metadata": {
        "id": "0tWYn23OkY97"
      },
      "execution_count": 101,
      "outputs": []
    },
    {
      "cell_type": "code",
      "source": [
        "models = PRED(**config)\n",
        "models.train(train_loader, valid_loader)"
      ],
      "metadata": {
        "id": "yNUVzD6Wkjzc"
      },
      "execution_count": null,
      "outputs": []
    },
    {
      "cell_type": "code",
      "source": [
        "models.eval(valid_loader, config['model_path'])"
      ],
      "metadata": {
        "colab": {
          "base_uri": "https://localhost:8080/"
        },
        "id": "GG7LyC2emLUL",
        "outputId": "e6e5b30a-8050-4c6d-d525-ea7f3c247089"
      },
      "execution_count": 105,
      "outputs": [
        {
          "output_type": "stream",
          "name": "stdout",
          "text": [
            "Downloading gin_supervised_contextpred_pre_trained.pth from https://data.dgl.ai/dgllife/pre_trained/gin_supervised_contextpred.pth...\n",
            "Pretrained model loaded\n",
            "load pretrained model from  GIN_SO_DR_0.1/ckpt_F.pt\n",
            "using BCELOSSwithdigits\n"
          ]
        },
        {
          "output_type": "stream",
          "name": "stderr",
          "text": [
            "100%|██████████| 3/3 [00:00<00:00,  3.53it/s]"
          ]
        },
        {
          "output_type": "stream",
          "name": "stdout",
          "text": [
            "total_loss: 0.571\n",
            "*************** F ***************\n",
            "Accuracy, weighted accuracy, precision, recall/SE, SP,     F1,     AUC,     MCC,     AP\n",
            "& 0.655  &  0.637  &          0.689  &     0.746  &0.529  &0.716 &0.751 &   0.281 &   0.808\n",
            "\n"
          ]
        },
        {
          "output_type": "stream",
          "name": "stderr",
          "text": [
            "\n"
          ]
        }
      ]
    },
    {
      "cell_type": "markdown",
      "source": [
        "GIN not working well, use AttentiveFP"
      ],
      "metadata": {
        "id": "dCash00effJ7"
      }
    },
    {
      "cell_type": "code",
      "source": [
        "trains"
      ],
      "metadata": {
        "colab": {
          "base_uri": "https://localhost:8080/",
          "height": 478
        },
        "id": "B1RPiHLyd6rf",
        "outputId": "93b7f9e9-114c-4fa2-aedb-497d194e900e"
      },
      "execution_count": 64,
      "outputs": [
        {
          "output_type": "execute_result",
          "data": {
            "text/plain": [
              "                                                   Drug  \\\n",
              "0               Cn1c(CN2CCN(c3ccc(Cl)cc3)CC2)nc2ccccc21   \n",
              "1     COc1cc(OC)c(S(=O)(=O)N2c3ccccc3CCC2C)cc1NC(=O)...   \n",
              "2                 COC(=O)[C@H](c1ccccc1Cl)N1CCc2sccc2C1   \n",
              "3                 OC1(C#Cc2ccc(-c3ccccc3)cc2)CN2CCC1CC2   \n",
              "4     CS(=O)(=O)c1ccc(Oc2ccc(C#C[C@]3(O)CN4CCC3CC4)c...   \n",
              "...                                                 ...   \n",
              "9984                                             C#CCCC   \n",
              "9985                                       Cc1ccc(O)cc1   \n",
              "9986                                      CCCCC/C=C/C=O   \n",
              "9987                   CCOP(=S)(OCC)Oc1cc(C)nc(C(C)C)n1   \n",
              "9988                                           C1COCCO1   \n",
              "\n",
              "      Lipophilicity_AstraZeneca  Solubility_AqSolDB  \\\n",
              "0                          3.54                 NaN   \n",
              "1                         -1.18                 NaN   \n",
              "2                          3.69                 NaN   \n",
              "3                          3.14                 NaN   \n",
              "4                          1.51                 NaN   \n",
              "...                         ...                 ...   \n",
              "9984                        NaN                 NaN   \n",
              "9985                        NaN                 NaN   \n",
              "9986                        NaN                 NaN   \n",
              "9987                        NaN                 NaN   \n",
              "9988                        NaN                 NaN   \n",
              "\n",
              "      HydrationFreeEnergy_FreeSolv  \n",
              "0                              NaN  \n",
              "1                              NaN  \n",
              "2                              NaN  \n",
              "3                              NaN  \n",
              "4                              NaN  \n",
              "...                            ...  \n",
              "9984                          0.01  \n",
              "9985                         -6.13  \n",
              "9986                         -3.43  \n",
              "9987                         -6.48  \n",
              "9988                         -5.06  \n",
              "\n",
              "[9989 rows x 4 columns]"
            ],
            "text/html": [
              "\n",
              "  <div id=\"df-f4edabd6-1c07-4eb7-9718-021938e123ab\" class=\"colab-df-container\">\n",
              "    <div>\n",
              "<style scoped>\n",
              "    .dataframe tbody tr th:only-of-type {\n",
              "        vertical-align: middle;\n",
              "    }\n",
              "\n",
              "    .dataframe tbody tr th {\n",
              "        vertical-align: top;\n",
              "    }\n",
              "\n",
              "    .dataframe thead th {\n",
              "        text-align: right;\n",
              "    }\n",
              "</style>\n",
              "<table border=\"1\" class=\"dataframe\">\n",
              "  <thead>\n",
              "    <tr style=\"text-align: right;\">\n",
              "      <th></th>\n",
              "      <th>Drug</th>\n",
              "      <th>Lipophilicity_AstraZeneca</th>\n",
              "      <th>Solubility_AqSolDB</th>\n",
              "      <th>HydrationFreeEnergy_FreeSolv</th>\n",
              "    </tr>\n",
              "  </thead>\n",
              "  <tbody>\n",
              "    <tr>\n",
              "      <th>0</th>\n",
              "      <td>Cn1c(CN2CCN(c3ccc(Cl)cc3)CC2)nc2ccccc21</td>\n",
              "      <td>3.54</td>\n",
              "      <td>NaN</td>\n",
              "      <td>NaN</td>\n",
              "    </tr>\n",
              "    <tr>\n",
              "      <th>1</th>\n",
              "      <td>COc1cc(OC)c(S(=O)(=O)N2c3ccccc3CCC2C)cc1NC(=O)...</td>\n",
              "      <td>-1.18</td>\n",
              "      <td>NaN</td>\n",
              "      <td>NaN</td>\n",
              "    </tr>\n",
              "    <tr>\n",
              "      <th>2</th>\n",
              "      <td>COC(=O)[C@H](c1ccccc1Cl)N1CCc2sccc2C1</td>\n",
              "      <td>3.69</td>\n",
              "      <td>NaN</td>\n",
              "      <td>NaN</td>\n",
              "    </tr>\n",
              "    <tr>\n",
              "      <th>3</th>\n",
              "      <td>OC1(C#Cc2ccc(-c3ccccc3)cc2)CN2CCC1CC2</td>\n",
              "      <td>3.14</td>\n",
              "      <td>NaN</td>\n",
              "      <td>NaN</td>\n",
              "    </tr>\n",
              "    <tr>\n",
              "      <th>4</th>\n",
              "      <td>CS(=O)(=O)c1ccc(Oc2ccc(C#C[C@]3(O)CN4CCC3CC4)c...</td>\n",
              "      <td>1.51</td>\n",
              "      <td>NaN</td>\n",
              "      <td>NaN</td>\n",
              "    </tr>\n",
              "    <tr>\n",
              "      <th>...</th>\n",
              "      <td>...</td>\n",
              "      <td>...</td>\n",
              "      <td>...</td>\n",
              "      <td>...</td>\n",
              "    </tr>\n",
              "    <tr>\n",
              "      <th>9984</th>\n",
              "      <td>C#CCCC</td>\n",
              "      <td>NaN</td>\n",
              "      <td>NaN</td>\n",
              "      <td>0.01</td>\n",
              "    </tr>\n",
              "    <tr>\n",
              "      <th>9985</th>\n",
              "      <td>Cc1ccc(O)cc1</td>\n",
              "      <td>NaN</td>\n",
              "      <td>NaN</td>\n",
              "      <td>-6.13</td>\n",
              "    </tr>\n",
              "    <tr>\n",
              "      <th>9986</th>\n",
              "      <td>CCCCC/C=C/C=O</td>\n",
              "      <td>NaN</td>\n",
              "      <td>NaN</td>\n",
              "      <td>-3.43</td>\n",
              "    </tr>\n",
              "    <tr>\n",
              "      <th>9987</th>\n",
              "      <td>CCOP(=S)(OCC)Oc1cc(C)nc(C(C)C)n1</td>\n",
              "      <td>NaN</td>\n",
              "      <td>NaN</td>\n",
              "      <td>-6.48</td>\n",
              "    </tr>\n",
              "    <tr>\n",
              "      <th>9988</th>\n",
              "      <td>C1COCCO1</td>\n",
              "      <td>NaN</td>\n",
              "      <td>NaN</td>\n",
              "      <td>-5.06</td>\n",
              "    </tr>\n",
              "  </tbody>\n",
              "</table>\n",
              "<p>9989 rows × 4 columns</p>\n",
              "</div>\n",
              "    <div class=\"colab-df-buttons\">\n",
              "\n",
              "  <div class=\"colab-df-container\">\n",
              "    <button class=\"colab-df-convert\" onclick=\"convertToInteractive('df-f4edabd6-1c07-4eb7-9718-021938e123ab')\"\n",
              "            title=\"Convert this dataframe to an interactive table.\"\n",
              "            style=\"display:none;\">\n",
              "\n",
              "  <svg xmlns=\"http://www.w3.org/2000/svg\" height=\"24px\" viewBox=\"0 -960 960 960\">\n",
              "    <path d=\"M120-120v-720h720v720H120Zm60-500h600v-160H180v160Zm220 220h160v-160H400v160Zm0 220h160v-160H400v160ZM180-400h160v-160H180v160Zm440 0h160v-160H620v160ZM180-180h160v-160H180v160Zm440 0h160v-160H620v160Z\"/>\n",
              "  </svg>\n",
              "    </button>\n",
              "\n",
              "  <style>\n",
              "    .colab-df-container {\n",
              "      display:flex;\n",
              "      gap: 12px;\n",
              "    }\n",
              "\n",
              "    .colab-df-convert {\n",
              "      background-color: #E8F0FE;\n",
              "      border: none;\n",
              "      border-radius: 50%;\n",
              "      cursor: pointer;\n",
              "      display: none;\n",
              "      fill: #1967D2;\n",
              "      height: 32px;\n",
              "      padding: 0 0 0 0;\n",
              "      width: 32px;\n",
              "    }\n",
              "\n",
              "    .colab-df-convert:hover {\n",
              "      background-color: #E2EBFA;\n",
              "      box-shadow: 0px 1px 2px rgba(60, 64, 67, 0.3), 0px 1px 3px 1px rgba(60, 64, 67, 0.15);\n",
              "      fill: #174EA6;\n",
              "    }\n",
              "\n",
              "    .colab-df-buttons div {\n",
              "      margin-bottom: 4px;\n",
              "    }\n",
              "\n",
              "    [theme=dark] .colab-df-convert {\n",
              "      background-color: #3B4455;\n",
              "      fill: #D2E3FC;\n",
              "    }\n",
              "\n",
              "    [theme=dark] .colab-df-convert:hover {\n",
              "      background-color: #434B5C;\n",
              "      box-shadow: 0px 1px 3px 1px rgba(0, 0, 0, 0.15);\n",
              "      filter: drop-shadow(0px 1px 2px rgba(0, 0, 0, 0.3));\n",
              "      fill: #FFFFFF;\n",
              "    }\n",
              "  </style>\n",
              "\n",
              "    <script>\n",
              "      const buttonEl =\n",
              "        document.querySelector('#df-f4edabd6-1c07-4eb7-9718-021938e123ab button.colab-df-convert');\n",
              "      buttonEl.style.display =\n",
              "        google.colab.kernel.accessAllowed ? 'block' : 'none';\n",
              "\n",
              "      async function convertToInteractive(key) {\n",
              "        const element = document.querySelector('#df-f4edabd6-1c07-4eb7-9718-021938e123ab');\n",
              "        const dataTable =\n",
              "          await google.colab.kernel.invokeFunction('convertToInteractive',\n",
              "                                                    [key], {});\n",
              "        if (!dataTable) return;\n",
              "\n",
              "        const docLinkHtml = 'Like what you see? Visit the ' +\n",
              "          '<a target=\"_blank\" href=https://colab.research.google.com/notebooks/data_table.ipynb>data table notebook</a>'\n",
              "          + ' to learn more about interactive tables.';\n",
              "        element.innerHTML = '';\n",
              "        dataTable['output_type'] = 'display_data';\n",
              "        await google.colab.output.renderOutput(dataTable, element);\n",
              "        const docLink = document.createElement('div');\n",
              "        docLink.innerHTML = docLinkHtml;\n",
              "        element.appendChild(docLink);\n",
              "      }\n",
              "    </script>\n",
              "  </div>\n",
              "\n",
              "\n",
              "<div id=\"df-81b65958-5903-4dd7-9d03-6976098a40fc\">\n",
              "  <button class=\"colab-df-quickchart\" onclick=\"quickchart('df-81b65958-5903-4dd7-9d03-6976098a40fc')\"\n",
              "            title=\"Suggest charts.\"\n",
              "            style=\"display:none;\">\n",
              "\n",
              "<svg xmlns=\"http://www.w3.org/2000/svg\" height=\"24px\"viewBox=\"0 0 24 24\"\n",
              "     width=\"24px\">\n",
              "    <g>\n",
              "        <path d=\"M19 3H5c-1.1 0-2 .9-2 2v14c0 1.1.9 2 2 2h14c1.1 0 2-.9 2-2V5c0-1.1-.9-2-2-2zM9 17H7v-7h2v7zm4 0h-2V7h2v10zm4 0h-2v-4h2v4z\"/>\n",
              "    </g>\n",
              "</svg>\n",
              "  </button>\n",
              "\n",
              "<style>\n",
              "  .colab-df-quickchart {\n",
              "      --bg-color: #E8F0FE;\n",
              "      --fill-color: #1967D2;\n",
              "      --hover-bg-color: #E2EBFA;\n",
              "      --hover-fill-color: #174EA6;\n",
              "      --disabled-fill-color: #AAA;\n",
              "      --disabled-bg-color: #DDD;\n",
              "  }\n",
              "\n",
              "  [theme=dark] .colab-df-quickchart {\n",
              "      --bg-color: #3B4455;\n",
              "      --fill-color: #D2E3FC;\n",
              "      --hover-bg-color: #434B5C;\n",
              "      --hover-fill-color: #FFFFFF;\n",
              "      --disabled-bg-color: #3B4455;\n",
              "      --disabled-fill-color: #666;\n",
              "  }\n",
              "\n",
              "  .colab-df-quickchart {\n",
              "    background-color: var(--bg-color);\n",
              "    border: none;\n",
              "    border-radius: 50%;\n",
              "    cursor: pointer;\n",
              "    display: none;\n",
              "    fill: var(--fill-color);\n",
              "    height: 32px;\n",
              "    padding: 0;\n",
              "    width: 32px;\n",
              "  }\n",
              "\n",
              "  .colab-df-quickchart:hover {\n",
              "    background-color: var(--hover-bg-color);\n",
              "    box-shadow: 0 1px 2px rgba(60, 64, 67, 0.3), 0 1px 3px 1px rgba(60, 64, 67, 0.15);\n",
              "    fill: var(--button-hover-fill-color);\n",
              "  }\n",
              "\n",
              "  .colab-df-quickchart-complete:disabled,\n",
              "  .colab-df-quickchart-complete:disabled:hover {\n",
              "    background-color: var(--disabled-bg-color);\n",
              "    fill: var(--disabled-fill-color);\n",
              "    box-shadow: none;\n",
              "  }\n",
              "\n",
              "  .colab-df-spinner {\n",
              "    border: 2px solid var(--fill-color);\n",
              "    border-color: transparent;\n",
              "    border-bottom-color: var(--fill-color);\n",
              "    animation:\n",
              "      spin 1s steps(1) infinite;\n",
              "  }\n",
              "\n",
              "  @keyframes spin {\n",
              "    0% {\n",
              "      border-color: transparent;\n",
              "      border-bottom-color: var(--fill-color);\n",
              "      border-left-color: var(--fill-color);\n",
              "    }\n",
              "    20% {\n",
              "      border-color: transparent;\n",
              "      border-left-color: var(--fill-color);\n",
              "      border-top-color: var(--fill-color);\n",
              "    }\n",
              "    30% {\n",
              "      border-color: transparent;\n",
              "      border-left-color: var(--fill-color);\n",
              "      border-top-color: var(--fill-color);\n",
              "      border-right-color: var(--fill-color);\n",
              "    }\n",
              "    40% {\n",
              "      border-color: transparent;\n",
              "      border-right-color: var(--fill-color);\n",
              "      border-top-color: var(--fill-color);\n",
              "    }\n",
              "    60% {\n",
              "      border-color: transparent;\n",
              "      border-right-color: var(--fill-color);\n",
              "    }\n",
              "    80% {\n",
              "      border-color: transparent;\n",
              "      border-right-color: var(--fill-color);\n",
              "      border-bottom-color: var(--fill-color);\n",
              "    }\n",
              "    90% {\n",
              "      border-color: transparent;\n",
              "      border-bottom-color: var(--fill-color);\n",
              "    }\n",
              "  }\n",
              "</style>\n",
              "\n",
              "  <script>\n",
              "    async function quickchart(key) {\n",
              "      const quickchartButtonEl =\n",
              "        document.querySelector('#' + key + ' button');\n",
              "      quickchartButtonEl.disabled = true;  // To prevent multiple clicks.\n",
              "      quickchartButtonEl.classList.add('colab-df-spinner');\n",
              "      try {\n",
              "        const charts = await google.colab.kernel.invokeFunction(\n",
              "            'suggestCharts', [key], {});\n",
              "      } catch (error) {\n",
              "        console.error('Error during call to suggestCharts:', error);\n",
              "      }\n",
              "      quickchartButtonEl.classList.remove('colab-df-spinner');\n",
              "      quickchartButtonEl.classList.add('colab-df-quickchart-complete');\n",
              "    }\n",
              "    (() => {\n",
              "      let quickchartButtonEl =\n",
              "        document.querySelector('#df-81b65958-5903-4dd7-9d03-6976098a40fc button');\n",
              "      quickchartButtonEl.style.display =\n",
              "        google.colab.kernel.accessAllowed ? 'block' : 'none';\n",
              "    })();\n",
              "  </script>\n",
              "</div>\n",
              "\n",
              "  <div id=\"id_8f8d2afc-c503-4045-96c7-89d59256e87c\">\n",
              "    <style>\n",
              "      .colab-df-generate {\n",
              "        background-color: #E8F0FE;\n",
              "        border: none;\n",
              "        border-radius: 50%;\n",
              "        cursor: pointer;\n",
              "        display: none;\n",
              "        fill: #1967D2;\n",
              "        height: 32px;\n",
              "        padding: 0 0 0 0;\n",
              "        width: 32px;\n",
              "      }\n",
              "\n",
              "      .colab-df-generate:hover {\n",
              "        background-color: #E2EBFA;\n",
              "        box-shadow: 0px 1px 2px rgba(60, 64, 67, 0.3), 0px 1px 3px 1px rgba(60, 64, 67, 0.15);\n",
              "        fill: #174EA6;\n",
              "      }\n",
              "\n",
              "      [theme=dark] .colab-df-generate {\n",
              "        background-color: #3B4455;\n",
              "        fill: #D2E3FC;\n",
              "      }\n",
              "\n",
              "      [theme=dark] .colab-df-generate:hover {\n",
              "        background-color: #434B5C;\n",
              "        box-shadow: 0px 1px 3px 1px rgba(0, 0, 0, 0.15);\n",
              "        filter: drop-shadow(0px 1px 2px rgba(0, 0, 0, 0.3));\n",
              "        fill: #FFFFFF;\n",
              "      }\n",
              "    </style>\n",
              "    <button class=\"colab-df-generate\" onclick=\"generateWithVariable('trains')\"\n",
              "            title=\"Generate code using this dataframe.\"\n",
              "            style=\"display:none;\">\n",
              "\n",
              "  <svg xmlns=\"http://www.w3.org/2000/svg\" height=\"24px\"viewBox=\"0 0 24 24\"\n",
              "       width=\"24px\">\n",
              "    <path d=\"M7,19H8.4L18.45,9,17,7.55,7,17.6ZM5,21V16.75L18.45,3.32a2,2,0,0,1,2.83,0l1.4,1.43a1.91,1.91,0,0,1,.58,1.4,1.91,1.91,0,0,1-.58,1.4L9.25,21ZM18.45,9,17,7.55Zm-12,3A5.31,5.31,0,0,0,4.9,8.1,5.31,5.31,0,0,0,1,6.5,5.31,5.31,0,0,0,4.9,4.9,5.31,5.31,0,0,0,6.5,1,5.31,5.31,0,0,0,8.1,4.9,5.31,5.31,0,0,0,12,6.5,5.46,5.46,0,0,0,6.5,12Z\"/>\n",
              "  </svg>\n",
              "    </button>\n",
              "    <script>\n",
              "      (() => {\n",
              "      const buttonEl =\n",
              "        document.querySelector('#id_8f8d2afc-c503-4045-96c7-89d59256e87c button.colab-df-generate');\n",
              "      buttonEl.style.display =\n",
              "        google.colab.kernel.accessAllowed ? 'block' : 'none';\n",
              "\n",
              "      buttonEl.onclick = () => {\n",
              "        google.colab.notebook.generateWithVariable('trains');\n",
              "      }\n",
              "      })();\n",
              "    </script>\n",
              "  </div>\n",
              "\n",
              "    </div>\n",
              "  </div>\n"
            ]
          },
          "metadata": {},
          "execution_count": 64
        }
      ]
    },
    {
      "cell_type": "code",
      "source": [
        "\n",
        "import pandas as pd\n",
        "\n",
        "import dgl\n",
        "import torch\n",
        "import torch.nn as nn\n",
        "from torch.utils.data import DataLoader\n",
        "from dgllife.model import model_zoo\n",
        "from dgllife.utils import smiles_to_bigraph\n",
        "from dgllife.utils import EarlyStopping, Meter\n",
        "from dgllife.utils import AttentiveFPAtomFeaturizer\n",
        "from dgllife.utils import AttentiveFPBondFeaturizer\n",
        "from dgllife.data import MoleculeCSVDataset\n",
        "\n",
        "def collate_molgraphs(data):\n",
        "    assert len(data[0]) in [3, 4], \\\n",
        "        'Expect the tuple to be of length 3 or 4, got {:d}'.format(len(data[0]))\n",
        "    if len(data[0]) == 3:\n",
        "        smiles, graphs, labels = map(list, zip(*data))\n",
        "        masks = None\n",
        "    else:\n",
        "        smiles, graphs, labels, masks = map(list, zip(*data))\n",
        "\n",
        "    bg = dgl.batch(graphs)\n",
        "    bg.set_n_initializer(dgl.init.zero_initializer)\n",
        "    bg.set_e_initializer(dgl.init.zero_initializer)\n",
        "    labels = torch.stack(labels, dim=0)\n",
        "\n",
        "    if masks is None:\n",
        "        masks = torch.ones(labels.shape)\n",
        "    else:\n",
        "        masks = torch.stack(masks, dim=0)\n",
        "        # masks = (labels == MASK).long()\n",
        "    return smiles, bg, labels, masks\n",
        "\n",
        "\n",
        "atom_featurizer = AttentiveFPAtomFeaturizer(atom_data_field='hv')\n",
        "bond_featurizer = AttentiveFPBondFeaturizer(bond_data_field='he')\n",
        "n_feats_num = atom_featurizer.feat_size('hv')\n",
        "e_feats_num = bond_featurizer.feat_size('he')"
      ],
      "metadata": {
        "id": "9VYBuzZof2dr"
      },
      "execution_count": 65,
      "outputs": []
    },
    {
      "cell_type": "code",
      "source": [
        "import time\n",
        "named_tuple = time.localtime() # get struct_time\n",
        "time_string = time.strftime(\"%m_%d_%Y_%H:%M:%S\", named_tuple)\n",
        "\n",
        "params = {'node_featurizer': atom_featurizer,\n",
        "          'edge_featurizer': bond_featurizer,\n",
        "          'smiles_column': 'Drug',\n",
        "        #   'cache_file_path': time_string+'.bin',\n",
        "          'task_names': names, 'load': True, 'n_jobs': len(names)}\n",
        "\n",
        "train_datasets = MoleculeCSVDataset(trains, cache_file_path=f'train_{time_string}.bin', **params)\n",
        "valid_datasets = MoleculeCSVDataset(valids,cache_file_path=f'valid_{time_string}.bin', **params)\n",
        "# test_datasets = MoleculeCSVDataset(tests, cache_file_path=f'test_{time_string}.bin', **params)\n",
        "\n",
        "batch_size = 64\n",
        "loader_params ={'batch_size': batch_size,\n",
        "                'shuffle': True,\n",
        "                'collate_fn': collate_molgraphs}\n",
        "\n",
        "train_loader = DataLoader(train_datasets, **loader_params)\n",
        "valid_loader = DataLoader(valid_datasets, **loader_params)\n",
        "test_loader  = DataLoader(test_datasets,  **loader_params)"
      ],
      "metadata": {
        "colab": {
          "base_uri": "https://localhost:8080/"
        },
        "id": "thCJRsCqf6oL",
        "outputId": "a27b36ce-a059-4cfd-fad9-af996663c22b"
      },
      "execution_count": 106,
      "outputs": [
        {
          "output_type": "stream",
          "name": "stdout",
          "text": [
            "Processing dgl graphs from scratch...\n",
            "Processing molecule 1000/1157\n",
            "Processing dgl graphs from scratch...\n"
          ]
        }
      ]
    },
    {
      "cell_type": "code",
      "source": [
        "cuda = torch.cuda.is_available()\n",
        "if cuda: device = 'cuda'\n",
        "else: device = 'cpu'\n",
        "n_layers = 3\n",
        "dropout = 0.5\n",
        "\n",
        "model = model_zoo.AttentiveFPPredictor(\n",
        "            node_feat_size=n_feats_num, edge_feat_size=e_feats_num,\n",
        "            num_layers=n_layers, num_timesteps=1, graph_feat_size=300,\n",
        "            n_tasks=len(names), dropout=dropout).to(device)"
      ],
      "metadata": {
        "id": "r8VwjhyRf9AX"
      },
      "execution_count": 107,
      "outputs": []
    },
    {
      "cell_type": "code",
      "source": [
        "\n",
        "def train_epoch(epoch, model, data_loader, loss_func, optimizer):\n",
        "    model.train()\n",
        "    losses = 0\n",
        "    train_meter = Meter()\n",
        "    for batch_id, batch_data in tqdm(enumerate(data_loader),\n",
        "                                     total=len(data_loader),\n",
        "                                     desc=f'Epoch {epoch}'):\n",
        "        smiles, bg, labels, masks = batch_data\n",
        "        bg, labels, masks = bg.to(device), labels.to(device), masks.to(device)\n",
        "        n_feats = bg.ndata.pop('hv').to(device)\n",
        "        e_feats = bg.edata.pop('he').to(device)\n",
        "\n",
        "        pred = model(bg, n_feats, e_feats)\n",
        "        mask = masks < 1\n",
        "        loss = loss_func(pred[~mask], labels[~mask])\n",
        "        del mask\n",
        "        # loss = (loss_func(pred, labels)*(masks!=0).float()).mean()\n",
        "        optimizer.zero_grad()\n",
        "        loss.backward()\n",
        "        optimizer.step()\n",
        "        train_meter.update(pred, labels, masks)\n",
        "        del pred\n",
        "        del labels\n",
        "        del masks\n",
        "        losses += loss.item()\n",
        "        # losses.append(loss.item())\n",
        "\n",
        "    total_r2 = np.mean(train_meter.compute_metric('r2'))\n",
        "    total_loss = losses / len(data_loader.dataset)\n",
        "    # if epoch % 10 == 0 and epoch != 0:\n",
        "    print(f'[Train] R2: {total_r2:.3f}, Loss: {total_loss:.3f}')\n",
        "\n",
        "    return total_r2, total_loss\n",
        "\n",
        "def eval_epoch(model, data_loader, loss_func):\n",
        "    model.eval()\n",
        "    val_losses = 0\n",
        "    eval_meter = Meter()\n",
        "    with torch.no_grad():\n",
        "        for batch_data in data_loader:\n",
        "            smiles, bg, labels, masks = batch_data\n",
        "            bg, labels, masks = bg.to(device), labels.to(device), masks.to(device)\n",
        "            n_feats = bg.ndata.pop('hv').to(device)\n",
        "            e_feats = bg.edata.pop('he').to(device)\n",
        "            val_pred = model(bg, n_feats, e_feats)\n",
        "            mask = masks < 1\n",
        "            val_loss = loss_func(val_pred[~mask], labels[~mask])\n",
        "            # val_loss = (loss_func(val_pred, labels)*(masks!=0).float()).mean()\n",
        "            # val_losses.append(val_loss.item())\n",
        "            val_losses += val_loss.item()\n",
        "            eval_meter.update(val_pred, labels, masks)\n",
        "            del val_pred\n",
        "            del labels\n",
        "            del masks\n",
        "            del n_feats\n",
        "            del e_feats\n",
        "        total_score = np.mean(eval_meter.compute_metric('r2'))\n",
        "        total_loss = val_losses / len(data_loader.dataset)\n",
        "        print(f'[Valid] R2: {total_score:.3f}, Loss: {total_loss:.3f}')\n",
        "    return total_score, total_loss\n"
      ],
      "metadata": {
        "id": "fKhaU2RLgFXc"
      },
      "execution_count": 108,
      "outputs": []
    },
    {
      "cell_type": "code",
      "source": [
        "\n",
        "optimizer = torch.optim.AdamW(model.parameters(), lr=3e-4, weight_decay=1e-5)\n",
        "stopper = EarlyStopping(mode='lower', patience=30)\n",
        "n_epochs = 500\n",
        "best_epoch = 0\n",
        "min_loss = 100000\n",
        "if IS_R: loss_fn = nn.MSELoss(reduction='sum') # if regression\n",
        "else: loss_fn = nn.BCEWithLogitsLoss(reduction='sum') # if classification\n",
        "\n",
        "print(IS_R)"
      ],
      "metadata": {
        "colab": {
          "base_uri": "https://localhost:8080/"
        },
        "id": "aq31J7_5gKvm",
        "outputId": "b2ddff35-611f-4c54-feee-1b8a343572ba"
      },
      "execution_count": 109,
      "outputs": [
        {
          "output_type": "stream",
          "name": "stdout",
          "text": [
            "False\n"
          ]
        }
      ]
    },
    {
      "cell_type": "code",
      "source": [
        "\n",
        "if best_epoch != 0:\n",
        "    model.load_state_dict(torch.load('ckpt.pt', map_location=device))\n",
        "\n",
        "for epoch in range(best_epoch, best_epoch + n_epochs):\n",
        "    score = train_epoch(epoch, model, train_loader, loss_fn, optimizer)\n",
        "    val_score = eval_epoch(model, valid_loader, loss_fn)\n",
        "    early_stop = stopper.step(val_score[1], model)\n",
        "    if val_score[1] < min_loss and epoch > 3:\n",
        "        print(f'prev min loss {min_loss:.3f}, now better loss {val_score[1]:.3f}')\n",
        "        min_loss = val_score[1]\n",
        "        torch.save(model.state_dict(), 'ckpt.pt')\n",
        "        print(f'save model at epoch: {epoch}')\n",
        "        best_epoch = epoch\n",
        "\n",
        "    if early_stop: print('early stop'); break\n"
      ],
      "metadata": {
        "colab": {
          "base_uri": "https://localhost:8080/"
        },
        "id": "B5ZnF482gNEU",
        "outputId": "b3559c16-864a-4998-ff5a-5a86010dedee"
      },
      "execution_count": 110,
      "outputs": [
        {
          "output_type": "stream",
          "name": "stderr",
          "text": [
            "Epoch 0: 100%|██████████| 19/19 [00:00<00:00, 30.65it/s]\n"
          ]
        },
        {
          "output_type": "stream",
          "name": "stdout",
          "text": [
            "[Train] R2: 0.009, Loss: 0.693\n",
            "[Valid] R2: 0.135, Loss: 0.635\n"
          ]
        },
        {
          "output_type": "stream",
          "name": "stderr",
          "text": [
            "Epoch 1: 100%|██████████| 19/19 [00:00<00:00, 34.39it/s]\n"
          ]
        },
        {
          "output_type": "stream",
          "name": "stdout",
          "text": [
            "[Train] R2: 0.019, Loss: 0.684\n",
            "[Valid] R2: 0.155, Loss: 0.638\n",
            "EarlyStopping counter: 1 out of 30\n"
          ]
        },
        {
          "output_type": "stream",
          "name": "stderr",
          "text": [
            "Epoch 2: 100%|██████████| 19/19 [00:00<00:00, 34.53it/s]\n"
          ]
        },
        {
          "output_type": "stream",
          "name": "stdout",
          "text": [
            "[Train] R2: 0.027, Loss: 0.680\n",
            "[Valid] R2: 0.157, Loss: 0.629\n"
          ]
        },
        {
          "output_type": "stream",
          "name": "stderr",
          "text": [
            "Epoch 3: 100%|██████████| 19/19 [00:00<00:00, 36.12it/s]\n"
          ]
        },
        {
          "output_type": "stream",
          "name": "stdout",
          "text": [
            "[Train] R2: 0.031, Loss: 0.675\n",
            "[Valid] R2: 0.160, Loss: 0.619\n"
          ]
        },
        {
          "output_type": "stream",
          "name": "stderr",
          "text": [
            "Epoch 4: 100%|██████████| 19/19 [00:00<00:00, 35.86it/s]\n"
          ]
        },
        {
          "output_type": "stream",
          "name": "stdout",
          "text": [
            "[Train] R2: 0.053, Loss: 0.661\n",
            "[Valid] R2: 0.169, Loss: 0.610\n",
            "prev min loss 100000.000, now better loss 0.610\n",
            "save model at epoch: 4\n"
          ]
        },
        {
          "output_type": "stream",
          "name": "stderr",
          "text": [
            "Epoch 5: 100%|██████████| 19/19 [00:00<00:00, 35.40it/s]\n"
          ]
        },
        {
          "output_type": "stream",
          "name": "stdout",
          "text": [
            "[Train] R2: 0.034, Loss: 0.673\n",
            "[Valid] R2: 0.173, Loss: 0.616\n",
            "EarlyStopping counter: 1 out of 30\n"
          ]
        },
        {
          "output_type": "stream",
          "name": "stderr",
          "text": [
            "Epoch 6: 100%|██████████| 19/19 [00:00<00:00, 36.10it/s]\n"
          ]
        },
        {
          "output_type": "stream",
          "name": "stdout",
          "text": [
            "[Train] R2: 0.045, Loss: 0.668\n",
            "[Valid] R2: 0.176, Loss: 0.636\n",
            "EarlyStopping counter: 2 out of 30\n"
          ]
        },
        {
          "output_type": "stream",
          "name": "stderr",
          "text": [
            "Epoch 7: 100%|██████████| 19/19 [00:00<00:00, 37.37it/s]\n"
          ]
        },
        {
          "output_type": "stream",
          "name": "stdout",
          "text": [
            "[Train] R2: 0.041, Loss: 0.671\n",
            "[Valid] R2: 0.174, Loss: 0.616\n",
            "EarlyStopping counter: 3 out of 30\n"
          ]
        },
        {
          "output_type": "stream",
          "name": "stderr",
          "text": [
            "Epoch 8: 100%|██████████| 19/19 [00:00<00:00, 35.74it/s]\n"
          ]
        },
        {
          "output_type": "stream",
          "name": "stdout",
          "text": [
            "[Train] R2: 0.059, Loss: 0.659\n",
            "[Valid] R2: 0.184, Loss: 0.629\n",
            "EarlyStopping counter: 4 out of 30\n"
          ]
        },
        {
          "output_type": "stream",
          "name": "stderr",
          "text": [
            "Epoch 9: 100%|██████████| 19/19 [00:00<00:00, 35.49it/s]\n"
          ]
        },
        {
          "output_type": "stream",
          "name": "stdout",
          "text": [
            "[Train] R2: 0.053, Loss: 0.664\n",
            "[Valid] R2: 0.182, Loss: 0.604\n",
            "prev min loss 0.610, now better loss 0.604\n",
            "save model at epoch: 9\n"
          ]
        },
        {
          "output_type": "stream",
          "name": "stderr",
          "text": [
            "Epoch 10: 100%|██████████| 19/19 [00:00<00:00, 37.08it/s]\n"
          ]
        },
        {
          "output_type": "stream",
          "name": "stdout",
          "text": [
            "[Train] R2: 0.084, Loss: 0.647\n",
            "[Valid] R2: 0.197, Loss: 0.618\n",
            "EarlyStopping counter: 1 out of 30\n"
          ]
        },
        {
          "output_type": "stream",
          "name": "stderr",
          "text": [
            "Epoch 11: 100%|██████████| 19/19 [00:00<00:00, 37.20it/s]\n"
          ]
        },
        {
          "output_type": "stream",
          "name": "stdout",
          "text": [
            "[Train] R2: 0.086, Loss: 0.645\n",
            "[Valid] R2: 0.198, Loss: 0.588\n",
            "prev min loss 0.604, now better loss 0.588\n",
            "save model at epoch: 11\n"
          ]
        },
        {
          "output_type": "stream",
          "name": "stderr",
          "text": [
            "Epoch 12: 100%|██████████| 19/19 [00:00<00:00, 35.81it/s]\n"
          ]
        },
        {
          "output_type": "stream",
          "name": "stdout",
          "text": [
            "[Train] R2: 0.080, Loss: 0.649\n",
            "[Valid] R2: 0.194, Loss: 0.600\n",
            "EarlyStopping counter: 1 out of 30\n"
          ]
        },
        {
          "output_type": "stream",
          "name": "stderr",
          "text": [
            "Epoch 13: 100%|██████████| 19/19 [00:00<00:00, 36.69it/s]\n"
          ]
        },
        {
          "output_type": "stream",
          "name": "stdout",
          "text": [
            "[Train] R2: 0.089, Loss: 0.643\n",
            "[Valid] R2: 0.196, Loss: 0.592\n",
            "EarlyStopping counter: 2 out of 30\n"
          ]
        },
        {
          "output_type": "stream",
          "name": "stderr",
          "text": [
            "Epoch 14: 100%|██████████| 19/19 [00:00<00:00, 37.83it/s]\n"
          ]
        },
        {
          "output_type": "stream",
          "name": "stdout",
          "text": [
            "[Train] R2: 0.111, Loss: 0.630\n",
            "[Valid] R2: 0.204, Loss: 0.579\n",
            "prev min loss 0.588, now better loss 0.579\n",
            "save model at epoch: 14\n"
          ]
        },
        {
          "output_type": "stream",
          "name": "stderr",
          "text": [
            "Epoch 15: 100%|██████████| 19/19 [00:00<00:00, 36.27it/s]\n"
          ]
        },
        {
          "output_type": "stream",
          "name": "stdout",
          "text": [
            "[Train] R2: 0.108, Loss: 0.631\n",
            "[Valid] R2: 0.218, Loss: 0.579\n",
            "prev min loss 0.579, now better loss 0.579\n",
            "save model at epoch: 15\n"
          ]
        },
        {
          "output_type": "stream",
          "name": "stderr",
          "text": [
            "Epoch 16: 100%|██████████| 19/19 [00:00<00:00, 35.89it/s]\n"
          ]
        },
        {
          "output_type": "stream",
          "name": "stdout",
          "text": [
            "[Train] R2: 0.117, Loss: 0.626\n",
            "[Valid] R2: 0.211, Loss: 0.574\n",
            "prev min loss 0.579, now better loss 0.574\n",
            "save model at epoch: 16\n"
          ]
        },
        {
          "output_type": "stream",
          "name": "stderr",
          "text": [
            "Epoch 17: 100%|██████████| 19/19 [00:00<00:00, 36.94it/s]\n"
          ]
        },
        {
          "output_type": "stream",
          "name": "stdout",
          "text": [
            "[Train] R2: 0.115, Loss: 0.626\n",
            "[Valid] R2: 0.211, Loss: 0.567\n",
            "prev min loss 0.574, now better loss 0.567\n",
            "save model at epoch: 17\n"
          ]
        },
        {
          "output_type": "stream",
          "name": "stderr",
          "text": [
            "Epoch 18: 100%|██████████| 19/19 [00:00<00:00, 35.97it/s]\n"
          ]
        },
        {
          "output_type": "stream",
          "name": "stdout",
          "text": [
            "[Train] R2: 0.120, Loss: 0.619\n",
            "[Valid] R2: 0.219, Loss: 0.571\n",
            "EarlyStopping counter: 1 out of 30\n"
          ]
        },
        {
          "output_type": "stream",
          "name": "stderr",
          "text": [
            "Epoch 19: 100%|██████████| 19/19 [00:00<00:00, 39.58it/s]\n"
          ]
        },
        {
          "output_type": "stream",
          "name": "stdout",
          "text": [
            "[Train] R2: 0.124, Loss: 0.619\n",
            "[Valid] R2: 0.224, Loss: 0.598\n",
            "EarlyStopping counter: 2 out of 30\n"
          ]
        },
        {
          "output_type": "stream",
          "name": "stderr",
          "text": [
            "Epoch 20: 100%|██████████| 19/19 [00:00<00:00, 39.72it/s]\n"
          ]
        },
        {
          "output_type": "stream",
          "name": "stdout",
          "text": [
            "[Train] R2: 0.128, Loss: 0.613\n",
            "[Valid] R2: 0.218, Loss: 0.565\n",
            "prev min loss 0.567, now better loss 0.565\n",
            "save model at epoch: 20\n"
          ]
        },
        {
          "output_type": "stream",
          "name": "stderr",
          "text": [
            "Epoch 21: 100%|██████████| 19/19 [00:00<00:00, 37.05it/s]\n"
          ]
        },
        {
          "output_type": "stream",
          "name": "stdout",
          "text": [
            "[Train] R2: 0.145, Loss: 0.603\n",
            "[Valid] R2: 0.223, Loss: 0.554\n",
            "prev min loss 0.565, now better loss 0.554\n",
            "save model at epoch: 21\n"
          ]
        },
        {
          "output_type": "stream",
          "name": "stderr",
          "text": [
            "Epoch 22: 100%|██████████| 19/19 [00:00<00:00, 40.40it/s]\n"
          ]
        },
        {
          "output_type": "stream",
          "name": "stdout",
          "text": [
            "[Train] R2: 0.141, Loss: 0.602\n",
            "[Valid] R2: 0.216, Loss: 0.565\n",
            "EarlyStopping counter: 1 out of 30\n"
          ]
        },
        {
          "output_type": "stream",
          "name": "stderr",
          "text": [
            "Epoch 23: 100%|██████████| 19/19 [00:00<00:00, 39.43it/s]\n"
          ]
        },
        {
          "output_type": "stream",
          "name": "stdout",
          "text": [
            "[Train] R2: 0.153, Loss: 0.598\n",
            "[Valid] R2: 0.233, Loss: 0.579\n",
            "EarlyStopping counter: 2 out of 30\n"
          ]
        },
        {
          "output_type": "stream",
          "name": "stderr",
          "text": [
            "Epoch 24: 100%|██████████| 19/19 [00:00<00:00, 30.91it/s]\n"
          ]
        },
        {
          "output_type": "stream",
          "name": "stdout",
          "text": [
            "[Train] R2: 0.146, Loss: 0.596\n",
            "[Valid] R2: 0.226, Loss: 0.551\n",
            "prev min loss 0.554, now better loss 0.551\n",
            "save model at epoch: 24\n"
          ]
        },
        {
          "output_type": "stream",
          "name": "stderr",
          "text": [
            "Epoch 25: 100%|██████████| 19/19 [00:00<00:00, 39.11it/s]\n"
          ]
        },
        {
          "output_type": "stream",
          "name": "stdout",
          "text": [
            "[Train] R2: 0.152, Loss: 0.602\n",
            "[Valid] R2: 0.219, Loss: 0.568\n",
            "EarlyStopping counter: 1 out of 30\n"
          ]
        },
        {
          "output_type": "stream",
          "name": "stderr",
          "text": [
            "Epoch 26: 100%|██████████| 19/19 [00:00<00:00, 38.00it/s]\n"
          ]
        },
        {
          "output_type": "stream",
          "name": "stdout",
          "text": [
            "[Train] R2: 0.143, Loss: 0.597\n",
            "[Valid] R2: 0.220, Loss: 0.560\n",
            "EarlyStopping counter: 2 out of 30\n"
          ]
        },
        {
          "output_type": "stream",
          "name": "stderr",
          "text": [
            "Epoch 27: 100%|██████████| 19/19 [00:00<00:00, 40.86it/s]\n"
          ]
        },
        {
          "output_type": "stream",
          "name": "stdout",
          "text": [
            "[Train] R2: 0.177, Loss: 0.574\n",
            "[Valid] R2: 0.201, Loss: 0.572\n",
            "EarlyStopping counter: 3 out of 30\n"
          ]
        },
        {
          "output_type": "stream",
          "name": "stderr",
          "text": [
            "Epoch 28: 100%|██████████| 19/19 [00:00<00:00, 39.68it/s]\n"
          ]
        },
        {
          "output_type": "stream",
          "name": "stdout",
          "text": [
            "[Train] R2: 0.176, Loss: 0.573\n",
            "[Valid] R2: 0.202, Loss: 0.560\n",
            "EarlyStopping counter: 4 out of 30\n"
          ]
        },
        {
          "output_type": "stream",
          "name": "stderr",
          "text": [
            "Epoch 29: 100%|██████████| 19/19 [00:00<00:00, 38.10it/s]\n"
          ]
        },
        {
          "output_type": "stream",
          "name": "stdout",
          "text": [
            "[Train] R2: 0.196, Loss: 0.562\n",
            "[Valid] R2: 0.215, Loss: 0.557\n",
            "EarlyStopping counter: 5 out of 30\n"
          ]
        },
        {
          "output_type": "stream",
          "name": "stderr",
          "text": [
            "Epoch 30: 100%|██████████| 19/19 [00:00<00:00, 38.64it/s]\n"
          ]
        },
        {
          "output_type": "stream",
          "name": "stdout",
          "text": [
            "[Train] R2: 0.167, Loss: 0.578\n",
            "[Valid] R2: 0.183, Loss: 0.560\n",
            "EarlyStopping counter: 6 out of 30\n"
          ]
        },
        {
          "output_type": "stream",
          "name": "stderr",
          "text": [
            "Epoch 31: 100%|██████████| 19/19 [00:00<00:00, 39.65it/s]\n"
          ]
        },
        {
          "output_type": "stream",
          "name": "stdout",
          "text": [
            "[Train] R2: 0.174, Loss: 0.562\n",
            "[Valid] R2: 0.195, Loss: 0.557\n",
            "EarlyStopping counter: 7 out of 30\n"
          ]
        },
        {
          "output_type": "stream",
          "name": "stderr",
          "text": [
            "Epoch 32: 100%|██████████| 19/19 [00:00<00:00, 39.32it/s]\n"
          ]
        },
        {
          "output_type": "stream",
          "name": "stdout",
          "text": [
            "[Train] R2: 0.180, Loss: 0.565\n",
            "[Valid] R2: 0.177, Loss: 0.589\n",
            "EarlyStopping counter: 8 out of 30\n"
          ]
        },
        {
          "output_type": "stream",
          "name": "stderr",
          "text": [
            "Epoch 33: 100%|██████████| 19/19 [00:00<00:00, 38.71it/s]\n"
          ]
        },
        {
          "output_type": "stream",
          "name": "stdout",
          "text": [
            "[Train] R2: 0.190, Loss: 0.554\n",
            "[Valid] R2: 0.186, Loss: 0.558\n",
            "EarlyStopping counter: 9 out of 30\n"
          ]
        },
        {
          "output_type": "stream",
          "name": "stderr",
          "text": [
            "Epoch 34: 100%|██████████| 19/19 [00:00<00:00, 40.99it/s]\n"
          ]
        },
        {
          "output_type": "stream",
          "name": "stdout",
          "text": [
            "[Train] R2: 0.194, Loss: 0.548\n",
            "[Valid] R2: 0.182, Loss: 0.585\n",
            "EarlyStopping counter: 10 out of 30\n"
          ]
        },
        {
          "output_type": "stream",
          "name": "stderr",
          "text": [
            "Epoch 35: 100%|██████████| 19/19 [00:00<00:00, 38.50it/s]\n"
          ]
        },
        {
          "output_type": "stream",
          "name": "stdout",
          "text": [
            "[Train] R2: 0.194, Loss: 0.550\n",
            "[Valid] R2: 0.182, Loss: 0.569\n",
            "EarlyStopping counter: 11 out of 30\n"
          ]
        },
        {
          "output_type": "stream",
          "name": "stderr",
          "text": [
            "Epoch 36: 100%|██████████| 19/19 [00:00<00:00, 38.96it/s]\n"
          ]
        },
        {
          "output_type": "stream",
          "name": "stdout",
          "text": [
            "[Train] R2: 0.203, Loss: 0.549\n",
            "[Valid] R2: 0.198, Loss: 0.549\n",
            "prev min loss 0.551, now better loss 0.549\n",
            "save model at epoch: 36\n"
          ]
        },
        {
          "output_type": "stream",
          "name": "stderr",
          "text": [
            "Epoch 37: 100%|██████████| 19/19 [00:00<00:00, 39.29it/s]\n"
          ]
        },
        {
          "output_type": "stream",
          "name": "stdout",
          "text": [
            "[Train] R2: 0.178, Loss: 0.546\n",
            "[Valid] R2: 0.202, Loss: 0.549\n",
            "prev min loss 0.549, now better loss 0.549\n",
            "save model at epoch: 37\n"
          ]
        },
        {
          "output_type": "stream",
          "name": "stderr",
          "text": [
            "Epoch 38: 100%|██████████| 19/19 [00:00<00:00, 38.03it/s]\n"
          ]
        },
        {
          "output_type": "stream",
          "name": "stdout",
          "text": [
            "[Train] R2: 0.201, Loss: 0.545\n",
            "[Valid] R2: 0.197, Loss: 0.571\n",
            "EarlyStopping counter: 1 out of 30\n"
          ]
        },
        {
          "output_type": "stream",
          "name": "stderr",
          "text": [
            "Epoch 39: 100%|██████████| 19/19 [00:00<00:00, 38.81it/s]\n"
          ]
        },
        {
          "output_type": "stream",
          "name": "stdout",
          "text": [
            "[Train] R2: 0.185, Loss: 0.550\n",
            "[Valid] R2: 0.130, Loss: 0.598\n",
            "EarlyStopping counter: 2 out of 30\n"
          ]
        },
        {
          "output_type": "stream",
          "name": "stderr",
          "text": [
            "Epoch 40: 100%|██████████| 19/19 [00:00<00:00, 38.32it/s]\n"
          ]
        },
        {
          "output_type": "stream",
          "name": "stdout",
          "text": [
            "[Train] R2: 0.208, Loss: 0.543\n",
            "[Valid] R2: 0.209, Loss: 0.563\n",
            "EarlyStopping counter: 3 out of 30\n"
          ]
        },
        {
          "output_type": "stream",
          "name": "stderr",
          "text": [
            "Epoch 41: 100%|██████████| 19/19 [00:00<00:00, 40.18it/s]\n"
          ]
        },
        {
          "output_type": "stream",
          "name": "stdout",
          "text": [
            "[Train] R2: 0.208, Loss: 0.538\n",
            "[Valid] R2: 0.181, Loss: 0.565\n",
            "EarlyStopping counter: 4 out of 30\n"
          ]
        },
        {
          "output_type": "stream",
          "name": "stderr",
          "text": [
            "Epoch 42: 100%|██████████| 19/19 [00:00<00:00, 37.63it/s]\n"
          ]
        },
        {
          "output_type": "stream",
          "name": "stdout",
          "text": [
            "[Train] R2: 0.208, Loss: 0.539\n",
            "[Valid] R2: 0.219, Loss: 0.541\n",
            "prev min loss 0.549, now better loss 0.541\n",
            "save model at epoch: 42\n"
          ]
        },
        {
          "output_type": "stream",
          "name": "stderr",
          "text": [
            "Epoch 43: 100%|██████████| 19/19 [00:00<00:00, 39.82it/s]\n"
          ]
        },
        {
          "output_type": "stream",
          "name": "stdout",
          "text": [
            "[Train] R2: 0.198, Loss: 0.552\n",
            "[Valid] R2: 0.230, Loss: 0.533\n",
            "prev min loss 0.541, now better loss 0.533\n",
            "save model at epoch: 43\n"
          ]
        },
        {
          "output_type": "stream",
          "name": "stderr",
          "text": [
            "Epoch 44: 100%|██████████| 19/19 [00:00<00:00, 39.65it/s]\n"
          ]
        },
        {
          "output_type": "stream",
          "name": "stdout",
          "text": [
            "[Train] R2: 0.196, Loss: 0.536\n",
            "[Valid] R2: 0.191, Loss: 0.547\n",
            "EarlyStopping counter: 1 out of 30\n"
          ]
        },
        {
          "output_type": "stream",
          "name": "stderr",
          "text": [
            "Epoch 45: 100%|██████████| 19/19 [00:00<00:00, 42.21it/s]\n"
          ]
        },
        {
          "output_type": "stream",
          "name": "stdout",
          "text": [
            "[Train] R2: 0.201, Loss: 0.534\n",
            "[Valid] R2: 0.186, Loss: 0.555\n",
            "EarlyStopping counter: 2 out of 30\n"
          ]
        },
        {
          "output_type": "stream",
          "name": "stderr",
          "text": [
            "Epoch 46: 100%|██████████| 19/19 [00:00<00:00, 38.18it/s]\n"
          ]
        },
        {
          "output_type": "stream",
          "name": "stdout",
          "text": [
            "[Train] R2: 0.203, Loss: 0.531\n",
            "[Valid] R2: 0.179, Loss: 0.562\n",
            "EarlyStopping counter: 3 out of 30\n"
          ]
        },
        {
          "output_type": "stream",
          "name": "stderr",
          "text": [
            "Epoch 47: 100%|██████████| 19/19 [00:00<00:00, 40.95it/s]\n"
          ]
        },
        {
          "output_type": "stream",
          "name": "stdout",
          "text": [
            "[Train] R2: 0.199, Loss: 0.527\n",
            "[Valid] R2: 0.161, Loss: 0.571\n",
            "EarlyStopping counter: 4 out of 30\n"
          ]
        },
        {
          "output_type": "stream",
          "name": "stderr",
          "text": [
            "Epoch 48: 100%|██████████| 19/19 [00:00<00:00, 40.87it/s]\n"
          ]
        },
        {
          "output_type": "stream",
          "name": "stdout",
          "text": [
            "[Train] R2: 0.212, Loss: 0.513\n",
            "[Valid] R2: 0.137, Loss: 0.603\n",
            "EarlyStopping counter: 5 out of 30\n"
          ]
        },
        {
          "output_type": "stream",
          "name": "stderr",
          "text": [
            "Epoch 49: 100%|██████████| 19/19 [00:00<00:00, 39.05it/s]\n"
          ]
        },
        {
          "output_type": "stream",
          "name": "stdout",
          "text": [
            "[Train] R2: 0.199, Loss: 0.533\n",
            "[Valid] R2: 0.197, Loss: 0.538\n",
            "EarlyStopping counter: 6 out of 30\n"
          ]
        },
        {
          "output_type": "stream",
          "name": "stderr",
          "text": [
            "Epoch 50: 100%|██████████| 19/19 [00:00<00:00, 39.84it/s]\n"
          ]
        },
        {
          "output_type": "stream",
          "name": "stdout",
          "text": [
            "[Train] R2: 0.214, Loss: 0.522\n",
            "[Valid] R2: 0.202, Loss: 0.580\n",
            "EarlyStopping counter: 7 out of 30\n"
          ]
        },
        {
          "output_type": "stream",
          "name": "stderr",
          "text": [
            "Epoch 51: 100%|██████████| 19/19 [00:00<00:00, 39.65it/s]\n"
          ]
        },
        {
          "output_type": "stream",
          "name": "stdout",
          "text": [
            "[Train] R2: 0.209, Loss: 0.530\n",
            "[Valid] R2: 0.158, Loss: 0.583\n",
            "EarlyStopping counter: 8 out of 30\n"
          ]
        },
        {
          "output_type": "stream",
          "name": "stderr",
          "text": [
            "Epoch 52: 100%|██████████| 19/19 [00:00<00:00, 40.17it/s]\n"
          ]
        },
        {
          "output_type": "stream",
          "name": "stdout",
          "text": [
            "[Train] R2: 0.192, Loss: 0.534\n",
            "[Valid] R2: 0.161, Loss: 0.556\n",
            "EarlyStopping counter: 9 out of 30\n"
          ]
        },
        {
          "output_type": "stream",
          "name": "stderr",
          "text": [
            "Epoch 53: 100%|██████████| 19/19 [00:00<00:00, 41.75it/s]\n"
          ]
        },
        {
          "output_type": "stream",
          "name": "stdout",
          "text": [
            "[Train] R2: 0.202, Loss: 0.520\n",
            "[Valid] R2: 0.157, Loss: 0.575\n",
            "EarlyStopping counter: 10 out of 30\n"
          ]
        },
        {
          "output_type": "stream",
          "name": "stderr",
          "text": [
            "Epoch 54: 100%|██████████| 19/19 [00:00<00:00, 39.84it/s]\n"
          ]
        },
        {
          "output_type": "stream",
          "name": "stdout",
          "text": [
            "[Train] R2: 0.213, Loss: 0.516\n",
            "[Valid] R2: 0.175, Loss: 0.565\n",
            "EarlyStopping counter: 11 out of 30\n"
          ]
        },
        {
          "output_type": "stream",
          "name": "stderr",
          "text": [
            "Epoch 55: 100%|██████████| 19/19 [00:00<00:00, 40.03it/s]\n"
          ]
        },
        {
          "output_type": "stream",
          "name": "stdout",
          "text": [
            "[Train] R2: 0.222, Loss: 0.508\n",
            "[Valid] R2: 0.177, Loss: 0.557\n",
            "EarlyStopping counter: 12 out of 30\n"
          ]
        },
        {
          "output_type": "stream",
          "name": "stderr",
          "text": [
            "Epoch 56: 100%|██████████| 19/19 [00:00<00:00, 39.95it/s]\n"
          ]
        },
        {
          "output_type": "stream",
          "name": "stdout",
          "text": [
            "[Train] R2: 0.215, Loss: 0.523\n",
            "[Valid] R2: 0.162, Loss: 0.584\n",
            "EarlyStopping counter: 13 out of 30\n"
          ]
        },
        {
          "output_type": "stream",
          "name": "stderr",
          "text": [
            "Epoch 57: 100%|██████████| 19/19 [00:00<00:00, 40.62it/s]\n"
          ]
        },
        {
          "output_type": "stream",
          "name": "stdout",
          "text": [
            "[Train] R2: 0.203, Loss: 0.523\n",
            "[Valid] R2: 0.188, Loss: 0.551\n",
            "EarlyStopping counter: 14 out of 30\n"
          ]
        },
        {
          "output_type": "stream",
          "name": "stderr",
          "text": [
            "Epoch 58: 100%|██████████| 19/19 [00:00<00:00, 42.36it/s]\n"
          ]
        },
        {
          "output_type": "stream",
          "name": "stdout",
          "text": [
            "[Train] R2: 0.220, Loss: 0.509\n",
            "[Valid] R2: 0.172, Loss: 0.558\n",
            "EarlyStopping counter: 15 out of 30\n"
          ]
        },
        {
          "output_type": "stream",
          "name": "stderr",
          "text": [
            "Epoch 59: 100%|██████████| 19/19 [00:00<00:00, 38.85it/s]\n"
          ]
        },
        {
          "output_type": "stream",
          "name": "stdout",
          "text": [
            "[Train] R2: 0.226, Loss: 0.505\n",
            "[Valid] R2: 0.169, Loss: 0.567\n",
            "EarlyStopping counter: 16 out of 30\n"
          ]
        },
        {
          "output_type": "stream",
          "name": "stderr",
          "text": [
            "Epoch 60: 100%|██████████| 19/19 [00:00<00:00, 42.17it/s]\n"
          ]
        },
        {
          "output_type": "stream",
          "name": "stdout",
          "text": [
            "[Train] R2: 0.223, Loss: 0.497\n",
            "[Valid] R2: 0.168, Loss: 0.597\n",
            "EarlyStopping counter: 17 out of 30\n"
          ]
        },
        {
          "output_type": "stream",
          "name": "stderr",
          "text": [
            "Epoch 61: 100%|██████████| 19/19 [00:00<00:00, 38.91it/s]\n"
          ]
        },
        {
          "output_type": "stream",
          "name": "stdout",
          "text": [
            "[Train] R2: 0.234, Loss: 0.496\n",
            "[Valid] R2: 0.172, Loss: 0.601\n",
            "EarlyStopping counter: 18 out of 30\n"
          ]
        },
        {
          "output_type": "stream",
          "name": "stderr",
          "text": [
            "Epoch 62: 100%|██████████| 19/19 [00:00<00:00, 41.15it/s]\n"
          ]
        },
        {
          "output_type": "stream",
          "name": "stdout",
          "text": [
            "[Train] R2: 0.234, Loss: 0.506\n",
            "[Valid] R2: 0.156, Loss: 0.599\n",
            "EarlyStopping counter: 19 out of 30\n"
          ]
        },
        {
          "output_type": "stream",
          "name": "stderr",
          "text": [
            "Epoch 63: 100%|██████████| 19/19 [00:00<00:00, 39.49it/s]\n"
          ]
        },
        {
          "output_type": "stream",
          "name": "stdout",
          "text": [
            "[Train] R2: 0.233, Loss: 0.499\n",
            "[Valid] R2: 0.174, Loss: 0.588\n",
            "EarlyStopping counter: 20 out of 30\n"
          ]
        },
        {
          "output_type": "stream",
          "name": "stderr",
          "text": [
            "Epoch 64: 100%|██████████| 19/19 [00:00<00:00, 40.99it/s]\n"
          ]
        },
        {
          "output_type": "stream",
          "name": "stdout",
          "text": [
            "[Train] R2: 0.237, Loss: 0.507\n",
            "[Valid] R2: 0.190, Loss: 0.559\n",
            "EarlyStopping counter: 21 out of 30\n"
          ]
        },
        {
          "output_type": "stream",
          "name": "stderr",
          "text": [
            "Epoch 65: 100%|██████████| 19/19 [00:00<00:00, 39.79it/s]\n"
          ]
        },
        {
          "output_type": "stream",
          "name": "stdout",
          "text": [
            "[Train] R2: 0.259, Loss: 0.487\n",
            "[Valid] R2: 0.196, Loss: 0.551\n",
            "EarlyStopping counter: 22 out of 30\n"
          ]
        },
        {
          "output_type": "stream",
          "name": "stderr",
          "text": [
            "Epoch 66: 100%|██████████| 19/19 [00:00<00:00, 40.59it/s]\n"
          ]
        },
        {
          "output_type": "stream",
          "name": "stdout",
          "text": [
            "[Train] R2: 0.240, Loss: 0.494\n",
            "[Valid] R2: 0.193, Loss: 0.574\n",
            "EarlyStopping counter: 23 out of 30\n"
          ]
        },
        {
          "output_type": "stream",
          "name": "stderr",
          "text": [
            "Epoch 67: 100%|██████████| 19/19 [00:00<00:00, 38.34it/s]\n"
          ]
        },
        {
          "output_type": "stream",
          "name": "stdout",
          "text": [
            "[Train] R2: 0.253, Loss: 0.489\n",
            "[Valid] R2: 0.180, Loss: 0.585\n",
            "EarlyStopping counter: 24 out of 30\n"
          ]
        },
        {
          "output_type": "stream",
          "name": "stderr",
          "text": [
            "Epoch 68: 100%|██████████| 19/19 [00:00<00:00, 27.83it/s]\n"
          ]
        },
        {
          "output_type": "stream",
          "name": "stdout",
          "text": [
            "[Train] R2: 0.268, Loss: 0.480\n",
            "[Valid] R2: 0.191, Loss: 0.567\n",
            "EarlyStopping counter: 25 out of 30\n"
          ]
        },
        {
          "output_type": "stream",
          "name": "stderr",
          "text": [
            "Epoch 69: 100%|██████████| 19/19 [00:00<00:00, 29.17it/s]\n"
          ]
        },
        {
          "output_type": "stream",
          "name": "stdout",
          "text": [
            "[Train] R2: 0.272, Loss: 0.476\n",
            "[Valid] R2: 0.199, Loss: 0.582\n",
            "EarlyStopping counter: 26 out of 30\n"
          ]
        },
        {
          "output_type": "stream",
          "name": "stderr",
          "text": [
            "Epoch 70: 100%|██████████| 19/19 [00:00<00:00, 39.94it/s]\n"
          ]
        },
        {
          "output_type": "stream",
          "name": "stdout",
          "text": [
            "[Train] R2: 0.273, Loss: 0.487\n",
            "[Valid] R2: 0.194, Loss: 0.604\n",
            "EarlyStopping counter: 27 out of 30\n"
          ]
        },
        {
          "output_type": "stream",
          "name": "stderr",
          "text": [
            "Epoch 71: 100%|██████████| 19/19 [00:00<00:00, 41.13it/s]\n"
          ]
        },
        {
          "output_type": "stream",
          "name": "stdout",
          "text": [
            "[Train] R2: 0.264, Loss: 0.487\n",
            "[Valid] R2: 0.177, Loss: 0.585\n",
            "EarlyStopping counter: 28 out of 30\n"
          ]
        },
        {
          "output_type": "stream",
          "name": "stderr",
          "text": [
            "Epoch 72: 100%|██████████| 19/19 [00:00<00:00, 41.47it/s]\n"
          ]
        },
        {
          "output_type": "stream",
          "name": "stdout",
          "text": [
            "[Train] R2: 0.280, Loss: 0.474\n",
            "[Valid] R2: 0.191, Loss: 0.584\n",
            "EarlyStopping counter: 29 out of 30\n"
          ]
        },
        {
          "output_type": "stream",
          "name": "stderr",
          "text": [
            "Epoch 73: 100%|██████████| 19/19 [00:00<00:00, 41.57it/s]"
          ]
        },
        {
          "output_type": "stream",
          "name": "stdout",
          "text": [
            "[Train] R2: 0.283, Loss: 0.467\n",
            "[Valid] R2: 0.173, Loss: 0.596\n",
            "EarlyStopping counter: 30 out of 30\n",
            "early stop\n"
          ]
        },
        {
          "output_type": "stream",
          "name": "stderr",
          "text": [
            "\n"
          ]
        }
      ]
    },
    {
      "cell_type": "code",
      "source": [
        "model = model_zoo.AttentiveFPPredictor(\n",
        "            node_feat_size=n_feats_num, edge_feat_size=e_feats_num,\n",
        "            num_layers=n_layers, num_timesteps=1, graph_feat_size=300,\n",
        "            n_tasks=len(names)).to(device)\n",
        "\n",
        "model.load_state_dict(torch.load('ckpt.pt', map_location=device))"
      ],
      "metadata": {
        "colab": {
          "base_uri": "https://localhost:8080/"
        },
        "id": "_gCS9QTtgOkT",
        "outputId": "ebb1d4cd-ccc8-4cd9-938f-2e22574b3a8f"
      },
      "execution_count": 112,
      "outputs": [
        {
          "output_type": "execute_result",
          "data": {
            "text/plain": [
              "<All keys matched successfully>"
            ]
          },
          "metadata": {},
          "execution_count": 112
        }
      ]
    },
    {
      "cell_type": "code",
      "source": [
        "test_loader = valid_loader\n",
        "print('Evaluate on test sets')\n",
        "model = model.cpu()\n",
        "model.eval()\n",
        "total_loss = 0\n",
        "test_meter = Meter()\n",
        "if IS_R: print('using MSELoss')\n",
        "else: print('using BCELOSSwithdigits')\n",
        "\n",
        "for i, batch_data in tqdm(enumerate(test_loader), total=len(test_loader)):\n",
        "    smiles, bg, labels, masks = batch_data\n",
        "    # bg, labels, masks = bg.to(device), labels.to(device), masks.to(device)\n",
        "    # n_feats = bg.ndata.pop('hv').to(device)\n",
        "    # e_feats = bg.edata.pop('he').to(device)\n",
        "    n_feats = bg.ndata.pop('hv')\n",
        "    e_feats = bg.edata.pop('he')\n",
        "\n",
        "    pred = model(bg, n_feats, e_feats)\n",
        "    # loss = (loss_fn(pred, labels)*(masks!=0).float()).mean()\n",
        "    mask = masks < 1\n",
        "    loss = loss_fn(pred[~mask], labels[~mask])\n",
        "    test_meter.update(pred, labels, masks)\n",
        "    # print(loss)\n",
        "    total_loss += loss.item()\n",
        "    if i == 0:\n",
        "        preds_ = pred.cpu()\n",
        "        labels_ = labels.cpu()\n",
        "        masks_ = mask.cpu()\n",
        "    else:\n",
        "        preds_ = torch.cat([preds_, pred.cpu()], dim=0)\n",
        "        labels_ = torch.cat([labels_, labels.cpu()], dim=0)\n",
        "        masks_ = torch.cat([masks_, mask.cpu()], dim=0)\n",
        "# masks_ = masks_ < 1\n",
        "# preds_, labels_ = preds_.detach().numpy(), labels_.detach().numpy()\n",
        "total_loss /= len(tests)\n",
        "print(f'total_loss: {total_loss:.3f}')\n",
        "\n"
      ],
      "metadata": {
        "colab": {
          "base_uri": "https://localhost:8080/"
        },
        "id": "OEWnegxhhJw7",
        "outputId": "937c98c4-4df2-449d-e988-439cd94f46f9"
      },
      "execution_count": 113,
      "outputs": [
        {
          "output_type": "stream",
          "name": "stdout",
          "text": [
            "Evaluate on test sets\n",
            "using BCELOSSwithdigits\n"
          ]
        },
        {
          "output_type": "stream",
          "name": "stderr",
          "text": [
            "100%|██████████| 5/5 [00:00<00:00, 16.70it/s]"
          ]
        },
        {
          "output_type": "stream",
          "name": "stdout",
          "text": [
            "total_loss: 0.053\n"
          ]
        },
        {
          "output_type": "stream",
          "name": "stderr",
          "text": [
            "\n"
          ]
        }
      ]
    },
    {
      "cell_type": "code",
      "source": [
        "from mycolorpy import colorlist as mcp\n",
        "import matplotlib.pyplot as plt\n",
        "\n",
        "if IS_R: # regression task\n",
        "    r2 = test_meter.compute_metric('r2')\n",
        "    r2_mean, r2_std = np.mean(r2), np.std(r2)\n",
        "    # r2_avg = test_meter.compute_metric('r2', reduction='mean')\n",
        "    mae = test_meter.compute_metric('mae')\n",
        "    mae_mean, mae_std = np.mean(mae), np.std(mae)\n",
        "    # mae_avg = test_meter.compute_metric('mae', reduction='mean')\n",
        "    rmse = test_meter.compute_metric('rmse')\n",
        "    rmse_mean, rmse_std = np.mean(rmse), np.std(rmse)\n",
        "    # # rmse_avg = test_meter.compute_metric('rmse', reduction='mean')\n",
        "    print('\\nOVERALL\\n')\n",
        "    print(f' R2: \\t{r2_mean:.3f} +/- {r2_std:.3f} \\n',\n",
        "        f'MAE: \\t{mae_mean:.3f} +/- {mae_std:.3f} \\n',\n",
        "        f'RMSE: \\t{rmse_mean:.3f} +/- {rmse_std:.3f}')\n",
        "\n",
        "    print('\\nSEPERATELY\\n')\n",
        "    for i, name in enumerate(names):\n",
        "\n",
        "        try: name = name.split('_')[0]\n",
        "        except: pass\n",
        "        print('*'*15, name, '*'*15)\n",
        "        fig = plt.figure()\n",
        "        r2, mae, rmse = reg_evaluate(\n",
        "                labels_[:, i][~masks_[:, i]].detach().numpy(),\n",
        "                 preds_[:, i][~masks_[:, i]].detach().numpy())\n",
        "        color = mcp.gen_color_normalized(cmap='viridis',\n",
        "                data_arr=labels_[:, i][~masks_[:, i]].detach().numpy())\n",
        "\n",
        "        plt.scatter(labels_[:, i][~masks_[:, i]].detach().numpy(),\n",
        "                    preds_[:, i][~masks_[:, i]].detach().numpy(),\n",
        "                    cmap='viridis', marker='.',\n",
        "                    s=10, alpha=0.5, edgecolors='none', c=color)\n",
        "        plt.xlabel(f'True {name}')\n",
        "        plt.ylabel(f'Predicted {name}')\n",
        "        plt.title(f'{name} prediction on test set using AttentiveFP')\n",
        "\n",
        "\n",
        "        x0, xmax = plt.xlim()\n",
        "        y0, ymax = plt.ylim()\n",
        "        data_width = xmax - x0\n",
        "        data_height = ymax - y0\n",
        "        # print(x0, xmax, y0, ymax, data_width, data_height)\n",
        "        plt.text(x0 + 0.1*data_width, y0 + data_height * 0.8/0.95, r2)\n",
        "        plt.text(x0 + 0.1*data_width, y0 + data_height * 0.8,  mae)\n",
        "        plt.text(x0 + 0.1*data_width, y0 + data_height * 0.8*0.95, rmse)\n",
        "\n",
        "        plt.show()\n",
        "        plt.cla()\n",
        "        plt.clf()\n",
        "        plt.close()\n",
        "if IS_R == False:\n",
        "    for i, name in enumerate(names):\n",
        "        try: name = name.split('_')[0]\n",
        "        except: pass\n",
        "        print('*'*15, name, '*'*15)\n",
        "        probs = F.sigmoid(preds_[:, i][~masks_[:, i]])\n",
        "        label = labels_[:, i][~masks_[:, i]]\n",
        "        probs = probs.cpu().detach().numpy()\n",
        "        label = label.cpu().detach().numpy()\n",
        "        assert len(probs) == len(label)\n",
        "        preds = get_preds(0.5, probs)\n",
        "        evaluate(label, preds, probs)\n",
        "        print()\n"
      ],
      "metadata": {
        "colab": {
          "base_uri": "https://localhost:8080/"
        },
        "id": "8dPzoHsZm6N0",
        "outputId": "31479958-8a82-4a51-8933-e774d4c46875"
      },
      "execution_count": 114,
      "outputs": [
        {
          "output_type": "stream",
          "name": "stdout",
          "text": [
            "*************** F ***************\n",
            "Accuracy, weighted accuracy, precision, recall/SE, SP,     F1,     AUC,     MCC,     AP\n",
            "& 0.724  &  0.718  &          0.766  &     0.757  &0.678  &0.762 &0.801 &   0.434 &   0.849\n",
            "\n"
          ]
        }
      ]
    },
    {
      "cell_type": "code",
      "source": [
        "from mycolorpy import colorlist as mcp\n",
        "import matplotlib.pyplot as plt\n",
        "\n",
        "if IS_R: # regression task\n",
        "    r2 = test_meter.compute_metric('r2')\n",
        "    r2_mean, r2_std = np.mean(r2), np.std(r2)\n",
        "    # r2_avg = test_meter.compute_metric('r2', reduction='mean')\n",
        "    mae = test_meter.compute_metric('mae')\n",
        "    mae_mean, mae_std = np.mean(mae), np.std(mae)\n",
        "    # mae_avg = test_meter.compute_metric('mae', reduction='mean')\n",
        "    rmse = test_meter.compute_metric('rmse')\n",
        "    rmse_mean, rmse_std = np.mean(rmse), np.std(rmse)\n",
        "    # # rmse_avg = test_meter.compute_metric('rmse', reduction='mean')\n",
        "    print('\\nOVERALL\\n')\n",
        "    print(f' R2: \\t{r2_mean:.3f} +/- {r2_std:.3f} \\n',\n",
        "        f'MAE: \\t{mae_mean:.3f} +/- {mae_std:.3f} \\n',\n",
        "        f'RMSE: \\t{rmse_mean:.3f} +/- {rmse_std:.3f}')\n",
        "\n",
        "    print('\\nSEPERATELY\\n')\n",
        "    for i, name in enumerate(names):\n",
        "\n",
        "        try: name = name.split('_')[0]\n",
        "        except: pass\n",
        "        print('*'*15, name, '*'*15)\n",
        "        fig = plt.figure()\n",
        "        r2, mae, rmse = reg_evaluate(\n",
        "                labels_[:, i][~masks_[:, i]].detach().numpy(),\n",
        "                 preds_[:, i][~masks_[:, i]].detach().numpy())\n",
        "        color = mcp.gen_color_normalized(cmap='viridis',\n",
        "                data_arr=labels_[:, i][~masks_[:, i]].detach().numpy())\n",
        "\n",
        "        plt.scatter(labels_[:, i][~masks_[:, i]].detach().numpy(),\n",
        "                    preds_[:, i][~masks_[:, i]].detach().numpy(),\n",
        "                    cmap='viridis', marker='.',\n",
        "                    s=10, alpha=0.5, edgecolors='none', c=color)\n",
        "        plt.xlabel(f'True {name}')\n",
        "        plt.ylabel(f'Predicted {name}')\n",
        "        plt.title(f'{name} prediction on test set using AttentiveFP')\n",
        "\n",
        "\n",
        "        x0, xmax = plt.xlim()\n",
        "        y0, ymax = plt.ylim()\n",
        "        data_width = xmax - x0\n",
        "        data_height = ymax - y0\n",
        "        # print(x0, xmax, y0, ymax, data_width, data_height)\n",
        "        plt.text(x0 + 0.1*data_width, y0 + data_height * 0.8/0.95, r2)\n",
        "        plt.text(x0 + 0.1*data_width, y0 + data_height * 0.8,  mae)\n",
        "        plt.text(x0 + 0.1*data_width, y0 + data_height * 0.8*0.95, rmse)\n",
        "\n",
        "        plt.show()\n",
        "        plt.cla()\n",
        "        plt.clf()\n",
        "        plt.close()\n",
        "if IS_R == False:\n",
        "    for i, name in enumerate(names):\n",
        "        try: name = name.split('_')[0]\n",
        "        except: pass\n",
        "        print('*'*15, name, '*'*15)\n",
        "        probs = F.sigmoid(preds_[:, i][~masks_[:, i]])\n",
        "        label = labels_[:, i][~masks_[:, i]]\n",
        "        probs = probs.cpu().detach().numpy()\n",
        "        label = label.cpu().detach().numpy()\n",
        "        assert len(probs) == len(label)\n",
        "        preds = get_preds(0.5, probs)\n",
        "        evaluate(label, preds, probs)\n",
        "        print()\n"
      ],
      "metadata": {
        "colab": {
          "base_uri": "https://localhost:8080/",
          "height": 687
        },
        "id": "LWuopWW4hSEq",
        "outputId": "922d379d-4cfd-4350-f9f5-0090b47886cb"
      },
      "execution_count": 84,
      "outputs": [
        {
          "output_type": "stream",
          "name": "stdout",
          "text": [
            "\n",
            "OVERALL\n",
            "\n",
            " R2: \t0.860 +/- 0.000 \n",
            " MAE: \t0.597 +/- 0.000 \n",
            " RMSE: \t0.824 +/- 0.000\n",
            "\n",
            "SEPERATELY\n",
            "\n",
            "*************** logS ***************\n",
            "MAE, MSE, RMSE, R2\n",
            "& 0.597  &0.678  &0.824  &0.854\n"
          ]
        },
        {
          "output_type": "display_data",
          "data": {
            "text/plain": [
              "<Figure size 640x480 with 1 Axes>"
            ],
            "image/png": "[encoded data removed]"
          },
          "metadata": {}
        }
      ]
    },
    {
      "cell_type": "code",
      "source": [],
      "metadata": {
        "colab": {
          "base_uri": "https://localhost:8080/",
          "height": 478
        },
        "id": "0Si_rUaDhWUm",
        "outputId": "601c9f0a-e681-467e-fc75-5a2046215c89"
      },
      "execution_count": 76,
      "outputs": [
        {
          "output_type": "execute_result",
          "data": {
            "text/plain": [
              "                                                   Drug  \\\n",
              "0               Cn1c(CN2CCN(c3ccc(Cl)cc3)CC2)nc2ccccc21   \n",
              "1     COc1cc(OC)c(S(=O)(=O)N2c3ccccc3CCC2C)cc1NC(=O)...   \n",
              "2                 COC(=O)[C@H](c1ccccc1Cl)N1CCc2sccc2C1   \n",
              "3                 OC1(C#Cc2ccc(-c3ccccc3)cc2)CN2CCC1CC2   \n",
              "4     CS(=O)(=O)c1ccc(Oc2ccc(C#C[C@]3(O)CN4CCC3CC4)c...   \n",
              "...                                                 ...   \n",
              "9984                                             C#CCCC   \n",
              "9985                                       Cc1ccc(O)cc1   \n",
              "9986                                      CCCCC/C=C/C=O   \n",
              "9987                   CCOP(=S)(OCC)Oc1cc(C)nc(C(C)C)n1   \n",
              "9988                                           C1COCCO1   \n",
              "\n",
              "      Lipophilicity_AstraZeneca  Solubility_AqSolDB  \\\n",
              "0                          3.54                 NaN   \n",
              "1                         -1.18                 NaN   \n",
              "2                          3.69                 NaN   \n",
              "3                          3.14                 NaN   \n",
              "4                          1.51                 NaN   \n",
              "...                         ...                 ...   \n",
              "9984                        NaN                 NaN   \n",
              "9985                        NaN                 NaN   \n",
              "9986                        NaN                 NaN   \n",
              "9987                        NaN                 NaN   \n",
              "9988                        NaN                 NaN   \n",
              "\n",
              "      HydrationFreeEnergy_FreeSolv  \n",
              "0                              NaN  \n",
              "1                              NaN  \n",
              "2                              NaN  \n",
              "3                              NaN  \n",
              "4                              NaN  \n",
              "...                            ...  \n",
              "9984                          0.01  \n",
              "9985                         -6.13  \n",
              "9986                         -3.43  \n",
              "9987                         -6.48  \n",
              "9988                         -5.06  \n",
              "\n",
              "[9989 rows x 4 columns]"
            ],
            "text/html": [
              "\n",
              "  <div id=\"df-e60b3100-d719-4f34-b9f5-ef4e51d6eb8c\" class=\"colab-df-container\">\n",
              "    <div>\n",
              "<style scoped>\n",
              "    .dataframe tbody tr th:only-of-type {\n",
              "        vertical-align: middle;\n",
              "    }\n",
              "\n",
              "    .dataframe tbody tr th {\n",
              "        vertical-align: top;\n",
              "    }\n",
              "\n",
              "    .dataframe thead th {\n",
              "        text-align: right;\n",
              "    }\n",
              "</style>\n",
              "<table border=\"1\" class=\"dataframe\">\n",
              "  <thead>\n",
              "    <tr style=\"text-align: right;\">\n",
              "      <th></th>\n",
              "      <th>Drug</th>\n",
              "      <th>Lipophilicity_AstraZeneca</th>\n",
              "      <th>Solubility_AqSolDB</th>\n",
              "      <th>HydrationFreeEnergy_FreeSolv</th>\n",
              "    </tr>\n",
              "  </thead>\n",
              "  <tbody>\n",
              "    <tr>\n",
              "      <th>0</th>\n",
              "      <td>Cn1c(CN2CCN(c3ccc(Cl)cc3)CC2)nc2ccccc21</td>\n",
              "      <td>3.54</td>\n",
              "      <td>NaN</td>\n",
              "      <td>NaN</td>\n",
              "    </tr>\n",
              "    <tr>\n",
              "      <th>1</th>\n",
              "      <td>COc1cc(OC)c(S(=O)(=O)N2c3ccccc3CCC2C)cc1NC(=O)...</td>\n",
              "      <td>-1.18</td>\n",
              "      <td>NaN</td>\n",
              "      <td>NaN</td>\n",
              "    </tr>\n",
              "    <tr>\n",
              "      <th>2</th>\n",
              "      <td>COC(=O)[C@H](c1ccccc1Cl)N1CCc2sccc2C1</td>\n",
              "      <td>3.69</td>\n",
              "      <td>NaN</td>\n",
              "      <td>NaN</td>\n",
              "    </tr>\n",
              "    <tr>\n",
              "      <th>3</th>\n",
              "      <td>OC1(C#Cc2ccc(-c3ccccc3)cc2)CN2CCC1CC2</td>\n",
              "      <td>3.14</td>\n",
              "      <td>NaN</td>\n",
              "      <td>NaN</td>\n",
              "    </tr>\n",
              "    <tr>\n",
              "      <th>4</th>\n",
              "      <td>CS(=O)(=O)c1ccc(Oc2ccc(C#C[C@]3(O)CN4CCC3CC4)c...</td>\n",
              "      <td>1.51</td>\n",
              "      <td>NaN</td>\n",
              "      <td>NaN</td>\n",
              "    </tr>\n",
              "    <tr>\n",
              "      <th>...</th>\n",
              "      <td>...</td>\n",
              "      <td>...</td>\n",
              "      <td>...</td>\n",
              "      <td>...</td>\n",
              "    </tr>\n",
              "    <tr>\n",
              "      <th>9984</th>\n",
              "      <td>C#CCCC</td>\n",
              "      <td>NaN</td>\n",
              "      <td>NaN</td>\n",
              "      <td>0.01</td>\n",
              "    </tr>\n",
              "    <tr>\n",
              "      <th>9985</th>\n",
              "      <td>Cc1ccc(O)cc1</td>\n",
              "      <td>NaN</td>\n",
              "      <td>NaN</td>\n",
              "      <td>-6.13</td>\n",
              "    </tr>\n",
              "    <tr>\n",
              "      <th>9986</th>\n",
              "      <td>CCCCC/C=C/C=O</td>\n",
              "      <td>NaN</td>\n",
              "      <td>NaN</td>\n",
              "      <td>-3.43</td>\n",
              "    </tr>\n",
              "    <tr>\n",
              "      <th>9987</th>\n",
              "      <td>CCOP(=S)(OCC)Oc1cc(C)nc(C(C)C)n1</td>\n",
              "      <td>NaN</td>\n",
              "      <td>NaN</td>\n",
              "      <td>-6.48</td>\n",
              "    </tr>\n",
              "    <tr>\n",
              "      <th>9988</th>\n",
              "      <td>C1COCCO1</td>\n",
              "      <td>NaN</td>\n",
              "      <td>NaN</td>\n",
              "      <td>-5.06</td>\n",
              "    </tr>\n",
              "  </tbody>\n",
              "</table>\n",
              "<p>9989 rows × 4 columns</p>\n",
              "</div>\n",
              "    <div class=\"colab-df-buttons\">\n",
              "\n",
              "  <div class=\"colab-df-container\">\n",
              "    <button class=\"colab-df-convert\" onclick=\"convertToInteractive('df-e60b3100-d719-4f34-b9f5-ef4e51d6eb8c')\"\n",
              "            title=\"Convert this dataframe to an interactive table.\"\n",
              "            style=\"display:none;\">\n",
              "\n",
              "  <svg xmlns=\"http://www.w3.org/2000/svg\" height=\"24px\" viewBox=\"0 -960 960 960\">\n",
              "    <path d=\"M120-120v-720h720v720H120Zm60-500h600v-160H180v160Zm220 220h160v-160H400v160Zm0 220h160v-160H400v160ZM180-400h160v-160H180v160Zm440 0h160v-160H620v160ZM180-180h160v-160H180v160Zm440 0h160v-160H620v160Z\"/>\n",
              "  </svg>\n",
              "    </button>\n",
              "\n",
              "  <style>\n",
              "    .colab-df-container {\n",
              "      display:flex;\n",
              "      gap: 12px;\n",
              "    }\n",
              "\n",
              "    .colab-df-convert {\n",
              "      background-color: #E8F0FE;\n",
              "      border: none;\n",
              "      border-radius: 50%;\n",
              "      cursor: pointer;\n",
              "      display: none;\n",
              "      fill: #1967D2;\n",
              "      height: 32px;\n",
              "      padding: 0 0 0 0;\n",
              "      width: 32px;\n",
              "    }\n",
              "\n",
              "    .colab-df-convert:hover {\n",
              "      background-color: #E2EBFA;\n",
              "      box-shadow: 0px 1px 2px rgba(60, 64, 67, 0.3), 0px 1px 3px 1px rgba(60, 64, 67, 0.15);\n",
              "      fill: #174EA6;\n",
              "    }\n",
              "\n",
              "    .colab-df-buttons div {\n",
              "      margin-bottom: 4px;\n",
              "    }\n",
              "\n",
              "    [theme=dark] .colab-df-convert {\n",
              "      background-color: #3B4455;\n",
              "      fill: #D2E3FC;\n",
              "    }\n",
              "\n",
              "    [theme=dark] .colab-df-convert:hover {\n",
              "      background-color: #434B5C;\n",
              "      box-shadow: 0px 1px 3px 1px rgba(0, 0, 0, 0.15);\n",
              "      filter: drop-shadow(0px 1px 2px rgba(0, 0, 0, 0.3));\n",
              "      fill: #FFFFFF;\n",
              "    }\n",
              "  </style>\n",
              "\n",
              "    <script>\n",
              "      const buttonEl =\n",
              "        document.querySelector('#df-e60b3100-d719-4f34-b9f5-ef4e51d6eb8c button.colab-df-convert');\n",
              "      buttonEl.style.display =\n",
              "        google.colab.kernel.accessAllowed ? 'block' : 'none';\n",
              "\n",
              "      async function convertToInteractive(key) {\n",
              "        const element = document.querySelector('#df-e60b3100-d719-4f34-b9f5-ef4e51d6eb8c');\n",
              "        const dataTable =\n",
              "          await google.colab.kernel.invokeFunction('convertToInteractive',\n",
              "                                                    [key], {});\n",
              "        if (!dataTable) return;\n",
              "\n",
              "        const docLinkHtml = 'Like what you see? Visit the ' +\n",
              "          '<a target=\"_blank\" href=https://colab.research.google.com/notebooks/data_table.ipynb>data table notebook</a>'\n",
              "          + ' to learn more about interactive tables.';\n",
              "        element.innerHTML = '';\n",
              "        dataTable['output_type'] = 'display_data';\n",
              "        await google.colab.output.renderOutput(dataTable, element);\n",
              "        const docLink = document.createElement('div');\n",
              "        docLink.innerHTML = docLinkHtml;\n",
              "        element.appendChild(docLink);\n",
              "      }\n",
              "    </script>\n",
              "  </div>\n",
              "\n",
              "\n",
              "<div id=\"df-d03ad397-b10a-46f0-9c39-6037fdd96fe5\">\n",
              "  <button class=\"colab-df-quickchart\" onclick=\"quickchart('df-d03ad397-b10a-46f0-9c39-6037fdd96fe5')\"\n",
              "            title=\"Suggest charts.\"\n",
              "            style=\"display:none;\">\n",
              "\n",
              "<svg xmlns=\"http://www.w3.org/2000/svg\" height=\"24px\"viewBox=\"0 0 24 24\"\n",
              "     width=\"24px\">\n",
              "    <g>\n",
              "        <path d=\"M19 3H5c-1.1 0-2 .9-2 2v14c0 1.1.9 2 2 2h14c1.1 0 2-.9 2-2V5c0-1.1-.9-2-2-2zM9 17H7v-7h2v7zm4 0h-2V7h2v10zm4 0h-2v-4h2v4z\"/>\n",
              "    </g>\n",
              "</svg>\n",
              "  </button>\n",
              "\n",
              "<style>\n",
              "  .colab-df-quickchart {\n",
              "      --bg-color: #E8F0FE;\n",
              "      --fill-color: #1967D2;\n",
              "      --hover-bg-color: #E2EBFA;\n",
              "      --hover-fill-color: #174EA6;\n",
              "      --disabled-fill-color: #AAA;\n",
              "      --disabled-bg-color: #DDD;\n",
              "  }\n",
              "\n",
              "  [theme=dark] .colab-df-quickchart {\n",
              "      --bg-color: #3B4455;\n",
              "      --fill-color: #D2E3FC;\n",
              "      --hover-bg-color: #434B5C;\n",
              "      --hover-fill-color: #FFFFFF;\n",
              "      --disabled-bg-color: #3B4455;\n",
              "      --disabled-fill-color: #666;\n",
              "  }\n",
              "\n",
              "  .colab-df-quickchart {\n",
              "    background-color: var(--bg-color);\n",
              "    border: none;\n",
              "    border-radius: 50%;\n",
              "    cursor: pointer;\n",
              "    display: none;\n",
              "    fill: var(--fill-color);\n",
              "    height: 32px;\n",
              "    padding: 0;\n",
              "    width: 32px;\n",
              "  }\n",
              "\n",
              "  .colab-df-quickchart:hover {\n",
              "    background-color: var(--hover-bg-color);\n",
              "    box-shadow: 0 1px 2px rgba(60, 64, 67, 0.3), 0 1px 3px 1px rgba(60, 64, 67, 0.15);\n",
              "    fill: var(--button-hover-fill-color);\n",
              "  }\n",
              "\n",
              "  .colab-df-quickchart-complete:disabled,\n",
              "  .colab-df-quickchart-complete:disabled:hover {\n",
              "    background-color: var(--disabled-bg-color);\n",
              "    fill: var(--disabled-fill-color);\n",
              "    box-shadow: none;\n",
              "  }\n",
              "\n",
              "  .colab-df-spinner {\n",
              "    border: 2px solid var(--fill-color);\n",
              "    border-color: transparent;\n",
              "    border-bottom-color: var(--fill-color);\n",
              "    animation:\n",
              "      spin 1s steps(1) infinite;\n",
              "  }\n",
              "\n",
              "  @keyframes spin {\n",
              "    0% {\n",
              "      border-color: transparent;\n",
              "      border-bottom-color: var(--fill-color);\n",
              "      border-left-color: var(--fill-color);\n",
              "    }\n",
              "    20% {\n",
              "      border-color: transparent;\n",
              "      border-left-color: var(--fill-color);\n",
              "      border-top-color: var(--fill-color);\n",
              "    }\n",
              "    30% {\n",
              "      border-color: transparent;\n",
              "      border-left-color: var(--fill-color);\n",
              "      border-top-color: var(--fill-color);\n",
              "      border-right-color: var(--fill-color);\n",
              "    }\n",
              "    40% {\n",
              "      border-color: transparent;\n",
              "      border-right-color: var(--fill-color);\n",
              "      border-top-color: var(--fill-color);\n",
              "    }\n",
              "    60% {\n",
              "      border-color: transparent;\n",
              "      border-right-color: var(--fill-color);\n",
              "    }\n",
              "    80% {\n",
              "      border-color: transparent;\n",
              "      border-right-color: var(--fill-color);\n",
              "      border-bottom-color: var(--fill-color);\n",
              "    }\n",
              "    90% {\n",
              "      border-color: transparent;\n",
              "      border-bottom-color: var(--fill-color);\n",
              "    }\n",
              "  }\n",
              "</style>\n",
              "\n",
              "  <script>\n",
              "    async function quickchart(key) {\n",
              "      const quickchartButtonEl =\n",
              "        document.querySelector('#' + key + ' button');\n",
              "      quickchartButtonEl.disabled = true;  // To prevent multiple clicks.\n",
              "      quickchartButtonEl.classList.add('colab-df-spinner');\n",
              "      try {\n",
              "        const charts = await google.colab.kernel.invokeFunction(\n",
              "            'suggestCharts', [key], {});\n",
              "      } catch (error) {\n",
              "        console.error('Error during call to suggestCharts:', error);\n",
              "      }\n",
              "      quickchartButtonEl.classList.remove('colab-df-spinner');\n",
              "      quickchartButtonEl.classList.add('colab-df-quickchart-complete');\n",
              "    }\n",
              "    (() => {\n",
              "      let quickchartButtonEl =\n",
              "        document.querySelector('#df-d03ad397-b10a-46f0-9c39-6037fdd96fe5 button');\n",
              "      quickchartButtonEl.style.display =\n",
              "        google.colab.kernel.accessAllowed ? 'block' : 'none';\n",
              "    })();\n",
              "  </script>\n",
              "</div>\n",
              "\n",
              "  <div id=\"id_d147ad99-d1d7-4ca6-889f-21cf494e264c\">\n",
              "    <style>\n",
              "      .colab-df-generate {\n",
              "        background-color: #E8F0FE;\n",
              "        border: none;\n",
              "        border-radius: 50%;\n",
              "        cursor: pointer;\n",
              "        display: none;\n",
              "        fill: #1967D2;\n",
              "        height: 32px;\n",
              "        padding: 0 0 0 0;\n",
              "        width: 32px;\n",
              "      }\n",
              "\n",
              "      .colab-df-generate:hover {\n",
              "        background-color: #E2EBFA;\n",
              "        box-shadow: 0px 1px 2px rgba(60, 64, 67, 0.3), 0px 1px 3px 1px rgba(60, 64, 67, 0.15);\n",
              "        fill: #174EA6;\n",
              "      }\n",
              "\n",
              "      [theme=dark] .colab-df-generate {\n",
              "        background-color: #3B4455;\n",
              "        fill: #D2E3FC;\n",
              "      }\n",
              "\n",
              "      [theme=dark] .colab-df-generate:hover {\n",
              "        background-color: #434B5C;\n",
              "        box-shadow: 0px 1px 3px 1px rgba(0, 0, 0, 0.15);\n",
              "        filter: drop-shadow(0px 1px 2px rgba(0, 0, 0, 0.3));\n",
              "        fill: #FFFFFF;\n",
              "      }\n",
              "    </style>\n",
              "    <button class=\"colab-df-generate\" onclick=\"generateWithVariable('trains')\"\n",
              "            title=\"Generate code using this dataframe.\"\n",
              "            style=\"display:none;\">\n",
              "\n",
              "  <svg xmlns=\"http://www.w3.org/2000/svg\" height=\"24px\"viewBox=\"0 0 24 24\"\n",
              "       width=\"24px\">\n",
              "    <path d=\"M7,19H8.4L18.45,9,17,7.55,7,17.6ZM5,21V16.75L18.45,3.32a2,2,0,0,1,2.83,0l1.4,1.43a1.91,1.91,0,0,1,.58,1.4,1.91,1.91,0,0,1-.58,1.4L9.25,21ZM18.45,9,17,7.55Zm-12,3A5.31,5.31,0,0,0,4.9,8.1,5.31,5.31,0,0,0,1,6.5,5.31,5.31,0,0,0,4.9,4.9,5.31,5.31,0,0,0,6.5,1,5.31,5.31,0,0,0,8.1,4.9,5.31,5.31,0,0,0,12,6.5,5.46,5.46,0,0,0,6.5,12Z\"/>\n",
              "  </svg>\n",
              "    </button>\n",
              "    <script>\n",
              "      (() => {\n",
              "      const buttonEl =\n",
              "        document.querySelector('#id_d147ad99-d1d7-4ca6-889f-21cf494e264c button.colab-df-generate');\n",
              "      buttonEl.style.display =\n",
              "        google.colab.kernel.accessAllowed ? 'block' : 'none';\n",
              "\n",
              "      buttonEl.onclick = () => {\n",
              "        google.colab.notebook.generateWithVariable('trains');\n",
              "      }\n",
              "      })();\n",
              "    </script>\n",
              "  </div>\n",
              "\n",
              "    </div>\n",
              "  </div>\n"
            ]
          },
          "metadata": {},
          "execution_count": 76
        }
      ]
    },
    {
      "cell_type": "code",
      "source": [],
      "metadata": {
        "id": "mvQDkfeUhjOA"
      },
      "execution_count": null,
      "outputs": []
    }
  ]
}