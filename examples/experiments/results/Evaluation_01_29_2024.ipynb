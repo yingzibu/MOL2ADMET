{
  "nbformat": 4,
  "nbformat_minor": 0,
  "metadata": {
    "colab": {
      "provenance": [],
      "machine_shape": "hm",
      "gpuType": "T4",
      "mount_file_id": "1lV_xSopXwRDkLPrDJwTurXbIBlQPpiD4",
      "authorship_tag": "ABX9TyMMdmcwmt/3pmyLM0vHlDJb",
      "include_colab_link": true
    },
    "kernelspec": {
      "name": "python3",
      "display_name": "Python 3"
    },
    "language_info": {
      "name": "python"
    },
    "accelerator": "GPU"
  },
  "cells": [
    {
      "cell_type": "markdown",
      "metadata": {
        "id": "view-in-github",
        "colab_type": "text"
      },
      "source": [
        "<a href=\"https://colab.research.google.com/github/yingzibu/MOL2ADMET/blob/main/examples/experiments/results/Evaluation_01_29_2024.ipynb\" target=\"_parent\"><img src=\"https://colab.research.google.com/assets/colab-badge.svg\" alt=\"Open In Colab\"/></a>"
      ]
    },
    {
      "cell_type": "code",
      "execution_count": 1,
      "metadata": {
        "colab": {
          "base_uri": "https://localhost:8080/"
        },
        "id": "Q2BbcbJDPHdY",
        "outputId": "4ee1e297-6227-4bd1-ce99-2a82ab0220b6"
      },
      "outputs": [
        {
          "output_type": "stream",
          "name": "stdout",
          "text": [
            "2.1.0+cu121\n",
            "cuda:  True\n"
          ]
        }
      ],
      "source": [
        "import torch\n",
        "print(torch.__version__)\n",
        "print('cuda: ', torch.cuda.is_available())"
      ]
    },
    {
      "cell_type": "code",
      "source": [
        "! pip install rdkit --quiet\n",
        "! pip install PyTDC --quiet\n",
        "! pip install mycolorpy --quiet\n",
        "! pip install selfies  --quiet\n",
        "! pip install pubchempy --quiet\n",
        "! pip install dgllife --quiet\n",
        "! pip install molvs --quiet\n",
        "! pip install dgl -f https://data.dgl.ai/wheels/cu121/repo.html --quiet\n",
        "! pip install dglgo -f https://data.dgl.ai/wheels-test/repo.html --quiet\n",
        "\n",
        "! pip install DeepPurpose --quiet\n",
        "! pip install git+https://github.com/bp-kelley/descriptastorus --quiet\n",
        "! pip install pandas-flavor --quiet\n",
        ""
      ],
      "metadata": {
        "colab": {
          "base_uri": "https://localhost:8080/"
        },
        "id": "Ov3wSgh3PXoJ",
        "outputId": "751ad7ad-a7b8-49e0-98e1-9c9f27beaaa7"
      },
      "execution_count": 2,
      "outputs": [
        {
          "output_type": "stream",
          "name": "stdout",
          "text": [
            "  Preparing metadata (setup.py) ... \u001b[?25l\u001b[?25hdone\n",
            "  Building wheel for descriptastorus (setup.py) ... \u001b[?25l\u001b[?25hdone\n"
          ]
        }
      ]
    },
    {
      "cell_type": "code",
      "source": [
        "cd /content/drive/MyDrive/ADMET"
      ],
      "metadata": {
        "colab": {
          "base_uri": "https://localhost:8080/"
        },
        "id": "GIiIefonPavx",
        "outputId": "ef1bac76-dffd-4f68-a701-d747a5183655"
      },
      "execution_count": 3,
      "outputs": [
        {
          "output_type": "stream",
          "name": "stdout",
          "text": [
            "/content/drive/MyDrive/ADMET\n"
          ]
        }
      ]
    },
    {
      "cell_type": "code",
      "source": [
        "from scripts.func_utils import *\n",
        "from scripts.yaml_utils import *\n",
        "from scripts.eval_utils import *\n",
        "from scripts.preprocess_mols import *\n",
        "from scripts.model_architecture import *\n",
        "from scripts.dataset import *\n",
        "from scripts.train import *\n",
        "\n",
        "from tdc.utils import retrieve_label_name_list\n",
        "import pandas as pd\n",
        "from scripts.get_vocab import *\n",
        "\n",
        "from tdc.single_pred import ADME\n",
        "from tdc.single_pred import Tox\n",
        "label_list = retrieve_label_name_list('herg_central')"
      ],
      "metadata": {
        "colab": {
          "base_uri": "https://localhost:8080/"
        },
        "id": "it1d1HCYPjGm",
        "outputId": "07a7610a-9050-490f-b106-0f4a7c859058"
      },
      "execution_count": 4,
      "outputs": [
        {
          "output_type": "stream",
          "name": "stderr",
          "text": [
            "DGL backend not selected or invalid.  Assuming PyTorch for now.\n"
          ]
        },
        {
          "output_type": "stream",
          "name": "stdout",
          "text": [
            "Setting the default backend to \"pytorch\". You can change it in the ~/.dgl/config.json file or export the DGLBACKEND environment variable.  Valid options are: pytorch, mxnet, tensorflow (all lowercase)\n"
          ]
        }
      ]
    },
    {
      "cell_type": "code",
      "source": [
        "names_T3"
      ],
      "metadata": {
        "colab": {
          "base_uri": "https://localhost:8080/"
        },
        "id": "-ejIQw82PjwZ",
        "outputId": "b55766f4-68ee-48a9-92b8-e4ba4b2835c1"
      },
      "execution_count": 5,
      "outputs": [
        {
          "output_type": "execute_result",
          "data": {
            "text/plain": [
              "['hERG_Karim', 'AMES', 'LD50_Zhu']"
            ]
          },
          "metadata": {},
          "execution_count": 5
        }
      ]
    },
    {
      "cell_type": "code",
      "source": [
        "model_types = ['MLP', 'AttentiveFP', 'GIN', 'RNN']"
      ],
      "metadata": {
        "id": "uCLC2fmJQMbr"
      },
      "execution_count": 7,
      "outputs": []
    },
    {
      "cell_type": "code",
      "source": [
        "folder_name = '/content/drive/MyDrive/ADMET/T3/uw_no' # no uncertainty weight on M5\n",
        "repeat_time = 3\n",
        "for model_type in model_types:\n",
        "    print('\\n', '.'*30, model_type, '.'*30)\n",
        "    perfs = []\n",
        "    for i in range(repeat_time):\n",
        "        file_name = f'{folder_name}/{model_type}_MT_{i}.yml'\n",
        "        try:\n",
        "            p = yml_report(file_name)\n",
        "            names = [n for n in p.keys()]\n",
        "            names = names[:-1] # the last one is 'loss'\n",
        "            perfs.append(p)\n",
        "        except:\n",
        "            print('cannot open', file_name)\n",
        "    if len(perfs) != 0:\n",
        "        print(model_type, 'run repeat time', repeat_time)\n",
        "        best_idx = eval_perf_list(perfs, names)\n",
        "        print('best model in ', model_type)\n",
        "        eval_perf_list(perfs[best_idx], names, {})\n",
        "    print('\\n', '.'*30, model_type, '.'*30, '\\n')"
      ],
      "metadata": {
        "colab": {
          "base_uri": "https://localhost:8080/"
        },
        "id": "xY7od33YQCQG",
        "outputId": "400e7755-ae20-4193-d3d5-444efe6493e2"
      },
      "execution_count": 8,
      "outputs": [
        {
          "output_type": "stream",
          "name": "stdout",
          "text": [
            "\n",
            " .............................. MLP ..............................\n",
            "MLP run repeat time 3\n",
            "repeated num # 3 idx 1 has the lowest loss from [0.5739445134320043, 0.5448673116889867, 0.5673596611754461]\n",
            "******************** AMES ******************** \n",
            "\t|       acc      |       auc      |       ap      \n",
            "\t&0.814$\\pm$0.004  &0.873$\\pm$0.004  &0.882$\\pm$0.002  \n",
            " idx 1: &0.817            &0.875            &0.885            \n",
            "\n",
            "******************** LD50_Zhu ******************** \n",
            "\t|       mae      |       rmse      |       r2      \n",
            "\t&0.625$\\pm$0.025  &0.815$\\pm$0.032  &0.255$\\pm$0.059  \n",
            " idx 1: &0.615            &0.806            &0.272            \n",
            "\n",
            "******************** hERG_Karim ******************** \n",
            "\t|       acc      |       auc      |       ap      \n",
            "\t&0.760$\\pm$0.004  &0.836$\\pm$0.004  &0.838$\\pm$0.004  \n",
            " idx 1: &0.765            &0.840            &0.842            \n",
            "\n",
            "best model in  MLP\n",
            "******************** AMES ******************** \n",
            "\t|  acc  |  w_acc  |  prec  |  recall  |  sp  |  f1  |  auc  |  mcc  |  ap  \n",
            "single: &0.817   &0.815   &0.833   &0.835   &0.796   &0.834   &0.875   &0.631   &0.885   \n",
            "******************** LD50_Zhu ******************** \n",
            "\t|  mae  |  mse  |  rmse  |  r2  \n",
            "single: &0.615   &0.650   &0.806   &0.272   \n",
            "******************** hERG_Karim ******************** \n",
            "\t|  acc  |  w_acc  |  prec  |  recall  |  sp  |  f1  |  auc  |  mcc  |  ap  \n",
            "single: &0.765   &0.765   &0.789   &0.723   &0.807   &0.754   &0.840   &0.532   &0.842   \n",
            "\n",
            " .............................. MLP .............................. \n",
            "\n",
            "\n",
            " .............................. AttentiveFP ..............................\n",
            "AttentiveFP run repeat time 3\n",
            "repeated num # 3 idx 2 has the lowest loss from [0.5267792056229982, 0.544587395069274, 0.5254913324659521]\n",
            "******************** AMES ******************** \n",
            "\t|       acc      |       auc      |       ap      \n",
            "\t&0.808$\\pm$0.010  &0.880$\\pm$0.002  &0.885$\\pm$0.004  \n",
            " idx 2: &0.814            &0.883            &0.881            \n",
            "\n",
            "******************** LD50_Zhu ******************** \n",
            "\t|       mae      |       rmse      |       r2      \n",
            "\t&0.545$\\pm$0.007  &0.723$\\pm$0.009  &0.415$\\pm$0.015  \n",
            " idx 2: &0.554            &0.736            &0.394            \n",
            "\n",
            "******************** hERG_Karim ******************** \n",
            "\t|       acc      |       auc      |       ap      \n",
            "\t&0.791$\\pm$0.009  &0.876$\\pm$0.010  &0.874$\\pm$0.011  \n",
            " idx 2: &0.778            &0.862            &0.859            \n",
            "\n",
            "best model in  AttentiveFP\n",
            "******************** AMES ******************** \n",
            "\t|  acc  |  w_acc  |  prec  |  recall  |  sp  |  f1  |  auc  |  mcc  |  ap  \n",
            "single: &0.814   &0.810   &0.816   &0.853   &0.766   &0.834   &0.883   &0.623   &0.881   \n",
            "******************** LD50_Zhu ******************** \n",
            "\t|  mae  |  mse  |  rmse  |  r2  \n",
            "single: &0.554   &0.541   &0.736   &0.394   \n",
            "******************** hERG_Karim ******************** \n",
            "\t|  acc  |  w_acc  |  prec  |  recall  |  sp  |  f1  |  auc  |  mcc  |  ap  \n",
            "single: &0.778   &0.778   &0.791   &0.756   &0.801   &0.773   &0.862   &0.557   &0.859   \n",
            "\n",
            " .............................. AttentiveFP .............................. \n",
            "\n",
            "\n",
            " .............................. GIN ..............................\n",
            "GIN run repeat time 3\n",
            "repeated num # 3 idx 2 has the lowest loss from [0.4986838014288382, 0.4980786151506684, 0.48425441269170155]\n",
            "******************** AMES ******************** \n",
            "\t|       acc      |       auc      |       ap      \n",
            "\t&0.827$\\pm$0.006  &0.893$\\pm$0.000  &0.907$\\pm$0.000  \n",
            " idx 2: &0.830            &0.893            &0.907            \n",
            "\n",
            "******************** LD50_Zhu ******************** \n",
            "\t|       mae      |       rmse      |       r2      \n",
            "\t&0.647$\\pm$0.043  &0.846$\\pm$0.056  &0.196$\\pm$0.108  \n",
            " idx 2: &0.617            &0.808            &0.269            \n",
            "\n",
            "******************** hERG_Karim ******************** \n",
            "\t|       acc      |       auc      |       ap      \n",
            "\t&0.796$\\pm$0.003  &0.880$\\pm$0.002  &0.885$\\pm$0.003  \n",
            " idx 2: &0.800            &0.880            &0.884            \n",
            "\n",
            "best model in  GIN\n",
            "******************** AMES ******************** \n",
            "\t|  acc  |  w_acc  |  prec  |  recall  |  sp  |  f1  |  auc  |  mcc  |  ap  \n",
            "single: &0.830   &0.827   &0.835   &0.858   &0.795   &0.847   &0.893   &0.655   &0.907   \n",
            "******************** LD50_Zhu ******************** \n",
            "\t|  mae  |  mse  |  rmse  |  r2  \n",
            "single: &0.617   &0.654   &0.808   &0.269   \n",
            "******************** hERG_Karim ******************** \n",
            "\t|  acc  |  w_acc  |  prec  |  recall  |  sp  |  f1  |  auc  |  mcc  |  ap  \n",
            "single: &0.800   &0.800   &0.807   &0.789   &0.811   &0.797   &0.880   &0.600   &0.884   \n",
            "\n",
            " .............................. GIN .............................. \n",
            "\n",
            "\n",
            " .............................. RNN ..............................\n",
            "RNN run repeat time 3\n",
            "repeated num # 3 idx 2 has the lowest loss from [0.21292617290534757, 0.21039571689272468, 0.20645070981911637]\n",
            "******************** AMES ******************** \n",
            "\t|       acc      |       auc      |       ap      \n",
            "\t&0.761$\\pm$0.014  &0.827$\\pm$0.015  &0.837$\\pm$0.014  \n",
            " idx 2: &0.780            &0.848            &0.856            \n",
            "\n",
            "******************** LD50_Zhu ******************** \n",
            "\t|       mae      |       rmse      |       r2      \n",
            "\t&0.664$\\pm$0.030  &0.863$\\pm$0.025  &0.165$\\pm$0.048  \n",
            " idx 2: &0.631            &0.832            &0.225            \n",
            "\n",
            "******************** hERG_Karim ******************** \n",
            "\t|       acc      |       auc      |       ap      \n",
            "\t&0.740$\\pm$0.010  &0.814$\\pm$0.007  &0.817$\\pm$0.006  \n",
            " idx 2: &0.741            &0.817            &0.823            \n",
            "\n",
            "best model in  RNN\n",
            "******************** AMES ******************** \n",
            "\t|  acc  |  w_acc  |  prec  |  recall  |  sp  |  f1  |  auc  |  mcc  |  ap  \n",
            "single: &0.780   &0.779   &0.806   &0.788   &0.771   &0.797   &0.848   &0.558   &0.856   \n",
            "******************** LD50_Zhu ******************** \n",
            "\t|  mae  |  mse  |  rmse  |  r2  \n",
            "single: &0.631   &0.692   &0.832   &0.225   \n",
            "******************** hERG_Karim ******************** \n",
            "\t|  acc  |  w_acc  |  prec  |  recall  |  sp  |  f1  |  auc  |  mcc  |  ap  \n",
            "single: &0.741   &0.741   &0.778   &0.674   &0.808   &0.722   &0.817   &0.487   &0.823   \n",
            "\n",
            " .............................. RNN .............................. \n",
            "\n"
          ]
        }
      ]
    },
    {
      "cell_type": "code",
      "source": [
        "folder_name = '/content/drive/MyDrive/ADMET/T3/uw' # no uncertainty weight on M5\n",
        "repeat_time = 3\n",
        "for model_type in model_types:\n",
        "    print('\\n', '.'*30, model_type, '.'*30)\n",
        "    perfs = []\n",
        "    for i in range(repeat_time):\n",
        "        file_name = f'{folder_name}/{model_type}_MT_{i}.yml'\n",
        "        try:\n",
        "            p = yml_report(file_name)\n",
        "            names = [n for n in p.keys()]\n",
        "            names = names[:-1] # the last one is 'loss'\n",
        "            perfs.append(p)\n",
        "        except:\n",
        "            print('cannot open', file_name)\n",
        "    if len(perfs) != 0:\n",
        "        print(model_type, 'run repeat time', repeat_time)\n",
        "        best_idx = eval_perf_list(perfs, names)\n",
        "        print('best model in ', model_type)\n",
        "        eval_perf_list(perfs[best_idx], names, {})\n",
        "    print('\\n', '.'*30, model_type, '.'*30, '\\n')"
      ],
      "metadata": {
        "colab": {
          "base_uri": "https://localhost:8080/"
        },
        "id": "sCftnI57QUFm",
        "outputId": "44f638c4-7ec2-4c0a-f1f6-833ac693a7cc"
      },
      "execution_count": 9,
      "outputs": [
        {
          "output_type": "stream",
          "name": "stdout",
          "text": [
            "\n",
            " .............................. MLP ..............................\n",
            "MLP run repeat time 3\n",
            "repeated num # 3 idx 1 has the lowest loss from [0.0025294304253872146, 0.002378456044508229, 0.0030601767463270912]\n",
            "******************** AMES ******************** \n",
            "\t|       acc      |       auc      |       ap      \n",
            "\t&0.779$\\pm$0.028  &0.843$\\pm$0.023  &0.865$\\pm$0.014  \n",
            " idx 1: &0.745            &0.813            &0.848            \n",
            "\n",
            "******************** LD50_Zhu ******************** \n",
            "\t|       mae      |       rmse      |       r2      \n",
            "\t&0.493$\\pm$0.003  &0.672$\\pm$0.013  &0.495$\\pm$0.020  \n",
            " idx 1: &0.491            &0.661            &0.512            \n",
            "\n",
            "******************** hERG_Karim ******************** \n",
            "\t|       acc      |       auc      |       ap      \n",
            "\t&0.733$\\pm$0.020  &0.808$\\pm$0.018  &0.810$\\pm$0.018  \n",
            " idx 1: &0.719            &0.788            &0.790            \n",
            "\n",
            "best model in  MLP\n",
            "******************** AMES ******************** \n",
            "\t|  acc  |  w_acc  |  prec  |  recall  |  sp  |  f1  |  auc  |  mcc  |  ap  \n",
            "single: &0.745   &0.746   &0.787   &0.732   &0.760   &0.758   &0.813   &0.490   &0.848   \n",
            "******************** LD50_Zhu ******************** \n",
            "\t|  mae  |  mse  |  rmse  |  r2  \n",
            "single: &0.491   &0.436   &0.661   &0.512   \n",
            "******************** hERG_Karim ******************** \n",
            "\t|  acc  |  w_acc  |  prec  |  recall  |  sp  |  f1  |  auc  |  mcc  |  ap  \n",
            "single: &0.719   &0.719   &0.713   &0.733   &0.705   &0.723   &0.788   &0.439   &0.790   \n",
            "\n",
            " .............................. MLP .............................. \n",
            "\n",
            "\n",
            " .............................. AttentiveFP ..............................\n",
            "AttentiveFP run repeat time 3\n",
            "repeated num # 3 idx 2 has the lowest loss from [0.0035905722152992066, 0.0037353827924975617, 0.0032410247103226457]\n",
            "******************** AMES ******************** \n",
            "\t|       acc      |       auc      |       ap      \n",
            "\t&0.817$\\pm$0.005  &0.884$\\pm$0.004  &0.892$\\pm$0.002  \n",
            " idx 2: &0.819            &0.882            &0.891            \n",
            "\n",
            "******************** LD50_Zhu ******************** \n",
            "\t|       mae      |       rmse      |       r2      \n",
            "\t&0.445$\\pm$0.003  &0.601$\\pm$0.006  &0.595$\\pm$0.008  \n",
            " idx 2: &0.441            &0.593            &0.607            \n",
            "\n",
            "******************** hERG_Karim ******************** \n",
            "\t|       acc      |       auc      |       ap      \n",
            "\t&0.813$\\pm$0.001  &0.894$\\pm$0.001  &0.893$\\pm$0.002  \n",
            " idx 2: &0.812            &0.894            &0.890            \n",
            "\n",
            "best model in  AttentiveFP\n",
            "******************** AMES ******************** \n",
            "\t|  acc  |  w_acc  |  prec  |  recall  |  sp  |  f1  |  auc  |  mcc  |  ap  \n",
            "single: &0.819   &0.815   &0.820   &0.858   &0.772   &0.839   &0.882   &0.634   &0.891   \n",
            "******************** LD50_Zhu ******************** \n",
            "\t|  mae  |  mse  |  rmse  |  r2  \n",
            "single: &0.441   &0.352   &0.593   &0.607   \n",
            "******************** hERG_Karim ******************** \n",
            "\t|  acc  |  w_acc  |  prec  |  recall  |  sp  |  f1  |  auc  |  mcc  |  ap  \n",
            "single: &0.812   &0.812   &0.783   &0.862   &0.762   &0.821   &0.894   &0.627   &0.890   \n",
            "\n",
            " .............................. AttentiveFP .............................. \n",
            "\n",
            "\n",
            " .............................. GIN ..............................\n",
            "GIN run repeat time 3\n",
            "repeated num # 3 idx 0 has the lowest loss from [0.004872182500548661, 0.17004314149645242, 0.1709084544669498]\n",
            "******************** AMES ******************** \n",
            "\t|       acc      |       auc      |       ap      \n",
            "\t&0.825$\\pm$0.008  &0.896$\\pm$0.003  &0.909$\\pm$0.001  \n",
            " idx 0: &0.815            &0.892            &0.907            \n",
            "\n",
            "******************** LD50_Zhu ******************** \n",
            "\t|       mae      |       rmse      |       r2      \n",
            "\t&0.434$\\pm$0.002  &0.594$\\pm$0.004  &0.605$\\pm$0.005  \n",
            " idx 0: &0.437            &0.599            &0.599            \n",
            "\n",
            "******************** hERG_Karim ******************** \n",
            "\t|       acc      |       auc      |       ap      \n",
            "\t&0.785$\\pm$0.006  &0.870$\\pm$0.005  &0.873$\\pm$0.007  \n",
            " idx 0: &0.776            &0.865            &0.866            \n",
            "\n",
            "best model in  GIN\n",
            "******************** AMES ******************** \n",
            "\t|  acc  |  w_acc  |  prec  |  recall  |  sp  |  f1  |  auc  |  mcc  |  ap  \n",
            "single: &0.815   &0.811   &0.823   &0.843   &0.780   &0.833   &0.892   &0.625   &0.907   \n",
            "******************** LD50_Zhu ******************** \n",
            "\t|  mae  |  mse  |  rmse  |  r2  \n",
            "single: &0.437   &0.359   &0.599   &0.599   \n",
            "******************** hERG_Karim ******************** \n",
            "\t|  acc  |  w_acc  |  prec  |  recall  |  sp  |  f1  |  auc  |  mcc  |  ap  \n",
            "single: &0.776   &0.777   &0.763   &0.800   &0.753   &0.782   &0.865   &0.554   &0.866   \n",
            "\n",
            " .............................. GIN .............................. \n",
            "\n",
            "\n",
            " .............................. RNN ..............................\n",
            "RNN run repeat time 3\n",
            "repeated num # 3 idx 0 has the lowest loss from [0.2058073099363934, 0.21191369843753902, 0.21506172316995534]\n",
            "******************** AMES ******************** \n",
            "\t|       acc      |       auc      |       ap      \n",
            "\t&0.786$\\pm$0.002  &0.853$\\pm$0.006  &0.865$\\pm$0.005  \n",
            " idx 0: &0.786            &0.857            &0.863            \n",
            "\n",
            "******************** LD50_Zhu ******************** \n",
            "\t|       mae      |       rmse      |       r2      \n",
            "\t&0.535$\\pm$0.012  &0.714$\\pm$0.016  &0.428$\\pm$0.025  \n",
            " idx 0: &0.526            &0.706            &0.443            \n",
            "\n",
            "******************** hERG_Karim ******************** \n",
            "\t|       acc      |       auc      |       ap      \n",
            "\t&0.782$\\pm$0.004  &0.858$\\pm$0.003  &0.855$\\pm$0.007  \n",
            " idx 0: &0.779            &0.855            &0.856            \n",
            "\n",
            "best model in  RNN\n",
            "******************** AMES ******************** \n",
            "\t|  acc  |  w_acc  |  prec  |  recall  |  sp  |  f1  |  auc  |  mcc  |  ap  \n",
            "single: &0.786   &0.783   &0.802   &0.808   &0.758   &0.805   &0.857   &0.567   &0.863   \n",
            "******************** LD50_Zhu ******************** \n",
            "\t|  mae  |  mse  |  rmse  |  r2  \n",
            "single: &0.526   &0.498   &0.706   &0.443   \n",
            "******************** hERG_Karim ******************** \n",
            "\t|  acc  |  w_acc  |  prec  |  recall  |  sp  |  f1  |  auc  |  mcc  |  ap  \n",
            "single: &0.779   &0.779   &0.789   &0.761   &0.797   &0.775   &0.855   &0.559   &0.856   \n",
            "\n",
            " .............................. RNN .............................. \n",
            "\n"
          ]
        }
      ]
    },
    {
      "cell_type": "code",
      "source": [],
      "metadata": {
        "id": "ypr6WfogQY6G"
      },
      "execution_count": null,
      "outputs": []
    }
  ]
}