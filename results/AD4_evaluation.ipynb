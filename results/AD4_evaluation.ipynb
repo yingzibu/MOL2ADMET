{
  "nbformat": 4,
  "nbformat_minor": 0,
  "metadata": {
    "colab": {
      "provenance": [],
      "machine_shape": "hm",
      "gpuType": "T4",
      "mount_file_id": "1t3Jb7xRvuZu8A6Gh1PeOXSka9CfTe8-E",
      "authorship_tag": "ABX9TyOfmlelfixWpRmEslvV56Fx",
      "include_colab_link": true
    },
    "kernelspec": {
      "name": "python3",
      "display_name": "Python 3"
    },
    "language_info": {
      "name": "python"
    },
    "accelerator": "GPU"
  },
  "cells": [
    {
      "cell_type": "markdown",
      "metadata": {
        "id": "view-in-github",
        "colab_type": "text"
      },
      "source": [
        "<a href=\"https://colab.research.google.com/github/yingzibu/MOL2ADMET/blob/main/results/AD4_evaluation.ipynb\" target=\"_parent\"><img src=\"https://colab.research.google.com/assets/colab-badge.svg\" alt=\"Open In Colab\"/></a>"
      ]
    },
    {
      "cell_type": "code",
      "execution_count": 1,
      "metadata": {
        "colab": {
          "base_uri": "https://localhost:8080/"
        },
        "id": "A3vLt4QgnL22",
        "outputId": "5e65b337-12db-4d87-a574-8f8ccffce3bb"
      },
      "outputs": [
        {
          "output_type": "stream",
          "name": "stdout",
          "text": [
            "2.1.0+cu121\n",
            "cuda:  True\n"
          ]
        }
      ],
      "source": [
        "import torch\n",
        "print(torch.__version__)\n",
        "print('cuda: ', torch.cuda.is_available())"
      ]
    },
    {
      "cell_type": "code",
      "source": [
        "! pip install rdkit --quiet\n",
        "! pip install PyTDC --quiet\n",
        "! pip install mycolorpy --quiet\n",
        "! pip install selfies  --quiet\n",
        "! pip install pubchempy --quiet\n",
        "! pip install dgllife --quiet\n",
        "! pip install molvs --quiet\n",
        "! pip install dgl -f https://data.dgl.ai/wheels/cu121/repo.html --quiet\n",
        "! pip install dglgo -f https://data.dgl.ai/wheels-test/repo.html --quiet\n",
        "! pip install DeepPurpose --quiet\n",
        "! pip install git+https://github.com/bp-kelley/descriptastorus --quiet\n",
        "! pip install pandas-flavor --quiet"
      ],
      "metadata": {
        "id": "uDnaPtGnnUKq"
      },
      "execution_count": null,
      "outputs": []
    },
    {
      "cell_type": "code",
      "source": [
        "cd /content/drive/MyDrive/ADMET"
      ],
      "metadata": {
        "colab": {
          "base_uri": "https://localhost:8080/"
        },
        "id": "OxL7A6FJnUqw",
        "outputId": "b9ba0c87-3cf1-4779-f17f-6b4cfec8a410"
      },
      "execution_count": 3,
      "outputs": [
        {
          "output_type": "stream",
          "name": "stdout",
          "text": [
            "/content/drive/MyDrive/ADMET\n"
          ]
        }
      ]
    },
    {
      "cell_type": "code",
      "source": [
        "from scripts.func_utils import make_path, convert_with_qed_sa, get_min, \\\n",
        "                                plot_loss, plot_performance\n",
        "\n",
        "from scripts.eval_utils import *\n",
        "from scripts.preprocess_mols import *\n",
        "from scripts.model_architecture import *\n",
        "from scripts.dataset import *\n",
        "from scripts.train import *\n",
        "import yaml\n",
        "import pandas as pd\n",
        "from scripts.get_vocab import *\n",
        "\n",
        "from tdc.single_pred import ADME\n",
        "from tdc.single_pred import Tox\n",
        "from scripts.CONSTANT import *\n",
        "from scripts.yaml_utils import *\n",
        "from scripts.TRAIN import *\n",
        "print('VOCAB TYPE:', VOCAB_TYPE)"
      ],
      "metadata": {
        "colab": {
          "base_uri": "https://localhost:8080/"
        },
        "id": "NSefDrpDnWCf",
        "outputId": "ad869df7-3ed1-4a97-c390-3ecdc7787a2e"
      },
      "execution_count": 4,
      "outputs": [
        {
          "output_type": "stream",
          "name": "stderr",
          "text": [
            "DGL backend not selected or invalid.  Assuming PyTorch for now.\n"
          ]
        },
        {
          "output_type": "stream",
          "name": "stdout",
          "text": [
            "Setting the default backend to \"pytorch\". You can change it in the ~/.dgl/config.json file or export the DGLBACKEND environment variable.  Valid options are: pytorch, mxnet, tensorflow (all lowercase)\n",
            "VOCAB TYPE: smiles\n"
          ]
        }
      ]
    },
    {
      "cell_type": "markdown",
      "source": [
        "# 3 absorption tasks and 1 distribution task BBB, trained separately or together, results\n",
        "\n",
        "\n",
        "    ['BBB_Martins',\n",
        "    'PAMPA_NCATS',\n",
        "    'Lipophilicity_AstraZeneca',\n",
        "    'Solubility_AqSolDB']"
      ],
      "metadata": {
        "id": "Ha_P76zqnaSD"
      }
    },
    {
      "cell_type": "code",
      "source": [
        "names_AD"
      ],
      "metadata": {
        "colab": {
          "base_uri": "https://localhost:8080/"
        },
        "id": "9VNzns31nZW7",
        "outputId": "c5e3afde-50ab-4145-c087-c781c712bfd4"
      },
      "execution_count": 5,
      "outputs": [
        {
          "output_type": "execute_result",
          "data": {
            "text/plain": [
              "['BBB_Martins',\n",
              " 'PAMPA_NCATS',\n",
              " 'Lipophilicity_AstraZeneca',\n",
              " 'Solubility_AqSolDB']"
            ]
          },
          "metadata": {},
          "execution_count": 5
        }
      ]
    },
    {
      "cell_type": "markdown",
      "source": [
        "## Single task"
      ],
      "metadata": {
        "id": "LqtmY_UluESW"
      }
    },
    {
      "cell_type": "code",
      "source": [
        "print('single task evaluation on different models\\n')\n",
        "best_model_dict = {}\n",
        "for name in names_AD:\n",
        "    model_dict = {}\n",
        "    print('Evaluating ', name)\n",
        "    folder_name = f'ST/{name}/'\n",
        "    for model_type in ['MLP', 'AttentiveFP', 'GIN', 'RNN']:\n",
        "        print('\\n', '='*30, model_type, '='*30)\n",
        "        perfs = []\n",
        "        for i in range(3):\n",
        "            file_name = folder_name + model_type + '_ST_' + str(i) + '.yml'\n",
        "            p = yml_report(file_name, recalculate=False)\n",
        "            perfs.append(p)\n",
        "        best_idx = eval_perf_list(perfs, name)\n",
        "        model_dict[model_type] = best_idx\n",
        "    best_model_dict[name] = model_dict\n",
        "    print('\\n\\n')"
      ],
      "metadata": {
        "colab": {
          "base_uri": "https://localhost:8080/"
        },
        "id": "XbClXqVCngpp",
        "outputId": "fb50dcc4-71d6-4598-abc8-37903f5f9ded"
      },
      "execution_count": 6,
      "outputs": [
        {
          "output_type": "stream",
          "name": "stdout",
          "text": [
            "single task evaluation on different models\n",
            "\n",
            "Evaluating  BBB_Martins\n",
            "\n",
            " ============================== MLP ==============================\n",
            "repeated num # 3 idx 1 has the lowest loss\n",
            "******************** BBB_Martins ******************** \n",
            "\t|       acc      |       auc      |       ap      \n",
            "\t&0.842$\\pm$0.012  &0.874$\\pm$0.003  &0.946$\\pm$0.001  \n",
            " idx 1: &0.860            &0.877            &0.948            \n",
            "\n",
            "\n",
            " ============================== AttentiveFP ==============================\n",
            "repeated num # 3 idx 2 has the lowest loss\n",
            "******************** BBB_Martins ******************** \n",
            "\t|       acc      |       auc      |       ap      \n",
            "\t&0.851$\\pm$0.004  &0.853$\\pm$0.017  &0.925$\\pm$0.011  \n",
            " idx 2: &0.852            &0.853            &0.929            \n",
            "\n",
            "\n",
            " ============================== GIN ==============================\n",
            "repeated num # 3 idx 1 has the lowest loss\n",
            "******************** BBB_Martins ******************** \n",
            "\t|       acc      |       auc      |       ap      \n",
            "\t&0.856$\\pm$0.003  &0.909$\\pm$0.002  &0.965$\\pm$0.001  \n",
            " idx 1: &0.860            &0.908            &0.964            \n",
            "\n",
            "\n",
            " ============================== RNN ==============================\n",
            "repeated num # 3 idx 2 has the lowest loss\n",
            "******************** BBB_Martins ******************** \n",
            "\t|       acc      |       auc      |       ap      \n",
            "\t&0.826$\\pm$0.013  &0.838$\\pm$0.005  &0.932$\\pm$0.002  \n",
            " idx 2: &0.835            &0.845            &0.933            \n",
            "\n",
            "\n",
            "\n",
            "\n",
            "Evaluating  PAMPA_NCATS\n",
            "\n",
            " ============================== MLP ==============================\n",
            "repeated num # 3 idx 1 has the lowest loss\n",
            "******************** PAMPA_NCATS ******************** \n",
            "\t|       acc      |       auc      |       ap      \n",
            "\t&0.852$\\pm$0.005  &0.764$\\pm$0.009  &0.940$\\pm$0.005  \n",
            " idx 1: &0.855            &0.777            &0.946            \n",
            "\n",
            "\n",
            " ============================== AttentiveFP ==============================\n",
            "repeated num # 3 idx 2 has the lowest loss\n",
            "******************** PAMPA_NCATS ******************** \n",
            "\t|       acc      |       auc      |       ap      \n",
            "\t&0.841$\\pm$0.008  &0.750$\\pm$0.002  &0.925$\\pm$0.003  \n",
            " idx 2: &0.837            &0.751            &0.922            \n",
            "\n",
            "\n",
            " ============================== GIN ==============================\n",
            "repeated num # 3 idx 2 has the lowest loss\n",
            "******************** PAMPA_NCATS ******************** \n",
            "\t|       acc      |       auc      |       ap      \n",
            "\t&0.869$\\pm$0.002  &0.778$\\pm$0.005  &0.942$\\pm$0.002  \n",
            " idx 2: &0.867            &0.782            &0.944            \n",
            "\n",
            "\n",
            " ============================== RNN ==============================\n",
            "repeated num # 3 idx 2 has the lowest loss\n",
            "******************** PAMPA_NCATS ******************** \n",
            "\t|       acc      |       auc      |       ap      \n",
            "\t&0.838$\\pm$0.010  &0.538$\\pm$0.042  &0.854$\\pm$0.030  \n",
            " idx 2: &0.845            &0.523            &0.835            \n",
            "\n",
            "\n",
            "\n",
            "\n",
            "Evaluating  Lipophilicity_AstraZeneca\n",
            "\n",
            " ============================== MLP ==============================\n",
            "repeated num # 3 idx 0 has the lowest loss\n",
            "******************** Lipophilicity_AstraZeneca ******************** \n",
            "\t|       mae      |       rmse      |       r2      \n",
            "\t&0.664$\\pm$0.019  &0.882$\\pm$0.019  &0.474$\\pm$0.023  \n",
            " idx 0: &0.636            &0.855            &0.505            \n",
            "\n",
            "\n",
            " ============================== AttentiveFP ==============================\n",
            "repeated num # 3 idx 1 has the lowest loss\n",
            "******************** Lipophilicity_AstraZeneca ******************** \n",
            "\t|       mae      |       rmse      |       r2      \n",
            "\t&0.425$\\pm$0.008  &0.590$\\pm$0.009  &0.764$\\pm$0.007  \n",
            " idx 1: &0.415            &0.578            &0.774            \n",
            "\n",
            "\n",
            " ============================== GIN ==============================\n",
            "repeated num # 3 idx 2 has the lowest loss\n",
            "******************** Lipophilicity_AstraZeneca ******************** \n",
            "\t|       mae      |       rmse      |       r2      \n",
            "\t&0.522$\\pm$0.022  &0.685$\\pm$0.026  &0.682$\\pm$0.025  \n",
            " idx 2: &0.504            &0.663            &0.702            \n",
            "\n",
            "\n",
            " ============================== RNN ==============================\n",
            "repeated num # 3 idx 2 has the lowest loss\n",
            "******************** Lipophilicity_AstraZeneca ******************** \n",
            "\t|       mae      |       rmse      |       r2      \n",
            "\t&0.625$\\pm$0.023  &0.828$\\pm$0.029  &0.535$\\pm$0.032  \n",
            " idx 2: &0.607            &0.799            &0.568            \n",
            "\n",
            "\n",
            "\n",
            "\n",
            "Evaluating  Solubility_AqSolDB\n",
            "\n",
            " ============================== MLP ==============================\n",
            "repeated num # 3 idx 1 has the lowest loss\n",
            "******************** Solubility_AqSolDB ******************** \n",
            "\t|       mae      |       rmse      |       r2      \n",
            "\t&0.935$\\pm$0.012  &1.286$\\pm$0.016  &0.695$\\pm$0.008  \n",
            " idx 1: &0.918            &1.273            &0.701            \n",
            "\n",
            "\n",
            " ============================== AttentiveFP ==============================\n",
            "repeated num # 3 idx 1 has the lowest loss\n",
            "******************** Solubility_AqSolDB ******************** \n",
            "\t|       mae      |       rmse      |       r2      \n",
            "\t&0.688$\\pm$0.004  &1.005$\\pm$0.007  &0.814$\\pm$0.003  \n",
            " idx 1: &0.683            &0.996            &0.817            \n",
            "\n",
            "\n",
            " ============================== GIN ==============================\n",
            "repeated num # 3 idx 2 has the lowest loss\n",
            "******************** Solubility_AqSolDB ******************** \n",
            "\t|       mae      |       rmse      |       r2      \n",
            "\t&0.805$\\pm$0.022  &1.136$\\pm$0.025  &0.762$\\pm$0.010  \n",
            " idx 2: &0.773            &1.101            &0.777            \n",
            "\n",
            "\n",
            " ============================== RNN ==============================\n",
            "repeated num # 3 idx 1 has the lowest loss\n",
            "******************** Solubility_AqSolDB ******************** \n",
            "\t|       mae      |       rmse      |       r2      \n",
            "\t&0.752$\\pm$0.006  &1.089$\\pm$0.010  &0.782$\\pm$0.004  \n",
            " idx 1: &0.757            &1.075            &0.787            \n",
            "\n",
            "\n",
            "\n",
            "\n"
          ]
        }
      ]
    },
    {
      "cell_type": "markdown",
      "source": [
        "## Multi-task without uncertainty weight"
      ],
      "metadata": {
        "id": "RemVmkUht_iN"
      }
    },
    {
      "cell_type": "code",
      "source": [
        "print('multi task evaluation on different models, without uncertainty weight\\n')\n",
        "best_model_dict = {}\n",
        "for name in names_AD:\n",
        "    model_dict = {}\n",
        "    print('Evaluating ', name)\n",
        "    folder_name = f'AD_mix/uw_no/'\n",
        "    for model_type in ['MLP', 'AttentiveFP', 'GIN', 'RNN']:\n",
        "        print('\\n', '='*30, model_type, '='*30)\n",
        "        perfs = []\n",
        "        for i in range(3):\n",
        "            file_name = folder_name + model_type + '_MT_' + str(i) + '.yml'\n",
        "            p = yml_report(file_name, recalculate=False)\n",
        "            perfs.append(p)\n",
        "        best_idx = eval_perf_list(perfs, name)\n",
        "        model_dict[model_type] = best_idx\n",
        "    best_model_dict[name] = model_dict\n",
        "    print('\\n\\n')"
      ],
      "metadata": {
        "colab": {
          "base_uri": "https://localhost:8080/"
        },
        "id": "VshIeFRaoDpk",
        "outputId": "2d86b1f0-388f-4fea-c6dd-a3a76fb1fe91"
      },
      "execution_count": 7,
      "outputs": [
        {
          "output_type": "stream",
          "name": "stdout",
          "text": [
            "multi task evaluation on different models, without uncertainty weight\n",
            "\n",
            "Evaluating  BBB_Martins\n",
            "\n",
            " ============================== MLP ==============================\n",
            "repeated num # 3 idx 0 has the lowest loss\n",
            "******************** BBB_Martins ******************** \n",
            "\t|       acc      |       auc      |       ap      \n",
            "\t&0.841$\\pm$0.003  &0.870$\\pm$0.002  &0.945$\\pm$0.002  \n",
            " idx 0: &0.837            &0.868            &0.943            \n",
            "\n",
            "\n",
            " ============================== AttentiveFP ==============================\n",
            "repeated num # 3 idx 0 has the lowest loss\n",
            "******************** BBB_Martins ******************** \n",
            "\t|       acc      |       auc      |       ap      \n",
            "\t&0.851$\\pm$0.007  &0.881$\\pm$0.001  &0.945$\\pm$0.002  \n",
            " idx 0: &0.860            &0.883            &0.947            \n",
            "\n",
            "\n",
            " ============================== GIN ==============================\n",
            "repeated num # 3 idx 1 has the lowest loss\n",
            "******************** BBB_Martins ******************** \n",
            "\t|       acc      |       auc      |       ap      \n",
            "\t&0.856$\\pm$0.011  &0.906$\\pm$0.001  &0.962$\\pm$0.001  \n",
            " idx 1: &0.862            &0.904            &0.961            \n",
            "\n",
            "\n",
            " ============================== RNN ==============================\n",
            "repeated num # 3 idx 2 has the lowest loss\n",
            "******************** BBB_Martins ******************** \n",
            "\t|       acc      |       auc      |       ap      \n",
            "\t&0.746$\\pm$0.000  &0.552$\\pm$0.058  &0.780$\\pm$0.024  \n",
            " idx 2: &0.746            &0.632            &0.810            \n",
            "\n",
            "\n",
            "\n",
            "\n",
            "Evaluating  PAMPA_NCATS\n",
            "\n",
            " ============================== MLP ==============================\n",
            "repeated num # 3 idx 0 has the lowest loss\n",
            "******************** PAMPA_NCATS ******************** \n",
            "\t|       acc      |       auc      |       ap      \n",
            "\t&0.849$\\pm$0.004  &0.757$\\pm$0.016  &0.935$\\pm$0.005  \n",
            " idx 0: &0.855            &0.770            &0.941            \n",
            "\n",
            "\n",
            " ============================== AttentiveFP ==============================\n",
            "repeated num # 3 idx 0 has the lowest loss\n",
            "******************** PAMPA_NCATS ******************** \n",
            "\t|       acc      |       auc      |       ap      \n",
            "\t&0.862$\\pm$0.005  &0.779$\\pm$0.007  &0.947$\\pm$0.002  \n",
            " idx 0: &0.865            &0.769            &0.944            \n",
            "\n",
            "\n",
            " ============================== GIN ==============================\n",
            "repeated num # 3 idx 1 has the lowest loss\n",
            "******************** PAMPA_NCATS ******************** \n",
            "\t|       acc      |       auc      |       ap      \n",
            "\t&0.853$\\pm$0.005  &0.775$\\pm$0.003  &0.939$\\pm$0.001  \n",
            " idx 1: &0.850            &0.777            &0.940            \n",
            "\n",
            "\n",
            " ============================== RNN ==============================\n",
            "repeated num # 3 idx 2 has the lowest loss\n",
            "******************** PAMPA_NCATS ******************** \n",
            "\t|       acc      |       auc      |       ap      \n",
            "\t&0.845$\\pm$0.000  &0.497$\\pm$0.011  &0.844$\\pm$0.004  \n",
            " idx 2: &0.845            &0.500            &0.844            \n",
            "\n",
            "\n",
            "\n",
            "\n",
            "Evaluating  Lipophilicity_AstraZeneca\n",
            "\n",
            " ============================== MLP ==============================\n",
            "repeated num # 3 idx 0 has the lowest loss\n",
            "******************** Lipophilicity_AstraZeneca ******************** \n",
            "\t|       mae      |       rmse      |       r2      \n",
            "\t&0.861$\\pm$0.028  &1.052$\\pm$0.031  &0.252$\\pm$0.044  \n",
            " idx 0: &0.899            &1.095            &0.190            \n",
            "\n",
            "\n",
            " ============================== AttentiveFP ==============================\n",
            "repeated num # 3 idx 0 has the lowest loss\n",
            "******************** Lipophilicity_AstraZeneca ******************** \n",
            "\t|       mae      |       rmse      |       r2      \n",
            "\t&0.763$\\pm$0.029  &0.943$\\pm$0.034  &0.400$\\pm$0.043  \n",
            " idx 0: &0.777            &0.967            &0.369            \n",
            "\n",
            "\n",
            " ============================== GIN ==============================\n",
            "repeated num # 3 idx 1 has the lowest loss\n",
            "******************** Lipophilicity_AstraZeneca ******************** \n",
            "\t|       mae      |       rmse      |       r2      \n",
            "\t&0.732$\\pm$0.015  &0.917$\\pm$0.019  &0.432$\\pm$0.023  \n",
            " idx 1: &0.752            &0.943            &0.400            \n",
            "\n",
            "\n",
            " ============================== RNN ==============================\n",
            "repeated num # 3 idx 2 has the lowest loss\n",
            "******************** Lipophilicity_AstraZeneca ******************** \n",
            "\t|       mae      |       rmse      |       r2      \n",
            "\t&0.977$\\pm$0.004  &1.221$\\pm$0.005  &-0.006$\\pm$0.008  \n",
            " idx 2: &0.977            &1.218            &-0.002            \n",
            "\n",
            "\n",
            "\n",
            "\n",
            "Evaluating  Solubility_AqSolDB\n",
            "\n",
            " ============================== MLP ==============================\n",
            "repeated num # 3 idx 0 has the lowest loss\n",
            "******************** Solubility_AqSolDB ******************** \n",
            "\t|       mae      |       rmse      |       r2      \n",
            "\t&1.421$\\pm$0.051  &1.838$\\pm$0.069  &0.377$\\pm$0.046  \n",
            " idx 0: &1.464            &1.879            &0.350            \n",
            "\n",
            "\n",
            " ============================== AttentiveFP ==============================\n",
            "repeated num # 3 idx 0 has the lowest loss\n",
            "******************** Solubility_AqSolDB ******************** \n",
            "\t|       mae      |       rmse      |       r2      \n",
            "\t&0.994$\\pm$0.008  &1.306$\\pm$0.020  &0.685$\\pm$0.010  \n",
            " idx 0: &1.005            &1.335            &0.672            \n",
            "\n",
            "\n",
            " ============================== GIN ==============================\n",
            "repeated num # 3 idx 1 has the lowest loss\n",
            "******************** Solubility_AqSolDB ******************** \n",
            "\t|       mae      |       rmse      |       r2      \n",
            "\t&1.223$\\pm$0.025  &1.602$\\pm$0.015  &0.527$\\pm$0.009  \n",
            " idx 1: &1.201            &1.586            &0.536            \n",
            "\n",
            "\n",
            " ============================== RNN ==============================\n",
            "repeated num # 3 idx 2 has the lowest loss\n",
            "******************** Solubility_AqSolDB ******************** \n",
            "\t|       mae      |       rmse      |       r2      \n",
            "\t&1.873$\\pm$0.006  &2.348$\\pm$0.024  &-0.016$\\pm$0.021  \n",
            " idx 2: &1.881            &2.330            &-0.000            \n",
            "\n",
            "\n",
            "\n",
            "\n"
          ]
        }
      ]
    },
    {
      "cell_type": "markdown",
      "source": [
        "## Multi-task with uncertainty weight"
      ],
      "metadata": {
        "id": "zNGbabxHt6oL"
      }
    },
    {
      "cell_type": "code",
      "source": [
        "print('multi task evaluation on different models, with uncertainty weight\\n')\n",
        "best_model_dict = {}\n",
        "for name in names_AD:\n",
        "    model_dict = {}\n",
        "    print('Evaluating ', name)\n",
        "    folder_name = f'AD_mix/uw/'\n",
        "    for model_type in ['MLP', 'AttentiveFP', 'GIN', 'RNN']:\n",
        "        print('\\n', '='*30, model_type, '='*30)\n",
        "        perfs = []\n",
        "        for i in range(3):\n",
        "            file_name = folder_name + model_type + '_MT_' + str(i) + '.yml'\n",
        "            p = yml_report(file_name, recalculate=False)\n",
        "            perfs.append(p)\n",
        "        best_idx = eval_perf_list(perfs, name)\n",
        "        model_dict[model_type] = best_idx\n",
        "    best_model_dict[name] = model_dict\n",
        "    print('\\n\\n')"
      ],
      "metadata": {
        "colab": {
          "base_uri": "https://localhost:8080/"
        },
        "id": "pzBdg4LKpgbN",
        "outputId": "ba5613a4-0fbe-4a52-f44c-b19bdaf6a638"
      },
      "execution_count": 8,
      "outputs": [
        {
          "output_type": "stream",
          "name": "stdout",
          "text": [
            "multi task evaluation on different models, with uncertainty weight\n",
            "\n",
            "Evaluating  BBB_Martins\n",
            "\n",
            " ============================== MLP ==============================\n",
            "repeated num # 3 idx 1 has the lowest loss\n",
            "******************** BBB_Martins ******************** \n",
            "\t|       acc      |       auc      |       ap      \n",
            "\t&0.850$\\pm$0.006  &0.863$\\pm$0.002  &0.940$\\pm$0.002  \n",
            " idx 1: &0.850            &0.865            &0.942            \n",
            "\n",
            "\n",
            " ============================== AttentiveFP ==============================\n",
            "repeated num # 3 idx 1 has the lowest loss\n",
            "******************** BBB_Martins ******************** \n",
            "\t|       acc      |       auc      |       ap      \n",
            "\t&0.851$\\pm$0.005  &0.875$\\pm$0.011  &0.946$\\pm$0.008  \n",
            " idx 1: &0.850            &0.880            &0.950            \n",
            "\n",
            "\n",
            " ============================== GIN ==============================\n",
            "repeated num # 3 idx 2 has the lowest loss\n",
            "******************** BBB_Martins ******************** \n",
            "\t|       acc      |       auc      |       ap      \n",
            "\t&0.863$\\pm$0.002  &0.910$\\pm$0.004  &0.965$\\pm$0.002  \n",
            " idx 2: &0.865            &0.912            &0.965            \n",
            "\n",
            "\n",
            " ============================== RNN ==============================\n",
            "repeated num # 3 idx 1 has the lowest loss\n",
            "******************** BBB_Martins ******************** \n",
            "\t|       acc      |       auc      |       ap      \n",
            "\t&0.828$\\pm$0.010  &0.838$\\pm$0.031  &0.920$\\pm$0.026  \n",
            " idx 1: &0.842            &0.847            &0.929            \n",
            "\n",
            "\n",
            "\n",
            "\n",
            "Evaluating  PAMPA_NCATS\n",
            "\n",
            " ============================== MLP ==============================\n",
            "repeated num # 3 idx 1 has the lowest loss\n",
            "******************** PAMPA_NCATS ******************** \n",
            "\t|       acc      |       auc      |       ap      \n",
            "\t&0.840$\\pm$0.011  &0.771$\\pm$0.010  &0.934$\\pm$0.005  \n",
            " idx 1: &0.845            &0.774            &0.937            \n",
            "\n",
            "\n",
            " ============================== AttentiveFP ==============================\n",
            "repeated num # 3 idx 1 has the lowest loss\n",
            "******************** PAMPA_NCATS ******************** \n",
            "\t|       acc      |       auc      |       ap      \n",
            "\t&0.872$\\pm$0.006  &0.805$\\pm$0.006  &0.955$\\pm$0.002  \n",
            " idx 1: &0.865            &0.812            &0.957            \n",
            "\n",
            "\n",
            " ============================== GIN ==============================\n",
            "repeated num # 3 idx 2 has the lowest loss\n",
            "******************** PAMPA_NCATS ******************** \n",
            "\t|       acc      |       auc      |       ap      \n",
            "\t&0.862$\\pm$0.000  &0.796$\\pm$0.001  &0.946$\\pm$0.001  \n",
            " idx 2: &0.862            &0.797            &0.946            \n",
            "\n",
            "\n",
            " ============================== RNN ==============================\n",
            "repeated num # 3 idx 1 has the lowest loss\n",
            "******************** PAMPA_NCATS ******************** \n",
            "\t|       acc      |       auc      |       ap      \n",
            "\t&0.845$\\pm$0.003  &0.748$\\pm$0.015  &0.933$\\pm$0.005  \n",
            " idx 1: &0.850            &0.728            &0.927            \n",
            "\n",
            "\n",
            "\n",
            "\n",
            "Evaluating  Lipophilicity_AstraZeneca\n",
            "\n",
            " ============================== MLP ==============================\n",
            "repeated num # 3 idx 1 has the lowest loss\n",
            "******************** Lipophilicity_AstraZeneca ******************** \n",
            "\t|       mae      |       rmse      |       r2      \n",
            "\t&0.680$\\pm$0.007  &0.874$\\pm$0.006  &0.484$\\pm$0.007  \n",
            " idx 1: &0.669            &0.868            &0.492            \n",
            "\n",
            "\n",
            " ============================== AttentiveFP ==============================\n",
            "repeated num # 3 idx 1 has the lowest loss\n",
            "******************** Lipophilicity_AstraZeneca ******************** \n",
            "\t|       mae      |       rmse      |       r2      \n",
            "\t&0.469$\\pm$0.013  &0.633$\\pm$0.016  &0.730$\\pm$0.013  \n",
            " idx 1: &0.451            &0.616            &0.744            \n",
            "\n",
            "\n",
            " ============================== GIN ==============================\n",
            "repeated num # 3 idx 2 has the lowest loss\n",
            "******************** Lipophilicity_AstraZeneca ******************** \n",
            "\t|       mae      |       rmse      |       r2      \n",
            "\t&0.537$\\pm$0.007  &0.699$\\pm$0.008  &0.670$\\pm$0.008  \n",
            " idx 2: &0.528            &0.688            &0.681            \n",
            "\n",
            "\n",
            " ============================== RNN ==============================\n",
            "repeated num # 3 idx 1 has the lowest loss\n",
            "******************** Lipophilicity_AstraZeneca ******************** \n",
            "\t|       mae      |       rmse      |       r2      \n",
            "\t&0.647$\\pm$0.042  &0.840$\\pm$0.037  &0.523$\\pm$0.041  \n",
            " idx 1: &0.590            &0.790            &0.579            \n",
            "\n",
            "\n",
            "\n",
            "\n",
            "Evaluating  Solubility_AqSolDB\n",
            "\n",
            " ============================== MLP ==============================\n",
            "repeated num # 3 idx 1 has the lowest loss\n",
            "******************** Solubility_AqSolDB ******************** \n",
            "\t|       mae      |       rmse      |       r2      \n",
            "\t&0.981$\\pm$0.030  &1.316$\\pm$0.025  &0.681$\\pm$0.012  \n",
            " idx 1: &0.943            &1.284            &0.696            \n",
            "\n",
            "\n",
            " ============================== AttentiveFP ==============================\n",
            "repeated num # 3 idx 1 has the lowest loss\n",
            "******************** Solubility_AqSolDB ******************** \n",
            "\t|       mae      |       rmse      |       r2      \n",
            "\t&0.720$\\pm$0.022  &1.023$\\pm$0.015  &0.807$\\pm$0.006  \n",
            " idx 1: &0.702            &1.007            &0.813            \n",
            "\n",
            "\n",
            " ============================== GIN ==============================\n",
            "repeated num # 3 idx 2 has the lowest loss\n",
            "******************** Solubility_AqSolDB ******************** \n",
            "\t|       mae      |       rmse      |       r2      \n",
            "\t&0.942$\\pm$0.006  &1.297$\\pm$0.013  &0.690$\\pm$0.006  \n",
            " idx 2: &0.947            &1.309            &0.684            \n",
            "\n",
            "\n",
            " ============================== RNN ==============================\n",
            "repeated num # 3 idx 1 has the lowest loss\n",
            "******************** Solubility_AqSolDB ******************** \n",
            "\t|       mae      |       rmse      |       r2      \n",
            "\t&0.816$\\pm$0.025  &1.148$\\pm$0.019  &0.757$\\pm$0.008  \n",
            " idx 1: &0.783            &1.124            &0.767            \n",
            "\n",
            "\n",
            "\n",
            "\n"
          ]
        }
      ]
    },
    {
      "cell_type": "markdown",
      "source": [
        "## MUE"
      ],
      "metadata": {
        "id": "Z8q0nYIVt4n_"
      }
    },
    {
      "cell_type": "code",
      "source": [
        "folder_name = 'AD_mix/uw/'\n",
        "print('MUE')\n",
        "for name in names_AD:\n",
        "    print('Evaluating ', name)\n",
        "    perfs = []\n",
        "    for i in range(3):\n",
        "        file_name = folder_name + 'MUE' + '_'+ name + '_' + str(i) + '.yml'\n",
        "        p = yml_report(file_name, recalculate=False)\n",
        "        perfs.append(p)\n",
        "    eval_perf_list(perfs, name)\n"
      ],
      "metadata": {
        "colab": {
          "base_uri": "https://localhost:8080/"
        },
        "id": "0i3EpA2IqJ5r",
        "outputId": "519b4a3c-e9a8-47ce-d198-2db33f5f76f5"
      },
      "execution_count": 9,
      "outputs": [
        {
          "output_type": "stream",
          "name": "stdout",
          "text": [
            "MUE\n",
            "Evaluating  BBB_Martins\n",
            "repeated num # 3 idx 0 has the lowest loss\n",
            "******************** BBB_Martins ******************** \n",
            "\t|       acc      |       auc      |       ap      \n",
            "\t&0.862$\\pm$0.002  &0.909$\\pm$0.004  &0.966$\\pm$0.001  \n",
            " idx 0: &0.862            &0.912            &0.967            \n",
            "\n",
            "Evaluating  PAMPA_NCATS\n",
            "repeated num # 3 idx 0 has the lowest loss\n",
            "******************** PAMPA_NCATS ******************** \n",
            "\t|       acc      |       auc      |       ap      \n",
            "\t&0.858$\\pm$0.010  &0.821$\\pm$0.001  &0.958$\\pm$0.000  \n",
            " idx 0: &0.870            &0.819            &0.958            \n",
            "\n",
            "Evaluating  Lipophilicity_AstraZeneca\n",
            "repeated num # 3 idx 1 has the lowest loss\n",
            "******************** Lipophilicity_AstraZeneca ******************** \n",
            "\t|       mae      |       rmse      |       r2      \n",
            "\t&0.502$\\pm$0.014  &0.658$\\pm$0.018  &0.708$\\pm$0.016  \n",
            " idx 1: &0.482            &0.633            &0.730            \n",
            "\n",
            "Evaluating  Solubility_AqSolDB\n",
            "repeated num # 3 idx 2 has the lowest loss\n",
            "******************** Solubility_AqSolDB ******************** \n",
            "\t|       mae      |       rmse      |       r2      \n",
            "\t&0.709$\\pm$0.004  &0.997$\\pm$0.004  &0.817$\\pm$0.002  \n",
            " idx 2: &0.706            &0.993            &0.818            \n",
            "\n"
          ]
        }
      ]
    },
    {
      "cell_type": "code",
      "source": [],
      "metadata": {
        "id": "XPSZL4JXrH4l"
      },
      "execution_count": null,
      "outputs": []
    }
  ]
}