{
  "nbformat": 4,
  "nbformat_minor": 0,
  "metadata": {
    "colab": {
      "provenance": [],
      "machine_shape": "hm",
      "gpuType": "T4",
      "mount_file_id": "1_LA1QXlGcevQFCKLjVM4zUOD8_-Rvva-",
      "authorship_tag": "ABX9TyMccR7SQnvQPG5abM4izjGc",
      "include_colab_link": true
    },
    "kernelspec": {
      "name": "python3",
      "display_name": "Python 3"
    },
    "language_info": {
      "name": "python"
    },
    "accelerator": "GPU"
  },
  "cells": [
    {
      "cell_type": "markdown",
      "metadata": {
        "id": "view-in-github",
        "colab_type": "text"
      },
      "source": [
        "<a href=\"https://colab.research.google.com/github/yingzibu/MOL2ADMET/blob/main/results/Single_task.ipynb\" target=\"_parent\"><img src=\"https://colab.research.google.com/assets/colab-badge.svg\" alt=\"Open In Colab\"/></a>"
      ]
    },
    {
      "cell_type": "code",
      "execution_count": 1,
      "metadata": {
        "colab": {
          "base_uri": "https://localhost:8080/"
        },
        "id": "_Uf-M3ilMzaX",
        "outputId": "22a7d9e3-fe2b-4f32-875b-3356eb349cd5"
      },
      "outputs": [
        {
          "output_type": "stream",
          "name": "stdout",
          "text": [
            "2.1.0+cu121\n",
            "cuda:  True\n"
          ]
        }
      ],
      "source": [
        "import torch\n",
        "print(torch.__version__)\n",
        "print('cuda: ', torch.cuda.is_available())"
      ]
    },
    {
      "cell_type": "code",
      "source": [
        "! pip install rdkit --quiet\n",
        "! pip install PyTDC --quiet\n",
        "! pip install mycolorpy --quiet\n",
        "! pip install selfies  --quiet\n",
        "! pip install pubchempy --quiet\n",
        "! pip install dgllife --quiet\n",
        "! pip install molvs --quiet\n",
        "! pip install dgl -f https://data.dgl.ai/wheels/cu121/repo.html --quiet\n",
        "! pip install dglgo -f https://data.dgl.ai/wheels-test/repo.html --quiet\n",
        "! pip install DeepPurpose --quiet\n",
        "! pip install git+https://github.com/bp-kelley/descriptastorus --quiet\n",
        "! pip install pandas-flavor --quiet"
      ],
      "metadata": {
        "id": "8IROxuyGM_4C"
      },
      "execution_count": null,
      "outputs": []
    },
    {
      "cell_type": "code",
      "source": [
        "cd /content/drive/MyDrive/ADMET"
      ],
      "metadata": {
        "colab": {
          "base_uri": "https://localhost:8080/"
        },
        "id": "7CHZXwl0NBn9",
        "outputId": "f29b91de-a032-4939-9ff2-146379c17926"
      },
      "execution_count": 3,
      "outputs": [
        {
          "output_type": "stream",
          "name": "stdout",
          "text": [
            "/content/drive/MyDrive/ADMET\n"
          ]
        }
      ]
    },
    {
      "cell_type": "code",
      "source": [
        "from scripts.func_utils import make_path, convert_with_qed_sa, get_min, \\\n",
        "                                plot_loss, plot_performance\n",
        "\n",
        "from scripts.eval_utils import *\n",
        "from scripts.preprocess_mols import *\n",
        "from scripts.model_architecture import *\n",
        "from scripts.dataset import *\n",
        "from scripts.train import *\n",
        "import yaml\n",
        "import pandas as pd\n",
        "from scripts.get_vocab import *\n",
        "\n",
        "from tdc.single_pred import ADME\n",
        "from tdc.single_pred import Tox\n",
        "from scripts.CONSTANT import *\n",
        "from scripts.yaml_utils import *\n",
        "from scripts.TRAIN import *\n",
        "print('VOCAB TYPE:', VOCAB_TYPE)"
      ],
      "metadata": {
        "colab": {
          "base_uri": "https://localhost:8080/"
        },
        "id": "ShwKSE65NBp3",
        "outputId": "eadfe711-89ef-4a72-e425-15955faf693a"
      },
      "execution_count": 4,
      "outputs": [
        {
          "output_type": "stream",
          "name": "stdout",
          "text": [
            "VOCAB TYPE: smiles\n"
          ]
        }
      ]
    },
    {
      "cell_type": "code",
      "source": [
        "def count_(df:pd.DataFrame):\n",
        "    for col in df.columns:\n",
        "        if col != 'Drug':\n",
        "            try:\n",
        "                ones = df[col].value_counts()[1]\n",
        "                zero = df[col].value_counts()[0]\n",
        "            except: ones = 'Nan'; zero = 'Nan'\n",
        "            print(col, f'\\t 0: {zero} | 1: {ones} | total: {zero+ones}')"
      ],
      "metadata": {
        "id": "av9z_fcUOnVf"
      },
      "execution_count": 11,
      "outputs": []
    },
    {
      "cell_type": "code",
      "source": [
        "len(names_all[:-2])"
      ],
      "metadata": {
        "colab": {
          "base_uri": "https://localhost:8080/"
        },
        "id": "uws2Ne9QNVsP",
        "outputId": "b3b05d33-ef5d-4e57-b8b0-3deb98c9ca71"
      },
      "execution_count": 14,
      "outputs": [
        {
          "output_type": "execute_result",
          "data": {
            "text/plain": [
              "18"
            ]
          },
          "metadata": {},
          "execution_count": 14
        }
      ]
    },
    {
      "cell_type": "code",
      "source": [
        "names_all[:-2]"
      ],
      "metadata": {
        "colab": {
          "base_uri": "https://localhost:8080/"
        },
        "id": "4CzTnwdSPhSE",
        "outputId": "4436791a-a449-45f1-f0a6-5e87fa7cdb5b"
      },
      "execution_count": 15,
      "outputs": [
        {
          "output_type": "execute_result",
          "data": {
            "text/plain": [
              "['Caco2_Wang',\n",
              " 'Lipophilicity_AstraZeneca',\n",
              " 'HydrationFreeEnergy_FreeSolv',\n",
              " 'Solubility_AqSolDB',\n",
              " 'LD50_Zhu',\n",
              " 'Kp',\n",
              " 'CYP2C19_Veith',\n",
              " 'CYP2D6_Veith',\n",
              " 'CYP3A4_Veith',\n",
              " 'CYP1A2_Veith',\n",
              " 'CYP2C9_Veith',\n",
              " 'BBB_Martins',\n",
              " 'Bioavailability_Ma',\n",
              " 'Pgp_Broccatelli',\n",
              " 'HIA_Hou',\n",
              " 'PAMPA_NCATS',\n",
              " 'hERG_Karim',\n",
              " 'AMES']"
            ]
          },
          "metadata": {},
          "execution_count": 15
        }
      ]
    },
    {
      "cell_type": "code",
      "source": [
        "print('single task evaluation on different models')\n",
        "\n",
        "for name in names_all[:-2]:\n",
        "    print('Evaluating : ', name)\n",
        "    try:\n",
        "        trains, valids, tests = collect_data([name], verbose=True)\n",
        "    except:\n",
        "        trains, valids, tests = collect_data([name])\n",
        "    df_all   = pd.concat([trains, valids, tests], ignore_index=True, axis=0)\n",
        "    print(f'train: {len(trains)} | valid: {len(valids)} | test: {len(tests)} | '\n",
        "          f'total: {len(trains) + len(valids) + len(tests)}')\n",
        "\n",
        "\n",
        "    folder_name = f'ST/{name}/'\n",
        "\n",
        "    for model_type in ['MLP', 'AttentiveFP', 'GIN', 'RNN']:\n",
        "        print('\\n','='*30, model_type, '='*30)\n",
        "        perfs = []\n",
        "        for i in range(3):\n",
        "            file_name = folder_name + model_type + '_ST_' + str(i) + '.yml'\n",
        "            p = yml_report(file_name, recalculate=False)\n",
        "            perfs.append(p)\n",
        "        eval_perf_list(perfs, name, {'cls':[0,1,6,7,8], 'reg':[0,2,3]})\n",
        "    print('\\n\\n')\n"
      ],
      "metadata": {
        "colab": {
          "base_uri": "https://localhost:8080/",
          "height": 1000
        },
        "id": "lvnvqyWRNBsH",
        "outputId": "b3699b4b-2f41-45e6-9bba-35798a94dea0"
      },
      "execution_count": 17,
      "outputs": [
        {
          "output_type": "stream",
          "name": "stderr",
          "text": [
            "Found local copy...\n",
            "Loading...\n",
            "Done!\n"
          ]
        },
        {
          "output_type": "stream",
          "name": "stdout",
          "text": [
            "single task evaluation on different models\n",
            "Evaluating :  Caco2_Wang\n",
            "collect data for:  ['Caco2_Wang']\n",
            "*************** Caco2_Wang ***************\n",
            "train: 637 | valid: 91 | test: 182 | total: 910\n",
            "\n",
            " ============================== MLP ==============================\n",
            "repeated num # 3 idx 0 has the lowest loss\n",
            "******************** Caco2_Wang ******************** \n",
            "\t|       mae      |       rmse      |       r2      \n",
            "\t&0.390$\\pm$0.010  &0.514$\\pm$0.013  &0.584$\\pm$0.022  \n",
            " idx 0: &0.382            &0.496            &0.612            \n",
            "\n",
            "\n",
            " ============================== AttentiveFP ==============================\n",
            "repeated num # 3 idx 1 has the lowest loss\n",
            "******************** Caco2_Wang ******************** \n",
            "\t|       mae      |       rmse      |       r2      \n",
            "\t&0.360$\\pm$0.006  &0.434$\\pm$0.007  &0.596$\\pm$0.012  \n",
            " idx 1: &0.357            &0.428            &0.607            \n",
            "\n",
            "\n",
            " ============================== GIN ==============================\n",
            "repeated num # 3 idx 1 has the lowest loss\n",
            "******************** Caco2_Wang ******************** \n",
            "\t|       mae      |       rmse      |       r2      \n",
            "\t&0.379$\\pm$0.005  &0.495$\\pm$0.009  &0.614$\\pm$0.014  \n",
            " idx 1: &0.372            &0.483            &0.633            \n",
            "\n",
            "\n",
            " ============================== RNN ==============================\n"
          ]
        },
        {
          "output_type": "stream",
          "name": "stderr",
          "text": [
            "Found local copy...\n",
            "Loading...\n",
            "Done!\n"
          ]
        },
        {
          "output_type": "stream",
          "name": "stdout",
          "text": [
            "repeated num # 3 idx 2 has the lowest loss\n",
            "******************** Caco2_Wang ******************** \n",
            "\t|       mae      |       rmse      |       r2      \n",
            "\t&0.501$\\pm$0.004  &0.642$\\pm$0.008  &0.351$\\pm$0.015  \n",
            " idx 2: &0.500            &0.637            &0.362            \n",
            "\n",
            "\n",
            "\n",
            "\n",
            "Evaluating :  Lipophilicity_AstraZeneca\n",
            "collect data for:  ['Lipophilicity_AstraZeneca']\n",
            "*************** Lipophilicity_AstraZeneca ***************\n",
            "train: 2940 | valid: 420 | test: 840 | total: 4200\n",
            "\n",
            " ============================== MLP ==============================\n",
            "repeated num # 3 idx 0 has the lowest loss\n",
            "******************** Lipophilicity_AstraZeneca ******************** \n",
            "\t|       mae      |       rmse      |       r2      \n",
            "\t&0.664$\\pm$0.019  &0.882$\\pm$0.019  &0.474$\\pm$0.023  \n",
            " idx 0: &0.636            &0.855            &0.505            \n",
            "\n",
            "\n",
            " ============================== AttentiveFP ==============================\n",
            "repeated num # 3 idx 1 has the lowest loss\n",
            "******************** Lipophilicity_AstraZeneca ******************** \n",
            "\t|       mae      |       rmse      |       r2      \n",
            "\t&0.425$\\pm$0.008  &0.590$\\pm$0.009  &0.764$\\pm$0.007  \n",
            " idx 1: &0.415            &0.578            &0.774            \n",
            "\n",
            "\n",
            " ============================== GIN ==============================\n",
            "repeated num # 3 idx 2 has the lowest loss\n",
            "******************** Lipophilicity_AstraZeneca ******************** \n",
            "\t|       mae      |       rmse      |       r2      \n",
            "\t&0.522$\\pm$0.022  &0.685$\\pm$0.026  &0.682$\\pm$0.025  \n",
            " idx 2: &0.504            &0.663            &0.702            \n",
            "\n",
            "\n",
            " ============================== RNN ==============================\n"
          ]
        },
        {
          "output_type": "stream",
          "name": "stderr",
          "text": [
            "Found local copy...\n",
            "Loading...\n",
            "Done!\n"
          ]
        },
        {
          "output_type": "stream",
          "name": "stdout",
          "text": [
            "repeated num # 3 idx 2 has the lowest loss\n",
            "******************** Lipophilicity_AstraZeneca ******************** \n",
            "\t|       mae      |       rmse      |       r2      \n",
            "\t&0.625$\\pm$0.023  &0.828$\\pm$0.029  &0.535$\\pm$0.032  \n",
            " idx 2: &0.607            &0.799            &0.568            \n",
            "\n",
            "\n",
            "\n",
            "\n",
            "Evaluating :  HydrationFreeEnergy_FreeSolv\n",
            "collect data for:  ['HydrationFreeEnergy_FreeSolv']\n",
            "*************** HydrationFreeEnergy_FreeSolv ***************\n",
            "train: 450 | valid: 64 | test: 128 | total: 642\n",
            "\n",
            " ============================== MLP ==============================\n",
            "repeated num # 3 idx 0 has the lowest loss\n",
            "******************** HydrationFreeEnergy_FreeSolv ******************** \n",
            "\t|       mae      |       rmse      |       r2      \n",
            "\t&1.107$\\pm$0.136  &1.511$\\pm$0.123  &0.859$\\pm$0.023  \n",
            " idx 0: &0.978            &1.401            &0.880            \n",
            "\n",
            "\n",
            " ============================== AttentiveFP ==============================\n",
            "repeated num # 3 idx 2 has the lowest loss\n",
            "******************** HydrationFreeEnergy_FreeSolv ******************** \n",
            "\t|       mae      |       rmse      |       r2      \n",
            "\t&0.878$\\pm$0.036  &1.212$\\pm$0.040  &0.910$\\pm$0.006  \n",
            " idx 2: &0.854            &1.179            &0.915            \n",
            "\n",
            "\n",
            " ============================== GIN ==============================\n"
          ]
        },
        {
          "output_type": "stream",
          "name": "stderr",
          "text": [
            "Found local copy...\n",
            "Loading...\n",
            "Done!\n"
          ]
        },
        {
          "output_type": "stream",
          "name": "stdout",
          "text": [
            "repeated num # 3 idx 0 has the lowest loss\n",
            "******************** HydrationFreeEnergy_FreeSolv ******************** \n",
            "\t|       mae      |       rmse      |       r2      \n",
            "\t&1.309$\\pm$0.057  &1.702$\\pm$0.074  &0.822$\\pm$0.015  \n",
            " idx 0: &1.234            &1.611            &0.841            \n",
            "\n",
            "\n",
            " ============================== RNN ==============================\n",
            "repeated num # 3 idx 1 has the lowest loss\n",
            "******************** HydrationFreeEnergy_FreeSolv ******************** \n",
            "\t|       mae      |       rmse      |       r2      \n",
            "\t&1.432$\\pm$0.011  &1.875$\\pm$0.011  &0.785$\\pm$0.002  \n",
            " idx 1: &1.417            &1.862            &0.788            \n",
            "\n",
            "\n",
            "\n",
            "\n",
            "Evaluating :  Solubility_AqSolDB\n",
            "collect data for:  ['Solubility_AqSolDB']\n",
            "*************** Solubility_AqSolDB ***************\n",
            "train: 6988 | valid: 998 | test: 1996 | total: 9982\n",
            "\n",
            " ============================== MLP ==============================\n",
            "repeated num # 3 idx 1 has the lowest loss\n",
            "******************** Solubility_AqSolDB ******************** \n",
            "\t|       mae      |       rmse      |       r2      \n",
            "\t&0.935$\\pm$0.012  &1.286$\\pm$0.016  &0.695$\\pm$0.008  \n",
            " idx 1: &0.918            &1.273            &0.701            \n",
            "\n",
            "\n",
            " ============================== AttentiveFP ==============================\n",
            "repeated num # 3 idx 1 has the lowest loss\n",
            "******************** Solubility_AqSolDB ******************** \n",
            "\t|       mae      |       rmse      |       r2      \n",
            "\t&0.688$\\pm$0.004  &1.005$\\pm$0.007  &0.814$\\pm$0.003  \n",
            " idx 1: &0.683            &0.996            &0.817            \n",
            "\n",
            "\n",
            " ============================== GIN ==============================\n"
          ]
        },
        {
          "output_type": "stream",
          "name": "stderr",
          "text": [
            "Found local copy...\n",
            "Loading...\n",
            "Done!\n"
          ]
        },
        {
          "output_type": "stream",
          "name": "stdout",
          "text": [
            "repeated num # 3 idx 2 has the lowest loss\n",
            "******************** Solubility_AqSolDB ******************** \n",
            "\t|       mae      |       rmse      |       r2      \n",
            "\t&0.805$\\pm$0.022  &1.136$\\pm$0.025  &0.762$\\pm$0.010  \n",
            " idx 2: &0.773            &1.101            &0.777            \n",
            "\n",
            "\n",
            " ============================== RNN ==============================\n",
            "repeated num # 3 idx 1 has the lowest loss\n",
            "******************** Solubility_AqSolDB ******************** \n",
            "\t|       mae      |       rmse      |       r2      \n",
            "\t&0.752$\\pm$0.006  &1.089$\\pm$0.010  &0.782$\\pm$0.004  \n",
            " idx 1: &0.757            &1.075            &0.787            \n",
            "\n",
            "\n",
            "\n",
            "\n",
            "Evaluating :  LD50_Zhu\n",
            "collect data for:  ['LD50_Zhu']\n",
            "*************** LD50_Zhu ***************\n"
          ]
        },
        {
          "output_type": "display_data",
          "data": {
            "text/plain": [
              "<Figure size 640x480 with 2 Axes>"
            ],
            "image/png": "[encoded data removed]"
          },
          "metadata": {}
        },
        {
          "output_type": "stream",
          "name": "stdout",
          "text": [
            "train: 5170 | valid: 738 | test: 1477 | total: 7385\n",
            "\n",
            " ============================== MLP ==============================\n",
            "repeated num # 3 idx 0 has the lowest loss\n",
            "******************** LD50_Zhu ******************** \n",
            "\t|       mae      |       rmse      |       r2      \n",
            "\t&0.458$\\pm$0.002  &0.615$\\pm$0.003  &0.577$\\pm$0.004  \n",
            " idx 0: &0.456            &0.611            &0.582            \n",
            "\n",
            "\n",
            " ============================== AttentiveFP ==============================\n",
            "repeated num # 3 idx 0 has the lowest loss\n",
            "******************** LD50_Zhu ******************** \n",
            "\t|       mae      |       rmse      |       r2      \n",
            "\t&0.456$\\pm$0.006  &0.617$\\pm$0.006  &0.574$\\pm$0.009  \n",
            " idx 0: &0.449            &0.608            &0.586            \n",
            "\n",
            "\n",
            " ============================== GIN ==============================\n",
            "repeated num # 3 idx 0 has the lowest loss\n",
            "******************** LD50_Zhu ******************** \n",
            "\t|       mae      |       rmse      |       r2      \n",
            "\t&0.458$\\pm$0.043  &0.620$\\pm$0.047  &0.567$\\pm$0.067  \n",
            " idx 0: &0.424            &0.587            &0.615            \n",
            "\n",
            "\n",
            " ============================== RNN ==============================\n",
            "repeated num # 3 idx 0 has the lowest loss\n",
            "******************** LD50_Zhu ******************** \n",
            "\t|       mae      |       rmse      |       r2      \n",
            "\t&0.503$\\pm$0.007  &0.669$\\pm$0.009  &0.499$\\pm$0.014  \n",
            " idx 0: &0.494            &0.656            &0.519            \n",
            "\n",
            "\n",
            "\n",
            "\n",
            "Evaluating :  Kp\n",
            "collect data for:  ['Kp']\n",
            "*************** Kp ***************\n",
            "train: 234 | valid: 29 | test: 30 | total: 293\n",
            "\n",
            " ============================== MLP ==============================\n",
            "repeated num # 3 idx 1 has the lowest loss\n",
            "******************** Kp ******************** \n",
            "\t|       mae      |       rmse      |       r2      \n",
            "\t&6.605$\\pm$0.304  &11.805$\\pm$0.265  &0.262$\\pm$0.033  \n",
            " idx 1: &6.484            &11.455            &0.305            \n",
            "\n",
            "\n",
            " ============================== AttentiveFP ==============================\n"
          ]
        },
        {
          "output_type": "stream",
          "name": "stderr",
          "text": [
            "Found local copy...\n",
            "Loading...\n"
          ]
        },
        {
          "output_type": "stream",
          "name": "stdout",
          "text": [
            "repeated num # 3 idx 2 has the lowest loss\n",
            "******************** Kp ******************** \n",
            "\t|       mae      |       rmse      |       r2      \n",
            "\t&6.278$\\pm$0.060  &9.340$\\pm$0.200  &0.500$\\pm$0.021  \n",
            " idx 2: &6.231            &9.105            &0.525            \n",
            "\n",
            "\n",
            " ============================== GIN ==============================\n",
            "repeated num # 3 idx 1 has the lowest loss\n",
            "******************** Kp ******************** \n",
            "\t|       mae      |       rmse      |       r2      \n",
            "\t&7.440$\\pm$0.268  &12.238$\\pm$0.241  &0.207$\\pm$0.031  \n",
            " idx 1: &7.128            &12.067            &0.229            \n",
            "\n",
            "\n",
            " ============================== RNN ==============================\n",
            "repeated num # 3 idx 1 has the lowest loss\n",
            "******************** Kp ******************** \n",
            "\t|       mae      |       rmse      |       r2      \n",
            "\t&7.543$\\pm$0.236  &12.988$\\pm$0.036  &0.107$\\pm$0.005  \n",
            " idx 1: &7.516            &12.940            &0.113            \n",
            "\n",
            "\n",
            "\n",
            "\n",
            "Evaluating :  CYP2C19_Veith\n",
            "collect data for:  ['CYP2C19_Veith']\n",
            "*************** CYP2C19_Veith ***************\n"
          ]
        },
        {
          "output_type": "stream",
          "name": "stderr",
          "text": [
            "Done!\n"
          ]
        },
        {
          "output_type": "stream",
          "name": "stdout",
          "text": [
            "train: 8866 | valid: 1266 | test: 2533 | total: 12665\n",
            "\n",
            " ============================== MLP ==============================\n",
            "repeated num # 3 idx 2 has the lowest loss\n",
            "******************** CYP2C19_Veith ******************** \n",
            "\t|       acc      |       w_acc      |       auc      |       mcc      |       ap      \n",
            "\t&0.780$\\pm$0.004  &0.780$\\pm$0.004  &0.853$\\pm$0.003  &0.560$\\pm$0.007  &0.806$\\pm$0.004  \n",
            " idx 2: &0.785            &0.784            &0.854            &0.568            &0.805            \n",
            "\n",
            "\n",
            " ============================== AttentiveFP ==============================\n",
            "repeated num # 3 idx 0 has the lowest loss\n",
            "******************** CYP2C19_Veith ******************** \n",
            "\t|       acc      |       w_acc      |       auc      |       mcc      |       ap      \n",
            "\t&0.817$\\pm$0.004  &0.818$\\pm$0.004  &0.887$\\pm$0.002  &0.634$\\pm$0.008  &0.852$\\pm$0.003  \n",
            " idx 0: &0.821            &0.822            &0.888            &0.642            &0.851            \n",
            "\n",
            "\n",
            " ============================== GIN ==============================\n",
            "repeated num # 3 idx 0 has the lowest loss\n",
            "******************** CYP2C19_Veith ******************** \n",
            "\t|       acc      |       w_acc      |       auc      |       mcc      |       ap      \n",
            "\t&0.857$\\pm$0.003  &0.859$\\pm$0.003  &0.927$\\pm$0.000  &0.716$\\pm$0.005  &0.912$\\pm$0.000  \n",
            " idx 0: &0.861            &0.863            &0.928            &0.723            &0.912            \n",
            "\n",
            "\n",
            " ============================== RNN ==============================\n"
          ]
        },
        {
          "output_type": "stream",
          "name": "stderr",
          "text": [
            "Found local copy...\n",
            "Loading...\n",
            "Done!\n"
          ]
        },
        {
          "output_type": "stream",
          "name": "stdout",
          "text": [
            "repeated num # 3 idx 1 has the lowest loss\n",
            "******************** CYP2C19_Veith ******************** \n",
            "\t|       acc      |       w_acc      |       auc      |       mcc      |       ap      \n",
            "\t&0.783$\\pm$0.006  &0.783$\\pm$0.005  &0.850$\\pm$0.005  &0.565$\\pm$0.011  &0.803$\\pm$0.009  \n",
            " idx 1: &0.789            &0.789            &0.855            &0.577            &0.815            \n",
            "\n",
            "\n",
            "\n",
            "\n",
            "Evaluating :  CYP2D6_Veith\n",
            "collect data for:  ['CYP2D6_Veith']\n",
            "*************** CYP2D6_Veith ***************\n",
            "train: 9191 | valid: 1313 | test: 2626 | total: 13130\n",
            "\n",
            " ============================== MLP ==============================\n",
            "repeated num # 3 idx 1 has the lowest loss\n",
            "******************** CYP2D6_Veith ******************** \n",
            "\t|       acc      |       w_acc      |       auc      |       mcc      |       ap      \n",
            "\t&0.860$\\pm$0.002  &0.705$\\pm$0.011  &0.831$\\pm$0.005  &0.485$\\pm$0.011  &0.615$\\pm$0.010  \n",
            " idx 1: &0.863            &0.697            &0.830            &0.484            &0.621            \n",
            "\n",
            "\n",
            " ============================== AttentiveFP ==============================\n",
            "repeated num # 3 idx 1 has the lowest loss\n",
            "******************** CYP2D6_Veith ******************** \n",
            "\t|       acc      |       w_acc      |       auc      |       mcc      |       ap      \n",
            "\t&0.877$\\pm$0.002  &0.750$\\pm$0.010  &0.866$\\pm$0.005  &0.560$\\pm$0.006  &0.691$\\pm$0.013  \n",
            " idx 1: &0.874            &0.763            &0.873            &0.562            &0.710            \n",
            "\n",
            "\n",
            " ============================== GIN ==============================\n"
          ]
        },
        {
          "output_type": "stream",
          "name": "stderr",
          "text": [
            "Found local copy...\n",
            "Loading...\n",
            "Done!\n"
          ]
        },
        {
          "output_type": "stream",
          "name": "stdout",
          "text": [
            "repeated num # 3 idx 1 has the lowest loss\n",
            "******************** CYP2D6_Veith ******************** \n",
            "\t|       acc      |       w_acc      |       auc      |       mcc      |       ap      \n",
            "\t&0.890$\\pm$0.003  &0.781$\\pm$0.001  &0.905$\\pm$0.001  &0.613$\\pm$0.009  &0.756$\\pm$0.001  \n",
            " idx 1: &0.891            &0.781            &0.906            &0.614            &0.754            \n",
            "\n",
            "\n",
            " ============================== RNN ==============================\n",
            "repeated num # 3 idx 2 has the lowest loss\n",
            "******************** CYP2D6_Veith ******************** \n",
            "\t|       acc      |       w_acc      |       auc      |       mcc      |       ap      \n",
            "\t&0.849$\\pm$0.004  &0.666$\\pm$0.005  &0.795$\\pm$0.000  &0.424$\\pm$0.012  &0.547$\\pm$0.004  \n",
            " idx 2: &0.852            &0.659            &0.796            &0.427            &0.550            \n",
            "\n",
            "\n",
            "\n",
            "\n",
            "Evaluating :  CYP3A4_Veith\n",
            "collect data for:  ['CYP3A4_Veith']\n",
            "*************** CYP3A4_Veith ***************\n",
            "train: 8629 | valid: 1233 | test: 2466 | total: 12328\n",
            "\n",
            " ============================== MLP ==============================\n",
            "repeated num # 3 idx 0 has the lowest loss\n",
            "******************** CYP3A4_Veith ******************** \n",
            "\t|       acc      |       w_acc      |       auc      |       mcc      |       ap      \n",
            "\t&0.764$\\pm$0.004  &0.752$\\pm$0.002  &0.844$\\pm$0.002  &0.509$\\pm$0.005  &0.781$\\pm$0.001  \n",
            " idx 0: &0.759            &0.752            &0.842            &0.503            &0.780            \n",
            "\n",
            "\n",
            " ============================== AttentiveFP ==============================\n"
          ]
        },
        {
          "output_type": "stream",
          "name": "stderr",
          "text": [
            "Found local copy...\n",
            "Loading...\n",
            "Done!\n"
          ]
        },
        {
          "output_type": "stream",
          "name": "stdout",
          "text": [
            "repeated num # 3 idx 2 has the lowest loss\n",
            "******************** CYP3A4_Veith ******************** \n",
            "\t|       acc      |       w_acc      |       auc      |       mcc      |       ap      \n",
            "\t&0.803$\\pm$0.003  &0.797$\\pm$0.005  &0.891$\\pm$0.003  &0.594$\\pm$0.008  &0.845$\\pm$0.006  \n",
            " idx 2: &0.803            &0.796            &0.891            &0.593            &0.843            \n",
            "\n",
            "\n",
            " ============================== GIN ==============================\n",
            "repeated num # 3 idx 1 has the lowest loss\n",
            "******************** CYP3A4_Veith ******************** \n",
            "\t|       acc      |       w_acc      |       auc      |       mcc      |       ap      \n",
            "\t&0.845$\\pm$0.001  &0.841$\\pm$0.002  &0.920$\\pm$0.001  &0.681$\\pm$0.003  &0.885$\\pm$0.001  \n",
            " idx 1: &0.846            &0.843            &0.920            &0.684            &0.886            \n",
            "\n",
            "\n",
            " ============================== RNN ==============================\n",
            "repeated num # 3 idx 2 has the lowest loss\n",
            "******************** CYP3A4_Veith ******************** \n",
            "\t|       acc      |       w_acc      |       auc      |       mcc      |       ap      \n",
            "\t&0.750$\\pm$0.005  &0.737$\\pm$0.006  &0.830$\\pm$0.004  &0.479$\\pm$0.011  &0.764$\\pm$0.008  \n",
            " idx 2: &0.756            &0.744            &0.835            &0.493            &0.774            \n",
            "\n",
            "\n",
            "\n",
            "\n",
            "Evaluating :  CYP1A2_Veith\n",
            "collect data for:  ['CYP1A2_Veith']\n",
            "*************** CYP1A2_Veith ***************\n",
            "train: 8805 | valid: 1258 | test: 2516 | total: 12579\n",
            "\n",
            " ============================== MLP ==============================\n",
            "repeated num # 3 idx 0 has the lowest loss\n",
            "******************** CYP1A2_Veith ******************** \n",
            "\t|       acc      |       w_acc      |       auc      |       mcc      |       ap      \n",
            "\t&0.824$\\pm$0.002  &0.824$\\pm$0.001  &0.902$\\pm$0.002  &0.647$\\pm$0.003  &0.890$\\pm$0.003  \n",
            " idx 0: &0.825            &0.825            &0.904            &0.649            &0.894            \n",
            "\n",
            "\n",
            " ============================== AttentiveFP ==============================\n",
            "repeated num # 3 idx 2 has the lowest loss\n",
            "******************** CYP1A2_Veith ******************** \n",
            "\t|       acc      |       w_acc      |       auc      |       mcc      |       ap      \n",
            "\t&0.866$\\pm$0.002  &0.865$\\pm$0.003  &0.934$\\pm$0.002  &0.732$\\pm$0.004  &0.926$\\pm$0.003  \n",
            " idx 2: &0.869            &0.867            &0.935            &0.737            &0.928            \n",
            "\n",
            "\n",
            " ============================== GIN ==============================\n",
            "repeated num # 3 idx 1 has the lowest loss\n",
            "******************** CYP1A2_Veith ******************** \n",
            "\t|       acc      |       w_acc      |       auc      |       mcc      |       ap      \n",
            "\t&0.880$\\pm$0.000  &0.879$\\pm$0.001  &0.948$\\pm$0.001  &0.759$\\pm$0.001  &0.944$\\pm$0.001  \n",
            " idx 1: &0.879            &0.878            &0.949            &0.758            &0.945            \n",
            "\n",
            "\n",
            " ============================== RNN ==============================\n"
          ]
        },
        {
          "output_type": "stream",
          "name": "stderr",
          "text": [
            "Found local copy...\n",
            "Loading...\n",
            "Done!\n"
          ]
        },
        {
          "output_type": "stream",
          "name": "stdout",
          "text": [
            "repeated num # 3 idx 0 has the lowest loss\n",
            "******************** CYP1A2_Veith ******************** \n",
            "\t|       acc      |       w_acc      |       auc      |       mcc      |       ap      \n",
            "\t&0.824$\\pm$0.004  &0.823$\\pm$0.004  &0.905$\\pm$0.003  &0.647$\\pm$0.008  &0.893$\\pm$0.002  \n",
            " idx 0: &0.828            &0.826            &0.907            &0.654            &0.896            \n",
            "\n",
            "\n",
            "\n",
            "\n",
            "Evaluating :  CYP2C9_Veith\n",
            "collect data for:  ['CYP2C9_Veith']\n",
            "*************** CYP2C9_Veith ***************\n",
            "train: 8465 | valid: 1209 | test: 2418 | total: 12092\n",
            "\n",
            " ============================== MLP ==============================\n",
            "repeated num # 3 idx 0 has the lowest loss\n",
            "******************** CYP2C9_Veith ******************** \n",
            "\t|       acc      |       w_acc      |       auc      |       mcc      |       ap      \n",
            "\t&0.800$\\pm$0.006  &0.772$\\pm$0.006  &0.865$\\pm$0.002  &0.549$\\pm$0.013  &0.722$\\pm$0.006  \n",
            " idx 0: &0.809            &0.779            &0.867            &0.567            &0.730            \n",
            "\n",
            "\n",
            " ============================== AttentiveFP ==============================\n",
            "repeated num # 3 idx 1 has the lowest loss\n",
            "******************** CYP2C9_Veith ******************** \n",
            "\t|       acc      |       w_acc      |       auc      |       mcc      |       ap      \n",
            "\t&0.830$\\pm$0.003  &0.805$\\pm$0.006  &0.894$\\pm$0.005  &0.617$\\pm$0.007  &0.783$\\pm$0.011  \n",
            " idx 1: &0.833            &0.812            &0.901            &0.627            &0.798            \n",
            "\n",
            "\n",
            " ============================== GIN ==============================\n"
          ]
        },
        {
          "output_type": "stream",
          "name": "stderr",
          "text": [
            "Found local copy...\n",
            "Loading...\n",
            "Done!\n"
          ]
        },
        {
          "output_type": "stream",
          "name": "stdout",
          "text": [
            "repeated num # 3 idx 2 has the lowest loss\n",
            "******************** CYP2C9_Veith ******************** \n",
            "\t|       acc      |       w_acc      |       auc      |       mcc      |       ap      \n",
            "\t&0.869$\\pm$0.001  &0.854$\\pm$0.003  &0.936$\\pm$0.001  &0.709$\\pm$0.003  &0.872$\\pm$0.001  \n",
            " idx 2: &0.868            &0.850            &0.937            &0.704            &0.873            \n",
            "\n",
            "\n",
            " ============================== RNN ==============================\n",
            "repeated num # 3 idx 2 has the lowest loss\n",
            "******************** CYP2C9_Veith ******************** \n",
            "\t|       acc      |       w_acc      |       auc      |       mcc      |       ap      \n",
            "\t&0.800$\\pm$0.003  &0.769$\\pm$0.008  &0.863$\\pm$0.002  &0.548$\\pm$0.009  &0.740$\\pm$0.004  \n",
            " idx 2: &0.803            &0.763            &0.867            &0.547            &0.746            \n",
            "\n",
            "\n",
            "\n",
            "\n",
            "Evaluating :  BBB_Martins\n",
            "collect data for:  ['BBB_Martins']\n",
            "*************** BBB_Martins ***************\n",
            "train: 1421 | valid: 203 | test: 406 | total: 2030\n",
            "\n",
            " ============================== MLP ==============================\n",
            "repeated num # 3 idx 1 has the lowest loss\n",
            "******************** BBB_Martins ******************** \n",
            "\t|       acc      |       w_acc      |       auc      |       mcc      |       ap      \n",
            "\t&0.842$\\pm$0.012  &0.731$\\pm$0.026  &0.874$\\pm$0.003  &0.548$\\pm$0.040  &0.946$\\pm$0.001  \n",
            " idx 1: &0.860            &0.768            &0.877            &0.604            &0.948            \n",
            "\n",
            "\n",
            " ============================== AttentiveFP ==============================\n",
            "repeated num # 3 idx 2 has the lowest loss\n",
            "******************** BBB_Martins ******************** \n",
            "\t|       acc      |       w_acc      |       auc      |       mcc      |       ap      \n",
            "\t&0.851$\\pm$0.004  &0.752$\\pm$0.029  &0.853$\\pm$0.017  &0.579$\\pm$0.018  &0.925$\\pm$0.011  \n",
            " idx 2: &0.852            &0.763            &0.853            &0.584            &0.929            \n",
            "\n",
            "\n",
            " ============================== GIN ==============================\n",
            "repeated num # 3 idx 1 has the lowest loss\n",
            "******************** BBB_Martins ******************** \n",
            "\t|       acc      |       w_acc      |       auc      |       mcc      |       ap      \n",
            "\t&0.856$\\pm$0.003  &0.760$\\pm$0.001  &0.909$\\pm$0.002  &0.592$\\pm$0.008  &0.965$\\pm$0.001  \n",
            " idx 1: &0.860            &0.762            &0.908            &0.603            &0.964            \n",
            "\n",
            "\n",
            " ============================== RNN ==============================\n"
          ]
        },
        {
          "output_type": "stream",
          "name": "stderr",
          "text": [
            "Found local copy...\n",
            "Loading...\n",
            "Done!\n"
          ]
        },
        {
          "output_type": "stream",
          "name": "stdout",
          "text": [
            "repeated num # 3 idx 2 has the lowest loss\n",
            "******************** BBB_Martins ******************** \n",
            "\t|       acc      |       w_acc      |       auc      |       mcc      |       ap      \n",
            "\t&0.826$\\pm$0.013  &0.724$\\pm$0.016  &0.838$\\pm$0.005  &0.509$\\pm$0.029  &0.932$\\pm$0.002  \n",
            " idx 2: &0.835            &0.707            &0.845            &0.522            &0.933            \n",
            "\n",
            "\n",
            "\n",
            "\n",
            "Evaluating :  Bioavailability_Ma\n",
            "collect data for:  ['Bioavailability_Ma']\n",
            "*************** Bioavailability_Ma ***************\n",
            "train: 448 | valid: 64 | test: 128 | total: 640\n",
            "\n",
            " ============================== MLP ==============================\n",
            "repeated num # 3 idx 0 has the lowest loss\n",
            "******************** Bioavailability_Ma ******************** \n",
            "\t|       acc      |       w_acc      |       auc      |       mcc      |       ap      \n",
            "\t&0.714$\\pm$0.010  &0.533$\\pm$0.032  &0.670$\\pm$0.011  &0.142$\\pm$0.073  &0.796$\\pm$0.004  \n",
            " idx 0: &0.727            &0.577            &0.685            &0.234            &0.799            \n",
            "\n",
            "\n",
            " ============================== AttentiveFP ==============================\n",
            "repeated num # 3 idx 1 has the lowest loss\n",
            "******************** Bioavailability_Ma ******************** \n",
            "\t|       acc      |       w_acc      |       auc      |       mcc      |       ap      \n",
            "\t&0.823$\\pm$0.027  &0.621$\\pm$0.065  "
          ]
        },
        {
          "output_type": "stream",
          "name": "stderr",
          "text": [
            "Found local copy...\n",
            "Loading...\n",
            "Done!\n"
          ]
        },
        {
          "output_type": "stream",
          "name": "stdout",
          "text": [
            "&0.759$\\pm$0.015  &0.330$\\pm$0.135  &0.918$\\pm$0.008  \n",
            " idx 1: &0.859            &0.711            &0.780            &0.514            &0.929            \n",
            "\n",
            "\n",
            " ============================== GIN ==============================\n",
            "repeated num # 3 idx 2 has the lowest loss\n",
            "******************** Bioavailability_Ma ******************** \n",
            "\t|       acc      |       w_acc      |       auc      |       mcc      |       ap      \n",
            "\t&0.711$\\pm$0.006  &0.531$\\pm$0.023  &0.664$\\pm$0.007  &nan$\\pm$nan  &0.803$\\pm$0.002  \n",
            " idx 2: &0.719            &0.557            &0.671            &0.193            &0.806            \n",
            "\n",
            "\n",
            " ============================== RNN ==============================\n",
            "repeated num # 3 idx 0 has the lowest loss\n",
            "******************** Bioavailability_Ma ******************** \n",
            "\t|       acc      |       w_acc      |       auc      |       mcc      |       ap      \n",
            "\t&0.698$\\pm$0.007  &0.524$\\pm$0.018  &0.630$\\pm$0.019  &nan$\\pm$nan  &0.808$\\pm$0.012  \n",
            " idx 0: &0.703            &0.500            &0.656            &nan            &0.823            \n",
            "\n",
            "\n",
            "\n",
            "\n",
            "Evaluating :  Pgp_Broccatelli\n",
            "collect data for:  ['Pgp_Broccatelli']\n",
            "*************** Pgp_Broccatelli ***************\n",
            "train: 852 | valid: 122 | test: 244 | total: 1218\n",
            "\n",
            " ============================== MLP ==============================\n",
            "repeated num # 3 idx 2 has the lowest loss\n",
            "******************** Pgp_Broccatelli ******************** \n",
            "\t|       acc      |       w_acc      |       auc      |       mcc      |       ap      \n",
            "\t&0.792$\\pm$0.008  &0.792$\\pm$0.009  &0.867$\\pm$0.005  &0.586$\\pm$0.016  &0.895$\\pm$0.004  \n",
            " idx 2: &0.803            &0.803            &0.873            &0.607            &0.901            \n",
            "\n",
            "\n",
            " ============================== AttentiveFP ==============================\n",
            "repeated num # 3 idx 0 has the lowest loss\n",
            "******************** Pgp_Broccatelli ******************** \n",
            "\t|       acc      |       w_acc      |       auc      |       mcc      |       ap      \n",
            "\t&0.844$\\pm$0.020  &0.844$\\pm$0.020  &0.911$\\pm$0.004  &0.687$\\pm$0.040  &0.930$\\pm$0.002  \n",
            " idx 0: &0.844            &0.845            &0.911            &0.689            &0.932            \n",
            "\n",
            "\n",
            " ============================== GIN ==============================\n",
            "repeated num # 3 idx 1 has the lowest loss\n",
            "******************** Pgp_Broccatelli ******************** \n",
            "\t|       acc      |       w_acc      |       auc      |       mcc      |       ap      \n",
            "\t&0.824$\\pm$0.003  &0.824$\\pm$0.003  &0.883$\\pm$0.002  &0.648$\\pm$0.006  &0.902$\\pm$0.004  \n",
            " idx 1: &0.824            &0.824            &0.880            &0.648            &0.897            \n",
            "\n",
            "\n",
            " ============================== RNN ==============================\n"
          ]
        },
        {
          "output_type": "stream",
          "name": "stderr",
          "text": [
            "Found local copy...\n",
            "Loading...\n",
            "Done!\n"
          ]
        },
        {
          "output_type": "stream",
          "name": "stdout",
          "text": [
            "repeated num # 3 idx 1 has the lowest loss\n",
            "******************** Pgp_Broccatelli ******************** \n",
            "\t|       acc      |       w_acc      |       auc      |       mcc      |       ap      \n",
            "\t&0.852$\\pm$0.010  &0.853$\\pm$0.010  &0.903$\\pm$0.006  &0.705$\\pm$0.021  &0.896$\\pm$0.009  \n",
            " idx 1: &0.865            &0.865            &0.909            &0.731            &0.901            \n",
            "\n",
            "\n",
            "\n",
            "\n",
            "Evaluating :  HIA_Hou\n",
            "collect data for:  ['HIA_Hou']\n",
            "*************** HIA_Hou ***************\n",
            "train: 404 | valid: 58 | test: 116 | total: 578\n",
            "\n",
            " ============================== MLP ==============================\n",
            "repeated num # 3 idx 0 has the lowest loss\n",
            "******************** HIA_Hou ******************** \n",
            "\t|       acc      |       w_acc      |       auc      |       mcc      |       ap      \n",
            "\t&0.948$\\pm$0.014  &0.891$\\pm$0.035  &0.971$\\pm$0.007  &0.806$\\pm$0.055  &0.994$\\pm$0.001  \n",
            " idx 0: &0.966            &0.937            &0.980            &0.874            &0.996            \n",
            "\n",
            "\n",
            " ============================== AttentiveFP ==============================\n"
          ]
        },
        {
          "output_type": "stream",
          "name": "stderr",
          "text": [
            "Found local copy...\n",
            "Loading...\n",
            "Done!\n"
          ]
        },
        {
          "output_type": "stream",
          "name": "stdout",
          "text": [
            "repeated num # 3 idx 0 has the lowest loss\n",
            "******************** HIA_Hou ******************** \n",
            "\t|       acc      |       w_acc      |       auc      |       mcc      |       ap      \n",
            "\t&0.943$\\pm$0.008  &0.821$\\pm$0.005  &0.936$\\pm$0.030  &0.678$\\pm$0.035  &0.991$\\pm$0.005  \n",
            " idx 0: &0.931            &0.814            &0.974            &0.628            &0.997            \n",
            "\n",
            "\n",
            " ============================== GIN ==============================\n",
            "repeated num # 3 idx 2 has the lowest loss\n",
            "******************** HIA_Hou ******************** \n",
            "\t|       acc      |       w_acc      |       auc      |       mcc      |       ap      \n",
            "\t&0.937$\\pm$0.008  &0.863$\\pm$0.031  &0.982$\\pm$0.004  &0.761$\\pm$0.036  &0.997$\\pm$0.001  \n",
            " idx 2: &0.948            &0.906            &0.988            &0.811            &0.998            \n",
            "\n",
            "\n",
            " ============================== RNN ==============================\n",
            "repeated num # 3 idx 0 has the lowest loss\n",
            "******************** HIA_Hou ******************** \n",
            "\t|       acc      |       w_acc      |       auc      |       mcc      |       ap      \n",
            "\t&0.885$\\pm$0.015  &0.762$\\pm$0.050  &0.888$\\pm$0.067  &0.559$\\pm$0.065  &0.961$\\pm$0.038  \n",
            " idx 0: &0.871            &0.775            &0.925            &0.538            &0.986            \n",
            "\n",
            "\n",
            "\n",
            "\n",
            "Evaluating :  PAMPA_NCATS\n",
            "collect data for:  ['PAMPA_NCATS']\n",
            "*************** PAMPA_NCATS ***************\n",
            "train: 1424 | valid: 203 | test: 407 | total: 2034\n",
            "\n",
            " ============================== MLP ==============================\n",
            "repeated num # 3 idx 1 has the lowest loss\n",
            "******************** PAMPA_NCATS ******************** \n",
            "\t|       acc      |       w_acc      |       auc      |       mcc      |       ap      \n",
            "\t&0.852$\\pm$0.005  &0.560$\\pm$0.043  &0.764$\\pm$0.009  &nan$\\pm$nan  &0.940$\\pm$0.005  \n",
            " idx 1: &0.855            &0.584            &0.777            &0.280            &0.946            \n",
            "\n",
            "\n",
            " ============================== AttentiveFP ==============================\n",
            "repeated num # 3 idx 2 has the lowest loss\n",
            "******************** PAMPA_NCATS ******************** \n",
            "\t|       acc      |       w_acc      |       auc      |       mcc      |       ap      \n",
            "\t&0.841$\\pm$0.008  &0.575$\\pm$0.029  &0.750$\\pm$0.002  &0.238$\\pm$0.066  &0.925$\\pm$0.003  \n",
            " idx 2: &0.837            &0.537            &0.751            &0.160            &0.922            \n",
            "\n",
            "\n",
            " ============================== GIN ==============================\n",
            "repeated num # 3 idx 2 has the lowest loss\n",
            "******************** PAMPA_NCATS ******************** \n",
            "\t|       acc      |       w_acc      |       auc      |       mcc      |       ap      \n",
            "\t&0.869$\\pm$0.002  &0.650$\\pm$0.020  &0.778$\\pm$0.005  &0.401$\\pm$0.026  &0.942$\\pm$0.002  \n",
            " idx 2: &0.867            &0.636            &0.782            &0.383            &0.944            \n",
            "\n",
            "\n",
            " ============================== RNN ==============================\n"
          ]
        },
        {
          "output_type": "stream",
          "name": "stderr",
          "text": [
            "Found local copy...\n",
            "Loading...\n",
            "Done!\n"
          ]
        },
        {
          "output_type": "stream",
          "name": "stdout",
          "text": [
            "repeated num # 3 idx 2 has the lowest loss\n",
            "******************** PAMPA_NCATS ******************** \n",
            "\t|       acc      |       w_acc      |       auc      |       mcc      |       ap      \n",
            "\t&0.838$\\pm$0.010  &0.500$\\pm$0.000  &0.538$\\pm$0.042  &nan$\\pm$nan  &0.854$\\pm$0.030  \n",
            " idx 2: &0.845            &0.500            &0.523            &nan            &0.835            \n",
            "\n",
            "\n",
            "\n",
            "\n",
            "Evaluating :  hERG_Karim\n",
            "collect data for:  ['hERG_Karim']\n",
            "*************** hERG_Karim ***************\n"
          ]
        },
        {
          "output_type": "display_data",
          "data": {
            "text/plain": [
              "<Figure size 640x480 with 2 Axes>"
            ],
            "image/png": "[encoded data removed]"
          },
          "metadata": {}
        },
        {
          "output_type": "stream",
          "name": "stdout",
          "text": [
            "train: 9412 | valid: 1344 | test: 2689 | total: 13445\n",
            "\n",
            " ============================== MLP ==============================\n",
            "repeated num # 3 idx 1 has the lowest loss\n",
            "******************** hERG_Karim ******************** \n",
            "\t|       acc      |       w_acc      |       auc      |       mcc      |       ap      \n",
            "\t&0.790$\\pm$0.003  &0.789$\\pm$0.003  &0.865$\\pm$0.002  &0.579$\\pm$0.006  &0.872$\\pm$0.003  \n",
            " idx 1: &0.793            &0.793            &0.867            &0.587            &0.876            \n",
            "\n",
            "\n",
            " ============================== AttentiveFP ==============================\n",
            "repeated num # 3 idx 0 has the lowest loss\n",
            "******************** hERG_Karim ******************** \n",
            "\t|       acc      |       w_acc      |       auc      |       mcc      |       ap      \n",
            "\t&0.814$\\pm$0.006  &0.814$\\pm$0.006  &0.894$\\pm$0.004  &0.629$\\pm$0.012  &0.894$\\pm$0.003  \n",
            " idx 0: &0.822            &0.822            &0.899            &0.645            &0.898            \n",
            "\n",
            "\n",
            " ============================== GIN ==============================\n"
          ]
        },
        {
          "output_type": "stream",
          "name": "stderr",
          "text": [
            "Found local copy...\n",
            "Loading...\n",
            "Done!\n"
          ]
        },
        {
          "output_type": "stream",
          "name": "stdout",
          "text": [
            "repeated num # 3 idx 0 has the lowest loss\n",
            "******************** hERG_Karim ******************** \n",
            "\t|       acc      |       w_acc      |       auc      |       mcc      |       ap      \n",
            "\t&0.812$\\pm$0.001  &0.812$\\pm$0.001  &0.893$\\pm$0.002  &0.624$\\pm$0.002  &0.899$\\pm$0.001  \n",
            " idx 0: &0.813            &0.813            &0.895            &0.625            &0.901            \n",
            "\n",
            "\n",
            " ============================== RNN ==============================\n",
            "repeated num # 3 idx 1 has the lowest loss\n",
            "******************** hERG_Karim ******************** \n",
            "\t|       acc      |       w_acc      |       auc      |       mcc      |       ap      \n",
            "\t&0.765$\\pm$0.010  &0.765$\\pm$0.010  &0.847$\\pm$0.012  &0.533$\\pm$0.019  &0.848$\\pm$0.014  \n",
            " idx 1: &0.768            &0.768            &0.852            &0.540            &0.859            \n",
            "\n",
            "\n",
            "\n",
            "\n",
            "Evaluating :  AMES\n",
            "collect data for:  ['AMES']\n",
            "*************** AMES ***************\n"
          ]
        },
        {
          "output_type": "display_data",
          "data": {
            "text/plain": [
              "<Figure size 640x480 with 2 Axes>"
            ],
            "image/png": "[encoded data removed]"
          },
          "metadata": {}
        },
        {
          "output_type": "stream",
          "name": "stdout",
          "text": [
            "train: 5094 | valid: 728 | test: 1456 | total: 7278\n",
            "\n",
            " ============================== MLP ==============================\n",
            "repeated num # 3 idx 1 has the lowest loss\n",
            "******************** AMES ******************** \n",
            "\t|       acc      |       w_acc      |       auc      |       mcc      |       ap      \n",
            "\t&0.800$\\pm$0.013  &0.794$\\pm$0.016  &0.862$\\pm$0.003  &0.597$\\pm$0.024  &0.866$\\pm$0.006  \n",
            " idx 1: &0.812            &0.809            &0.865            &0.621            &0.870            \n",
            "\n",
            "\n",
            " ============================== AttentiveFP ==============================\n",
            "repeated num # 3 idx 2 has the lowest loss\n",
            "******************** AMES ******************** \n",
            "\t|       acc      |       w_acc      |       auc      |       mcc      |       ap      \n",
            "\t&0.807$\\pm$0.001  &0.804$\\pm$0.002  &0.877$\\pm$0.002  &0.609$\\pm$0.003  &0.890$\\pm$0.002  \n",
            " idx 2: &0.808            &0.807            &0.880            &0.613            &0.892            \n",
            "\n",
            "\n",
            " ============================== GIN ==============================\n",
            "repeated num # 3 idx 2 has the lowest loss\n",
            "******************** AMES ******************** \n",
            "\t|       acc      |       w_acc      |       auc      |       mcc      |       ap      \n",
            "\t&0.811$\\pm$0.003  &0.807$\\pm$0.003  &0.888$\\pm$0.002  &0.618$\\pm$0.006  &0.901$\\pm$0.002  \n",
            " idx 2: &0.809            &0.806            &0.887            &0.614            &0.902            \n",
            "\n",
            "\n",
            " ============================== RNN ==============================\n",
            "repeated num # 3 idx 2 has the lowest loss\n",
            "******************** AMES ******************** \n",
            "\t|       acc      |       w_acc      |       auc      |       mcc      |       ap      \n",
            "\t&0.766$\\pm$0.011  &0.758$\\pm$0.011  &0.833$\\pm$0.007  &0.525$\\pm$0.022  &0.841$\\pm$0.008  \n",
            " idx 2: &0.771            &0.764            &0.838            &0.537            &0.849            \n",
            "\n",
            "\n",
            "\n",
            "\n"
          ]
        }
      ]
    },
    {
      "cell_type": "code",
      "source": [],
      "metadata": {
        "id": "tWOePmORNBuR"
      },
      "execution_count": null,
      "outputs": []
    },
    {
      "cell_type": "code",
      "source": [],
      "metadata": {
        "id": "24y_OPauNBwq"
      },
      "execution_count": null,
      "outputs": []
    }
  ]
}