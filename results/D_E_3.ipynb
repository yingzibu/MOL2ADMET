{
  "nbformat": 4,
  "nbformat_minor": 0,
  "metadata": {
    "colab": {
      "provenance": [],
      "machine_shape": "hm",
      "gpuType": "T4",
      "mount_file_id": "1n8q1P1I223gDVYnr6LeP8zqemAGrlXn-",
      "authorship_tag": "ABX9TyN0i3FO58dqmsiI2Vxt4WsC",
      "include_colab_link": true
    },
    "kernelspec": {
      "name": "python3",
      "display_name": "Python 3"
    },
    "language_info": {
      "name": "python"
    },
    "accelerator": "GPU"
  },
  "cells": [
    {
      "cell_type": "markdown",
      "metadata": {
        "id": "view-in-github",
        "colab_type": "text"
      },
      "source": [
        "<a href=\"https://colab.research.google.com/github/yingzibu/MOL2ADMET/blob/main/results/D_E_3.ipynb\" target=\"_parent\"><img src=\"https://colab.research.google.com/assets/colab-badge.svg\" alt=\"Open In Colab\"/></a>"
      ]
    },
    {
      "cell_type": "code",
      "execution_count": 1,
      "metadata": {
        "colab": {
          "base_uri": "https://localhost:8080/"
        },
        "id": "Wse5igdY3xJV",
        "outputId": "118fa23a-fc1d-406f-e42e-c842c47073d3"
      },
      "outputs": [
        {
          "output_type": "stream",
          "name": "stdout",
          "text": [
            "2.1.0+cu121\n",
            "cuda:  True\n"
          ]
        }
      ],
      "source": [
        "import torch\n",
        "print(torch.__version__)\n",
        "print('cuda: ', torch.cuda.is_available())"
      ]
    },
    {
      "cell_type": "code",
      "source": [
        "! pip install rdkit --quiet\n",
        "! pip install PyTDC --quiet\n",
        "! pip install mycolorpy --quiet\n",
        "! pip install selfies  --quiet\n",
        "! pip install pubchempy --quiet\n",
        "! pip install dgllife --quiet\n",
        "! pip install molvs --quiet\n",
        "! pip install dgl -f https://data.dgl.ai/wheels/cu121/repo.html --quiet\n",
        "! pip install dglgo -f https://data.dgl.ai/wheels-test/repo.html --quiet\n",
        "! pip install DeepPurpose --quiet\n",
        "! pip install git+https://github.com/bp-kelley/descriptastorus --quiet\n",
        "! pip install pandas-flavor --quiet"
      ],
      "metadata": {
        "id": "tA3VHYr13-8z"
      },
      "execution_count": null,
      "outputs": []
    },
    {
      "cell_type": "code",
      "source": [
        "cd /content/drive/MyDrive/ADMET"
      ],
      "metadata": {
        "colab": {
          "base_uri": "https://localhost:8080/"
        },
        "id": "hVPJzNF94CnF",
        "outputId": "07aab146-71d0-4ee5-80fa-17970837bde6"
      },
      "execution_count": 1,
      "outputs": [
        {
          "output_type": "stream",
          "name": "stdout",
          "text": [
            "/content/drive/MyDrive/ADMET\n"
          ]
        }
      ]
    },
    {
      "cell_type": "code",
      "source": [
        "from scripts.func_utils import make_path, convert_with_qed_sa, get_min, \\\n",
        "                                plot_loss, plot_performance\n",
        "\n",
        "from scripts.eval_utils import *\n",
        "from scripts.preprocess_mols import *\n",
        "from scripts.model_architecture import *\n",
        "from scripts.dataset import *\n",
        "from scripts.train import *\n",
        "import yaml\n",
        "import pandas as pd\n",
        "from scripts.get_vocab import *\n",
        "\n",
        "from tdc.single_pred import ADME\n",
        "from tdc.single_pred import Tox\n",
        "from scripts.CONSTANT import *\n",
        "from scripts.yaml_utils import *\n",
        "from scripts.TRAIN import *\n",
        "from scripts.MUE import *\n",
        "print('VOCAB TYPE:', VOCAB_TYPE)"
      ],
      "metadata": {
        "colab": {
          "base_uri": "https://localhost:8080/"
        },
        "id": "JBKsvDWV4HhO",
        "outputId": "f566ee34-5662-44b3-de77-6412a38fb78c"
      },
      "execution_count": 2,
      "outputs": [
        {
          "output_type": "stream",
          "name": "stdout",
          "text": [
            "VOCAB TYPE: smiles\n"
          ]
        }
      ]
    },
    {
      "cell_type": "code",
      "source": [
        "names_D3"
      ],
      "metadata": {
        "colab": {
          "base_uri": "https://localhost:8080/"
        },
        "id": "nMhZ19ba6RHm",
        "outputId": "48931617-b42d-4d11-deea-40060013c136"
      },
      "execution_count": 5,
      "outputs": [
        {
          "output_type": "execute_result",
          "data": {
            "text/plain": [
              "['BBB_Martins', 'PPBR_AZ', 'VDss_Lombardo']"
            ]
          },
          "metadata": {},
          "execution_count": 5
        }
      ]
    },
    {
      "cell_type": "code",
      "source": [
        "for model_type in ['MLP', 'AttentiveFP', 'GIN', 'RNN']:\n",
        "    p = train_mt(names_D3, model_type, 'D3/uw', repeat_time=3, retrain=False, uw=True)"
      ],
      "metadata": {
        "colab": {
          "base_uri": "https://localhost:8080/"
        },
        "id": "RZf1jocN6kE6",
        "outputId": "648c4151-44ed-4606-80f3-5c67888f3038"
      },
      "execution_count": 8,
      "outputs": [
        {
          "output_type": "stream",
          "name": "stdout",
          "text": [
            "\n",
            "Run # 0 for MLP MT\t | save dir:  D3/uw/MLP_MT_0 | \t--> pre data loaded\n",
            "\n",
            "Run # 1 for MLP MT\t | save dir:  D3/uw/MLP_MT_1 | \t--> pre data loaded\n",
            "\n",
            "Run # 2 for MLP MT\t | save dir:  D3/uw/MLP_MT_2 | \t--> pre data loaded\n",
            "repeated num # 3 idx 1 has the lowest loss\n",
            "******************** BBB_Martins ******************** \n",
            "\t|       acc      |       w_acc      |       prec      |       recall      |       sp      |       f1      |       auc      |       mcc      |       ap      \n",
            "\t&0.778$\\pm$0.034  &0.570$\\pm$0.075  &0.776$\\pm$0.032  &0.991$\\pm$0.008  &0.149$\\pm$0.159  &0.870$\\pm$0.017  &0.820$\\pm$0.036  &nan$\\pm$nan  &0.926$\\pm$0.016  \n",
            " idx 1: &0.825            &0.675            &0.820            &0.980            &0.369            &0.893            &0.861            &0.489            &0.944            \n",
            "\n",
            "******************** PPBR_AZ ******************** \n",
            "\t|       mae      |       mse      |       rmse      |       r2      |       pcc      |       spearman      \n",
            "\t&10.897$\\pm$0.367  &216.091$\\pm$8.905  &14.697$\\pm$0.302  &0.108$\\pm$0.037  &0.448$\\pm$0.019  &0.458$\\pm$0.013  \n",
            " idx 1: &10.824            &215.159            &14.668            &0.112            &0.444            &0.460            \n",
            "\n",
            "******************** VDss_Lombardo ******************** \n",
            "\t|       mae      |       mse      |       rmse      |       r2      |       pcc      |       spearman      \n",
            "\t&4.414$\\pm$0.733  &46.058$\\pm$6.431  &6.771$\\pm$0.464  &0.013$\\pm$0.138  &0.347$\\pm$0.040  &0.372$\\pm$0.015  \n",
            " idx 1: &3.724            &42.311            &6.505            &0.094            &0.352            &0.379            \n",
            "\n",
            "******************** BBB_Martins ******************** \n",
            "\t|  acc  |  auc  |  ap  \n",
            "single: &0.825   &0.861   &0.944   \n",
            "******************** PPBR_AZ ******************** \n",
            "\t|  mae  |  rmse  |  r2  \n",
            "single: &10.824   &14.668   &0.112   \n",
            "******************** VDss_Lombardo ******************** \n",
            "\t|  mae  |  rmse  |  r2  \n",
            "single: &3.724   &6.505   &0.094   \n",
            "\n",
            "\n",
            "\n",
            "\n",
            "\n",
            "Run # 0 for AttentiveFP MT\t | save dir:  D3/uw/AttentiveFP_MT_0 | \t--> pre data loaded\n",
            "\n",
            "Run # 1 for AttentiveFP MT\t | save dir:  D3/uw/AttentiveFP_MT_1 | \t--> pre data loaded\n",
            "\n",
            "Run # 2 for AttentiveFP MT\t | save dir:  D3/uw/AttentiveFP_MT_2 | \t--> pre data loaded\n",
            "repeated num # 3 idx 1 has the lowest loss\n",
            "******************** BBB_Martins ******************** \n",
            "\t|       acc      |       w_acc      |       prec      |       recall      |       sp      |       f1      |       auc      |       mcc      |       ap      \n",
            "\t&0.841$\\pm$0.001  &0.705$\\pm$0.002  &0.835$\\pm$0.001  &0.980$\\pm$0.000  &0.430$\\pm$0.005  &0.902$\\pm$0.001  &0.867$\\pm$0.008  &0.542$\\pm$0.004  &0.936$\\pm$0.007  \n",
            " idx 1: &0.840            &0.704            &0.834            &0.980            &0.427            &0.901            &0.872            &0.539            &0.939            \n",
            "\n",
            "******************** PPBR_AZ ******************** \n",
            "\t|       mae      |       mse      |       rmse      |       r2      |       pcc      |       spearman      \n",
            "\t&9.018$\\pm$0.046  &166.716$\\pm$1.613  &12.912$\\pm$0.063  &0.312$\\pm$0.007  &0.574$\\pm$0.005  &0.619$\\pm$0.010  \n",
            " idx 1: &9.078            &167.996            &12.961            &0.306            &0.573            &0.624            \n",
            "\n",
            "******************** VDss_Lombardo ******************** \n",
            "\t|       mae      |       mse      |       rmse      |       r2      |       pcc      |       spearman      \n",
            "\t&3.692$\\pm$0.371  &40.427$\\pm$4.236  &6.350$\\pm$0.329  &0.134$\\pm$0.091  &0.433$\\pm$0.074  &0.555$\\pm$0.026  \n",
            " idx 1: &3.523            &46.286            &6.803            &0.008            &0.329            &0.519            \n",
            "\n",
            "******************** BBB_Martins ******************** \n",
            "\t|  acc  |  auc  |  ap  \n",
            "single: &0.840   &0.872   &0.939   \n",
            "******************** PPBR_AZ ******************** \n",
            "\t|  mae  |  rmse  |  r2  \n",
            "single: &9.078   &12.961   &0.306   \n",
            "******************** VDss_Lombardo ******************** \n",
            "\t|  mae  |  rmse  |  r2  \n",
            "single: &3.523   &6.803   &0.008   \n",
            "\n",
            "\n",
            "\n",
            "\n",
            "\n",
            "Run # 0 for GIN MT\t | save dir:  D3/uw/GIN_MT_0 | \t--> pre data loaded\n",
            "\n",
            "Run # 1 for GIN MT\t | save dir:  D3/uw/GIN_MT_1 | \t--> pre data loaded\n",
            "\n",
            "Run # 2 for GIN MT\t | save dir:  D3/uw/GIN_MT_2 | \t--> pre data loaded\n",
            "repeated num # 3 idx 0 has the lowest loss\n",
            "******************** BBB_Martins ******************** \n",
            "\t|       acc      |       w_acc      |       prec      |       recall      |       sp      |       f1      |       auc      |       mcc      |       ap      \n",
            "\t&0.837$\\pm$0.017  &0.703$\\pm$0.035  &0.835$\\pm$0.017  &0.975$\\pm$0.002  &0.430$\\pm$0.072  &0.899$\\pm$0.009  &0.863$\\pm$0.026  &0.526$\\pm$0.059  &0.939$\\pm$0.015  \n",
            " idx 0: &0.845            &0.720            &0.843            &0.974            &0.466            &0.904            &0.886            &0.555            &0.953            \n",
            "\n",
            "******************** PPBR_AZ ******************** \n",
            "\t|       mae      |       mse      |       rmse      |       r2      |       pcc      |       spearman      \n",
            "\t&9.162$\\pm$0.430  &168.824$\\pm$8.934  &12.989$\\pm$0.344  &0.303$\\pm$0.037  &0.564$\\pm$0.023  &0.632$\\pm$0.024  \n",
            " idx 0: &8.671            &158.013            &12.570            &0.348            &0.594            &0.657            \n",
            "\n",
            "******************** VDss_Lombardo ******************** \n",
            "\t|       mae      |       mse      |       rmse      |       r2      |       pcc      |       spearman      \n",
            "\t&3.902$\\pm$0.320  &40.147$\\pm$0.827  &6.336$\\pm$0.065  &0.140$\\pm$0.018  &0.398$\\pm$0.009  &0.433$\\pm$0.025  \n",
            " idx 0: &3.665            &40.066            &6.330            &0.142            &0.386            &0.398            \n",
            "\n",
            "******************** BBB_Martins ******************** \n",
            "\t|  acc  |  auc  |  ap  \n",
            "single: &0.845   &0.886   &0.953   \n",
            "******************** PPBR_AZ ******************** \n",
            "\t|  mae  |  rmse  |  r2  \n",
            "single: &8.671   &12.570   &0.348   \n",
            "******************** VDss_Lombardo ******************** \n",
            "\t|  mae  |  rmse  |  r2  \n",
            "single: &3.665   &6.330   &0.142   \n",
            "\n",
            "\n",
            "\n",
            "\n",
            "\n",
            "Run # 0 for RNN MT\t | save dir:  D3/uw/RNN_MT_0 | \t--> pre data loaded\n",
            "\n",
            "Run # 1 for RNN MT\t | save dir:  D3/uw/RNN_MT_1 | \t--> pre data loaded\n",
            "\n",
            "Run # 2 for RNN MT\t | save dir:  D3/uw/RNN_MT_2 | \t--> pre data loaded\n",
            "repeated num # 3 idx 2 has the lowest loss\n",
            "******************** BBB_Martins ******************** \n",
            "\t|       acc      |       w_acc      |       prec      |       recall      |       sp      |       f1      |       auc      |       mcc      |       ap      \n",
            "\t&0.837$\\pm$0.010  &0.721$\\pm$0.004  &0.845$\\pm$0.001  &0.956$\\pm$0.016  &0.485$\\pm$0.008  &0.897$\\pm$0.007  &0.834$\\pm$0.001  &0.531$\\pm$0.028  &0.926$\\pm$0.001  \n",
            " idx 2: &0.842            &0.725            &0.846            &0.964            &0.485            &0.901            &0.835            &0.547            &0.927            \n",
            "\n",
            "******************** PPBR_AZ ******************** \n",
            "\t|       mae      |       mse      |       rmse      |       r2      |       pcc      |       spearman      \n",
            "\t&9.234$\\pm$0.265  &209.653$\\pm$2.962  &14.479$\\pm$0.102  &0.135$\\pm$0.012  &0.423$\\pm$0.005  &0.453$\\pm$0.004  \n",
            " idx 2: &8.926            &207.859            &14.417            &0.142            &0.425            &0.455            \n",
            "\n",
            "******************** VDss_Lombardo ******************** \n",
            "\t|       mae      |       mse      |       rmse      |       r2      |       pcc      |       spearman      \n",
            "\t&4.542$\\pm$0.506  &50.847$\\pm$6.253  &7.118$\\pm$0.430  &-0.089$\\pm$0.134  &0.213$\\pm$0.043  &0.159$\\pm$0.039  \n",
            " idx 2: &5.238            &59.678            &7.725            &-0.278            &0.153            &0.194            \n",
            "\n",
            "******************** BBB_Martins ******************** \n",
            "\t|  acc  |  auc  |  ap  \n",
            "single: &0.842   &0.835   &0.927   \n",
            "******************** PPBR_AZ ******************** \n",
            "\t|  mae  |  rmse  |  r2  \n",
            "single: &8.926   &14.417   &0.142   \n",
            "******************** VDss_Lombardo ******************** \n",
            "\t|  mae  |  rmse  |  r2  \n",
            "single: &5.238   &7.725   &-0.278   \n",
            "\n",
            "\n",
            "\n",
            "\n"
          ]
        }
      ]
    },
    {
      "cell_type": "code",
      "source": [
        "names = names_D3\n",
        "folder_name  = 'D3/uw'\n",
        "model_dict={'MLP': 1,\n",
        "            'AttentiveFP':1,\n",
        "            'GIN':0,\n",
        "            'RNN':2\n",
        "            }\n",
        "repeat_time = 3\n",
        "retrain = False\n",
        "trn, val, tst = collect_data(names)\n",
        "\n",
        "trn_list = process_ensemble_v1(trn, folder_name, model_dict)\n",
        "val_list = process_ensemble_v1(val, folder_name, model_dict)\n",
        "tst_list = process_ensemble_v1(tst, folder_name, model_dict)"
      ],
      "metadata": {
        "id": "z9zpn19ycW_X"
      },
      "execution_count": null,
      "outputs": []
    },
    {
      "cell_type": "code",
      "source": [
        "\n",
        "p_list = []\n",
        "\n",
        "for task_num in range(len(names)):\n",
        "    perfs = []\n",
        "    task_name = names[task_num]\n",
        "\n",
        "    config = get_config('MUE', task_name)\n",
        "\n",
        "    batch_size = config['batch_size']\n",
        "    params_ = {'batch_size': batch_size, 'shuffle': True,\n",
        "                'drop_last': False, 'num_workers': 0}\n",
        "\n",
        "    param_t = {'batch_size': batch_size, 'shuffle': False,\n",
        "                'drop_last': False, 'num_workers': 0}\n",
        "\n",
        "    trn_l = DataLoader(ensemble_dataset(trn_list[task_num], task_name), **params_)\n",
        "    val_l = DataLoader(ensemble_dataset(val_list[task_num], task_name), **params_)\n",
        "    tst_l = DataLoader(ensemble_dataset(tst_list[task_num], task_name), **param_t)\n",
        "\n",
        "    for i in range(repeat_time): # train MUE 3 times\n",
        "        config_path = folder_name + '/MUE_' + task_name  + '_' +  str(i) + '.yml'\n",
        "        model_path  = folder_name + '/MUE_' + task_name  + '_' +  str(i) + '.pt'\n",
        "\n",
        "        config['config_path'] = config_path\n",
        "        config['model_path'] = model_path\n",
        "        nofile = False\n",
        "        try:\n",
        "            with open(config['config_path'], 'r') as f: data = yaml.safe_load(f)\n",
        "            if data != None:\n",
        "                p = yml_report(data); print('--> pre data loaded')\n",
        "        except:\n",
        "            print(f\"cannot open {config['config_path']}, retrain\")\n",
        "            nofile = True\n",
        "\n",
        "        if nofile or retrain:\n",
        "            models = PRED(**config)\n",
        "            p = models.train(trn_l, val_l, tst_l)\n",
        "\n",
        "        perfs.append(p)\n",
        "    p_list.append(perfs)\n"
      ],
      "metadata": {
        "id": "ePTjCeG5cmH7"
      },
      "execution_count": null,
      "outputs": []
    },
    {
      "cell_type": "code",
      "source": [
        "for name in names_D3:\n",
        "    # is_r = names_dict[name]\n",
        "    perf = []\n",
        "    for i in range(3):\n",
        "        yml_file = f'D3/uw/MUE_{name}_{i}.yml'\n",
        "        p = yml_report(yml_file, ver=False)\n",
        "        perf.append(p)\n",
        "    eval_perf_list(perf, name, {})"
      ],
      "metadata": {
        "colab": {
          "base_uri": "https://localhost:8080/"
        },
        "id": "2cGS7BOCcoFu",
        "outputId": "c9d82e8b-bfff-4cae-941a-65cd3c1e4de1"
      },
      "execution_count": 12,
      "outputs": [
        {
          "output_type": "stream",
          "name": "stdout",
          "text": [
            "repeated num # 3 idx 1 has the lowest loss\n",
            "******************** BBB_Martins ******************** \n",
            "\t|       acc      |       w_acc      |       prec      |       recall      |       sp      |       f1      |       auc      |       mcc      |       ap      \n",
            "\t&0.865$\\pm$0.002  &0.773$\\pm$0.005  &0.872$\\pm$0.003  &0.959$\\pm$0.002  &0.586$\\pm$0.012  &0.914$\\pm$0.001  &0.906$\\pm$0.001  &0.619$\\pm$0.007  &0.962$\\pm$0.000  \n",
            " idx 1: &0.867            &0.780            &0.876            &0.957            &0.602            &0.915            &0.907            &0.627            &0.963            \n",
            "\n",
            "repeated num # 3 idx 2 has the lowest loss\n",
            "******************** PPBR_AZ ******************** \n",
            "\t|       mae      |       mse      |       rmse      |       r2      |       pcc      |       spearman      \n",
            "\t&9.417$\\pm$0.299  &164.865$\\pm$4.432  &12.839$\\pm$0.172  &0.319$\\pm$0.018  &0.596$\\pm$0.015  &0.646$\\pm$0.015  \n",
            " idx 2: &9.449            &161.281            &12.700            &0.334            &0.617            &0.667            \n",
            "\n",
            "repeated num # 3 idx 2 has the lowest loss\n",
            "******************** VDss_Lombardo ******************** \n",
            "\t|       mae      |       mse      |       rmse      |       r2      |       pcc      |       spearman      \n",
            "\t&3.251$\\pm$0.307  &47.688$\\pm$9.648  &6.870$\\pm$0.705  &-0.022$\\pm$0.207  &0.361$\\pm$0.133  &0.406$\\pm$0.119  \n",
            " idx 2: &3.313            &35.831            &5.986            &0.232            &0.483            &0.548            \n",
            "\n"
          ]
        }
      ]
    },
    {
      "cell_type": "code",
      "source": [
        "names_E3"
      ],
      "metadata": {
        "colab": {
          "base_uri": "https://localhost:8080/"
        },
        "id": "pgzWZ3lBfuAg",
        "outputId": "a95c5d24-b712-4345-dd22-94957bed2216"
      },
      "execution_count": 13,
      "outputs": [
        {
          "output_type": "execute_result",
          "data": {
            "text/plain": [
              "['Half_Life_Obach', 'Clearance_Hepatocyte_AZ', 'Clearance_Microsome_AZ']"
            ]
          },
          "metadata": {},
          "execution_count": 13
        }
      ]
    },
    {
      "cell_type": "code",
      "source": [
        "for model_type in ['MLP', 'AttentiveFP', 'GIN', 'RNN']:\n",
        "    p = train_mt(names_E3, model_type, 'E3/uw', repeat_time=3, retrain=False, uw=True)"
      ],
      "metadata": {
        "colab": {
          "base_uri": "https://localhost:8080/"
        },
        "id": "pxdCYbzefXCX",
        "outputId": "2db3fca9-ae2e-4f10-f456-97c51e13bc4a"
      },
      "execution_count": 5,
      "outputs": [
        {
          "output_type": "stream",
          "name": "stdout",
          "text": [
            "\n",
            "Run # 0 for MLP MT\t | save dir:  E3/uw/MLP_MT_0 | \t--> pre data loaded\n",
            "\n",
            "Run # 1 for MLP MT\t | save dir:  E3/uw/MLP_MT_1 | \t--> pre data loaded\n",
            "\n",
            "Run # 2 for MLP MT\t | save dir:  E3/uw/MLP_MT_2 | \t--> pre data loaded\n",
            "repeated num # 3 idx 2 has the lowest loss\n",
            "******************** Half_Life_Obach ******************** \n",
            "\t|       mae      |       mse      |       rmse      |       r2      |       pcc      |       spearman      \n",
            "\t&34.394$\\pm$0.514  &9119.329$\\pm$942.098  &95.368$\\pm$4.923  &0.364$\\pm$0.066  \n",
            " idx 2: &34.339            &10320.622            &101.590            &0.281            & N/A            & N/A            \n",
            "\n",
            "******************** Clearance_Hepatocyte_AZ ******************** \n",
            "\t|       mae      |       mse      |       rmse      |       r2      |       pcc      |       spearman      \n",
            "\t&32.240$\\pm$0.693  &2127.012$\\pm$35.060  &46.118$\\pm$0.379  &0.148$\\pm$0.014  \n",
            " idx 2: &31.288            &2105.900            &45.890            &0.156            & N/A            & N/A            \n",
            "\n",
            "******************** Clearance_Microsome_AZ ******************** \n",
            "\t|       mae      |       mse      |       rmse      |       r2      |       pcc      |       spearman      \n",
            "\t&25.204$\\pm$0.250  &1413.195$\\pm$50.402  &37.587$\\pm$0.668  &0.249$\\pm$0.027  \n",
            " idx 2: &24.997            &1395.200            &37.352            &0.258            & N/A            & N/A            \n",
            "\n",
            "******************** Half_Life_Obach ******************** \n",
            "\t|  mae  |  rmse  |  r2  \n",
            "single: &34.339   &101.590   &0.281   \n",
            "******************** Clearance_Hepatocyte_AZ ******************** \n",
            "\t|  mae  |  rmse  |  r2  \n",
            "single: &31.288   &45.890   &0.156   \n",
            "******************** Clearance_Microsome_AZ ******************** \n",
            "\t|  mae  |  rmse  |  r2  \n",
            "single: &24.997   &37.352   &0.258   \n",
            "\n",
            "\n",
            "\n",
            "\n",
            "\n",
            "Run # 0 for AttentiveFP MT\t | save dir:  E3/uw/AttentiveFP_MT_0 | \t--> pre data loaded\n",
            "\n",
            "Run # 1 for AttentiveFP MT\t | save dir:  E3/uw/AttentiveFP_MT_1 | \t--> pre data loaded\n",
            "\n",
            "Run # 2 for AttentiveFP MT\t | save dir:  E3/uw/AttentiveFP_MT_2 | \t--> pre data loaded\n",
            "repeated num # 3 idx 1 has the lowest loss\n",
            "******************** Half_Life_Obach ******************** \n",
            "\t|       mae      |       mse      |       rmse      |       r2      |       pcc      |       spearman      \n",
            "\t&17.867$\\pm$1.849  &790.549$\\pm$100.008  &28.062$\\pm$1.748  &-0.379$\\pm$0.175  \n",
            " idx 1: &16.548            &930.390            &30.502            &-0.623            & N/A            & N/A            \n",
            "\n",
            "******************** Clearance_Hepatocyte_AZ ******************** \n",
            "\t|       mae      |       mse      |       rmse      |       r2      |       pcc      |       spearman      \n",
            "\t&35.339$\\pm$0.318  &2049.890$\\pm$21.648  &45.275$\\pm$0.239  &0.187$\\pm$0.009  \n",
            " idx 1: &34.992            &2022.537            &44.973            &0.198            & N/A            & N/A            \n",
            "\n",
            "******************** Clearance_Microsome_AZ ******************** \n",
            "\t|       mae      |       mse      |       rmse      |       r2      |       pcc      |       spearman      \n",
            "\t&28.005$\\pm$0.573  &1636.717$\\pm$27.946  &40.455$\\pm$0.344  &0.158$\\pm$0.014  \n",
            " idx 1: &27.760            &1620.410            &40.254            &0.167            & N/A            & N/A            \n",
            "\n",
            "******************** Half_Life_Obach ******************** \n",
            "\t|  mae  |  rmse  |  r2  \n",
            "single: &16.548   &30.502   &-0.623   \n",
            "******************** Clearance_Hepatocyte_AZ ******************** \n",
            "\t|  mae  |  rmse  |  r2  \n",
            "single: &34.992   &44.973   &0.198   \n",
            "******************** Clearance_Microsome_AZ ******************** \n",
            "\t|  mae  |  rmse  |  r2  \n",
            "single: &27.760   &40.254   &0.167   \n",
            "\n",
            "\n",
            "\n",
            "\n",
            "\n",
            "Run # 0 for GIN MT\t | save dir:  E3/uw/GIN_MT_0 | \t--> pre data loaded\n",
            "\n",
            "Run # 1 for GIN MT\t | save dir:  E3/uw/GIN_MT_1 | \t--> pre data loaded\n",
            "\n",
            "Run # 2 for GIN MT\t | save dir:  E3/uw/GIN_MT_2 | \t--> pre data loaded\n",
            "repeated num # 3 idx 0 has the lowest loss\n",
            "******************** Half_Life_Obach ******************** \n",
            "\t|       mae      |       mse      |       rmse      |       r2      |       pcc      |       spearman      \n",
            "\t&24.148$\\pm$0.750  &7822.712$\\pm$1138.692  &88.220$\\pm$6.326  &0.455$\\pm$0.079  \n",
            " idx 0: &23.810            &7319.045            &85.551            &0.490            & N/A            & N/A            \n",
            "\n",
            "******************** Clearance_Hepatocyte_AZ ******************** \n",
            "\t|       mae      |       mse      |       rmse      |       r2      |       pcc      |       spearman      \n",
            "\t&31.099$\\pm$0.997  &2046.721$\\pm$37.231  &45.239$\\pm$0.410  &0.180$\\pm$0.015  \n",
            " idx 0: &32.505            &2014.042            &44.878            &0.193            & N/A            & N/A            \n",
            "\n",
            "******************** Clearance_Microsome_AZ ******************** \n",
            "\t|       mae      |       mse      |       rmse      |       r2      |       pcc      |       spearman      \n",
            "\t&24.576$\\pm$0.539  &1264.634$\\pm$10.965  &35.561$\\pm$0.154  &0.328$\\pm$0.006  \n",
            " idx 0: &24.012            &1256.465            &35.447            &0.332            & N/A            & N/A            \n",
            "\n",
            "******************** Half_Life_Obach ******************** \n",
            "\t|  mae  |  rmse  |  r2  \n",
            "single: &23.810   &85.551   &0.490   \n",
            "******************** Clearance_Hepatocyte_AZ ******************** \n",
            "\t|  mae  |  rmse  |  r2  \n",
            "single: &32.505   &44.878   &0.193   \n",
            "******************** Clearance_Microsome_AZ ******************** \n",
            "\t|  mae  |  rmse  |  r2  \n",
            "single: &24.012   &35.447   &0.332   \n",
            "\n",
            "\n",
            "\n",
            "\n",
            "\n",
            "Run # 0 for RNN MT\t | save dir:  E3/uw/RNN_MT_0 | \t--> pre data loaded\n",
            "\n",
            "Run # 1 for RNN MT\t | save dir:  E3/uw/RNN_MT_1 | \t--> pre data loaded\n",
            "\n",
            "Run # 2 for RNN MT\t | save dir:  E3/uw/RNN_MT_2 | \t--> pre data loaded\n",
            "repeated num # 3 idx 0 has the lowest loss\n",
            "******************** Half_Life_Obach ******************** \n",
            "\t|       mae      |       mse      |       rmse      |       r2      |       pcc      |       spearman      \n",
            "\t&32.058$\\pm$1.116  &12451.605$\\pm$1781.219  &111.295$\\pm$8.063  &0.132$\\pm$0.124  \n",
            " idx 0: &33.480            &12649.851            &112.472            &0.118            & N/A            & N/A            \n",
            "\n",
            "******************** Clearance_Hepatocyte_AZ ******************** \n",
            "\t|       mae      |       mse      |       rmse      |       r2      |       pcc      |       spearman      \n",
            "\t&36.804$\\pm$1.111  &2372.035$\\pm$47.397  &48.701$\\pm$0.487  &0.050$\\pm$0.019  \n",
            " idx 0: &35.778            &2373.761            &48.721            &0.049            & N/A            & N/A            \n",
            "\n",
            "******************** Clearance_Microsome_AZ ******************** \n",
            "\t|       mae      |       mse      |       rmse      |       r2      |       pcc      |       spearman      \n",
            "\t&31.818$\\pm$1.946  &1898.648$\\pm$40.138  &43.571$\\pm$0.462  &-0.010$\\pm$0.021  \n",
            " idx 0: &30.656            &1923.715            &43.860            &-0.023            & N/A            & N/A            \n",
            "\n",
            "******************** Half_Life_Obach ******************** \n",
            "\t|  mae  |  rmse  |  r2  \n",
            "single: &33.480   &112.472   &0.118   \n",
            "******************** Clearance_Hepatocyte_AZ ******************** \n",
            "\t|  mae  |  rmse  |  r2  \n",
            "single: &35.778   &48.721   &0.049   \n",
            "******************** Clearance_Microsome_AZ ******************** \n",
            "\t|  mae  |  rmse  |  r2  \n",
            "single: &30.656   &43.860   &-0.023   \n",
            "\n",
            "\n",
            "\n",
            "\n"
          ]
        }
      ]
    },
    {
      "cell_type": "code",
      "source": [
        "names = names_E3\n",
        "folder_name  = 'E3/uw'\n",
        "model_dict={'MLP': 2,\n",
        "            'AttentiveFP':1,\n",
        "            'GIN':0,\n",
        "            'RNN':0\n",
        "            }\n",
        "repeat_time = 3\n",
        "retrain = False\n",
        "trn, val, tst = collect_data(names)\n",
        "\n",
        "trn_list = process_ensemble_v1(trn, folder_name, model_dict)\n",
        "val_list = process_ensemble_v1(val, folder_name, model_dict)\n",
        "tst_list = process_ensemble_v1(tst, folder_name, model_dict)"
      ],
      "metadata": {
        "id": "Xyr-zwSgfw92"
      },
      "execution_count": null,
      "outputs": []
    },
    {
      "cell_type": "code",
      "source": [
        "\n",
        "p_list = []\n",
        "\n",
        "for task_num in range(len(names)):\n",
        "    perfs = []\n",
        "    task_name = names[task_num]\n",
        "\n",
        "    config = get_config('MUE', task_name)\n",
        "\n",
        "    batch_size = config['batch_size']\n",
        "    params_ = {'batch_size': batch_size, 'shuffle': True,\n",
        "                'drop_last': False, 'num_workers': 0}\n",
        "\n",
        "    param_t = {'batch_size': batch_size, 'shuffle': False,\n",
        "                'drop_last': False, 'num_workers': 0}\n",
        "\n",
        "    trn_l = DataLoader(ensemble_dataset(trn_list[task_num], task_name), **params_)\n",
        "    val_l = DataLoader(ensemble_dataset(val_list[task_num], task_name), **params_)\n",
        "    tst_l = DataLoader(ensemble_dataset(tst_list[task_num], task_name), **param_t)\n",
        "\n",
        "    for i in range(repeat_time): # train MUE 3 times\n",
        "        config_path = folder_name + '/MUE_' + task_name  + '_' +  str(i) + '.yml'\n",
        "        model_path  = folder_name + '/MUE_' + task_name  + '_' +  str(i) + '.pt'\n",
        "\n",
        "        config['config_path'] = config_path\n",
        "        config['model_path'] = model_path\n",
        "        nofile = False\n",
        "        try:\n",
        "            with open(config['config_path'], 'r') as f: data = yaml.safe_load(f)\n",
        "            if data != None:\n",
        "                p = yml_report(data); print('--> pre data loaded')\n",
        "        except:\n",
        "            print(f\"cannot open {config['config_path']}, retrain\")\n",
        "            nofile = True\n",
        "\n",
        "        if nofile or retrain:\n",
        "            models = PRED(**config)\n",
        "            p = models.train(trn_l, val_l, tst_l)\n",
        "\n",
        "        perfs.append(p)\n",
        "    p_list.append(perfs)\n"
      ],
      "metadata": {
        "id": "kKLr2qokhB8b"
      },
      "execution_count": null,
      "outputs": []
    },
    {
      "cell_type": "code",
      "source": [
        "for name in names_E3:\n",
        "    # is_r = names_dict[name]\n",
        "    perf = []\n",
        "    for i in range(3):\n",
        "        yml_file = f'E3/uw/MUE_{name}_{i}.yml'\n",
        "        p = yml_report(yml_file, ver=False)\n",
        "        perf.append(p)\n",
        "    eval_perf_list(perf, name, {})"
      ],
      "metadata": {
        "colab": {
          "base_uri": "https://localhost:8080/"
        },
        "id": "wDKlW4KFiERU",
        "outputId": "c3c5f3c9-a56f-4eb0-f879-8a13453ff473"
      },
      "execution_count": 8,
      "outputs": [
        {
          "output_type": "stream",
          "name": "stdout",
          "text": [
            "repeated num # 3 idx 1 has the lowest loss\n",
            "******************** Half_Life_Obach ******************** \n",
            "\t|       mae      |       mse      |       rmse      |       r2      |       pcc      |       spearman      \n",
            "\t&27.204$\\pm$1.909  &11975.194$\\pm$2375.598  &108.906$\\pm$10.712  &0.165$\\pm$0.166  &0.643$\\pm$0.034  &0.197$\\pm$0.100  \n",
            " idx 1: &25.571            &9473.612            &97.332            &0.340            &0.672            &0.278            \n",
            "\n",
            "repeated num # 3 idx 0 has the lowest loss\n",
            "******************** Clearance_Hepatocyte_AZ ******************** \n",
            "\t|       mae      |       mse      |       rmse      |       r2      |       pcc      |       spearman      \n",
            "\t&32.291$\\pm$0.478  &1917.935$\\pm$52.048  &43.790$\\pm$0.594  &0.232$\\pm$0.021  &0.502$\\pm$0.009  &0.568$\\pm$0.014  \n",
            " idx 0: &32.961            &1856.870            &43.091            &0.256            &0.512            &0.587            \n",
            "\n",
            "repeated num # 3 idx 0 has the lowest loss\n",
            "******************** Clearance_Microsome_AZ ******************** \n",
            "\t|       mae      |       mse      |       rmse      |       r2      |       pcc      |       spearman      \n",
            "\t&24.725$\\pm$0.540  &1269.752$\\pm$27.170  &35.632$\\pm$0.380  &0.325$\\pm$0.014  &0.586$\\pm$0.003  &0.644$\\pm$0.004  \n",
            " idx 0: &24.946            &1248.049            &35.328            &0.336            &0.590            &0.649            \n",
            "\n"
          ]
        }
      ]
    }
  ]
}