{
  "nbformat": 4,
  "nbformat_minor": 0,
  "metadata": {
    "colab": {
      "provenance": [],
      "machine_shape": "hm",
      "gpuType": "T4",
      "mount_file_id": "1Zp2gwztQA1knGUJG3neQH7Ol1i3Fs02T",
      "authorship_tag": "ABX9TyNdmsvq0KZOS80BSgz1csxe",
      "include_colab_link": true
    },
    "kernelspec": {
      "name": "python3",
      "display_name": "Python 3"
    },
    "language_info": {
      "name": "python"
    },
    "accelerator": "GPU"
  },
  "cells": [
    {
      "cell_type": "markdown",
      "metadata": {
        "id": "view-in-github",
        "colab_type": "text"
      },
      "source": [
        "<a href=\"https://colab.research.google.com/github/yingzibu/MOL2ADMET/blob/main/results/PAMPA_Solu_evaluation.ipynb\" target=\"_parent\"><img src=\"https://colab.research.google.com/assets/colab-badge.svg\" alt=\"Open In Colab\"/></a>"
      ]
    },
    {
      "cell_type": "code",
      "execution_count": 1,
      "metadata": {
        "colab": {
          "base_uri": "https://localhost:8080/"
        },
        "id": "WT7gcvMG2ha2",
        "outputId": "c17ef57d-99fe-4390-f2e7-aec0bac11198"
      },
      "outputs": [
        {
          "output_type": "stream",
          "name": "stdout",
          "text": [
            "2.1.0+cu121\n",
            "cuda:  True\n"
          ]
        }
      ],
      "source": [
        "import torch\n",
        "print(torch.__version__)\n",
        "print('cuda: ', torch.cuda.is_available())"
      ]
    },
    {
      "cell_type": "code",
      "source": [
        "! pip install rdkit --quiet\n",
        "! pip install PyTDC --quiet\n",
        "! pip install mycolorpy --quiet\n",
        "! pip install selfies  --quiet\n",
        "! pip install pubchempy --quiet\n",
        "! pip install dgllife --quiet\n",
        "! pip install molvs --quiet\n",
        "! pip install dgl -f https://data.dgl.ai/wheels/cu121/repo.html --quiet\n",
        "! pip install dglgo -f https://data.dgl.ai/wheels-test/repo.html --quiet\n",
        "! pip install DeepPurpose --quiet\n",
        "! pip install git+https://github.com/bp-kelley/descriptastorus --quiet\n",
        "! pip install pandas-flavor --quiet\n"
      ],
      "metadata": {
        "id": "1eae7F9S200G"
      },
      "execution_count": 2,
      "outputs": []
    },
    {
      "cell_type": "code",
      "source": [
        "cd /content/drive/MyDrive/ADMET"
      ],
      "metadata": {
        "colab": {
          "base_uri": "https://localhost:8080/"
        },
        "id": "Ok_gEn1n22HV",
        "outputId": "d005bd1d-ecd7-4548-b081-c233c2c799cf"
      },
      "execution_count": 3,
      "outputs": [
        {
          "output_type": "stream",
          "name": "stdout",
          "text": [
            "/content/drive/MyDrive/ADMET\n"
          ]
        }
      ]
    },
    {
      "cell_type": "code",
      "source": [
        "from scripts.func_utils import make_path, convert_with_qed_sa, get_min, \\\n",
        "                                plot_loss, plot_performance\n",
        "\n",
        "from scripts.eval_utils import *\n",
        "from scripts.preprocess_mols import *\n",
        "from scripts.model_architecture import *\n",
        "from scripts.dataset import *\n",
        "from scripts.train import *\n",
        "import yaml\n",
        "import pandas as pd\n",
        "from scripts.get_vocab import *\n",
        "\n",
        "from tdc.single_pred import ADME\n",
        "from tdc.single_pred import Tox\n",
        "from scripts.CONSTANT import *\n",
        "from scripts.yaml_utils import *\n",
        "from scripts.TRAIN import *\n",
        "print('VOCAB TYPE:', VOCAB_TYPE)"
      ],
      "metadata": {
        "id": "r7lLEaoQ23lt"
      },
      "execution_count": null,
      "outputs": []
    },
    {
      "cell_type": "markdown",
      "source": [
        "# Evaluation on PAMPA, a dataset that is highly imbalanced.\n",
        "\n",
        "## Therefore, weighted accuracy is a better metrics to evaluate performance"
      ],
      "metadata": {
        "id": "W6gbAwn33Cil"
      }
    },
    {
      "cell_type": "code",
      "source": [
        "name = 'PAMPA_NCATS'"
      ],
      "metadata": {
        "id": "RpYwf9KZ3iWM"
      },
      "execution_count": 6,
      "outputs": []
    },
    {
      "cell_type": "code",
      "source": [
        "from tdc.single_pred import ADME\n",
        "from tdc.single_pred import Tox\n",
        "from tdc.utils import retrieve_label_name_list\n",
        "\n",
        "data = ADME(name=name)\n",
        "data.label_distribution()"
      ],
      "metadata": {
        "colab": {
          "base_uri": "https://localhost:8080/",
          "height": 510
        },
        "id": "h0Qge3-U3Yq0",
        "outputId": "3bc0cc27-0017-47b0-ef1d-b1698b94e3d9"
      },
      "execution_count": 8,
      "outputs": [
        {
          "output_type": "stream",
          "name": "stderr",
          "text": [
            "Found local copy...\n",
            "Loading...\n",
            "Done!\n"
          ]
        },
        {
          "output_type": "display_data",
          "data": {
            "text/plain": [
              "<Figure size 640x480 with 2 Axes>"
            ],
            "image/png": "[encoded data removed]"
          },
          "metadata": {}
        }
      ]
    },
    {
      "cell_type": "markdown",
      "source": [
        "## Single task, the results for all 4 algorithms MLP, ATP, GIN, RNN"
      ],
      "metadata": {
        "id": "Fc7YIRd-3Ean"
      }
    },
    {
      "cell_type": "code",
      "source": [
        "folder_name = f'ST/{name}/'\n",
        "d_metrics= {'reg': [0,2,3], 'cls': [0,1,6,8]}\n",
        "for model_type in ['MLP', 'AttentiveFP', 'GIN', 'RNN']:\n",
        "    print('\\n','='*30, model_type, '='*30)\n",
        "    perfs = []\n",
        "    for i in range(3):\n",
        "        file_name = folder_name + model_type + '_ST_' + str(i) + '.yml'\n",
        "        p = yml_report(file_name)\n",
        "        perfs.append(p)\n",
        "    eval_perf_list(perfs, name, metrics_dict=d_metrics)"
      ],
      "metadata": {
        "colab": {
          "base_uri": "https://localhost:8080/"
        },
        "id": "AyXrkv1D24sm",
        "outputId": "d47b877d-ad01-476d-bc63-0fb9c24616f1"
      },
      "execution_count": 11,
      "outputs": [
        {
          "output_type": "stream",
          "name": "stdout",
          "text": [
            "\n",
            " ============================== MLP ==============================\n",
            "repeated num # 3 idx 1 has the lowest loss\n",
            "******************** PAMPA_NCATS ******************** \n",
            "\t|       acc      |       w_acc      |       auc      |       ap      \n",
            "\t&0.852$\\pm$0.005  &0.560$\\pm$0.043  &0.764$\\pm$0.009  &0.940$\\pm$0.005  \n",
            " idx 1: &0.855            &0.584            &0.777            &0.946            \n",
            "\n",
            "\n",
            " ============================== AttentiveFP ==============================\n",
            "repeated num # 3 idx 2 has the lowest loss\n",
            "******************** PAMPA_NCATS ******************** \n",
            "\t|       acc      |       w_acc      |       auc      |       ap      \n",
            "\t&0.841$\\pm$0.008  &0.575$\\pm$0.029  &0.750$\\pm$0.002  &0.925$\\pm$0.003  \n",
            " idx 2: &0.837            &0.537            &0.751            &0.922            \n",
            "\n",
            "\n",
            " ============================== GIN ==============================\n",
            "repeated num # 3 idx 2 has the lowest loss\n",
            "******************** PAMPA_NCATS ******************** \n",
            "\t|       acc      |       w_acc      |       auc      |       ap      \n",
            "\t&0.869$\\pm$0.002  &0.650$\\pm$0.020  &0.778$\\pm$0.005  &0.942$\\pm$0.002  \n",
            " idx 2: &0.867            &0.636            &0.782            &0.944            \n",
            "\n",
            "\n",
            " ============================== RNN ==============================\n",
            "repeated num # 3 idx 2 has the lowest loss\n",
            "******************** PAMPA_NCATS ******************** \n",
            "\t|       acc      |       w_acc      |       auc      |       ap      \n",
            "\t&0.838$\\pm$0.010  &0.500$\\pm$0.000  &0.538$\\pm$0.042  &0.854$\\pm$0.030  \n",
            " idx 2: &0.845            &0.500            &0.523            &0.835            \n",
            "\n"
          ]
        }
      ]
    },
    {
      "cell_type": "markdown",
      "source": [
        "### On single task, the best performance is GIN"
      ],
      "metadata": {
        "id": "iS4cpSMu4t_H"
      }
    },
    {
      "cell_type": "code",
      "source": [
        "print('GIN 3 time results')\n",
        "model_type = 'GIN'\n",
        "for i in range(3):\n",
        "    file_name = folder_name + model_type + '_ST_' + str(i) + '.yml'\n",
        "    p = yml_report(file_name)\n",
        "    eval_perf_list([p], name, metrics_dict={})"
      ],
      "metadata": {
        "colab": {
          "base_uri": "https://localhost:8080/"
        },
        "id": "y_8TIsoo4Mbk",
        "outputId": "b4e8c1fa-bc03-4c59-d987-d9942101495f"
      },
      "execution_count": 13,
      "outputs": [
        {
          "output_type": "stream",
          "name": "stdout",
          "text": [
            "GIN 3 time results\n",
            "******************** PAMPA_NCATS ******************** \n",
            "\t|  acc  |  w_acc  |  prec  |  recall  |  sp  |  f1  |  auc  |  mcc  |  ap  \n",
            "single: &0.867   &0.636   &0.884   &0.971   &0.302   &0.925   &0.772   &0.383   &0.941   \n",
            "******************** PAMPA_NCATS ******************** \n",
            "\t|  acc  |  w_acc  |  prec  |  recall  |  sp  |  f1  |  auc  |  mcc  |  ap  \n",
            "single: &0.872   &0.678   &0.897   &0.959   &0.397   &0.927   &0.781   &0.438   &0.942   \n",
            "******************** PAMPA_NCATS ******************** \n",
            "\t|  acc  |  w_acc  |  prec  |  recall  |  sp  |  f1  |  auc  |  mcc  |  ap  \n",
            "single: &0.867   &0.636   &0.884   &0.971   &0.302   &0.925   &0.782   &0.383   &0.944   \n"
          ]
        }
      ]
    },
    {
      "cell_type": "markdown",
      "source": [
        "## For MUE, the selection of multi-task to train together affects the final results.\n",
        "\n",
        "#### E.g., train absorption and distribution tasks together, performance will be slightly worse than only train on absorption tasks."
      ],
      "metadata": {
        "id": "kcQk7Gww5Mta"
      }
    },
    {
      "cell_type": "markdown",
      "source": [
        "`MUE on AD tasks:  ['BBB_Martins', 'PAMPA_NCATS', 'Lipophilicity_AstraZeneca', 'Solubility_AqSolDB']`"
      ],
      "metadata": {
        "id": "HuwzMQtQ9PiP"
      }
    },
    {
      "cell_type": "code",
      "source": [
        "print('MUE on AD tasks: ', names_AD)\n",
        "perfs = []\n",
        "for i in range(3):\n",
        "    file_name = f'AD_mix/uw/MUE_{name}_{i}.yml'\n",
        "    p = yml_report(file_name)\n",
        "    eval_perf_list([p], name, metrics_dict={})\n",
        "    perfs.append(p)\n",
        "print('\\n\\n')\n",
        "best_idx = eval_perf_list(perfs, name, metrics_dict=d_metrics)"
      ],
      "metadata": {
        "colab": {
          "base_uri": "https://localhost:8080/"
        },
        "id": "UPyAnj6z496-",
        "outputId": "70a57006-e7e2-4640-c3ca-1ed005fd8376"
      },
      "execution_count": 17,
      "outputs": [
        {
          "output_type": "stream",
          "name": "stdout",
          "text": [
            "MUE on AD tasks:  ['BBB_Martins', 'PAMPA_NCATS', 'Lipophilicity_AstraZeneca', 'Solubility_AqSolDB']\n",
            "******************** PAMPA_NCATS ******************** \n",
            "\t|  acc  |  w_acc  |  prec  |  recall  |  sp  |  f1  |  auc  |  mcc  |  ap  \n",
            "single: &0.870   &0.664   &0.892   &0.962   &0.365   &0.926   &0.819   &0.417   &0.958   \n",
            "******************** PAMPA_NCATS ******************** \n",
            "\t|  acc  |  w_acc  |  prec  |  recall  |  sp  |  f1  |  auc  |  mcc  |  ap  \n",
            "single: &0.860   &0.554   &0.860   &0.997   &0.111   &0.923   &0.822   &0.282   &0.958   \n",
            "******************** PAMPA_NCATS ******************** \n",
            "\t|  acc  |  w_acc  |  prec  |  recall  |  sp  |  f1  |  auc  |  mcc  |  ap  \n",
            "single: &0.845   &0.500   &0.845   &1.000   &0.000   &0.916   &0.821   &nan   &0.958   \n",
            "\n",
            "\n",
            "\n",
            "repeated num # 3 idx 0 has the lowest loss\n",
            "******************** PAMPA_NCATS ******************** \n",
            "\t|       acc      |       w_acc      |       auc      |       ap      \n",
            "\t&0.858$\\pm$0.010  &0.573$\\pm$0.068  &0.821$\\pm$0.001  &0.958$\\pm$0.000  \n",
            " idx 0: &0.870            &0.664            &0.819            &0.958            \n",
            "\n"
          ]
        }
      ]
    },
    {
      "cell_type": "markdown",
      "source": [
        "`MUE on Absorption tasks only:  ['PAMPA_NCATS', 'Lipophilicity_AstraZeneca', 'Solubility_AqSolDB']`\n"
      ],
      "metadata": {
        "id": "NAAHhWWb9aoL"
      }
    },
    {
      "cell_type": "code",
      "source": [
        "print('MUE on Absorption tasks only: ', names_A3)\n",
        "perfs = []\n",
        "for i in range(3):\n",
        "    file_name = f'A3/uw/MUE_{name}_{i}.yml'\n",
        "    p = yml_report(file_name)\n",
        "    eval_perf_list([p], name, metrics_dict={})\n",
        "    perfs.append(p)\n",
        "print('\\n\\n')\n",
        "best_idx = eval_perf_list(perfs, name, metrics_dict=d_metrics)"
      ],
      "metadata": {
        "colab": {
          "base_uri": "https://localhost:8080/"
        },
        "id": "8DAk1jMl7Qjk",
        "outputId": "6c6c1ab6-dcb3-4800-a869-2fd1de6ccb4b"
      },
      "execution_count": 19,
      "outputs": [
        {
          "output_type": "stream",
          "name": "stdout",
          "text": [
            "MUE on Absorption tasks only:  ['PAMPA_NCATS', 'Lipophilicity_AstraZeneca', 'Solubility_AqSolDB']\n",
            "******************** PAMPA_NCATS ******************** \n",
            "\t|  acc  |  w_acc  |  prec  |  recall  |  sp  |  f1  |  auc  |  mcc  |  ap  \n",
            "single: &0.882   &0.703   &0.904   &0.962   &0.444   &0.932   &0.827   &0.489   &0.958   \n",
            "******************** PAMPA_NCATS ******************** \n",
            "\t|  acc  |  w_acc  |  prec  |  recall  |  sp  |  f1  |  auc  |  mcc  |  ap  \n",
            "single: &0.885   &0.698   &0.902   &0.968   &0.429   &0.934   &0.821   &0.493   &0.954   \n",
            "******************** PAMPA_NCATS ******************** \n",
            "\t|  acc  |  w_acc  |  prec  |  recall  |  sp  |  f1  |  auc  |  mcc  |  ap  \n",
            "single: &0.882   &0.697   &0.902   &0.965   &0.429   &0.933   &0.817   &0.484   &0.953   \n",
            "\n",
            "\n",
            "\n",
            "repeated num # 3 idx 1 has the lowest loss\n",
            "******************** PAMPA_NCATS ******************** \n",
            "\t|       acc      |       w_acc      |       auc      |       ap      \n",
            "\t&0.883$\\pm$0.001  &0.699$\\pm$0.003  &0.822$\\pm$0.004  &0.955$\\pm$0.002  \n",
            " idx 1: &0.885            &0.698            &0.821            &0.954            \n",
            "\n"
          ]
        }
      ]
    },
    {
      "cell_type": "markdown",
      "source": [
        "# Solubility evaluation"
      ],
      "metadata": {
        "id": "kkIGRJso9qgG"
      }
    },
    {
      "cell_type": "markdown",
      "source": [
        "## Single task"
      ],
      "metadata": {
        "id": "-jLt15An91LE"
      }
    },
    {
      "cell_type": "code",
      "source": [
        "name = 'Solubility_AqSolDB'\n",
        "data = ADME(name=name)\n",
        "data.label_distribution()"
      ],
      "metadata": {
        "colab": {
          "base_uri": "https://localhost:8080/",
          "height": 510
        },
        "id": "Tka8BmoL-OOc",
        "outputId": "21093f16-804d-4a17-f76a-a08406e4d80b"
      },
      "execution_count": 24,
      "outputs": [
        {
          "output_type": "stream",
          "name": "stderr",
          "text": [
            "Found local copy...\n",
            "Loading...\n",
            "Done!\n"
          ]
        },
        {
          "output_type": "display_data",
          "data": {
            "text/plain": [
              "<Figure size 640x480 with 2 Axes>"
            ],
            "image/png": "[encoded data removed]"
          },
          "metadata": {}
        }
      ]
    },
    {
      "cell_type": "code",
      "source": [
        "folder_name = f'ST/{name}/'\n",
        "d_metrics= {'reg': [0,2,3], 'cls': [0,1,6,8]}\n",
        "for model_type in ['MLP', 'AttentiveFP', 'GIN', 'RNN']:\n",
        "    print('\\n','='*30, model_type, '='*30)\n",
        "    perfs = []\n",
        "    for i in range(3):\n",
        "        file_name = folder_name + model_type + '_ST_' + str(i) + '.yml'\n",
        "        p = yml_report(file_name)\n",
        "        perfs.append(p)\n",
        "    eval_perf_list(perfs, name, metrics_dict=d_metrics)"
      ],
      "metadata": {
        "colab": {
          "base_uri": "https://localhost:8080/"
        },
        "id": "AdUxa3-d8KzM",
        "outputId": "6c4f5eda-c969-43df-bd4d-3089540f92e9"
      },
      "execution_count": 22,
      "outputs": [
        {
          "output_type": "stream",
          "name": "stdout",
          "text": [
            "\n",
            " ============================== MLP ==============================\n",
            "repeated num # 3 idx 1 has the lowest loss\n",
            "******************** Solubility_AqSolDB ******************** \n",
            "\t|       mae      |       rmse      |       r2      \n",
            "\t&0.935$\\pm$0.012  &1.286$\\pm$0.016  &0.695$\\pm$0.008  \n",
            " idx 1: &0.918            &1.273            &0.701            \n",
            "\n",
            "\n",
            " ============================== AttentiveFP ==============================\n",
            "repeated num # 3 idx 1 has the lowest loss\n",
            "******************** Solubility_AqSolDB ******************** \n",
            "\t|       mae      |       rmse      |       r2      \n",
            "\t&0.688$\\pm$0.004  &1.005$\\pm$0.007  &0.814$\\pm$0.003  \n",
            " idx 1: &0.683            &0.996            &0.817            \n",
            "\n",
            "\n",
            " ============================== GIN ==============================\n",
            "repeated num # 3 idx 2 has the lowest loss\n",
            "******************** Solubility_AqSolDB ******************** \n",
            "\t|       mae      |       rmse      |       r2      \n",
            "\t&0.805$\\pm$0.022  &1.136$\\pm$0.025  &0.762$\\pm$0.010  \n",
            " idx 2: &0.773            &1.101            &0.777            \n",
            "\n",
            "\n",
            " ============================== RNN ==============================\n",
            "repeated num # 3 idx 1 has the lowest loss\n",
            "******************** Solubility_AqSolDB ******************** \n",
            "\t|       mae      |       rmse      |       r2      \n",
            "\t&0.752$\\pm$0.006  &1.089$\\pm$0.010  &0.782$\\pm$0.004  \n",
            " idx 1: &0.757            &1.075            &0.787            \n",
            "\n"
          ]
        }
      ]
    },
    {
      "cell_type": "markdown",
      "source": [
        "## AttentiveFP has the best performance on solubility task"
      ],
      "metadata": {
        "id": "Q0l2Wbt898lJ"
      }
    },
    {
      "cell_type": "code",
      "source": [
        "model_type = 'AttentiveFP'\n",
        "for i in range(3):\n",
        "    file_name = folder_name + model_type + '_ST_' + str(i) + '.yml'\n",
        "    p = yml_report(file_name)\n",
        "    eval_perf_list([p], name, metrics_dict={})"
      ],
      "metadata": {
        "colab": {
          "base_uri": "https://localhost:8080/"
        },
        "id": "BClYBsQq9tZd",
        "outputId": "bd226c90-1fd2-4396-c612-6a95fbfabbbe"
      },
      "execution_count": 25,
      "outputs": [
        {
          "output_type": "stream",
          "name": "stdout",
          "text": [
            "******************** Solubility_AqSolDB ******************** \n",
            "\t|  mae  |  mse  |  rmse  |  r2  \n",
            "single: &0.694   &1.016   &1.008   &0.813   \n",
            "******************** Solubility_AqSolDB ******************** \n",
            "\t|  mae  |  mse  |  rmse  |  r2  \n",
            "single: &0.683   &0.991   &0.996   &0.817   \n",
            "******************** Solubility_AqSolDB ******************** \n",
            "\t|  mae  |  mse  |  rmse  |  r2  \n",
            "single: &0.688   &1.024   &1.012   &0.811   \n"
          ]
        }
      ]
    },
    {
      "cell_type": "markdown",
      "source": [
        "### Similarly, MUE performs better if trained on absorption tasks only."
      ],
      "metadata": {
        "id": "NpfqttNj-_Y7"
      }
    },
    {
      "cell_type": "code",
      "source": [
        "print('MUE on AD tasks: ', names_AD)\n",
        "perfs = []\n",
        "for i in range(3):\n",
        "    file_name = f'AD_mix/uw/MUE_{name}_{i}.yml'\n",
        "    p = yml_report(file_name)\n",
        "    eval_perf_list([p], name, metrics_dict={})\n",
        "    perfs.append(p)\n",
        "print('\\n')\n",
        "best_idx = eval_perf_list(perfs, name, metrics_dict=d_metrics)\n",
        "\n",
        "print('\\n\\n\\n')\n",
        "print('MUE on Absorption tasks only: ', names_A3)\n",
        "perfs = []\n",
        "for i in range(3):\n",
        "    file_name = f'A3/uw/MUE_{name}_{i}.yml'\n",
        "    p = yml_report(file_name)\n",
        "    eval_perf_list([p], name, metrics_dict={})\n",
        "    perfs.append(p)\n",
        "print('\\n\\n')\n",
        "best_idx = eval_perf_list(perfs, name, metrics_dict=d_metrics)"
      ],
      "metadata": {
        "colab": {
          "base_uri": "https://localhost:8080/"
        },
        "id": "r4ET1hbS-Gh0",
        "outputId": "80344cf0-aac2-45ae-8407-478d5e1224c1"
      },
      "execution_count": 28,
      "outputs": [
        {
          "output_type": "stream",
          "name": "stdout",
          "text": [
            "MUE on AD tasks:  ['BBB_Martins', 'PAMPA_NCATS', 'Lipophilicity_AstraZeneca', 'Solubility_AqSolDB']\n",
            "******************** Solubility_AqSolDB ******************** \n",
            "\t|  mae  |  mse  |  rmse  |  r2  \n",
            "single: &0.714   &1.006   &1.003   &0.815   \n",
            "******************** Solubility_AqSolDB ******************** \n",
            "\t|  mae  |  mse  |  rmse  |  r2  \n",
            "single: &0.705   &0.992   &0.996   &0.817   \n",
            "******************** Solubility_AqSolDB ******************** \n",
            "\t|  mae  |  mse  |  rmse  |  r2  \n",
            "single: &0.706   &0.985   &0.993   &0.818   \n",
            "\n",
            "\n",
            "repeated num # 3 idx 2 has the lowest loss\n",
            "******************** Solubility_AqSolDB ******************** \n",
            "\t|       mae      |       rmse      |       r2      \n",
            "\t&0.709$\\pm$0.004  &0.997$\\pm$0.004  &0.817$\\pm$0.002  \n",
            " idx 2: &0.706            &0.993            &0.818            \n",
            "\n",
            "\n",
            "\n",
            "\n",
            "\n",
            "MUE on Absorption tasks only:  ['PAMPA_NCATS', 'Lipophilicity_AstraZeneca', 'Solubility_AqSolDB']\n",
            "******************** Solubility_AqSolDB ******************** \n",
            "\t|  mae  |  mse  |  rmse  |  r2  \n",
            "single: &0.692   &0.958   &0.979   &0.823   \n",
            "******************** Solubility_AqSolDB ******************** \n",
            "\t|  mae  |  mse  |  rmse  |  r2  \n",
            "single: &0.688   &0.931   &0.965   &0.829   \n",
            "******************** Solubility_AqSolDB ******************** \n",
            "\t|  mae  |  mse  |  rmse  |  r2  \n",
            "single: &0.676   &0.920   &0.959   &0.830   \n",
            "\n",
            "\n",
            "\n",
            "repeated num # 3 idx 1 has the lowest loss\n",
            "******************** Solubility_AqSolDB ******************** \n",
            "\t|       mae      |       rmse      |       r2      \n",
            "\t&0.686$\\pm$0.007  &0.968$\\pm$0.008  &0.827$\\pm$0.003  \n",
            " idx 1: &0.688            &0.965            &0.829            \n",
            "\n"
          ]
        }
      ]
    },
    {
      "cell_type": "code",
      "source": [],
      "metadata": {
        "id": "1feg5OpI_L2P"
      },
      "execution_count": null,
      "outputs": []
    }
  ]
}