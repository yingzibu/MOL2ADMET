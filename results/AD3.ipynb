{
  "nbformat": 4,
  "nbformat_minor": 0,
  "metadata": {
    "colab": {
      "provenance": [],
      "machine_shape": "hm",
      "gpuType": "T4",
      "mount_file_id": "1SyTfhpNhjys4GEH4aGWbMzz8UVuulzej",
      "authorship_tag": "ABX9TyMFjFSBHCnOvcWbUfoW9ldI",
      "include_colab_link": true
    },
    "kernelspec": {
      "name": "python3",
      "display_name": "Python 3"
    },
    "language_info": {
      "name": "python"
    },
    "accelerator": "GPU"
  },
  "cells": [
    {
      "cell_type": "markdown",
      "metadata": {
        "id": "view-in-github",
        "colab_type": "text"
      },
      "source": [
        "<a href=\"https://colab.research.google.com/github/yingzibu/MOL2ADMET/blob/main/results/AD3.ipynb\" target=\"_parent\"><img src=\"https://colab.research.google.com/assets/colab-badge.svg\" alt=\"Open In Colab\"/></a>"
      ]
    },
    {
      "cell_type": "code",
      "execution_count": 1,
      "metadata": {
        "colab": {
          "base_uri": "https://localhost:8080/"
        },
        "id": "ZppB-ISmfrIL",
        "outputId": "93b8ebdd-cd02-42af-9c86-4160981c34c7"
      },
      "outputs": [
        {
          "output_type": "stream",
          "name": "stdout",
          "text": [
            "2.1.0+cu121\n",
            "cuda:  True\n"
          ]
        }
      ],
      "source": [
        "import torch\n",
        "print(torch.__version__)\n",
        "print('cuda: ', torch.cuda.is_available())"
      ]
    },
    {
      "cell_type": "code",
      "source": [
        "! pip install rdkit --quiet\n",
        "! pip install PyTDC --quiet\n",
        "! pip install mycolorpy --quiet\n",
        "! pip install selfies  --quiet\n",
        "! pip install pubchempy --quiet\n",
        "! pip install dgllife --quiet\n",
        "! pip install molvs --quiet\n",
        "! pip install dgl -f https://data.dgl.ai/wheels/cu121/repo.html --quiet\n",
        "! pip install dglgo -f https://data.dgl.ai/wheels-test/repo.html --quiet\n",
        "! pip install DeepPurpose --quiet\n",
        "! pip install git+https://github.com/bp-kelley/descriptastorus --quiet\n",
        "! pip install pandas-flavor --quiet"
      ],
      "metadata": {
        "id": "I5BN31mXf5jj"
      },
      "execution_count": null,
      "outputs": []
    },
    {
      "cell_type": "code",
      "source": [
        "cd /content/drive/MyDrive/ADMET"
      ],
      "metadata": {
        "colab": {
          "base_uri": "https://localhost:8080/"
        },
        "id": "7pStsIupf5lo",
        "outputId": "239b080f-b37f-42bc-ff14-450ad364ef4e"
      },
      "execution_count": 3,
      "outputs": [
        {
          "output_type": "stream",
          "name": "stdout",
          "text": [
            "/content/drive/MyDrive/ADMET\n"
          ]
        }
      ]
    },
    {
      "cell_type": "code",
      "source": [
        "from scripts.func_utils import make_path, convert_with_qed_sa, get_min, \\\n",
        "                                plot_loss, plot_performance\n",
        "\n",
        "from scripts.eval_utils import *\n",
        "from scripts.preprocess_mols import *\n",
        "from scripts.model_architecture import *\n",
        "from scripts.dataset import *\n",
        "from scripts.train import *\n",
        "import yaml\n",
        "import pandas as pd\n",
        "from scripts.get_vocab import *\n",
        "\n",
        "from tdc.single_pred import ADME\n",
        "from tdc.single_pred import Tox\n",
        "from scripts.CONSTANT import *\n",
        "from scripts.yaml_utils import *\n",
        "from scripts.TRAIN import *\n",
        "print('VOCAB TYPE:', VOCAB_TYPE)"
      ],
      "metadata": {
        "colab": {
          "base_uri": "https://localhost:8080/"
        },
        "id": "NlJYzfTdf5ne",
        "outputId": "52522cbd-66b1-4eab-a825-5adec0643bfa"
      },
      "execution_count": 4,
      "outputs": [
        {
          "output_type": "stream",
          "name": "stderr",
          "text": [
            "DGL backend not selected or invalid.  Assuming PyTorch for now.\n"
          ]
        },
        {
          "output_type": "stream",
          "name": "stdout",
          "text": [
            "Setting the default backend to \"pytorch\". You can change it in the ~/.dgl/config.json file or export the DGLBACKEND environment variable.  Valid options are: pytorch, mxnet, tensorflow (all lowercase)\n",
            "VOCAB TYPE: smiles\n"
          ]
        }
      ]
    },
    {
      "cell_type": "markdown",
      "source": [
        "# Evaluate AD3\n",
        "\n",
        "`\n",
        "names_AD3 = ['BBB_Martins',\n",
        " 'PAMPA_NCATS',\n",
        " 'Solubility_AqSolDB']\n",
        "`\n"
      ],
      "metadata": {
        "id": "yVL0ZF2tg5to"
      }
    },
    {
      "cell_type": "code",
      "source": [
        "names_AD"
      ],
      "metadata": {
        "colab": {
          "base_uri": "https://localhost:8080/"
        },
        "id": "IgMQNCPBf5pX",
        "outputId": "32fbc327-f241-4ff2-95a7-bab372bbf77c"
      },
      "execution_count": 9,
      "outputs": [
        {
          "output_type": "execute_result",
          "data": {
            "text/plain": [
              "['BBB_Martins',\n",
              " 'PAMPA_NCATS',\n",
              " 'Lipophilicity_AstraZeneca',\n",
              " 'Solubility_AqSolDB']"
            ]
          },
          "metadata": {},
          "execution_count": 9
        }
      ]
    },
    {
      "cell_type": "code",
      "source": [
        "names_AD3 = ['BBB_Martins',\n",
        " 'PAMPA_NCATS',\n",
        " 'Solubility_AqSolDB']"
      ],
      "metadata": {
        "id": "faDVhAaSf5sK"
      },
      "execution_count": 10,
      "outputs": []
    },
    {
      "cell_type": "markdown",
      "source": [
        "## Single task"
      ],
      "metadata": {
        "id": "FEYpF1tPhVaZ"
      }
    },
    {
      "cell_type": "code",
      "source": [
        "\n",
        "print('single task evaluation on different models')\n",
        "for name in names_AD3:\n",
        "    print('Evaluating : ', name)\n",
        "    folder_name = f'ST/{name}/'\n",
        "    for model_type in ['MLP', 'AttentiveFP', 'GIN', 'RNN']:\n",
        "        print('\\n','='*30, model_type, '='*30)\n",
        "        perfs = []\n",
        "        for i in range(3):\n",
        "            file_name = folder_name + model_type + '_ST_' + str(i) + '.yml'\n",
        "            p = yml_report(file_name, recalculate=False)\n",
        "            perfs.append(p)\n",
        "        eval_perf_list(perfs, name)\n",
        "    print('\\n\\n')\n",
        ""
      ],
      "metadata": {
        "colab": {
          "base_uri": "https://localhost:8080/"
        },
        "id": "JVX_Pkyxf5uU",
        "outputId": "8bacb5b0-72d3-4c7d-c2b7-981002704b24"
      },
      "execution_count": 11,
      "outputs": [
        {
          "output_type": "stream",
          "name": "stdout",
          "text": [
            "single task evaluation on different models\n",
            "Evaluating :  BBB_Martins\n",
            "\n",
            " ============================== MLP ==============================\n",
            "repeated num # 3 idx 1 has the lowest loss\n",
            "******************** BBB_Martins ******************** \n",
            "\t|       acc      |       auc      |       ap      \n",
            "\t&0.842$\\pm$0.012  &0.874$\\pm$0.003  &0.946$\\pm$0.001  \n",
            " idx 1: &0.860            &0.877            &0.948            \n",
            "\n",
            "\n",
            " ============================== AttentiveFP ==============================\n",
            "repeated num # 3 idx 2 has the lowest loss\n",
            "******************** BBB_Martins ******************** \n",
            "\t|       acc      |       auc      |       ap      \n",
            "\t&0.851$\\pm$0.004  &0.853$\\pm$0.017  &0.925$\\pm$0.011  \n",
            " idx 2: &0.852            &0.853            &0.929            \n",
            "\n",
            "\n",
            " ============================== GIN ==============================\n",
            "repeated num # 3 idx 1 has the lowest loss\n",
            "******************** BBB_Martins ******************** \n",
            "\t|       acc      |       auc      |       ap      \n",
            "\t&0.856$\\pm$0.003  &0.909$\\pm$0.002  &0.965$\\pm$0.001  \n",
            " idx 1: &0.860            &0.908            &0.964            \n",
            "\n",
            "\n",
            " ============================== RNN ==============================\n",
            "repeated num # 3 idx 2 has the lowest loss\n",
            "******************** BBB_Martins ******************** \n",
            "\t|       acc      |       auc      |       ap      \n",
            "\t&0.826$\\pm$0.013  &0.838$\\pm$0.005  &0.932$\\pm$0.002  \n",
            " idx 2: &0.835            &0.845            &0.933            \n",
            "\n",
            "\n",
            "\n",
            "\n",
            "Evaluating :  PAMPA_NCATS\n",
            "\n",
            " ============================== MLP ==============================\n",
            "repeated num # 3 idx 1 has the lowest loss\n",
            "******************** PAMPA_NCATS ******************** \n",
            "\t|       acc      |       auc      |       ap      \n",
            "\t&0.852$\\pm$0.005  &0.764$\\pm$0.009  &0.940$\\pm$0.005  \n",
            " idx 1: &0.855            &0.777            &0.946            \n",
            "\n",
            "\n",
            " ============================== AttentiveFP ==============================\n",
            "repeated num # 3 idx 2 has the lowest loss\n",
            "******************** PAMPA_NCATS ******************** \n",
            "\t|       acc      |       auc      |       ap      \n",
            "\t&0.841$\\pm$0.008  &0.750$\\pm$0.002  &0.925$\\pm$0.003  \n",
            " idx 2: &0.837            &0.751            &0.922            \n",
            "\n",
            "\n",
            " ============================== GIN ==============================\n",
            "repeated num # 3 idx 2 has the lowest loss\n",
            "******************** PAMPA_NCATS ******************** \n",
            "\t|       acc      |       auc      |       ap      \n",
            "\t&0.869$\\pm$0.002  &0.778$\\pm$0.005  &0.942$\\pm$0.002  \n",
            " idx 2: &0.867            &0.782            &0.944            \n",
            "\n",
            "\n",
            " ============================== RNN ==============================\n",
            "repeated num # 3 idx 2 has the lowest loss\n",
            "******************** PAMPA_NCATS ******************** \n",
            "\t|       acc      |       auc      |       ap      \n",
            "\t&0.838$\\pm$0.010  &0.538$\\pm$0.042  &0.854$\\pm$0.030  \n",
            " idx 2: &0.845            &0.523            &0.835            \n",
            "\n",
            "\n",
            "\n",
            "\n",
            "Evaluating :  Solubility_AqSolDB\n",
            "\n",
            " ============================== MLP ==============================\n",
            "repeated num # 3 idx 1 has the lowest loss\n",
            "******************** Solubility_AqSolDB ******************** \n",
            "\t|       mae      |       rmse      |       r2      \n",
            "\t&0.935$\\pm$0.012  &1.286$\\pm$0.016  &0.695$\\pm$0.008  \n",
            " idx 1: &0.918            &1.273            &0.701            \n",
            "\n",
            "\n",
            " ============================== AttentiveFP ==============================\n",
            "repeated num # 3 idx 1 has the lowest loss\n",
            "******************** Solubility_AqSolDB ******************** \n",
            "\t|       mae      |       rmse      |       r2      \n",
            "\t&0.688$\\pm$0.004  &1.005$\\pm$0.007  &0.814$\\pm$0.003  \n",
            " idx 1: &0.683            &0.996            &0.817            \n",
            "\n",
            "\n",
            " ============================== GIN ==============================\n",
            "repeated num # 3 idx 2 has the lowest loss\n",
            "******************** Solubility_AqSolDB ******************** \n",
            "\t|       mae      |       rmse      |       r2      \n",
            "\t&0.805$\\pm$0.022  &1.136$\\pm$0.025  &0.762$\\pm$0.010  \n",
            " idx 2: &0.773            &1.101            &0.777            \n",
            "\n",
            "\n",
            " ============================== RNN ==============================\n",
            "repeated num # 3 idx 1 has the lowest loss\n",
            "******************** Solubility_AqSolDB ******************** \n",
            "\t|       mae      |       rmse      |       r2      \n",
            "\t&0.752$\\pm$0.006  &1.089$\\pm$0.010  &0.782$\\pm$0.004  \n",
            " idx 1: &0.757            &1.075            &0.787            \n",
            "\n",
            "\n",
            "\n",
            "\n"
          ]
        }
      ]
    },
    {
      "cell_type": "markdown",
      "source": [
        "## Multitask, without uncertainty weight"
      ],
      "metadata": {
        "id": "SqUM2pHzhYy_"
      }
    },
    {
      "cell_type": "code",
      "source": [
        "folder_name = f'AD3/uw_no/'\n",
        "print('Multi task evaluation on different models, WITHOUT uncertainty weight')\n",
        "for name in names_AD3:\n",
        "    print('Evaluating : ', name)\n",
        "    for model_type in ['MLP', 'AttentiveFP', 'GIN', 'RNN']:\n",
        "        print('\\n','='*30, model_type, '='*30)\n",
        "        perfs = []\n",
        "        for i in range(3):\n",
        "            file_name = folder_name + model_type + '_MT_' + str(i) + '.yml'\n",
        "            p = yml_report(file_name, recalculate=False)\n",
        "            perfs.append(p)\n",
        "        eval_perf_list(perfs, name)\n",
        "    print('\\n\\n')"
      ],
      "metadata": {
        "colab": {
          "base_uri": "https://localhost:8080/"
        },
        "id": "Sj2piRw0hYZK",
        "outputId": "1a81a265-b730-4b7c-8ad3-8394d02afe3b"
      },
      "execution_count": 12,
      "outputs": [
        {
          "output_type": "stream",
          "name": "stdout",
          "text": [
            "Multi task evaluation on different models, WITHOUT uncertainty weight\n",
            "Evaluating :  BBB_Martins\n",
            "\n",
            " ============================== MLP ==============================\n",
            "repeated num # 3 idx 1 has the lowest loss\n",
            "******************** BBB_Martins ******************** \n",
            "\t|       acc      |       auc      |       ap      \n",
            "\t&0.842$\\pm$0.004  &0.867$\\pm$0.003  &0.944$\\pm$0.003  \n",
            " idx 1: &0.842            &0.864            &0.940            \n",
            "\n",
            "\n",
            " ============================== AttentiveFP ==============================\n",
            "repeated num # 3 idx 1 has the lowest loss\n",
            "******************** BBB_Martins ******************** \n",
            "\t|       acc      |       auc      |       ap      \n",
            "\t&0.851$\\pm$0.003  &0.886$\\pm$0.004  &0.946$\\pm$0.005  \n",
            " idx 1: &0.847            &0.890            &0.951            \n",
            "\n",
            "\n",
            " ============================== GIN ==============================\n",
            "repeated num # 3 idx 2 has the lowest loss\n",
            "******************** BBB_Martins ******************** \n",
            "\t|       acc      |       auc      |       ap      \n",
            "\t&0.861$\\pm$0.001  &0.901$\\pm$0.003  &0.958$\\pm$0.002  \n",
            " idx 2: &0.862            &0.906            &0.961            \n",
            "\n",
            "\n",
            " ============================== RNN ==============================\n",
            "repeated num # 3 idx 0 has the lowest loss\n",
            "******************** BBB_Martins ******************** \n",
            "\t|       acc      |       auc      |       ap      \n",
            "\t&0.829$\\pm$0.008  &0.835$\\pm$0.018  &0.923$\\pm$0.014  \n",
            " idx 0: &0.840            &0.813            &0.904            \n",
            "\n",
            "\n",
            "\n",
            "\n",
            "Evaluating :  PAMPA_NCATS\n",
            "\n",
            " ============================== MLP ==============================\n",
            "repeated num # 3 idx 1 has the lowest loss\n",
            "******************** PAMPA_NCATS ******************** \n",
            "\t|       acc      |       auc      |       ap      \n",
            "\t&0.848$\\pm$0.005  &0.728$\\pm$0.054  &0.927$\\pm$0.012  \n",
            " idx 1: &0.855            &0.771            &0.938            \n",
            "\n",
            "\n",
            " ============================== AttentiveFP ==============================\n",
            "repeated num # 3 idx 1 has the lowest loss\n",
            "******************** PAMPA_NCATS ******************** \n",
            "\t|       acc      |       auc      |       ap      \n",
            "\t&0.862$\\pm$0.008  &0.783$\\pm$0.007  &0.950$\\pm$0.002  \n",
            " idx 1: &0.853            &0.777            &0.947            \n",
            "\n",
            "\n",
            " ============================== GIN ==============================\n",
            "repeated num # 3 idx 2 has the lowest loss\n",
            "******************** PAMPA_NCATS ******************** \n",
            "\t|       acc      |       auc      |       ap      \n",
            "\t&0.844$\\pm$0.008  &0.759$\\pm$0.010  &0.934$\\pm$0.006  \n",
            " idx 2: &0.853            &0.772            &0.942            \n",
            "\n",
            "\n",
            " ============================== RNN ==============================\n",
            "repeated num # 3 idx 0 has the lowest loss\n",
            "******************** PAMPA_NCATS ******************** \n",
            "\t|       acc      |       auc      |       ap      \n",
            "\t&0.848$\\pm$0.000  &0.697$\\pm$0.022  &0.916$\\pm$0.011  \n",
            " idx 0: &0.848            &0.727            &0.925            \n",
            "\n",
            "\n",
            "\n",
            "\n",
            "Evaluating :  Solubility_AqSolDB\n",
            "\n",
            " ============================== MLP ==============================\n",
            "repeated num # 3 idx 1 has the lowest loss\n",
            "******************** Solubility_AqSolDB ******************** \n",
            "\t|       mae      |       rmse      |       r2      \n",
            "\t&1.476$\\pm$0.078  &1.871$\\pm$0.073  &0.354$\\pm$0.050  \n",
            " idx 1: &1.485            &1.899            &0.335            \n",
            "\n",
            "\n",
            " ============================== AttentiveFP ==============================\n",
            "repeated num # 3 idx 1 has the lowest loss\n",
            "******************** Solubility_AqSolDB ******************** \n",
            "\t|       mae      |       rmse      |       r2      \n",
            "\t&1.008$\\pm$0.007  &1.329$\\pm$0.017  &0.674$\\pm$0.008  \n",
            " idx 1: &1.008            &1.317            &0.680            \n",
            "\n",
            "\n",
            " ============================== GIN ==============================\n",
            "repeated num # 3 idx 2 has the lowest loss\n",
            "******************** Solubility_AqSolDB ******************** \n",
            "\t|       mae      |       rmse      |       r2      \n",
            "\t&1.250$\\pm$0.054  &1.653$\\pm$0.083  &0.495$\\pm$0.050  \n",
            " idx 2: &1.173            &1.541            &0.563            \n",
            "\n",
            "\n",
            " ============================== RNN ==============================\n",
            "repeated num # 3 idx 0 has the lowest loss\n",
            "******************** Solubility_AqSolDB ******************** \n",
            "\t|       mae      |       rmse      |       r2      \n",
            "\t&1.278$\\pm$0.030  &1.660$\\pm$0.022  &0.492$\\pm$0.014  \n",
            " idx 0: &1.237            &1.635            &0.507            \n",
            "\n",
            "\n",
            "\n",
            "\n"
          ]
        }
      ]
    },
    {
      "cell_type": "markdown",
      "source": [
        "## MU-algorithm"
      ],
      "metadata": {
        "id": "_zx9_qS2hsxd"
      }
    },
    {
      "cell_type": "code",
      "source": [
        "folder_name = f'AD3/uw/'\n",
        "print('Multi task evaluation on different models, WITH uncertainty weight')\n",
        "for name in names_AD3:\n",
        "    print('Evaluating : ', name)\n",
        "    for model_type in ['MLP', 'AttentiveFP', 'GIN', 'RNN']:\n",
        "        print('\\n','='*30, model_type, '='*30)\n",
        "        perfs = []\n",
        "        for i in range(3):\n",
        "            file_name = folder_name + model_type + '_MT_' + str(i) + '.yml'\n",
        "            p = yml_report(file_name, recalculate=False)\n",
        "            perfs.append(p)\n",
        "        eval_perf_list(perfs, name)\n",
        "    print('\\n\\n')"
      ],
      "metadata": {
        "colab": {
          "base_uri": "https://localhost:8080/"
        },
        "id": "N31Cy3uChqXf",
        "outputId": "f0425d63-a0df-40a3-b860-dc28fe3d7ca1"
      },
      "execution_count": 13,
      "outputs": [
        {
          "output_type": "stream",
          "name": "stdout",
          "text": [
            "Multi task evaluation on different models, WITH uncertainty weight\n",
            "Evaluating :  BBB_Martins\n",
            "\n",
            " ============================== MLP ==============================\n",
            "repeated num # 3 idx 2 has the lowest loss\n",
            "******************** BBB_Martins ******************** \n",
            "\t|       acc      |       auc      |       ap      \n",
            "\t&0.842$\\pm$0.002  &0.869$\\pm$0.011  &0.945$\\pm$0.008  \n",
            " idx 2: &0.845            &0.884            &0.956            \n",
            "\n",
            "\n",
            " ============================== AttentiveFP ==============================\n",
            "repeated num # 3 idx 1 has the lowest loss\n",
            "******************** BBB_Martins ******************** \n",
            "\t|       acc      |       auc      |       ap      \n",
            "\t&0.850$\\pm$0.009  &0.884$\\pm$0.006  &0.949$\\pm$0.004  \n",
            " idx 1: &0.845            &0.883            &0.948            \n",
            "\n",
            "\n",
            " ============================== GIN ==============================\n",
            "repeated num # 3 idx 0 has the lowest loss\n",
            "******************** BBB_Martins ******************** \n",
            "\t|       acc      |       auc      |       ap      \n",
            "\t&0.858$\\pm$0.005  &0.905$\\pm$0.001  &0.961$\\pm$0.000  \n",
            " idx 0: &0.865            &0.904            &0.961            \n",
            "\n",
            "\n",
            " ============================== RNN ==============================\n",
            "repeated num # 3 idx 1 has the lowest loss\n",
            "******************** BBB_Martins ******************** \n",
            "\t|       acc      |       auc      |       ap      \n",
            "\t&0.828$\\pm$0.015  &0.850$\\pm$0.006  &0.934$\\pm$0.004  \n",
            " idx 1: &0.842            &0.842            &0.931            \n",
            "\n",
            "\n",
            "\n",
            "\n",
            "Evaluating :  PAMPA_NCATS\n",
            "\n",
            " ============================== MLP ==============================\n",
            "repeated num # 3 idx 2 has the lowest loss\n",
            "******************** PAMPA_NCATS ******************** \n",
            "\t|       acc      |       auc      |       ap      \n",
            "\t&0.839$\\pm$0.005  &0.759$\\pm$0.007  &0.934$\\pm$0.004  \n",
            " idx 2: &0.845            &0.752            &0.930            \n",
            "\n",
            "\n",
            " ============================== AttentiveFP ==============================\n",
            "repeated num # 3 idx 1 has the lowest loss\n",
            "******************** PAMPA_NCATS ******************** \n",
            "\t|       acc      |       auc      |       ap      \n",
            "\t&0.854$\\pm$0.006  &0.790$\\pm$0.001  &0.951$\\pm$0.002  \n",
            " idx 1: &0.860            &0.790            &0.951            \n",
            "\n",
            "\n",
            " ============================== GIN ==============================\n",
            "repeated num # 3 idx 0 has the lowest loss\n",
            "******************** PAMPA_NCATS ******************** \n",
            "\t|       acc      |       auc      |       ap      \n",
            "\t&0.842$\\pm$0.005  &0.751$\\pm$0.003  &0.933$\\pm$0.002  \n",
            " idx 0: &0.835            &0.746            &0.931            \n",
            "\n",
            "\n",
            " ============================== RNN ==============================\n",
            "repeated num # 3 idx 1 has the lowest loss\n",
            "******************** PAMPA_NCATS ******************** \n",
            "\t|       acc      |       auc      |       ap      \n",
            "\t&0.844$\\pm$0.009  &0.736$\\pm$0.004  &0.920$\\pm$0.006  \n",
            " idx 1: &0.855            &0.739            &0.912            \n",
            "\n",
            "\n",
            "\n",
            "\n",
            "Evaluating :  Solubility_AqSolDB\n",
            "\n",
            " ============================== MLP ==============================\n",
            "repeated num # 3 idx 2 has the lowest loss\n",
            "******************** Solubility_AqSolDB ******************** \n",
            "\t|       mae      |       rmse      |       r2      \n",
            "\t&0.993$\\pm$0.014  &1.324$\\pm$0.010  &0.677$\\pm$0.005  \n",
            " idx 2: &0.974            &1.310            &0.684            \n",
            "\n",
            "\n",
            " ============================== AttentiveFP ==============================\n",
            "repeated num # 3 idx 1 has the lowest loss\n",
            "******************** Solubility_AqSolDB ******************** \n",
            "\t|       mae      |       rmse      |       r2      \n",
            "\t&0.708$\\pm$0.006  &1.024$\\pm$0.010  &0.807$\\pm$0.004  \n",
            " idx 1: &0.709            &1.018            &0.809            \n",
            "\n",
            "\n",
            " ============================== GIN ==============================\n",
            "repeated num # 3 idx 0 has the lowest loss\n",
            "******************** Solubility_AqSolDB ******************** \n",
            "\t|       mae      |       rmse      |       r2      \n",
            "\t&0.935$\\pm$0.005  &1.271$\\pm$0.008  &0.702$\\pm$0.004  \n",
            " idx 0: &0.942            &1.283            &0.697            \n",
            "\n",
            "\n",
            " ============================== RNN ==============================\n",
            "repeated num # 3 idx 1 has the lowest loss\n",
            "******************** Solubility_AqSolDB ******************** \n",
            "\t|       mae      |       rmse      |       r2      \n",
            "\t&0.865$\\pm$0.014  &1.197$\\pm$0.018  &0.736$\\pm$0.008  \n",
            " idx 1: &0.880            &1.216            &0.727            \n",
            "\n",
            "\n",
            "\n",
            "\n"
          ]
        }
      ]
    },
    {
      "cell_type": "code",
      "source": [
        "names_A2 = [ 'Lipophilicity_AstraZeneca',\n",
        " 'Solubility_AqSolDB']"
      ],
      "metadata": {
        "id": "RZJ639ydk_xU"
      },
      "execution_count": 15,
      "outputs": []
    },
    {
      "cell_type": "code",
      "source": [
        "folder_name = f'A2/uw/'\n",
        "print('Multi task evaluation on different models, WITH uncertainty weight')\n",
        "for name in names_A2:\n",
        "    print('Evaluating : ', name)\n",
        "    for model_type in ['AttentiveFP']:\n",
        "        print('\\n','='*30, model_type, '='*30)\n",
        "        perfs = []\n",
        "        for i in range(3):\n",
        "            file_name = folder_name + model_type + '_MT_' + str(i) + '.yml'\n",
        "            p = yml_report(file_name, recalculate=False)\n",
        "            perfs.append(p)\n",
        "        eval_perf_list(perfs, name)\n",
        "    print('\\n\\n')"
      ],
      "metadata": {
        "colab": {
          "base_uri": "https://localhost:8080/"
        },
        "id": "N6rAv-H1hxKK",
        "outputId": "bb100803-22b0-4763-88b5-0879f800651a"
      },
      "execution_count": 16,
      "outputs": [
        {
          "output_type": "stream",
          "name": "stdout",
          "text": [
            "Multi task evaluation on different models, WITH uncertainty weight\n",
            "Evaluating :  Lipophilicity_AstraZeneca\n",
            "\n",
            " ============================== AttentiveFP ==============================\n",
            "repeated num # 3 idx 1 has the lowest loss\n",
            "******************** Lipophilicity_AstraZeneca ******************** \n",
            "\t|       mae      |       rmse      |       r2      \n",
            "\t&0.445$\\pm$0.030  &0.608$\\pm$0.026  &0.749$\\pm$0.022  \n",
            " idx 1: &0.429            &0.595            &0.760            \n",
            "\n",
            "\n",
            "\n",
            "\n",
            "Evaluating :  Solubility_AqSolDB\n",
            "\n",
            " ============================== AttentiveFP ==============================\n",
            "repeated num # 3 idx 1 has the lowest loss\n",
            "******************** Solubility_AqSolDB ******************** \n",
            "\t|       mae      |       rmse      |       r2      \n",
            "\t&0.691$\\pm$0.028  &1.004$\\pm$0.020  &0.814$\\pm$0.007  \n",
            " idx 1: &0.670            &0.983            &0.822            \n",
            "\n",
            "\n",
            "\n",
            "\n"
          ]
        }
      ]
    },
    {
      "cell_type": "code",
      "source": [],
      "metadata": {
        "id": "PG6unC6nlCYi"
      },
      "execution_count": null,
      "outputs": []
    }
  ]
}